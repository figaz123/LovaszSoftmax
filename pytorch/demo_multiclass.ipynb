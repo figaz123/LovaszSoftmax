{
  "cells": [
    {
      "cell_type": "markdown",
      "metadata": {
        "id": "RfyNIKwiWBGd"
      },
      "source": [
        "# Multiclass segmentation: PyTorch version\n",
        "We want to optimize the mean Jaccard index of the non-void classes."
      ]
    },
    {
      "cell_type": "code",
      "source": [
        "!wget https://raw.githubusercontent.com/bermanmaxim/LovaszSoftmax/master/pytorch/lovasz_losses.py\n",
        "!wget https://raw.githubusercontent.com/bermanmaxim/LovaszSoftmax/master/demo_helpers/demo_utils.py"
      ],
      "metadata": {
        "id": "LGBKDWyPWFPy",
        "outputId": "9f8befd1-3eca-4a85-b094-078aa43fd3b0",
        "colab": {
          "base_uri": "https://localhost:8080/"
        }
      },
      "execution_count": 29,
      "outputs": [
        {
          "output_type": "stream",
          "name": "stdout",
          "text": [
            "--2024-02-26 04:00:44--  https://raw.githubusercontent.com/bermanmaxim/LovaszSoftmax/master/pytorch/lovasz_losses.py\n",
            "Resolving raw.githubusercontent.com (raw.githubusercontent.com)... 185.199.108.133, 185.199.109.133, 185.199.110.133, ...\n",
            "Connecting to raw.githubusercontent.com (raw.githubusercontent.com)|185.199.108.133|:443... connected.\n",
            "HTTP request sent, awaiting response... 200 OK\n",
            "Length: 8352 (8.2K) [text/plain]\n",
            "Saving to: ‘lovasz_losses.py.1’\n",
            "\n",
            "\rlovasz_losses.py.1    0%[                    ]       0  --.-KB/s               \rlovasz_losses.py.1  100%[===================>]   8.16K  --.-KB/s    in 0s      \n",
            "\n",
            "2024-02-26 04:00:44 (63.2 MB/s) - ‘lovasz_losses.py.1’ saved [8352/8352]\n",
            "\n",
            "--2024-02-26 04:00:44--  https://raw.githubusercontent.com/bermanmaxim/LovaszSoftmax/master/demo_helpers/demo_utils.py\n",
            "Resolving raw.githubusercontent.com (raw.githubusercontent.com)... 185.199.108.133, 185.199.111.133, 185.199.109.133, ...\n",
            "Connecting to raw.githubusercontent.com (raw.githubusercontent.com)|185.199.108.133|:443... connected.\n",
            "HTTP request sent, awaiting response... 200 OK\n",
            "Length: 2437 (2.4K) [text/plain]\n",
            "Saving to: ‘demo_utils.py.1’\n",
            "\n",
            "demo_utils.py.1     100%[===================>]   2.38K  --.-KB/s    in 0s      \n",
            "\n",
            "2024-02-26 04:00:44 (22.1 MB/s) - ‘demo_utils.py.1’ saved [2437/2437]\n",
            "\n"
          ]
        }
      ]
    },
    {
      "cell_type": "code",
      "execution_count": 30,
      "metadata": {
        "ExecuteTime": {
          "end_time": "2019-02-26T15:33:43.043490Z",
          "start_time": "2019-02-26T15:33:43.029167Z"
        },
        "collapsed": true,
        "id": "KPgvr8IMWBGl",
        "outputId": "1f0f61e3-0205-49cb-fc6f-c70c93ff8b25",
        "colab": {
          "base_uri": "https://localhost:8080/"
        }
      },
      "outputs": [
        {
          "output_type": "stream",
          "name": "stdout",
          "text": [
            "The autoreload extension is already loaded. To reload it, use:\n",
            "  %reload_ext autoreload\n"
          ]
        }
      ],
      "source": [
        "%load_ext autoreload\n",
        "%autoreload 2"
      ]
    },
    {
      "cell_type": "code",
      "execution_count": 31,
      "metadata": {
        "ExecuteTime": {
          "end_time": "2019-02-26T15:33:43.055280Z",
          "start_time": "2019-02-26T15:33:43.045043Z"
        },
        "collapsed": true,
        "id": "OfaXn0t9WBGo"
      },
      "outputs": [],
      "source": [
        "from __future__ import division, print_function"
      ]
    },
    {
      "cell_type": "code",
      "execution_count": 32,
      "metadata": {
        "ExecuteTime": {
          "end_time": "2019-02-26T15:33:43.724129Z",
          "start_time": "2019-02-26T15:33:43.056577Z"
        },
        "collapsed": true,
        "id": "qimOk1LfWBGw"
      },
      "outputs": [],
      "source": [
        "import torch\n",
        "from torch.autograd import Variable\n",
        "import torch.nn.functional as F\n",
        "from torch.optim import Adam\n",
        "from torch import nn"
      ]
    },
    {
      "cell_type": "code",
      "execution_count": 33,
      "metadata": {
        "ExecuteTime": {
          "end_time": "2019-02-26T15:33:43.743851Z",
          "start_time": "2019-02-26T15:33:43.726693Z"
        },
        "collapsed": true,
        "id": "8JADKa-DWBGx"
      },
      "outputs": [],
      "source": [
        "import lovasz_losses as L"
      ]
    },
    {
      "cell_type": "code",
      "execution_count": 34,
      "metadata": {
        "ExecuteTime": {
          "end_time": "2019-02-26T15:33:44.137988Z",
          "start_time": "2019-02-26T15:33:43.746333Z"
        },
        "collapsed": true,
        "id": "ypCQnWB5WBGy"
      },
      "outputs": [],
      "source": [
        "import numpy as np\n",
        "import matplotlib.pyplot as plt\n",
        "%matplotlib inline"
      ]
    },
    {
      "cell_type": "code",
      "execution_count": 35,
      "metadata": {
        "ExecuteTime": {
          "end_time": "2019-02-26T15:33:44.163951Z",
          "start_time": "2019-02-26T15:33:44.139228Z"
        },
        "collapsed": true,
        "id": "Md4Hv9DGWBGz"
      },
      "outputs": [],
      "source": [
        "from tqdm import tqdm_notebook as tqdm"
      ]
    },
    {
      "cell_type": "code",
      "execution_count": 36,
      "metadata": {
        "ExecuteTime": {
          "end_time": "2019-02-26T15:33:46.931708Z",
          "start_time": "2019-02-26T15:33:44.165259Z"
        },
        "collapsed": true,
        "id": "6yDh3y1fWBG1"
      },
      "outputs": [],
      "source": [
        "# add parent path to pythonpath to import demo_utils\n",
        "import sys\n",
        "sys.path.append('../demo_helpers')\n",
        "from demo_utils import pil, pil_grid, dummy_triangles"
      ]
    },
    {
      "cell_type": "code",
      "execution_count": 37,
      "metadata": {
        "ExecuteTime": {
          "end_time": "2019-02-26T15:33:46.948157Z",
          "start_time": "2019-02-26T15:33:46.933531Z"
        },
        "collapsed": true,
        "id": "DIv17lL_WBG2"
      },
      "outputs": [],
      "source": [
        "from collections import OrderedDict as OD"
      ]
    },
    {
      "cell_type": "code",
      "execution_count": 38,
      "metadata": {
        "ExecuteTime": {
          "end_time": "2019-02-26T15:33:46.961182Z",
          "start_time": "2019-02-26T15:33:46.949698Z"
        },
        "collapsed": true,
        "id": "7iPG4qDQWBG4"
      },
      "outputs": [],
      "source": [
        "CUDA = True"
      ]
    },
    {
      "cell_type": "code",
      "execution_count": 39,
      "metadata": {
        "ExecuteTime": {
          "end_time": "2019-02-26T15:33:46.977270Z",
          "start_time": "2019-02-26T15:33:46.962594Z"
        },
        "collapsed": true,
        "id": "hYTb7BgaWBG5"
      },
      "outputs": [],
      "source": [
        "def cuda(x):\n",
        "    if CUDA:\n",
        "        return x.cuda()\n",
        "    else:\n",
        "        return x"
      ]
    },
    {
      "cell_type": "markdown",
      "metadata": {
        "id": "jswWYqZsWBG6"
      },
      "source": [
        "## Multiclass case: batch of 5 random images with classes [0, 1, 2] and void (255)\n",
        "We assume that we want to optimize the Jaccard index of all non-void classes 0, 1 and 2."
      ]
    },
    {
      "cell_type": "markdown",
      "metadata": {
        "id": "qRgttjrqWBG7"
      },
      "source": [
        "### Labels"
      ]
    },
    {
      "cell_type": "code",
      "execution_count": 40,
      "metadata": {
        "ExecuteTime": {
          "end_time": "2019-02-26T15:33:47.051480Z",
          "start_time": "2019-02-26T15:33:46.978592Z"
        },
        "id": "yOskBI92WBG8",
        "outputId": "99fbfe2c-0221-4700-bf4f-fcf1f7010324",
        "colab": {
          "base_uri": "https://localhost:8080/",
          "height": 222
        }
      },
      "outputs": [
        {
          "output_type": "execute_result",
          "data": {
            "text/plain": [
              "<PIL.Image.Image image mode=RGB size=1005x205>"
            ],
            "image/png": "[encoded data removed]"
          },
          "metadata": {},
          "execution_count": 40
        }
      ],
      "source": [
        "np.random.seed(18)\n",
        "C = 3\n",
        "B = 5\n",
        "H = 200\n",
        "labels_ = [dummy_triangles(H, [0, 255, 1, 2]) for b in range(B)]\n",
        "labels = torch.stack([torch.from_numpy(a) for a in map(np.array, labels_)]).long()\n",
        "pil_grid(labels_, 5, margin=1)"
      ]
    },
    {
      "cell_type": "markdown",
      "metadata": {
        "id": "ASb3z1zGWBG-"
      },
      "source": [
        "### Features"
      ]
    },
    {
      "cell_type": "code",
      "execution_count": 41,
      "metadata": {
        "ExecuteTime": {
          "end_time": "2019-02-26T15:33:47.110472Z",
          "start_time": "2019-02-26T15:33:47.052783Z"
        },
        "collapsed": true,
        "id": "08mkqRoPWBG_"
      },
      "outputs": [],
      "source": [
        "np.random.seed(57)\n",
        "B, H, W = labels.size()\n",
        "labels_ = labels.clone()\n",
        "labels_[labels_ == 255] = labels_[labels_ == 255].random_(C) # random feats for void\n",
        "labels_1hot = torch.zeros(B, C, H, W)\n",
        "labels_1hot.scatter_(1, labels_.unsqueeze(1), 1);"
      ]
    },
    {
      "cell_type": "code",
      "source": [],
      "metadata": {
        "id": "WiF2R6HpgDe8"
      },
      "execution_count": 41,
      "outputs": []
    },
    {
      "cell_type": "code",
      "execution_count": 42,
      "metadata": {
        "ExecuteTime": {
          "end_time": "2019-02-26T15:33:47.129497Z",
          "start_time": "2019-02-26T15:33:47.111665Z"
        },
        "collapsed": true,
        "id": "sXvmN2kRWBG_"
      },
      "outputs": [],
      "source": [
        "feats = labels_1hot.clone().float()\n",
        "feats += feats.new(feats.size()).normal_(0, 2) # additive gaussian noise"
      ]
    },
    {
      "cell_type": "code",
      "execution_count": 43,
      "metadata": {
        "ExecuteTime": {
          "end_time": "2019-02-26T15:33:49.195084Z",
          "start_time": "2019-02-26T15:33:47.130752Z"
        },
        "collapsed": true,
        "id": "3SOm0Q0gWBHA"
      },
      "outputs": [],
      "source": [
        "# labels = cuda(labels)\n",
        "# feats = Variable(cuda(feats))"
      ]
    },
    {
      "cell_type": "markdown",
      "metadata": {
        "id": "xpkrchhLWBHA"
      },
      "source": [
        "## Model"
      ]
    },
    {
      "cell_type": "markdown",
      "metadata": {
        "id": "H2GsDeCoWBHA"
      },
      "source": [
        "### definition"
      ]
    },
    {
      "cell_type": "code",
      "execution_count": 44,
      "metadata": {
        "ExecuteTime": {
          "end_time": "2019-02-26T15:33:49.208767Z",
          "start_time": "2019-02-26T15:33:49.196271Z"
        },
        "collapsed": true,
        "id": "0RMJos77WBHB"
      },
      "outputs": [],
      "source": [
        "class Model(nn.Module):\n",
        "    def __init__(self):\n",
        "        super(Model, self).__init__()\n",
        "        self.conv = nn.Conv2d(C, C, 3, padding=1)\n",
        "\n",
        "    def forward(self, x):\n",
        "        return x + self.conv(x)"
      ]
    },
    {
      "cell_type": "code",
      "execution_count": 45,
      "metadata": {
        "ExecuteTime": {
          "end_time": "2019-02-26T15:33:49.224356Z",
          "start_time": "2019-02-26T15:33:49.210833Z"
        },
        "collapsed": true,
        "id": "Mn-MYwhcWBHB"
      },
      "outputs": [],
      "source": [
        "m = Model()\n",
        "init_state_dict = OD([(n, p.clone()) for (n, p) in m.state_dict().items()])"
      ]
    },
    {
      "cell_type": "code",
      "execution_count": 46,
      "metadata": {
        "ExecuteTime": {
          "end_time": "2019-02-26T15:33:49.236841Z",
          "start_time": "2019-02-26T15:33:49.225545Z"
        },
        "collapsed": true,
        "id": "wrpJLJo9WBHB"
      },
      "outputs": [],
      "source": [
        "# m = cuda(m)"
      ]
    },
    {
      "cell_type": "markdown",
      "metadata": {
        "id": "60yf10sRWBHC"
      },
      "source": [
        "### Initial prediction"
      ]
    },
    {
      "cell_type": "code",
      "execution_count": 47,
      "metadata": {
        "ExecuteTime": {
          "end_time": "2019-02-26T15:33:49.256416Z",
          "start_time": "2019-02-26T15:33:49.238924Z"
        },
        "scrolled": true,
        "id": "oTYQQfMDWBHC",
        "outputId": "e429411f-0581-4247-96a3-bb4a02503361",
        "colab": {
          "base_uri": "https://localhost:8080/"
        }
      },
      "outputs": [
        {
          "output_type": "stream",
          "name": "stdout",
          "text": [
            "Initial batch-IoUs: [37.58248406 13.86984302  5.96176098]\n",
            "Initial mIoU: 19.138029351613337\n"
          ]
        }
      ],
      "source": [
        "_, preds = m(feats).data.max(1)\n",
        "print(\"Initial batch-IoUs:\", L.iou(preds, labels, C, ignore=255, per_image=False))\n",
        "print(\"Initial mIoU:\", np.mean(L.iou(preds, labels, C, ignore=255, per_image=False)))"
      ]
    },
    {
      "cell_type": "code",
      "execution_count": 48,
      "metadata": {
        "ExecuteTime": {
          "end_time": "2019-02-26T15:33:49.339052Z",
          "start_time": "2019-02-26T15:33:49.257615Z"
        },
        "scrolled": true,
        "id": "4Hzxbzx3WBHC",
        "outputId": "ec0ef3dd-9d8a-4e9f-df7c-7aabc42d3df8",
        "colab": {
          "base_uri": "https://localhost:8080/",
          "height": 222
        }
      },
      "outputs": [
        {
          "output_type": "execute_result",
          "data": {
            "text/plain": [
              "<PIL.Image.Image image mode=RGB size=1005x205>"
            ],
            "image/png": "[encoded data removed]"
          },
          "metadata": {},
          "execution_count": 48
        }
      ],
      "source": [
        "pil_grid([pil(f.byte().cpu().numpy()) for f in preds], 5, margin=1)"
      ]
    },
    {
      "cell_type": "markdown",
      "metadata": {
        "id": "pzLqRGdHWBHD"
      },
      "source": [
        "## Lovász-Softmax training"
      ]
    },
    {
      "cell_type": "code",
      "execution_count": 49,
      "metadata": {
        "ExecuteTime": {
          "end_time": "2019-02-26T15:33:56.358994Z",
          "start_time": "2019-02-26T15:33:49.340249Z"
        },
        "scrolled": false,
        "id": "ryDTW5-0WBHD",
        "outputId": "32bc47b0-14f6-4301-8c17-5fd7dcc402d6",
        "colab": {
          "base_uri": "https://localhost:8080/",
          "height": 1000,
          "referenced_widgets": [
            "35208632168b4541bb08fff56acd3ede",
            "1c13c00f207647a78c370506b3684e36",
            "ced3ed79102441f5bb7266bcf81fd2e7",
            "5aab4001b0b547aeb01382a2361f20f1",
            "7e3a140cb12941e9874f69529c9c5a93",
            "0040b2692fdf4c1d81737f6931f2fa02",
            "be49f49e160c4d6eb7c1b2629633a38b",
            "01dd2c0f4375480baa8967e14fb40b41",
            "2c6aaf4b23f24f688776c0b67b583c3a",
            "4e79ed77f2844832bc23ca4ac75c6221",
            "93e0931707b849cf82c6bc8679a10b87"
          ]
        }
      },
      "outputs": [
        {
          "output_type": "stream",
          "name": "stderr",
          "text": [
            "<ipython-input-49-3e5810e3fa55>:8: TqdmDeprecationWarning: This function will be removed in tqdm==5.0.0\n",
            "Please use `tqdm.notebook.tqdm` instead of `tqdm.tqdm_notebook`\n",
            "  for iter in tqdm(range(1000)):\n"
          ]
        },
        {
          "output_type": "display_data",
          "data": {
            "text/plain": [
              "  0%|          | 0/1000 [00:00<?, ?it/s]"
            ],
            "application/vnd.jupyter.widget-view+json": {
              "version_major": 2,
              "version_minor": 0,
              "model_id": "35208632168b4541bb08fff56acd3ede"
            }
          },
          "metadata": {}
        },
        {
          "output_type": "stream",
          "name": "stdout",
          "text": [
            "shape of out: torch.Size([5, 3, 200, 200]), shape of labels:torch.Size([5, 200, 200])\n",
            "shape of out: torch.Size([5, 3, 200, 200]), shape of labels:torch.Size([5, 200, 200])\n",
            "shape of out: torch.Size([5, 3, 200, 200]), shape of labels:torch.Size([5, 200, 200])\n",
            "shape of out: torch.Size([5, 3, 200, 200]), shape of labels:torch.Size([5, 200, 200])\n",
            "shape of out: torch.Size([5, 3, 200, 200]), shape of labels:torch.Size([5, 200, 200])\n",
            "shape of out: torch.Size([5, 3, 200, 200]), shape of labels:torch.Size([5, 200, 200])\n",
            "shape of out: torch.Size([5, 3, 200, 200]), shape of labels:torch.Size([5, 200, 200])\n",
            "shape of out: torch.Size([5, 3, 200, 200]), shape of labels:torch.Size([5, 200, 200])\n",
            "shape of out: torch.Size([5, 3, 200, 200]), shape of labels:torch.Size([5, 200, 200])\n",
            "shape of out: torch.Size([5, 3, 200, 200]), shape of labels:torch.Size([5, 200, 200])\n",
            "shape of out: torch.Size([5, 3, 200, 200]), shape of labels:torch.Size([5, 200, 200])\n",
            "shape of out: torch.Size([5, 3, 200, 200]), shape of labels:torch.Size([5, 200, 200])\n",
            "shape of out: torch.Size([5, 3, 200, 200]), shape of labels:torch.Size([5, 200, 200])\n",
            "shape of out: torch.Size([5, 3, 200, 200]), shape of labels:torch.Size([5, 200, 200])\n",
            "shape of out: torch.Size([5, 3, 200, 200]), shape of labels:torch.Size([5, 200, 200])\n",
            "shape of out: torch.Size([5, 3, 200, 200]), shape of labels:torch.Size([5, 200, 200])\n",
            "shape of out: torch.Size([5, 3, 200, 200]), shape of labels:torch.Size([5, 200, 200])\n",
            "shape of out: torch.Size([5, 3, 200, 200]), shape of labels:torch.Size([5, 200, 200])\n",
            "shape of out: torch.Size([5, 3, 200, 200]), shape of labels:torch.Size([5, 200, 200])\n",
            "shape of out: torch.Size([5, 3, 200, 200]), shape of labels:torch.Size([5, 200, 200])\n",
            "shape of out: torch.Size([5, 3, 200, 200]), shape of labels:torch.Size([5, 200, 200])\n",
            "shape of out: torch.Size([5, 3, 200, 200]), shape of labels:torch.Size([5, 200, 200])\n",
            "shape of out: torch.Size([5, 3, 200, 200]), shape of labels:torch.Size([5, 200, 200])\n",
            "shape of out: torch.Size([5, 3, 200, 200]), shape of labels:torch.Size([5, 200, 200])\n",
            "shape of out: torch.Size([5, 3, 200, 200]), shape of labels:torch.Size([5, 200, 200])\n",
            "shape of out: torch.Size([5, 3, 200, 200]), shape of labels:torch.Size([5, 200, 200])\n",
            "shape of out: torch.Size([5, 3, 200, 200]), shape of labels:torch.Size([5, 200, 200])\n",
            "shape of out: torch.Size([5, 3, 200, 200]), shape of labels:torch.Size([5, 200, 200])\n",
            "shape of out: torch.Size([5, 3, 200, 200]), shape of labels:torch.Size([5, 200, 200])\n",
            "shape of out: torch.Size([5, 3, 200, 200]), shape of labels:torch.Size([5, 200, 200])\n",
            "shape of out: torch.Size([5, 3, 200, 200]), shape of labels:torch.Size([5, 200, 200])\n",
            "shape of out: torch.Size([5, 3, 200, 200]), shape of labels:torch.Size([5, 200, 200])\n",
            "shape of out: torch.Size([5, 3, 200, 200]), shape of labels:torch.Size([5, 200, 200])\n",
            "shape of out: torch.Size([5, 3, 200, 200]), shape of labels:torch.Size([5, 200, 200])\n",
            "shape of out: torch.Size([5, 3, 200, 200]), shape of labels:torch.Size([5, 200, 200])\n",
            "shape of out: torch.Size([5, 3, 200, 200]), shape of labels:torch.Size([5, 200, 200])\n",
            "shape of out: torch.Size([5, 3, 200, 200]), shape of labels:torch.Size([5, 200, 200])\n",
            "shape of out: torch.Size([5, 3, 200, 200]), shape of labels:torch.Size([5, 200, 200])\n",
            "shape of out: torch.Size([5, 3, 200, 200]), shape of labels:torch.Size([5, 200, 200])\n",
            "shape of out: torch.Size([5, 3, 200, 200]), shape of labels:torch.Size([5, 200, 200])\n",
            "shape of out: torch.Size([5, 3, 200, 200]), shape of labels:torch.Size([5, 200, 200])\n",
            "shape of out: torch.Size([5, 3, 200, 200]), shape of labels:torch.Size([5, 200, 200])\n",
            "shape of out: torch.Size([5, 3, 200, 200]), shape of labels:torch.Size([5, 200, 200])\n",
            "shape of out: torch.Size([5, 3, 200, 200]), shape of labels:torch.Size([5, 200, 200])\n",
            "shape of out: torch.Size([5, 3, 200, 200]), shape of labels:torch.Size([5, 200, 200])\n",
            "shape of out: torch.Size([5, 3, 200, 200]), shape of labels:torch.Size([5, 200, 200])\n",
            "shape of out: torch.Size([5, 3, 200, 200]), shape of labels:torch.Size([5, 200, 200])\n",
            "shape of out: torch.Size([5, 3, 200, 200]), shape of labels:torch.Size([5, 200, 200])\n",
            "shape of out: torch.Size([5, 3, 200, 200]), shape of labels:torch.Size([5, 200, 200])\n",
            "shape of out: torch.Size([5, 3, 200, 200]), shape of labels:torch.Size([5, 200, 200])\n",
            "shape of out: torch.Size([5, 3, 200, 200]), shape of labels:torch.Size([5, 200, 200])\n",
            "shape of out: torch.Size([5, 3, 200, 200]), shape of labels:torch.Size([5, 200, 200])\n",
            "shape of out: torch.Size([5, 3, 200, 200]), shape of labels:torch.Size([5, 200, 200])\n",
            "shape of out: torch.Size([5, 3, 200, 200]), shape of labels:torch.Size([5, 200, 200])\n",
            "shape of out: torch.Size([5, 3, 200, 200]), shape of labels:torch.Size([5, 200, 200])\n",
            "shape of out: torch.Size([5, 3, 200, 200]), shape of labels:torch.Size([5, 200, 200])\n",
            "shape of out: torch.Size([5, 3, 200, 200]), shape of labels:torch.Size([5, 200, 200])\n",
            "shape of out: torch.Size([5, 3, 200, 200]), shape of labels:torch.Size([5, 200, 200])\n",
            "shape of out: torch.Size([5, 3, 200, 200]), shape of labels:torch.Size([5, 200, 200])\n",
            "shape of out: torch.Size([5, 3, 200, 200]), shape of labels:torch.Size([5, 200, 200])\n",
            "shape of out: torch.Size([5, 3, 200, 200]), shape of labels:torch.Size([5, 200, 200])\n",
            "shape of out: torch.Size([5, 3, 200, 200]), shape of labels:torch.Size([5, 200, 200])\n",
            "shape of out: torch.Size([5, 3, 200, 200]), shape of labels:torch.Size([5, 200, 200])\n",
            "shape of out: torch.Size([5, 3, 200, 200]), shape of labels:torch.Size([5, 200, 200])\n",
            "shape of out: torch.Size([5, 3, 200, 200]), shape of labels:torch.Size([5, 200, 200])\n",
            "shape of out: torch.Size([5, 3, 200, 200]), shape of labels:torch.Size([5, 200, 200])\n",
            "shape of out: torch.Size([5, 3, 200, 200]), shape of labels:torch.Size([5, 200, 200])\n",
            "shape of out: torch.Size([5, 3, 200, 200]), shape of labels:torch.Size([5, 200, 200])\n",
            "shape of out: torch.Size([5, 3, 200, 200]), shape of labels:torch.Size([5, 200, 200])\n",
            "shape of out: torch.Size([5, 3, 200, 200]), shape of labels:torch.Size([5, 200, 200])\n",
            "shape of out: torch.Size([5, 3, 200, 200]), shape of labels:torch.Size([5, 200, 200])\n",
            "shape of out: torch.Size([5, 3, 200, 200]), shape of labels:torch.Size([5, 200, 200])\n",
            "shape of out: torch.Size([5, 3, 200, 200]), shape of labels:torch.Size([5, 200, 200])\n",
            "shape of out: torch.Size([5, 3, 200, 200]), shape of labels:torch.Size([5, 200, 200])\n",
            "shape of out: torch.Size([5, 3, 200, 200]), shape of labels:torch.Size([5, 200, 200])\n",
            "shape of out: torch.Size([5, 3, 200, 200]), shape of labels:torch.Size([5, 200, 200])\n",
            "shape of out: torch.Size([5, 3, 200, 200]), shape of labels:torch.Size([5, 200, 200])\n",
            "shape of out: torch.Size([5, 3, 200, 200]), shape of labels:torch.Size([5, 200, 200])\n",
            "shape of out: torch.Size([5, 3, 200, 200]), shape of labels:torch.Size([5, 200, 200])\n",
            "shape of out: torch.Size([5, 3, 200, 200]), shape of labels:torch.Size([5, 200, 200])\n",
            "shape of out: torch.Size([5, 3, 200, 200]), shape of labels:torch.Size([5, 200, 200])\n",
            "shape of out: torch.Size([5, 3, 200, 200]), shape of labels:torch.Size([5, 200, 200])\n",
            "shape of out: torch.Size([5, 3, 200, 200]), shape of labels:torch.Size([5, 200, 200])\n",
            "shape of out: torch.Size([5, 3, 200, 200]), shape of labels:torch.Size([5, 200, 200])\n",
            "shape of out: torch.Size([5, 3, 200, 200]), shape of labels:torch.Size([5, 200, 200])\n",
            "shape of out: torch.Size([5, 3, 200, 200]), shape of labels:torch.Size([5, 200, 200])\n",
            "shape of out: torch.Size([5, 3, 200, 200]), shape of labels:torch.Size([5, 200, 200])\n",
            "shape of out: torch.Size([5, 3, 200, 200]), shape of labels:torch.Size([5, 200, 200])\n",
            "shape of out: torch.Size([5, 3, 200, 200]), shape of labels:torch.Size([5, 200, 200])\n",
            "shape of out: torch.Size([5, 3, 200, 200]), shape of labels:torch.Size([5, 200, 200])\n",
            "shape of out: torch.Size([5, 3, 200, 200]), shape of labels:torch.Size([5, 200, 200])\n",
            "shape of out: torch.Size([5, 3, 200, 200]), shape of labels:torch.Size([5, 200, 200])\n",
            "shape of out: torch.Size([5, 3, 200, 200]), shape of labels:torch.Size([5, 200, 200])\n",
            "shape of out: torch.Size([5, 3, 200, 200]), shape of labels:torch.Size([5, 200, 200])\n",
            "shape of out: torch.Size([5, 3, 200, 200]), shape of labels:torch.Size([5, 200, 200])\n",
            "shape of out: torch.Size([5, 3, 200, 200]), shape of labels:torch.Size([5, 200, 200])\n",
            "shape of out: torch.Size([5, 3, 200, 200]), shape of labels:torch.Size([5, 200, 200])\n",
            "shape of out: torch.Size([5, 3, 200, 200]), shape of labels:torch.Size([5, 200, 200])\n",
            "shape of out: torch.Size([5, 3, 200, 200]), shape of labels:torch.Size([5, 200, 200])\n",
            "shape of out: torch.Size([5, 3, 200, 200]), shape of labels:torch.Size([5, 200, 200])\n",
            "shape of out: torch.Size([5, 3, 200, 200]), shape of labels:torch.Size([5, 200, 200])\n",
            "shape of out: torch.Size([5, 3, 200, 200]), shape of labels:torch.Size([5, 200, 200])\n",
            "shape of out: torch.Size([5, 3, 200, 200]), shape of labels:torch.Size([5, 200, 200])\n",
            "shape of out: torch.Size([5, 3, 200, 200]), shape of labels:torch.Size([5, 200, 200])\n",
            "shape of out: torch.Size([5, 3, 200, 200]), shape of labels:torch.Size([5, 200, 200])\n",
            "shape of out: torch.Size([5, 3, 200, 200]), shape of labels:torch.Size([5, 200, 200])\n",
            "shape of out: torch.Size([5, 3, 200, 200]), shape of labels:torch.Size([5, 200, 200])\n",
            "shape of out: torch.Size([5, 3, 200, 200]), shape of labels:torch.Size([5, 200, 200])\n",
            "shape of out: torch.Size([5, 3, 200, 200]), shape of labels:torch.Size([5, 200, 200])\n",
            "shape of out: torch.Size([5, 3, 200, 200]), shape of labels:torch.Size([5, 200, 200])\n",
            "shape of out: torch.Size([5, 3, 200, 200]), shape of labels:torch.Size([5, 200, 200])\n",
            "shape of out: torch.Size([5, 3, 200, 200]), shape of labels:torch.Size([5, 200, 200])\n",
            "shape of out: torch.Size([5, 3, 200, 200]), shape of labels:torch.Size([5, 200, 200])\n",
            "shape of out: torch.Size([5, 3, 200, 200]), shape of labels:torch.Size([5, 200, 200])\n",
            "shape of out: torch.Size([5, 3, 200, 200]), shape of labels:torch.Size([5, 200, 200])\n",
            "shape of out: torch.Size([5, 3, 200, 200]), shape of labels:torch.Size([5, 200, 200])\n",
            "shape of out: torch.Size([5, 3, 200, 200]), shape of labels:torch.Size([5, 200, 200])\n",
            "shape of out: torch.Size([5, 3, 200, 200]), shape of labels:torch.Size([5, 200, 200])\n",
            "shape of out: torch.Size([5, 3, 200, 200]), shape of labels:torch.Size([5, 200, 200])\n",
            "shape of out: torch.Size([5, 3, 200, 200]), shape of labels:torch.Size([5, 200, 200])\n",
            "shape of out: torch.Size([5, 3, 200, 200]), shape of labels:torch.Size([5, 200, 200])\n",
            "shape of out: torch.Size([5, 3, 200, 200]), shape of labels:torch.Size([5, 200, 200])\n",
            "shape of out: torch.Size([5, 3, 200, 200]), shape of labels:torch.Size([5, 200, 200])\n",
            "shape of out: torch.Size([5, 3, 200, 200]), shape of labels:torch.Size([5, 200, 200])\n",
            "shape of out: torch.Size([5, 3, 200, 200]), shape of labels:torch.Size([5, 200, 200])\n",
            "shape of out: torch.Size([5, 3, 200, 200]), shape of labels:torch.Size([5, 200, 200])\n",
            "shape of out: torch.Size([5, 3, 200, 200]), shape of labels:torch.Size([5, 200, 200])\n",
            "shape of out: torch.Size([5, 3, 200, 200]), shape of labels:torch.Size([5, 200, 200])\n",
            "shape of out: torch.Size([5, 3, 200, 200]), shape of labels:torch.Size([5, 200, 200])\n",
            "shape of out: torch.Size([5, 3, 200, 200]), shape of labels:torch.Size([5, 200, 200])\n",
            "shape of out: torch.Size([5, 3, 200, 200]), shape of labels:torch.Size([5, 200, 200])\n",
            "shape of out: torch.Size([5, 3, 200, 200]), shape of labels:torch.Size([5, 200, 200])\n",
            "shape of out: torch.Size([5, 3, 200, 200]), shape of labels:torch.Size([5, 200, 200])\n",
            "shape of out: torch.Size([5, 3, 200, 200]), shape of labels:torch.Size([5, 200, 200])\n",
            "shape of out: torch.Size([5, 3, 200, 200]), shape of labels:torch.Size([5, 200, 200])\n",
            "shape of out: torch.Size([5, 3, 200, 200]), shape of labels:torch.Size([5, 200, 200])\n",
            "shape of out: torch.Size([5, 3, 200, 200]), shape of labels:torch.Size([5, 200, 200])\n",
            "shape of out: torch.Size([5, 3, 200, 200]), shape of labels:torch.Size([5, 200, 200])\n",
            "shape of out: torch.Size([5, 3, 200, 200]), shape of labels:torch.Size([5, 200, 200])\n",
            "shape of out: torch.Size([5, 3, 200, 200]), shape of labels:torch.Size([5, 200, 200])\n",
            "shape of out: torch.Size([5, 3, 200, 200]), shape of labels:torch.Size([5, 200, 200])\n",
            "shape of out: torch.Size([5, 3, 200, 200]), shape of labels:torch.Size([5, 200, 200])\n",
            "shape of out: torch.Size([5, 3, 200, 200]), shape of labels:torch.Size([5, 200, 200])\n",
            "shape of out: torch.Size([5, 3, 200, 200]), shape of labels:torch.Size([5, 200, 200])\n",
            "shape of out: torch.Size([5, 3, 200, 200]), shape of labels:torch.Size([5, 200, 200])\n",
            "shape of out: torch.Size([5, 3, 200, 200]), shape of labels:torch.Size([5, 200, 200])\n",
            "shape of out: torch.Size([5, 3, 200, 200]), shape of labels:torch.Size([5, 200, 200])\n",
            "shape of out: torch.Size([5, 3, 200, 200]), shape of labels:torch.Size([5, 200, 200])\n",
            "shape of out: torch.Size([5, 3, 200, 200]), shape of labels:torch.Size([5, 200, 200])\n",
            "shape of out: torch.Size([5, 3, 200, 200]), shape of labels:torch.Size([5, 200, 200])\n",
            "shape of out: torch.Size([5, 3, 200, 200]), shape of labels:torch.Size([5, 200, 200])\n",
            "shape of out: torch.Size([5, 3, 200, 200]), shape of labels:torch.Size([5, 200, 200])\n",
            "shape of out: torch.Size([5, 3, 200, 200]), shape of labels:torch.Size([5, 200, 200])\n",
            "shape of out: torch.Size([5, 3, 200, 200]), shape of labels:torch.Size([5, 200, 200])\n",
            "shape of out: torch.Size([5, 3, 200, 200]), shape of labels:torch.Size([5, 200, 200])\n",
            "shape of out: torch.Size([5, 3, 200, 200]), shape of labels:torch.Size([5, 200, 200])\n",
            "shape of out: torch.Size([5, 3, 200, 200]), shape of labels:torch.Size([5, 200, 200])\n",
            "shape of out: torch.Size([5, 3, 200, 200]), shape of labels:torch.Size([5, 200, 200])\n",
            "shape of out: torch.Size([5, 3, 200, 200]), shape of labels:torch.Size([5, 200, 200])\n",
            "shape of out: torch.Size([5, 3, 200, 200]), shape of labels:torch.Size([5, 200, 200])\n",
            "shape of out: torch.Size([5, 3, 200, 200]), shape of labels:torch.Size([5, 200, 200])\n",
            "shape of out: torch.Size([5, 3, 200, 200]), shape of labels:torch.Size([5, 200, 200])\n",
            "shape of out: torch.Size([5, 3, 200, 200]), shape of labels:torch.Size([5, 200, 200])\n",
            "shape of out: torch.Size([5, 3, 200, 200]), shape of labels:torch.Size([5, 200, 200])\n",
            "shape of out: torch.Size([5, 3, 200, 200]), shape of labels:torch.Size([5, 200, 200])\n",
            "shape of out: torch.Size([5, 3, 200, 200]), shape of labels:torch.Size([5, 200, 200])\n",
            "shape of out: torch.Size([5, 3, 200, 200]), shape of labels:torch.Size([5, 200, 200])\n",
            "shape of out: torch.Size([5, 3, 200, 200]), shape of labels:torch.Size([5, 200, 200])\n",
            "shape of out: torch.Size([5, 3, 200, 200]), shape of labels:torch.Size([5, 200, 200])\n",
            "shape of out: torch.Size([5, 3, 200, 200]), shape of labels:torch.Size([5, 200, 200])\n",
            "shape of out: torch.Size([5, 3, 200, 200]), shape of labels:torch.Size([5, 200, 200])\n",
            "shape of out: torch.Size([5, 3, 200, 200]), shape of labels:torch.Size([5, 200, 200])\n",
            "shape of out: torch.Size([5, 3, 200, 200]), shape of labels:torch.Size([5, 200, 200])\n",
            "shape of out: torch.Size([5, 3, 200, 200]), shape of labels:torch.Size([5, 200, 200])\n",
            "shape of out: torch.Size([5, 3, 200, 200]), shape of labels:torch.Size([5, 200, 200])\n",
            "shape of out: torch.Size([5, 3, 200, 200]), shape of labels:torch.Size([5, 200, 200])\n",
            "shape of out: torch.Size([5, 3, 200, 200]), shape of labels:torch.Size([5, 200, 200])\n",
            "shape of out: torch.Size([5, 3, 200, 200]), shape of labels:torch.Size([5, 200, 200])\n",
            "shape of out: torch.Size([5, 3, 200, 200]), shape of labels:torch.Size([5, 200, 200])\n",
            "shape of out: torch.Size([5, 3, 200, 200]), shape of labels:torch.Size([5, 200, 200])\n",
            "shape of out: torch.Size([5, 3, 200, 200]), shape of labels:torch.Size([5, 200, 200])\n",
            "shape of out: torch.Size([5, 3, 200, 200]), shape of labels:torch.Size([5, 200, 200])\n",
            "shape of out: torch.Size([5, 3, 200, 200]), shape of labels:torch.Size([5, 200, 200])\n",
            "shape of out: torch.Size([5, 3, 200, 200]), shape of labels:torch.Size([5, 200, 200])\n",
            "shape of out: torch.Size([5, 3, 200, 200]), shape of labels:torch.Size([5, 200, 200])\n",
            "shape of out: torch.Size([5, 3, 200, 200]), shape of labels:torch.Size([5, 200, 200])\n",
            "shape of out: torch.Size([5, 3, 200, 200]), shape of labels:torch.Size([5, 200, 200])\n",
            "shape of out: torch.Size([5, 3, 200, 200]), shape of labels:torch.Size([5, 200, 200])\n",
            "shape of out: torch.Size([5, 3, 200, 200]), shape of labels:torch.Size([5, 200, 200])\n",
            "shape of out: torch.Size([5, 3, 200, 200]), shape of labels:torch.Size([5, 200, 200])\n",
            "shape of out: torch.Size([5, 3, 200, 200]), shape of labels:torch.Size([5, 200, 200])\n",
            "shape of out: torch.Size([5, 3, 200, 200]), shape of labels:torch.Size([5, 200, 200])\n",
            "shape of out: torch.Size([5, 3, 200, 200]), shape of labels:torch.Size([5, 200, 200])\n",
            "shape of out: torch.Size([5, 3, 200, 200]), shape of labels:torch.Size([5, 200, 200])\n",
            "shape of out: torch.Size([5, 3, 200, 200]), shape of labels:torch.Size([5, 200, 200])\n",
            "shape of out: torch.Size([5, 3, 200, 200]), shape of labels:torch.Size([5, 200, 200])\n",
            "shape of out: torch.Size([5, 3, 200, 200]), shape of labels:torch.Size([5, 200, 200])\n",
            "shape of out: torch.Size([5, 3, 200, 200]), shape of labels:torch.Size([5, 200, 200])\n",
            "shape of out: torch.Size([5, 3, 200, 200]), shape of labels:torch.Size([5, 200, 200])\n",
            "shape of out: torch.Size([5, 3, 200, 200]), shape of labels:torch.Size([5, 200, 200])\n",
            "shape of out: torch.Size([5, 3, 200, 200]), shape of labels:torch.Size([5, 200, 200])\n",
            "shape of out: torch.Size([5, 3, 200, 200]), shape of labels:torch.Size([5, 200, 200])\n",
            "shape of out: torch.Size([5, 3, 200, 200]), shape of labels:torch.Size([5, 200, 200])\n",
            "shape of out: torch.Size([5, 3, 200, 200]), shape of labels:torch.Size([5, 200, 200])\n",
            "shape of out: torch.Size([5, 3, 200, 200]), shape of labels:torch.Size([5, 200, 200])\n",
            "shape of out: torch.Size([5, 3, 200, 200]), shape of labels:torch.Size([5, 200, 200])\n",
            "shape of out: torch.Size([5, 3, 200, 200]), shape of labels:torch.Size([5, 200, 200])\n",
            "shape of out: torch.Size([5, 3, 200, 200]), shape of labels:torch.Size([5, 200, 200])\n",
            "shape of out: torch.Size([5, 3, 200, 200]), shape of labels:torch.Size([5, 200, 200])\n",
            "shape of out: torch.Size([5, 3, 200, 200]), shape of labels:torch.Size([5, 200, 200])\n",
            "shape of out: torch.Size([5, 3, 200, 200]), shape of labels:torch.Size([5, 200, 200])\n",
            "shape of out: torch.Size([5, 3, 200, 200]), shape of labels:torch.Size([5, 200, 200])\n",
            "shape of out: torch.Size([5, 3, 200, 200]), shape of labels:torch.Size([5, 200, 200])\n",
            "shape of out: torch.Size([5, 3, 200, 200]), shape of labels:torch.Size([5, 200, 200])\n",
            "shape of out: torch.Size([5, 3, 200, 200]), shape of labels:torch.Size([5, 200, 200])\n",
            "shape of out: torch.Size([5, 3, 200, 200]), shape of labels:torch.Size([5, 200, 200])\n",
            "shape of out: torch.Size([5, 3, 200, 200]), shape of labels:torch.Size([5, 200, 200])\n",
            "shape of out: torch.Size([5, 3, 200, 200]), shape of labels:torch.Size([5, 200, 200])\n",
            "shape of out: torch.Size([5, 3, 200, 200]), shape of labels:torch.Size([5, 200, 200])\n",
            "shape of out: torch.Size([5, 3, 200, 200]), shape of labels:torch.Size([5, 200, 200])\n",
            "shape of out: torch.Size([5, 3, 200, 200]), shape of labels:torch.Size([5, 200, 200])\n",
            "shape of out: torch.Size([5, 3, 200, 200]), shape of labels:torch.Size([5, 200, 200])\n",
            "shape of out: torch.Size([5, 3, 200, 200]), shape of labels:torch.Size([5, 200, 200])\n",
            "shape of out: torch.Size([5, 3, 200, 200]), shape of labels:torch.Size([5, 200, 200])\n",
            "shape of out: torch.Size([5, 3, 200, 200]), shape of labels:torch.Size([5, 200, 200])\n",
            "shape of out: torch.Size([5, 3, 200, 200]), shape of labels:torch.Size([5, 200, 200])\n",
            "shape of out: torch.Size([5, 3, 200, 200]), shape of labels:torch.Size([5, 200, 200])\n",
            "shape of out: torch.Size([5, 3, 200, 200]), shape of labels:torch.Size([5, 200, 200])\n",
            "shape of out: torch.Size([5, 3, 200, 200]), shape of labels:torch.Size([5, 200, 200])\n",
            "shape of out: torch.Size([5, 3, 200, 200]), shape of labels:torch.Size([5, 200, 200])\n",
            "shape of out: torch.Size([5, 3, 200, 200]), shape of labels:torch.Size([5, 200, 200])\n",
            "shape of out: torch.Size([5, 3, 200, 200]), shape of labels:torch.Size([5, 200, 200])\n",
            "shape of out: torch.Size([5, 3, 200, 200]), shape of labels:torch.Size([5, 200, 200])\n",
            "shape of out: torch.Size([5, 3, 200, 200]), shape of labels:torch.Size([5, 200, 200])\n",
            "shape of out: torch.Size([5, 3, 200, 200]), shape of labels:torch.Size([5, 200, 200])\n",
            "shape of out: torch.Size([5, 3, 200, 200]), shape of labels:torch.Size([5, 200, 200])\n",
            "shape of out: torch.Size([5, 3, 200, 200]), shape of labels:torch.Size([5, 200, 200])\n",
            "shape of out: torch.Size([5, 3, 200, 200]), shape of labels:torch.Size([5, 200, 200])\n",
            "shape of out: torch.Size([5, 3, 200, 200]), shape of labels:torch.Size([5, 200, 200])\n",
            "shape of out: torch.Size([5, 3, 200, 200]), shape of labels:torch.Size([5, 200, 200])\n",
            "shape of out: torch.Size([5, 3, 200, 200]), shape of labels:torch.Size([5, 200, 200])\n",
            "shape of out: torch.Size([5, 3, 200, 200]), shape of labels:torch.Size([5, 200, 200])\n",
            "shape of out: torch.Size([5, 3, 200, 200]), shape of labels:torch.Size([5, 200, 200])\n",
            "shape of out: torch.Size([5, 3, 200, 200]), shape of labels:torch.Size([5, 200, 200])\n",
            "shape of out: torch.Size([5, 3, 200, 200]), shape of labels:torch.Size([5, 200, 200])\n",
            "shape of out: torch.Size([5, 3, 200, 200]), shape of labels:torch.Size([5, 200, 200])\n",
            "shape of out: torch.Size([5, 3, 200, 200]), shape of labels:torch.Size([5, 200, 200])\n",
            "shape of out: torch.Size([5, 3, 200, 200]), shape of labels:torch.Size([5, 200, 200])\n",
            "shape of out: torch.Size([5, 3, 200, 200]), shape of labels:torch.Size([5, 200, 200])\n",
            "shape of out: torch.Size([5, 3, 200, 200]), shape of labels:torch.Size([5, 200, 200])\n",
            "shape of out: torch.Size([5, 3, 200, 200]), shape of labels:torch.Size([5, 200, 200])\n",
            "shape of out: torch.Size([5, 3, 200, 200]), shape of labels:torch.Size([5, 200, 200])\n",
            "shape of out: torch.Size([5, 3, 200, 200]), shape of labels:torch.Size([5, 200, 200])\n",
            "shape of out: torch.Size([5, 3, 200, 200]), shape of labels:torch.Size([5, 200, 200])\n",
            "shape of out: torch.Size([5, 3, 200, 200]), shape of labels:torch.Size([5, 200, 200])\n",
            "shape of out: torch.Size([5, 3, 200, 200]), shape of labels:torch.Size([5, 200, 200])\n",
            "shape of out: torch.Size([5, 3, 200, 200]), shape of labels:torch.Size([5, 200, 200])\n",
            "shape of out: torch.Size([5, 3, 200, 200]), shape of labels:torch.Size([5, 200, 200])\n",
            "shape of out: torch.Size([5, 3, 200, 200]), shape of labels:torch.Size([5, 200, 200])\n",
            "shape of out: torch.Size([5, 3, 200, 200]), shape of labels:torch.Size([5, 200, 200])\n",
            "shape of out: torch.Size([5, 3, 200, 200]), shape of labels:torch.Size([5, 200, 200])\n",
            "shape of out: torch.Size([5, 3, 200, 200]), shape of labels:torch.Size([5, 200, 200])\n",
            "shape of out: torch.Size([5, 3, 200, 200]), shape of labels:torch.Size([5, 200, 200])\n",
            "shape of out: torch.Size([5, 3, 200, 200]), shape of labels:torch.Size([5, 200, 200])\n",
            "shape of out: torch.Size([5, 3, 200, 200]), shape of labels:torch.Size([5, 200, 200])\n",
            "shape of out: torch.Size([5, 3, 200, 200]), shape of labels:torch.Size([5, 200, 200])\n",
            "shape of out: torch.Size([5, 3, 200, 200]), shape of labels:torch.Size([5, 200, 200])\n",
            "shape of out: torch.Size([5, 3, 200, 200]), shape of labels:torch.Size([5, 200, 200])\n",
            "shape of out: torch.Size([5, 3, 200, 200]), shape of labels:torch.Size([5, 200, 200])\n",
            "shape of out: torch.Size([5, 3, 200, 200]), shape of labels:torch.Size([5, 200, 200])\n",
            "shape of out: torch.Size([5, 3, 200, 200]), shape of labels:torch.Size([5, 200, 200])\n",
            "shape of out: torch.Size([5, 3, 200, 200]), shape of labels:torch.Size([5, 200, 200])\n",
            "shape of out: torch.Size([5, 3, 200, 200]), shape of labels:torch.Size([5, 200, 200])\n",
            "shape of out: torch.Size([5, 3, 200, 200]), shape of labels:torch.Size([5, 200, 200])\n",
            "shape of out: torch.Size([5, 3, 200, 200]), shape of labels:torch.Size([5, 200, 200])\n",
            "shape of out: torch.Size([5, 3, 200, 200]), shape of labels:torch.Size([5, 200, 200])\n",
            "shape of out: torch.Size([5, 3, 200, 200]), shape of labels:torch.Size([5, 200, 200])\n",
            "shape of out: torch.Size([5, 3, 200, 200]), shape of labels:torch.Size([5, 200, 200])\n",
            "shape of out: torch.Size([5, 3, 200, 200]), shape of labels:torch.Size([5, 200, 200])\n",
            "shape of out: torch.Size([5, 3, 200, 200]), shape of labels:torch.Size([5, 200, 200])\n",
            "shape of out: torch.Size([5, 3, 200, 200]), shape of labels:torch.Size([5, 200, 200])\n",
            "shape of out: torch.Size([5, 3, 200, 200]), shape of labels:torch.Size([5, 200, 200])\n",
            "shape of out: torch.Size([5, 3, 200, 200]), shape of labels:torch.Size([5, 200, 200])\n",
            "shape of out: torch.Size([5, 3, 200, 200]), shape of labels:torch.Size([5, 200, 200])\n",
            "shape of out: torch.Size([5, 3, 200, 200]), shape of labels:torch.Size([5, 200, 200])\n",
            "shape of out: torch.Size([5, 3, 200, 200]), shape of labels:torch.Size([5, 200, 200])\n",
            "shape of out: torch.Size([5, 3, 200, 200]), shape of labels:torch.Size([5, 200, 200])\n",
            "shape of out: torch.Size([5, 3, 200, 200]), shape of labels:torch.Size([5, 200, 200])\n",
            "shape of out: torch.Size([5, 3, 200, 200]), shape of labels:torch.Size([5, 200, 200])\n",
            "shape of out: torch.Size([5, 3, 200, 200]), shape of labels:torch.Size([5, 200, 200])\n",
            "shape of out: torch.Size([5, 3, 200, 200]), shape of labels:torch.Size([5, 200, 200])\n",
            "shape of out: torch.Size([5, 3, 200, 200]), shape of labels:torch.Size([5, 200, 200])\n",
            "shape of out: torch.Size([5, 3, 200, 200]), shape of labels:torch.Size([5, 200, 200])\n",
            "shape of out: torch.Size([5, 3, 200, 200]), shape of labels:torch.Size([5, 200, 200])\n",
            "shape of out: torch.Size([5, 3, 200, 200]), shape of labels:torch.Size([5, 200, 200])\n",
            "shape of out: torch.Size([5, 3, 200, 200]), shape of labels:torch.Size([5, 200, 200])\n",
            "shape of out: torch.Size([5, 3, 200, 200]), shape of labels:torch.Size([5, 200, 200])\n",
            "shape of out: torch.Size([5, 3, 200, 200]), shape of labels:torch.Size([5, 200, 200])\n",
            "shape of out: torch.Size([5, 3, 200, 200]), shape of labels:torch.Size([5, 200, 200])\n",
            "shape of out: torch.Size([5, 3, 200, 200]), shape of labels:torch.Size([5, 200, 200])\n",
            "shape of out: torch.Size([5, 3, 200, 200]), shape of labels:torch.Size([5, 200, 200])\n",
            "shape of out: torch.Size([5, 3, 200, 200]), shape of labels:torch.Size([5, 200, 200])\n",
            "shape of out: torch.Size([5, 3, 200, 200]), shape of labels:torch.Size([5, 200, 200])\n",
            "shape of out: torch.Size([5, 3, 200, 200]), shape of labels:torch.Size([5, 200, 200])\n",
            "shape of out: torch.Size([5, 3, 200, 200]), shape of labels:torch.Size([5, 200, 200])\n",
            "shape of out: torch.Size([5, 3, 200, 200]), shape of labels:torch.Size([5, 200, 200])\n",
            "shape of out: torch.Size([5, 3, 200, 200]), shape of labels:torch.Size([5, 200, 200])\n",
            "shape of out: torch.Size([5, 3, 200, 200]), shape of labels:torch.Size([5, 200, 200])\n",
            "shape of out: torch.Size([5, 3, 200, 200]), shape of labels:torch.Size([5, 200, 200])\n",
            "shape of out: torch.Size([5, 3, 200, 200]), shape of labels:torch.Size([5, 200, 200])\n",
            "shape of out: torch.Size([5, 3, 200, 200]), shape of labels:torch.Size([5, 200, 200])\n",
            "shape of out: torch.Size([5, 3, 200, 200]), shape of labels:torch.Size([5, 200, 200])\n",
            "shape of out: torch.Size([5, 3, 200, 200]), shape of labels:torch.Size([5, 200, 200])\n",
            "shape of out: torch.Size([5, 3, 200, 200]), shape of labels:torch.Size([5, 200, 200])\n",
            "shape of out: torch.Size([5, 3, 200, 200]), shape of labels:torch.Size([5, 200, 200])\n",
            "shape of out: torch.Size([5, 3, 200, 200]), shape of labels:torch.Size([5, 200, 200])\n",
            "shape of out: torch.Size([5, 3, 200, 200]), shape of labels:torch.Size([5, 200, 200])\n",
            "shape of out: torch.Size([5, 3, 200, 200]), shape of labels:torch.Size([5, 200, 200])\n",
            "shape of out: torch.Size([5, 3, 200, 200]), shape of labels:torch.Size([5, 200, 200])\n",
            "shape of out: torch.Size([5, 3, 200, 200]), shape of labels:torch.Size([5, 200, 200])\n",
            "shape of out: torch.Size([5, 3, 200, 200]), shape of labels:torch.Size([5, 200, 200])\n",
            "shape of out: torch.Size([5, 3, 200, 200]), shape of labels:torch.Size([5, 200, 200])\n",
            "shape of out: torch.Size([5, 3, 200, 200]), shape of labels:torch.Size([5, 200, 200])\n",
            "shape of out: torch.Size([5, 3, 200, 200]), shape of labels:torch.Size([5, 200, 200])\n",
            "shape of out: torch.Size([5, 3, 200, 200]), shape of labels:torch.Size([5, 200, 200])\n",
            "shape of out: torch.Size([5, 3, 200, 200]), shape of labels:torch.Size([5, 200, 200])\n",
            "shape of out: torch.Size([5, 3, 200, 200]), shape of labels:torch.Size([5, 200, 200])\n",
            "shape of out: torch.Size([5, 3, 200, 200]), shape of labels:torch.Size([5, 200, 200])\n",
            "shape of out: torch.Size([5, 3, 200, 200]), shape of labels:torch.Size([5, 200, 200])\n",
            "shape of out: torch.Size([5, 3, 200, 200]), shape of labels:torch.Size([5, 200, 200])\n",
            "shape of out: torch.Size([5, 3, 200, 200]), shape of labels:torch.Size([5, 200, 200])\n",
            "shape of out: torch.Size([5, 3, 200, 200]), shape of labels:torch.Size([5, 200, 200])\n",
            "shape of out: torch.Size([5, 3, 200, 200]), shape of labels:torch.Size([5, 200, 200])\n",
            "shape of out: torch.Size([5, 3, 200, 200]), shape of labels:torch.Size([5, 200, 200])\n",
            "shape of out: torch.Size([5, 3, 200, 200]), shape of labels:torch.Size([5, 200, 200])\n",
            "shape of out: torch.Size([5, 3, 200, 200]), shape of labels:torch.Size([5, 200, 200])\n",
            "shape of out: torch.Size([5, 3, 200, 200]), shape of labels:torch.Size([5, 200, 200])\n",
            "shape of out: torch.Size([5, 3, 200, 200]), shape of labels:torch.Size([5, 200, 200])\n",
            "shape of out: torch.Size([5, 3, 200, 200]), shape of labels:torch.Size([5, 200, 200])\n",
            "shape of out: torch.Size([5, 3, 200, 200]), shape of labels:torch.Size([5, 200, 200])\n",
            "shape of out: torch.Size([5, 3, 200, 200]), shape of labels:torch.Size([5, 200, 200])\n",
            "shape of out: torch.Size([5, 3, 200, 200]), shape of labels:torch.Size([5, 200, 200])\n",
            "shape of out: torch.Size([5, 3, 200, 200]), shape of labels:torch.Size([5, 200, 200])\n",
            "shape of out: torch.Size([5, 3, 200, 200]), shape of labels:torch.Size([5, 200, 200])\n",
            "shape of out: torch.Size([5, 3, 200, 200]), shape of labels:torch.Size([5, 200, 200])\n",
            "shape of out: torch.Size([5, 3, 200, 200]), shape of labels:torch.Size([5, 200, 200])\n",
            "shape of out: torch.Size([5, 3, 200, 200]), shape of labels:torch.Size([5, 200, 200])\n",
            "shape of out: torch.Size([5, 3, 200, 200]), shape of labels:torch.Size([5, 200, 200])\n",
            "shape of out: torch.Size([5, 3, 200, 200]), shape of labels:torch.Size([5, 200, 200])\n",
            "shape of out: torch.Size([5, 3, 200, 200]), shape of labels:torch.Size([5, 200, 200])\n",
            "shape of out: torch.Size([5, 3, 200, 200]), shape of labels:torch.Size([5, 200, 200])\n",
            "shape of out: torch.Size([5, 3, 200, 200]), shape of labels:torch.Size([5, 200, 200])\n",
            "shape of out: torch.Size([5, 3, 200, 200]), shape of labels:torch.Size([5, 200, 200])\n",
            "shape of out: torch.Size([5, 3, 200, 200]), shape of labels:torch.Size([5, 200, 200])\n",
            "shape of out: torch.Size([5, 3, 200, 200]), shape of labels:torch.Size([5, 200, 200])\n",
            "shape of out: torch.Size([5, 3, 200, 200]), shape of labels:torch.Size([5, 200, 200])\n",
            "shape of out: torch.Size([5, 3, 200, 200]), shape of labels:torch.Size([5, 200, 200])\n",
            "shape of out: torch.Size([5, 3, 200, 200]), shape of labels:torch.Size([5, 200, 200])\n",
            "shape of out: torch.Size([5, 3, 200, 200]), shape of labels:torch.Size([5, 200, 200])\n",
            "shape of out: torch.Size([5, 3, 200, 200]), shape of labels:torch.Size([5, 200, 200])\n",
            "shape of out: torch.Size([5, 3, 200, 200]), shape of labels:torch.Size([5, 200, 200])\n",
            "shape of out: torch.Size([5, 3, 200, 200]), shape of labels:torch.Size([5, 200, 200])\n",
            "shape of out: torch.Size([5, 3, 200, 200]), shape of labels:torch.Size([5, 200, 200])\n",
            "shape of out: torch.Size([5, 3, 200, 200]), shape of labels:torch.Size([5, 200, 200])\n",
            "shape of out: torch.Size([5, 3, 200, 200]), shape of labels:torch.Size([5, 200, 200])\n",
            "shape of out: torch.Size([5, 3, 200, 200]), shape of labels:torch.Size([5, 200, 200])\n",
            "shape of out: torch.Size([5, 3, 200, 200]), shape of labels:torch.Size([5, 200, 200])\n",
            "shape of out: torch.Size([5, 3, 200, 200]), shape of labels:torch.Size([5, 200, 200])\n",
            "shape of out: torch.Size([5, 3, 200, 200]), shape of labels:torch.Size([5, 200, 200])\n",
            "shape of out: torch.Size([5, 3, 200, 200]), shape of labels:torch.Size([5, 200, 200])\n",
            "shape of out: torch.Size([5, 3, 200, 200]), shape of labels:torch.Size([5, 200, 200])\n",
            "shape of out: torch.Size([5, 3, 200, 200]), shape of labels:torch.Size([5, 200, 200])\n",
            "shape of out: torch.Size([5, 3, 200, 200]), shape of labels:torch.Size([5, 200, 200])\n",
            "shape of out: torch.Size([5, 3, 200, 200]), shape of labels:torch.Size([5, 200, 200])\n",
            "shape of out: torch.Size([5, 3, 200, 200]), shape of labels:torch.Size([5, 200, 200])\n",
            "shape of out: torch.Size([5, 3, 200, 200]), shape of labels:torch.Size([5, 200, 200])\n",
            "shape of out: torch.Size([5, 3, 200, 200]), shape of labels:torch.Size([5, 200, 200])\n",
            "shape of out: torch.Size([5, 3, 200, 200]), shape of labels:torch.Size([5, 200, 200])\n",
            "shape of out: torch.Size([5, 3, 200, 200]), shape of labels:torch.Size([5, 200, 200])\n",
            "shape of out: torch.Size([5, 3, 200, 200]), shape of labels:torch.Size([5, 200, 200])\n",
            "shape of out: torch.Size([5, 3, 200, 200]), shape of labels:torch.Size([5, 200, 200])\n",
            "shape of out: torch.Size([5, 3, 200, 200]), shape of labels:torch.Size([5, 200, 200])\n",
            "shape of out: torch.Size([5, 3, 200, 200]), shape of labels:torch.Size([5, 200, 200])\n",
            "shape of out: torch.Size([5, 3, 200, 200]), shape of labels:torch.Size([5, 200, 200])\n",
            "shape of out: torch.Size([5, 3, 200, 200]), shape of labels:torch.Size([5, 200, 200])\n",
            "shape of out: torch.Size([5, 3, 200, 200]), shape of labels:torch.Size([5, 200, 200])\n",
            "shape of out: torch.Size([5, 3, 200, 200]), shape of labels:torch.Size([5, 200, 200])\n",
            "shape of out: torch.Size([5, 3, 200, 200]), shape of labels:torch.Size([5, 200, 200])\n",
            "shape of out: torch.Size([5, 3, 200, 200]), shape of labels:torch.Size([5, 200, 200])\n",
            "shape of out: torch.Size([5, 3, 200, 200]), shape of labels:torch.Size([5, 200, 200])\n",
            "shape of out: torch.Size([5, 3, 200, 200]), shape of labels:torch.Size([5, 200, 200])\n",
            "shape of out: torch.Size([5, 3, 200, 200]), shape of labels:torch.Size([5, 200, 200])\n",
            "shape of out: torch.Size([5, 3, 200, 200]), shape of labels:torch.Size([5, 200, 200])\n",
            "shape of out: torch.Size([5, 3, 200, 200]), shape of labels:torch.Size([5, 200, 200])\n",
            "shape of out: torch.Size([5, 3, 200, 200]), shape of labels:torch.Size([5, 200, 200])\n",
            "shape of out: torch.Size([5, 3, 200, 200]), shape of labels:torch.Size([5, 200, 200])\n",
            "shape of out: torch.Size([5, 3, 200, 200]), shape of labels:torch.Size([5, 200, 200])\n",
            "shape of out: torch.Size([5, 3, 200, 200]), shape of labels:torch.Size([5, 200, 200])\n",
            "shape of out: torch.Size([5, 3, 200, 200]), shape of labels:torch.Size([5, 200, 200])\n",
            "shape of out: torch.Size([5, 3, 200, 200]), shape of labels:torch.Size([5, 200, 200])\n",
            "shape of out: torch.Size([5, 3, 200, 200]), shape of labels:torch.Size([5, 200, 200])\n",
            "shape of out: torch.Size([5, 3, 200, 200]), shape of labels:torch.Size([5, 200, 200])\n",
            "shape of out: torch.Size([5, 3, 200, 200]), shape of labels:torch.Size([5, 200, 200])\n",
            "shape of out: torch.Size([5, 3, 200, 200]), shape of labels:torch.Size([5, 200, 200])\n",
            "shape of out: torch.Size([5, 3, 200, 200]), shape of labels:torch.Size([5, 200, 200])\n",
            "shape of out: torch.Size([5, 3, 200, 200]), shape of labels:torch.Size([5, 200, 200])\n",
            "shape of out: torch.Size([5, 3, 200, 200]), shape of labels:torch.Size([5, 200, 200])\n",
            "shape of out: torch.Size([5, 3, 200, 200]), shape of labels:torch.Size([5, 200, 200])\n",
            "shape of out: torch.Size([5, 3, 200, 200]), shape of labels:torch.Size([5, 200, 200])\n",
            "shape of out: torch.Size([5, 3, 200, 200]), shape of labels:torch.Size([5, 200, 200])\n",
            "shape of out: torch.Size([5, 3, 200, 200]), shape of labels:torch.Size([5, 200, 200])\n",
            "shape of out: torch.Size([5, 3, 200, 200]), shape of labels:torch.Size([5, 200, 200])\n",
            "shape of out: torch.Size([5, 3, 200, 200]), shape of labels:torch.Size([5, 200, 200])\n",
            "shape of out: torch.Size([5, 3, 200, 200]), shape of labels:torch.Size([5, 200, 200])\n",
            "shape of out: torch.Size([5, 3, 200, 200]), shape of labels:torch.Size([5, 200, 200])\n",
            "shape of out: torch.Size([5, 3, 200, 200]), shape of labels:torch.Size([5, 200, 200])\n",
            "shape of out: torch.Size([5, 3, 200, 200]), shape of labels:torch.Size([5, 200, 200])\n",
            "shape of out: torch.Size([5, 3, 200, 200]), shape of labels:torch.Size([5, 200, 200])\n",
            "shape of out: torch.Size([5, 3, 200, 200]), shape of labels:torch.Size([5, 200, 200])\n",
            "shape of out: torch.Size([5, 3, 200, 200]), shape of labels:torch.Size([5, 200, 200])\n",
            "shape of out: torch.Size([5, 3, 200, 200]), shape of labels:torch.Size([5, 200, 200])\n",
            "shape of out: torch.Size([5, 3, 200, 200]), shape of labels:torch.Size([5, 200, 200])\n",
            "shape of out: torch.Size([5, 3, 200, 200]), shape of labels:torch.Size([5, 200, 200])\n",
            "shape of out: torch.Size([5, 3, 200, 200]), shape of labels:torch.Size([5, 200, 200])\n",
            "shape of out: torch.Size([5, 3, 200, 200]), shape of labels:torch.Size([5, 200, 200])\n",
            "shape of out: torch.Size([5, 3, 200, 200]), shape of labels:torch.Size([5, 200, 200])\n",
            "shape of out: torch.Size([5, 3, 200, 200]), shape of labels:torch.Size([5, 200, 200])\n",
            "shape of out: torch.Size([5, 3, 200, 200]), shape of labels:torch.Size([5, 200, 200])\n",
            "shape of out: torch.Size([5, 3, 200, 200]), shape of labels:torch.Size([5, 200, 200])\n",
            "shape of out: torch.Size([5, 3, 200, 200]), shape of labels:torch.Size([5, 200, 200])\n",
            "shape of out: torch.Size([5, 3, 200, 200]), shape of labels:torch.Size([5, 200, 200])\n",
            "shape of out: torch.Size([5, 3, 200, 200]), shape of labels:torch.Size([5, 200, 200])\n",
            "shape of out: torch.Size([5, 3, 200, 200]), shape of labels:torch.Size([5, 200, 200])\n",
            "shape of out: torch.Size([5, 3, 200, 200]), shape of labels:torch.Size([5, 200, 200])\n",
            "shape of out: torch.Size([5, 3, 200, 200]), shape of labels:torch.Size([5, 200, 200])\n",
            "shape of out: torch.Size([5, 3, 200, 200]), shape of labels:torch.Size([5, 200, 200])\n",
            "shape of out: torch.Size([5, 3, 200, 200]), shape of labels:torch.Size([5, 200, 200])\n",
            "shape of out: torch.Size([5, 3, 200, 200]), shape of labels:torch.Size([5, 200, 200])\n",
            "shape of out: torch.Size([5, 3, 200, 200]), shape of labels:torch.Size([5, 200, 200])\n",
            "shape of out: torch.Size([5, 3, 200, 200]), shape of labels:torch.Size([5, 200, 200])\n",
            "shape of out: torch.Size([5, 3, 200, 200]), shape of labels:torch.Size([5, 200, 200])\n",
            "shape of out: torch.Size([5, 3, 200, 200]), shape of labels:torch.Size([5, 200, 200])\n",
            "shape of out: torch.Size([5, 3, 200, 200]), shape of labels:torch.Size([5, 200, 200])\n",
            "shape of out: torch.Size([5, 3, 200, 200]), shape of labels:torch.Size([5, 200, 200])\n",
            "shape of out: torch.Size([5, 3, 200, 200]), shape of labels:torch.Size([5, 200, 200])\n",
            "shape of out: torch.Size([5, 3, 200, 200]), shape of labels:torch.Size([5, 200, 200])\n",
            "shape of out: torch.Size([5, 3, 200, 200]), shape of labels:torch.Size([5, 200, 200])\n",
            "shape of out: torch.Size([5, 3, 200, 200]), shape of labels:torch.Size([5, 200, 200])\n",
            "shape of out: torch.Size([5, 3, 200, 200]), shape of labels:torch.Size([5, 200, 200])\n",
            "shape of out: torch.Size([5, 3, 200, 200]), shape of labels:torch.Size([5, 200, 200])\n",
            "shape of out: torch.Size([5, 3, 200, 200]), shape of labels:torch.Size([5, 200, 200])\n",
            "shape of out: torch.Size([5, 3, 200, 200]), shape of labels:torch.Size([5, 200, 200])\n",
            "shape of out: torch.Size([5, 3, 200, 200]), shape of labels:torch.Size([5, 200, 200])\n",
            "shape of out: torch.Size([5, 3, 200, 200]), shape of labels:torch.Size([5, 200, 200])\n",
            "shape of out: torch.Size([5, 3, 200, 200]), shape of labels:torch.Size([5, 200, 200])\n",
            "shape of out: torch.Size([5, 3, 200, 200]), shape of labels:torch.Size([5, 200, 200])\n",
            "shape of out: torch.Size([5, 3, 200, 200]), shape of labels:torch.Size([5, 200, 200])\n",
            "shape of out: torch.Size([5, 3, 200, 200]), shape of labels:torch.Size([5, 200, 200])\n",
            "shape of out: torch.Size([5, 3, 200, 200]), shape of labels:torch.Size([5, 200, 200])\n",
            "shape of out: torch.Size([5, 3, 200, 200]), shape of labels:torch.Size([5, 200, 200])\n",
            "shape of out: torch.Size([5, 3, 200, 200]), shape of labels:torch.Size([5, 200, 200])\n",
            "shape of out: torch.Size([5, 3, 200, 200]), shape of labels:torch.Size([5, 200, 200])\n",
            "shape of out: torch.Size([5, 3, 200, 200]), shape of labels:torch.Size([5, 200, 200])\n",
            "shape of out: torch.Size([5, 3, 200, 200]), shape of labels:torch.Size([5, 200, 200])\n",
            "shape of out: torch.Size([5, 3, 200, 200]), shape of labels:torch.Size([5, 200, 200])\n",
            "shape of out: torch.Size([5, 3, 200, 200]), shape of labels:torch.Size([5, 200, 200])\n",
            "shape of out: torch.Size([5, 3, 200, 200]), shape of labels:torch.Size([5, 200, 200])\n",
            "shape of out: torch.Size([5, 3, 200, 200]), shape of labels:torch.Size([5, 200, 200])\n",
            "shape of out: torch.Size([5, 3, 200, 200]), shape of labels:torch.Size([5, 200, 200])\n",
            "shape of out: torch.Size([5, 3, 200, 200]), shape of labels:torch.Size([5, 200, 200])\n",
            "shape of out: torch.Size([5, 3, 200, 200]), shape of labels:torch.Size([5, 200, 200])\n",
            "shape of out: torch.Size([5, 3, 200, 200]), shape of labels:torch.Size([5, 200, 200])\n",
            "shape of out: torch.Size([5, 3, 200, 200]), shape of labels:torch.Size([5, 200, 200])\n",
            "shape of out: torch.Size([5, 3, 200, 200]), shape of labels:torch.Size([5, 200, 200])\n",
            "shape of out: torch.Size([5, 3, 200, 200]), shape of labels:torch.Size([5, 200, 200])\n",
            "shape of out: torch.Size([5, 3, 200, 200]), shape of labels:torch.Size([5, 200, 200])\n",
            "shape of out: torch.Size([5, 3, 200, 200]), shape of labels:torch.Size([5, 200, 200])\n",
            "shape of out: torch.Size([5, 3, 200, 200]), shape of labels:torch.Size([5, 200, 200])\n",
            "shape of out: torch.Size([5, 3, 200, 200]), shape of labels:torch.Size([5, 200, 200])\n",
            "shape of out: torch.Size([5, 3, 200, 200]), shape of labels:torch.Size([5, 200, 200])\n",
            "shape of out: torch.Size([5, 3, 200, 200]), shape of labels:torch.Size([5, 200, 200])\n",
            "shape of out: torch.Size([5, 3, 200, 200]), shape of labels:torch.Size([5, 200, 200])\n",
            "shape of out: torch.Size([5, 3, 200, 200]), shape of labels:torch.Size([5, 200, 200])\n",
            "shape of out: torch.Size([5, 3, 200, 200]), shape of labels:torch.Size([5, 200, 200])\n",
            "shape of out: torch.Size([5, 3, 200, 200]), shape of labels:torch.Size([5, 200, 200])\n",
            "shape of out: torch.Size([5, 3, 200, 200]), shape of labels:torch.Size([5, 200, 200])\n",
            "shape of out: torch.Size([5, 3, 200, 200]), shape of labels:torch.Size([5, 200, 200])\n",
            "shape of out: torch.Size([5, 3, 200, 200]), shape of labels:torch.Size([5, 200, 200])\n",
            "shape of out: torch.Size([5, 3, 200, 200]), shape of labels:torch.Size([5, 200, 200])\n",
            "shape of out: torch.Size([5, 3, 200, 200]), shape of labels:torch.Size([5, 200, 200])\n",
            "shape of out: torch.Size([5, 3, 200, 200]), shape of labels:torch.Size([5, 200, 200])\n",
            "shape of out: torch.Size([5, 3, 200, 200]), shape of labels:torch.Size([5, 200, 200])\n",
            "shape of out: torch.Size([5, 3, 200, 200]), shape of labels:torch.Size([5, 200, 200])\n",
            "shape of out: torch.Size([5, 3, 200, 200]), shape of labels:torch.Size([5, 200, 200])\n",
            "shape of out: torch.Size([5, 3, 200, 200]), shape of labels:torch.Size([5, 200, 200])\n",
            "shape of out: torch.Size([5, 3, 200, 200]), shape of labels:torch.Size([5, 200, 200])\n",
            "shape of out: torch.Size([5, 3, 200, 200]), shape of labels:torch.Size([5, 200, 200])\n",
            "shape of out: torch.Size([5, 3, 200, 200]), shape of labels:torch.Size([5, 200, 200])\n",
            "shape of out: torch.Size([5, 3, 200, 200]), shape of labels:torch.Size([5, 200, 200])\n",
            "shape of out: torch.Size([5, 3, 200, 200]), shape of labels:torch.Size([5, 200, 200])\n",
            "shape of out: torch.Size([5, 3, 200, 200]), shape of labels:torch.Size([5, 200, 200])\n",
            "shape of out: torch.Size([5, 3, 200, 200]), shape of labels:torch.Size([5, 200, 200])\n",
            "shape of out: torch.Size([5, 3, 200, 200]), shape of labels:torch.Size([5, 200, 200])\n",
            "shape of out: torch.Size([5, 3, 200, 200]), shape of labels:torch.Size([5, 200, 200])\n",
            "shape of out: torch.Size([5, 3, 200, 200]), shape of labels:torch.Size([5, 200, 200])\n",
            "shape of out: torch.Size([5, 3, 200, 200]), shape of labels:torch.Size([5, 200, 200])\n",
            "shape of out: torch.Size([5, 3, 200, 200]), shape of labels:torch.Size([5, 200, 200])\n",
            "shape of out: torch.Size([5, 3, 200, 200]), shape of labels:torch.Size([5, 200, 200])\n",
            "shape of out: torch.Size([5, 3, 200, 200]), shape of labels:torch.Size([5, 200, 200])\n",
            "shape of out: torch.Size([5, 3, 200, 200]), shape of labels:torch.Size([5, 200, 200])\n",
            "shape of out: torch.Size([5, 3, 200, 200]), shape of labels:torch.Size([5, 200, 200])\n",
            "shape of out: torch.Size([5, 3, 200, 200]), shape of labels:torch.Size([5, 200, 200])\n",
            "shape of out: torch.Size([5, 3, 200, 200]), shape of labels:torch.Size([5, 200, 200])\n",
            "shape of out: torch.Size([5, 3, 200, 200]), shape of labels:torch.Size([5, 200, 200])\n",
            "shape of out: torch.Size([5, 3, 200, 200]), shape of labels:torch.Size([5, 200, 200])\n",
            "shape of out: torch.Size([5, 3, 200, 200]), shape of labels:torch.Size([5, 200, 200])\n",
            "shape of out: torch.Size([5, 3, 200, 200]), shape of labels:torch.Size([5, 200, 200])\n",
            "shape of out: torch.Size([5, 3, 200, 200]), shape of labels:torch.Size([5, 200, 200])\n",
            "shape of out: torch.Size([5, 3, 200, 200]), shape of labels:torch.Size([5, 200, 200])\n",
            "shape of out: torch.Size([5, 3, 200, 200]), shape of labels:torch.Size([5, 200, 200])\n",
            "shape of out: torch.Size([5, 3, 200, 200]), shape of labels:torch.Size([5, 200, 200])\n",
            "shape of out: torch.Size([5, 3, 200, 200]), shape of labels:torch.Size([5, 200, 200])\n",
            "shape of out: torch.Size([5, 3, 200, 200]), shape of labels:torch.Size([5, 200, 200])\n",
            "shape of out: torch.Size([5, 3, 200, 200]), shape of labels:torch.Size([5, 200, 200])\n",
            "shape of out: torch.Size([5, 3, 200, 200]), shape of labels:torch.Size([5, 200, 200])\n",
            "shape of out: torch.Size([5, 3, 200, 200]), shape of labels:torch.Size([5, 200, 200])\n",
            "shape of out: torch.Size([5, 3, 200, 200]), shape of labels:torch.Size([5, 200, 200])\n",
            "shape of out: torch.Size([5, 3, 200, 200]), shape of labels:torch.Size([5, 200, 200])\n",
            "shape of out: torch.Size([5, 3, 200, 200]), shape of labels:torch.Size([5, 200, 200])\n",
            "shape of out: torch.Size([5, 3, 200, 200]), shape of labels:torch.Size([5, 200, 200])\n",
            "shape of out: torch.Size([5, 3, 200, 200]), shape of labels:torch.Size([5, 200, 200])\n",
            "shape of out: torch.Size([5, 3, 200, 200]), shape of labels:torch.Size([5, 200, 200])\n",
            "shape of out: torch.Size([5, 3, 200, 200]), shape of labels:torch.Size([5, 200, 200])\n",
            "shape of out: torch.Size([5, 3, 200, 200]), shape of labels:torch.Size([5, 200, 200])\n",
            "shape of out: torch.Size([5, 3, 200, 200]), shape of labels:torch.Size([5, 200, 200])\n",
            "shape of out: torch.Size([5, 3, 200, 200]), shape of labels:torch.Size([5, 200, 200])\n",
            "shape of out: torch.Size([5, 3, 200, 200]), shape of labels:torch.Size([5, 200, 200])\n",
            "shape of out: torch.Size([5, 3, 200, 200]), shape of labels:torch.Size([5, 200, 200])\n",
            "shape of out: torch.Size([5, 3, 200, 200]), shape of labels:torch.Size([5, 200, 200])\n",
            "shape of out: torch.Size([5, 3, 200, 200]), shape of labels:torch.Size([5, 200, 200])\n",
            "shape of out: torch.Size([5, 3, 200, 200]), shape of labels:torch.Size([5, 200, 200])\n",
            "shape of out: torch.Size([5, 3, 200, 200]), shape of labels:torch.Size([5, 200, 200])\n",
            "shape of out: torch.Size([5, 3, 200, 200]), shape of labels:torch.Size([5, 200, 200])\n",
            "shape of out: torch.Size([5, 3, 200, 200]), shape of labels:torch.Size([5, 200, 200])\n",
            "shape of out: torch.Size([5, 3, 200, 200]), shape of labels:torch.Size([5, 200, 200])\n",
            "shape of out: torch.Size([5, 3, 200, 200]), shape of labels:torch.Size([5, 200, 200])\n",
            "shape of out: torch.Size([5, 3, 200, 200]), shape of labels:torch.Size([5, 200, 200])\n",
            "shape of out: torch.Size([5, 3, 200, 200]), shape of labels:torch.Size([5, 200, 200])\n",
            "shape of out: torch.Size([5, 3, 200, 200]), shape of labels:torch.Size([5, 200, 200])\n",
            "shape of out: torch.Size([5, 3, 200, 200]), shape of labels:torch.Size([5, 200, 200])\n",
            "shape of out: torch.Size([5, 3, 200, 200]), shape of labels:torch.Size([5, 200, 200])\n",
            "shape of out: torch.Size([5, 3, 200, 200]), shape of labels:torch.Size([5, 200, 200])\n",
            "shape of out: torch.Size([5, 3, 200, 200]), shape of labels:torch.Size([5, 200, 200])\n",
            "shape of out: torch.Size([5, 3, 200, 200]), shape of labels:torch.Size([5, 200, 200])\n",
            "shape of out: torch.Size([5, 3, 200, 200]), shape of labels:torch.Size([5, 200, 200])\n",
            "shape of out: torch.Size([5, 3, 200, 200]), shape of labels:torch.Size([5, 200, 200])\n",
            "shape of out: torch.Size([5, 3, 200, 200]), shape of labels:torch.Size([5, 200, 200])\n",
            "shape of out: torch.Size([5, 3, 200, 200]), shape of labels:torch.Size([5, 200, 200])\n",
            "shape of out: torch.Size([5, 3, 200, 200]), shape of labels:torch.Size([5, 200, 200])\n",
            "shape of out: torch.Size([5, 3, 200, 200]), shape of labels:torch.Size([5, 200, 200])\n",
            "shape of out: torch.Size([5, 3, 200, 200]), shape of labels:torch.Size([5, 200, 200])\n",
            "shape of out: torch.Size([5, 3, 200, 200]), shape of labels:torch.Size([5, 200, 200])\n",
            "shape of out: torch.Size([5, 3, 200, 200]), shape of labels:torch.Size([5, 200, 200])\n",
            "shape of out: torch.Size([5, 3, 200, 200]), shape of labels:torch.Size([5, 200, 200])\n",
            "shape of out: torch.Size([5, 3, 200, 200]), shape of labels:torch.Size([5, 200, 200])\n",
            "shape of out: torch.Size([5, 3, 200, 200]), shape of labels:torch.Size([5, 200, 200])\n",
            "shape of out: torch.Size([5, 3, 200, 200]), shape of labels:torch.Size([5, 200, 200])\n",
            "shape of out: torch.Size([5, 3, 200, 200]), shape of labels:torch.Size([5, 200, 200])\n",
            "shape of out: torch.Size([5, 3, 200, 200]), shape of labels:torch.Size([5, 200, 200])\n",
            "shape of out: torch.Size([5, 3, 200, 200]), shape of labels:torch.Size([5, 200, 200])\n",
            "shape of out: torch.Size([5, 3, 200, 200]), shape of labels:torch.Size([5, 200, 200])\n",
            "shape of out: torch.Size([5, 3, 200, 200]), shape of labels:torch.Size([5, 200, 200])\n",
            "shape of out: torch.Size([5, 3, 200, 200]), shape of labels:torch.Size([5, 200, 200])\n",
            "shape of out: torch.Size([5, 3, 200, 200]), shape of labels:torch.Size([5, 200, 200])\n",
            "shape of out: torch.Size([5, 3, 200, 200]), shape of labels:torch.Size([5, 200, 200])\n",
            "shape of out: torch.Size([5, 3, 200, 200]), shape of labels:torch.Size([5, 200, 200])\n",
            "shape of out: torch.Size([5, 3, 200, 200]), shape of labels:torch.Size([5, 200, 200])\n",
            "shape of out: torch.Size([5, 3, 200, 200]), shape of labels:torch.Size([5, 200, 200])\n",
            "shape of out: torch.Size([5, 3, 200, 200]), shape of labels:torch.Size([5, 200, 200])\n",
            "shape of out: torch.Size([5, 3, 200, 200]), shape of labels:torch.Size([5, 200, 200])\n",
            "shape of out: torch.Size([5, 3, 200, 200]), shape of labels:torch.Size([5, 200, 200])\n",
            "shape of out: torch.Size([5, 3, 200, 200]), shape of labels:torch.Size([5, 200, 200])\n",
            "shape of out: torch.Size([5, 3, 200, 200]), shape of labels:torch.Size([5, 200, 200])\n",
            "shape of out: torch.Size([5, 3, 200, 200]), shape of labels:torch.Size([5, 200, 200])\n",
            "shape of out: torch.Size([5, 3, 200, 200]), shape of labels:torch.Size([5, 200, 200])\n",
            "shape of out: torch.Size([5, 3, 200, 200]), shape of labels:torch.Size([5, 200, 200])\n",
            "shape of out: torch.Size([5, 3, 200, 200]), shape of labels:torch.Size([5, 200, 200])\n",
            "shape of out: torch.Size([5, 3, 200, 200]), shape of labels:torch.Size([5, 200, 200])\n",
            "shape of out: torch.Size([5, 3, 200, 200]), shape of labels:torch.Size([5, 200, 200])\n",
            "shape of out: torch.Size([5, 3, 200, 200]), shape of labels:torch.Size([5, 200, 200])\n",
            "shape of out: torch.Size([5, 3, 200, 200]), shape of labels:torch.Size([5, 200, 200])\n",
            "shape of out: torch.Size([5, 3, 200, 200]), shape of labels:torch.Size([5, 200, 200])\n",
            "shape of out: torch.Size([5, 3, 200, 200]), shape of labels:torch.Size([5, 200, 200])\n",
            "shape of out: torch.Size([5, 3, 200, 200]), shape of labels:torch.Size([5, 200, 200])\n",
            "shape of out: torch.Size([5, 3, 200, 200]), shape of labels:torch.Size([5, 200, 200])\n",
            "shape of out: torch.Size([5, 3, 200, 200]), shape of labels:torch.Size([5, 200, 200])\n",
            "shape of out: torch.Size([5, 3, 200, 200]), shape of labels:torch.Size([5, 200, 200])\n",
            "shape of out: torch.Size([5, 3, 200, 200]), shape of labels:torch.Size([5, 200, 200])\n",
            "shape of out: torch.Size([5, 3, 200, 200]), shape of labels:torch.Size([5, 200, 200])\n",
            "shape of out: torch.Size([5, 3, 200, 200]), shape of labels:torch.Size([5, 200, 200])\n",
            "shape of out: torch.Size([5, 3, 200, 200]), shape of labels:torch.Size([5, 200, 200])\n",
            "shape of out: torch.Size([5, 3, 200, 200]), shape of labels:torch.Size([5, 200, 200])\n",
            "shape of out: torch.Size([5, 3, 200, 200]), shape of labels:torch.Size([5, 200, 200])\n",
            "shape of out: torch.Size([5, 3, 200, 200]), shape of labels:torch.Size([5, 200, 200])\n",
            "shape of out: torch.Size([5, 3, 200, 200]), shape of labels:torch.Size([5, 200, 200])\n",
            "shape of out: torch.Size([5, 3, 200, 200]), shape of labels:torch.Size([5, 200, 200])\n",
            "shape of out: torch.Size([5, 3, 200, 200]), shape of labels:torch.Size([5, 200, 200])\n",
            "shape of out: torch.Size([5, 3, 200, 200]), shape of labels:torch.Size([5, 200, 200])\n",
            "shape of out: torch.Size([5, 3, 200, 200]), shape of labels:torch.Size([5, 200, 200])\n",
            "shape of out: torch.Size([5, 3, 200, 200]), shape of labels:torch.Size([5, 200, 200])\n",
            "shape of out: torch.Size([5, 3, 200, 200]), shape of labels:torch.Size([5, 200, 200])\n",
            "shape of out: torch.Size([5, 3, 200, 200]), shape of labels:torch.Size([5, 200, 200])\n",
            "shape of out: torch.Size([5, 3, 200, 200]), shape of labels:torch.Size([5, 200, 200])\n",
            "shape of out: torch.Size([5, 3, 200, 200]), shape of labels:torch.Size([5, 200, 200])\n",
            "shape of out: torch.Size([5, 3, 200, 200]), shape of labels:torch.Size([5, 200, 200])\n",
            "shape of out: torch.Size([5, 3, 200, 200]), shape of labels:torch.Size([5, 200, 200])\n",
            "shape of out: torch.Size([5, 3, 200, 200]), shape of labels:torch.Size([5, 200, 200])\n",
            "shape of out: torch.Size([5, 3, 200, 200]), shape of labels:torch.Size([5, 200, 200])\n",
            "shape of out: torch.Size([5, 3, 200, 200]), shape of labels:torch.Size([5, 200, 200])\n",
            "shape of out: torch.Size([5, 3, 200, 200]), shape of labels:torch.Size([5, 200, 200])\n",
            "shape of out: torch.Size([5, 3, 200, 200]), shape of labels:torch.Size([5, 200, 200])\n",
            "shape of out: torch.Size([5, 3, 200, 200]), shape of labels:torch.Size([5, 200, 200])\n",
            "shape of out: torch.Size([5, 3, 200, 200]), shape of labels:torch.Size([5, 200, 200])\n",
            "shape of out: torch.Size([5, 3, 200, 200]), shape of labels:torch.Size([5, 200, 200])\n",
            "shape of out: torch.Size([5, 3, 200, 200]), shape of labels:torch.Size([5, 200, 200])\n",
            "shape of out: torch.Size([5, 3, 200, 200]), shape of labels:torch.Size([5, 200, 200])\n",
            "shape of out: torch.Size([5, 3, 200, 200]), shape of labels:torch.Size([5, 200, 200])\n",
            "shape of out: torch.Size([5, 3, 200, 200]), shape of labels:torch.Size([5, 200, 200])\n",
            "shape of out: torch.Size([5, 3, 200, 200]), shape of labels:torch.Size([5, 200, 200])\n",
            "shape of out: torch.Size([5, 3, 200, 200]), shape of labels:torch.Size([5, 200, 200])\n",
            "shape of out: torch.Size([5, 3, 200, 200]), shape of labels:torch.Size([5, 200, 200])\n",
            "shape of out: torch.Size([5, 3, 200, 200]), shape of labels:torch.Size([5, 200, 200])\n",
            "shape of out: torch.Size([5, 3, 200, 200]), shape of labels:torch.Size([5, 200, 200])\n",
            "shape of out: torch.Size([5, 3, 200, 200]), shape of labels:torch.Size([5, 200, 200])\n",
            "shape of out: torch.Size([5, 3, 200, 200]), shape of labels:torch.Size([5, 200, 200])\n",
            "shape of out: torch.Size([5, 3, 200, 200]), shape of labels:torch.Size([5, 200, 200])\n",
            "shape of out: torch.Size([5, 3, 200, 200]), shape of labels:torch.Size([5, 200, 200])\n",
            "shape of out: torch.Size([5, 3, 200, 200]), shape of labels:torch.Size([5, 200, 200])\n",
            "shape of out: torch.Size([5, 3, 200, 200]), shape of labels:torch.Size([5, 200, 200])\n",
            "shape of out: torch.Size([5, 3, 200, 200]), shape of labels:torch.Size([5, 200, 200])\n",
            "shape of out: torch.Size([5, 3, 200, 200]), shape of labels:torch.Size([5, 200, 200])\n",
            "shape of out: torch.Size([5, 3, 200, 200]), shape of labels:torch.Size([5, 200, 200])\n",
            "shape of out: torch.Size([5, 3, 200, 200]), shape of labels:torch.Size([5, 200, 200])\n",
            "shape of out: torch.Size([5, 3, 200, 200]), shape of labels:torch.Size([5, 200, 200])\n",
            "shape of out: torch.Size([5, 3, 200, 200]), shape of labels:torch.Size([5, 200, 200])\n",
            "shape of out: torch.Size([5, 3, 200, 200]), shape of labels:torch.Size([5, 200, 200])\n",
            "shape of out: torch.Size([5, 3, 200, 200]), shape of labels:torch.Size([5, 200, 200])\n",
            "shape of out: torch.Size([5, 3, 200, 200]), shape of labels:torch.Size([5, 200, 200])\n",
            "shape of out: torch.Size([5, 3, 200, 200]), shape of labels:torch.Size([5, 200, 200])\n",
            "shape of out: torch.Size([5, 3, 200, 200]), shape of labels:torch.Size([5, 200, 200])\n",
            "shape of out: torch.Size([5, 3, 200, 200]), shape of labels:torch.Size([5, 200, 200])\n",
            "shape of out: torch.Size([5, 3, 200, 200]), shape of labels:torch.Size([5, 200, 200])\n",
            "shape of out: torch.Size([5, 3, 200, 200]), shape of labels:torch.Size([5, 200, 200])\n",
            "shape of out: torch.Size([5, 3, 200, 200]), shape of labels:torch.Size([5, 200, 200])\n",
            "shape of out: torch.Size([5, 3, 200, 200]), shape of labels:torch.Size([5, 200, 200])\n",
            "shape of out: torch.Size([5, 3, 200, 200]), shape of labels:torch.Size([5, 200, 200])\n",
            "shape of out: torch.Size([5, 3, 200, 200]), shape of labels:torch.Size([5, 200, 200])\n",
            "shape of out: torch.Size([5, 3, 200, 200]), shape of labels:torch.Size([5, 200, 200])\n",
            "shape of out: torch.Size([5, 3, 200, 200]), shape of labels:torch.Size([5, 200, 200])\n",
            "shape of out: torch.Size([5, 3, 200, 200]), shape of labels:torch.Size([5, 200, 200])\n",
            "shape of out: torch.Size([5, 3, 200, 200]), shape of labels:torch.Size([5, 200, 200])\n",
            "shape of out: torch.Size([5, 3, 200, 200]), shape of labels:torch.Size([5, 200, 200])\n",
            "shape of out: torch.Size([5, 3, 200, 200]), shape of labels:torch.Size([5, 200, 200])\n",
            "shape of out: torch.Size([5, 3, 200, 200]), shape of labels:torch.Size([5, 200, 200])\n",
            "shape of out: torch.Size([5, 3, 200, 200]), shape of labels:torch.Size([5, 200, 200])\n",
            "shape of out: torch.Size([5, 3, 200, 200]), shape of labels:torch.Size([5, 200, 200])\n",
            "shape of out: torch.Size([5, 3, 200, 200]), shape of labels:torch.Size([5, 200, 200])\n",
            "shape of out: torch.Size([5, 3, 200, 200]), shape of labels:torch.Size([5, 200, 200])\n",
            "shape of out: torch.Size([5, 3, 200, 200]), shape of labels:torch.Size([5, 200, 200])\n",
            "shape of out: torch.Size([5, 3, 200, 200]), shape of labels:torch.Size([5, 200, 200])\n",
            "shape of out: torch.Size([5, 3, 200, 200]), shape of labels:torch.Size([5, 200, 200])\n",
            "shape of out: torch.Size([5, 3, 200, 200]), shape of labels:torch.Size([5, 200, 200])\n",
            "shape of out: torch.Size([5, 3, 200, 200]), shape of labels:torch.Size([5, 200, 200])\n",
            "shape of out: torch.Size([5, 3, 200, 200]), shape of labels:torch.Size([5, 200, 200])\n",
            "shape of out: torch.Size([5, 3, 200, 200]), shape of labels:torch.Size([5, 200, 200])\n",
            "shape of out: torch.Size([5, 3, 200, 200]), shape of labels:torch.Size([5, 200, 200])\n",
            "shape of out: torch.Size([5, 3, 200, 200]), shape of labels:torch.Size([5, 200, 200])\n",
            "shape of out: torch.Size([5, 3, 200, 200]), shape of labels:torch.Size([5, 200, 200])\n",
            "shape of out: torch.Size([5, 3, 200, 200]), shape of labels:torch.Size([5, 200, 200])\n",
            "shape of out: torch.Size([5, 3, 200, 200]), shape of labels:torch.Size([5, 200, 200])\n",
            "shape of out: torch.Size([5, 3, 200, 200]), shape of labels:torch.Size([5, 200, 200])\n",
            "shape of out: torch.Size([5, 3, 200, 200]), shape of labels:torch.Size([5, 200, 200])\n",
            "shape of out: torch.Size([5, 3, 200, 200]), shape of labels:torch.Size([5, 200, 200])\n",
            "shape of out: torch.Size([5, 3, 200, 200]), shape of labels:torch.Size([5, 200, 200])\n",
            "shape of out: torch.Size([5, 3, 200, 200]), shape of labels:torch.Size([5, 200, 200])\n",
            "shape of out: torch.Size([5, 3, 200, 200]), shape of labels:torch.Size([5, 200, 200])\n",
            "shape of out: torch.Size([5, 3, 200, 200]), shape of labels:torch.Size([5, 200, 200])\n",
            "shape of out: torch.Size([5, 3, 200, 200]), shape of labels:torch.Size([5, 200, 200])\n",
            "shape of out: torch.Size([5, 3, 200, 200]), shape of labels:torch.Size([5, 200, 200])\n",
            "shape of out: torch.Size([5, 3, 200, 200]), shape of labels:torch.Size([5, 200, 200])\n",
            "shape of out: torch.Size([5, 3, 200, 200]), shape of labels:torch.Size([5, 200, 200])\n",
            "shape of out: torch.Size([5, 3, 200, 200]), shape of labels:torch.Size([5, 200, 200])\n",
            "shape of out: torch.Size([5, 3, 200, 200]), shape of labels:torch.Size([5, 200, 200])\n",
            "shape of out: torch.Size([5, 3, 200, 200]), shape of labels:torch.Size([5, 200, 200])\n",
            "shape of out: torch.Size([5, 3, 200, 200]), shape of labels:torch.Size([5, 200, 200])\n",
            "shape of out: torch.Size([5, 3, 200, 200]), shape of labels:torch.Size([5, 200, 200])\n",
            "shape of out: torch.Size([5, 3, 200, 200]), shape of labels:torch.Size([5, 200, 200])\n",
            "shape of out: torch.Size([5, 3, 200, 200]), shape of labels:torch.Size([5, 200, 200])\n",
            "shape of out: torch.Size([5, 3, 200, 200]), shape of labels:torch.Size([5, 200, 200])\n",
            "shape of out: torch.Size([5, 3, 200, 200]), shape of labels:torch.Size([5, 200, 200])\n",
            "shape of out: torch.Size([5, 3, 200, 200]), shape of labels:torch.Size([5, 200, 200])\n",
            "shape of out: torch.Size([5, 3, 200, 200]), shape of labels:torch.Size([5, 200, 200])\n",
            "shape of out: torch.Size([5, 3, 200, 200]), shape of labels:torch.Size([5, 200, 200])\n",
            "shape of out: torch.Size([5, 3, 200, 200]), shape of labels:torch.Size([5, 200, 200])\n",
            "shape of out: torch.Size([5, 3, 200, 200]), shape of labels:torch.Size([5, 200, 200])\n",
            "shape of out: torch.Size([5, 3, 200, 200]), shape of labels:torch.Size([5, 200, 200])\n",
            "shape of out: torch.Size([5, 3, 200, 200]), shape of labels:torch.Size([5, 200, 200])\n",
            "shape of out: torch.Size([5, 3, 200, 200]), shape of labels:torch.Size([5, 200, 200])\n",
            "shape of out: torch.Size([5, 3, 200, 200]), shape of labels:torch.Size([5, 200, 200])\n",
            "shape of out: torch.Size([5, 3, 200, 200]), shape of labels:torch.Size([5, 200, 200])\n",
            "shape of out: torch.Size([5, 3, 200, 200]), shape of labels:torch.Size([5, 200, 200])\n",
            "shape of out: torch.Size([5, 3, 200, 200]), shape of labels:torch.Size([5, 200, 200])\n",
            "shape of out: torch.Size([5, 3, 200, 200]), shape of labels:torch.Size([5, 200, 200])\n",
            "shape of out: torch.Size([5, 3, 200, 200]), shape of labels:torch.Size([5, 200, 200])\n",
            "shape of out: torch.Size([5, 3, 200, 200]), shape of labels:torch.Size([5, 200, 200])\n",
            "shape of out: torch.Size([5, 3, 200, 200]), shape of labels:torch.Size([5, 200, 200])\n",
            "shape of out: torch.Size([5, 3, 200, 200]), shape of labels:torch.Size([5, 200, 200])\n",
            "shape of out: torch.Size([5, 3, 200, 200]), shape of labels:torch.Size([5, 200, 200])\n",
            "shape of out: torch.Size([5, 3, 200, 200]), shape of labels:torch.Size([5, 200, 200])\n",
            "shape of out: torch.Size([5, 3, 200, 200]), shape of labels:torch.Size([5, 200, 200])\n",
            "shape of out: torch.Size([5, 3, 200, 200]), shape of labels:torch.Size([5, 200, 200])\n",
            "shape of out: torch.Size([5, 3, 200, 200]), shape of labels:torch.Size([5, 200, 200])\n",
            "shape of out: torch.Size([5, 3, 200, 200]), shape of labels:torch.Size([5, 200, 200])\n",
            "shape of out: torch.Size([5, 3, 200, 200]), shape of labels:torch.Size([5, 200, 200])\n",
            "shape of out: torch.Size([5, 3, 200, 200]), shape of labels:torch.Size([5, 200, 200])\n",
            "shape of out: torch.Size([5, 3, 200, 200]), shape of labels:torch.Size([5, 200, 200])\n",
            "shape of out: torch.Size([5, 3, 200, 200]), shape of labels:torch.Size([5, 200, 200])\n",
            "shape of out: torch.Size([5, 3, 200, 200]), shape of labels:torch.Size([5, 200, 200])\n",
            "shape of out: torch.Size([5, 3, 200, 200]), shape of labels:torch.Size([5, 200, 200])\n",
            "shape of out: torch.Size([5, 3, 200, 200]), shape of labels:torch.Size([5, 200, 200])\n",
            "shape of out: torch.Size([5, 3, 200, 200]), shape of labels:torch.Size([5, 200, 200])\n",
            "shape of out: torch.Size([5, 3, 200, 200]), shape of labels:torch.Size([5, 200, 200])\n",
            "shape of out: torch.Size([5, 3, 200, 200]), shape of labels:torch.Size([5, 200, 200])\n",
            "shape of out: torch.Size([5, 3, 200, 200]), shape of labels:torch.Size([5, 200, 200])\n",
            "shape of out: torch.Size([5, 3, 200, 200]), shape of labels:torch.Size([5, 200, 200])\n",
            "shape of out: torch.Size([5, 3, 200, 200]), shape of labels:torch.Size([5, 200, 200])\n",
            "shape of out: torch.Size([5, 3, 200, 200]), shape of labels:torch.Size([5, 200, 200])\n",
            "shape of out: torch.Size([5, 3, 200, 200]), shape of labels:torch.Size([5, 200, 200])\n",
            "shape of out: torch.Size([5, 3, 200, 200]), shape of labels:torch.Size([5, 200, 200])\n",
            "shape of out: torch.Size([5, 3, 200, 200]), shape of labels:torch.Size([5, 200, 200])\n",
            "shape of out: torch.Size([5, 3, 200, 200]), shape of labels:torch.Size([5, 200, 200])\n",
            "shape of out: torch.Size([5, 3, 200, 200]), shape of labels:torch.Size([5, 200, 200])\n",
            "shape of out: torch.Size([5, 3, 200, 200]), shape of labels:torch.Size([5, 200, 200])\n",
            "shape of out: torch.Size([5, 3, 200, 200]), shape of labels:torch.Size([5, 200, 200])\n",
            "shape of out: torch.Size([5, 3, 200, 200]), shape of labels:torch.Size([5, 200, 200])\n",
            "shape of out: torch.Size([5, 3, 200, 200]), shape of labels:torch.Size([5, 200, 200])\n",
            "shape of out: torch.Size([5, 3, 200, 200]), shape of labels:torch.Size([5, 200, 200])\n",
            "shape of out: torch.Size([5, 3, 200, 200]), shape of labels:torch.Size([5, 200, 200])\n",
            "shape of out: torch.Size([5, 3, 200, 200]), shape of labels:torch.Size([5, 200, 200])\n",
            "shape of out: torch.Size([5, 3, 200, 200]), shape of labels:torch.Size([5, 200, 200])\n",
            "shape of out: torch.Size([5, 3, 200, 200]), shape of labels:torch.Size([5, 200, 200])\n",
            "shape of out: torch.Size([5, 3, 200, 200]), shape of labels:torch.Size([5, 200, 200])\n",
            "shape of out: torch.Size([5, 3, 200, 200]), shape of labels:torch.Size([5, 200, 200])\n",
            "shape of out: torch.Size([5, 3, 200, 200]), shape of labels:torch.Size([5, 200, 200])\n",
            "shape of out: torch.Size([5, 3, 200, 200]), shape of labels:torch.Size([5, 200, 200])\n",
            "shape of out: torch.Size([5, 3, 200, 200]), shape of labels:torch.Size([5, 200, 200])\n",
            "shape of out: torch.Size([5, 3, 200, 200]), shape of labels:torch.Size([5, 200, 200])\n",
            "shape of out: torch.Size([5, 3, 200, 200]), shape of labels:torch.Size([5, 200, 200])\n",
            "shape of out: torch.Size([5, 3, 200, 200]), shape of labels:torch.Size([5, 200, 200])\n",
            "shape of out: torch.Size([5, 3, 200, 200]), shape of labels:torch.Size([5, 200, 200])\n",
            "shape of out: torch.Size([5, 3, 200, 200]), shape of labels:torch.Size([5, 200, 200])\n",
            "shape of out: torch.Size([5, 3, 200, 200]), shape of labels:torch.Size([5, 200, 200])\n",
            "shape of out: torch.Size([5, 3, 200, 200]), shape of labels:torch.Size([5, 200, 200])\n",
            "shape of out: torch.Size([5, 3, 200, 200]), shape of labels:torch.Size([5, 200, 200])\n",
            "shape of out: torch.Size([5, 3, 200, 200]), shape of labels:torch.Size([5, 200, 200])\n",
            "shape of out: torch.Size([5, 3, 200, 200]), shape of labels:torch.Size([5, 200, 200])\n",
            "shape of out: torch.Size([5, 3, 200, 200]), shape of labels:torch.Size([5, 200, 200])\n",
            "shape of out: torch.Size([5, 3, 200, 200]), shape of labels:torch.Size([5, 200, 200])\n",
            "shape of out: torch.Size([5, 3, 200, 200]), shape of labels:torch.Size([5, 200, 200])\n",
            "shape of out: torch.Size([5, 3, 200, 200]), shape of labels:torch.Size([5, 200, 200])\n",
            "shape of out: torch.Size([5, 3, 200, 200]), shape of labels:torch.Size([5, 200, 200])\n",
            "shape of out: torch.Size([5, 3, 200, 200]), shape of labels:torch.Size([5, 200, 200])\n",
            "shape of out: torch.Size([5, 3, 200, 200]), shape of labels:torch.Size([5, 200, 200])\n",
            "shape of out: torch.Size([5, 3, 200, 200]), shape of labels:torch.Size([5, 200, 200])\n",
            "shape of out: torch.Size([5, 3, 200, 200]), shape of labels:torch.Size([5, 200, 200])\n",
            "shape of out: torch.Size([5, 3, 200, 200]), shape of labels:torch.Size([5, 200, 200])\n",
            "shape of out: torch.Size([5, 3, 200, 200]), shape of labels:torch.Size([5, 200, 200])\n",
            "shape of out: torch.Size([5, 3, 200, 200]), shape of labels:torch.Size([5, 200, 200])\n",
            "shape of out: torch.Size([5, 3, 200, 200]), shape of labels:torch.Size([5, 200, 200])\n",
            "shape of out: torch.Size([5, 3, 200, 200]), shape of labels:torch.Size([5, 200, 200])\n",
            "shape of out: torch.Size([5, 3, 200, 200]), shape of labels:torch.Size([5, 200, 200])\n",
            "shape of out: torch.Size([5, 3, 200, 200]), shape of labels:torch.Size([5, 200, 200])\n",
            "shape of out: torch.Size([5, 3, 200, 200]), shape of labels:torch.Size([5, 200, 200])\n",
            "shape of out: torch.Size([5, 3, 200, 200]), shape of labels:torch.Size([5, 200, 200])\n",
            "shape of out: torch.Size([5, 3, 200, 200]), shape of labels:torch.Size([5, 200, 200])\n",
            "shape of out: torch.Size([5, 3, 200, 200]), shape of labels:torch.Size([5, 200, 200])\n",
            "shape of out: torch.Size([5, 3, 200, 200]), shape of labels:torch.Size([5, 200, 200])\n",
            "shape of out: torch.Size([5, 3, 200, 200]), shape of labels:torch.Size([5, 200, 200])\n",
            "shape of out: torch.Size([5, 3, 200, 200]), shape of labels:torch.Size([5, 200, 200])\n",
            "shape of out: torch.Size([5, 3, 200, 200]), shape of labels:torch.Size([5, 200, 200])\n",
            "shape of out: torch.Size([5, 3, 200, 200]), shape of labels:torch.Size([5, 200, 200])\n",
            "shape of out: torch.Size([5, 3, 200, 200]), shape of labels:torch.Size([5, 200, 200])\n",
            "shape of out: torch.Size([5, 3, 200, 200]), shape of labels:torch.Size([5, 200, 200])\n",
            "shape of out: torch.Size([5, 3, 200, 200]), shape of labels:torch.Size([5, 200, 200])\n",
            "shape of out: torch.Size([5, 3, 200, 200]), shape of labels:torch.Size([5, 200, 200])\n",
            "shape of out: torch.Size([5, 3, 200, 200]), shape of labels:torch.Size([5, 200, 200])\n",
            "shape of out: torch.Size([5, 3, 200, 200]), shape of labels:torch.Size([5, 200, 200])\n",
            "shape of out: torch.Size([5, 3, 200, 200]), shape of labels:torch.Size([5, 200, 200])\n",
            "shape of out: torch.Size([5, 3, 200, 200]), shape of labels:torch.Size([5, 200, 200])\n",
            "shape of out: torch.Size([5, 3, 200, 200]), shape of labels:torch.Size([5, 200, 200])\n",
            "shape of out: torch.Size([5, 3, 200, 200]), shape of labels:torch.Size([5, 200, 200])\n",
            "shape of out: torch.Size([5, 3, 200, 200]), shape of labels:torch.Size([5, 200, 200])\n",
            "shape of out: torch.Size([5, 3, 200, 200]), shape of labels:torch.Size([5, 200, 200])\n",
            "shape of out: torch.Size([5, 3, 200, 200]), shape of labels:torch.Size([5, 200, 200])\n",
            "shape of out: torch.Size([5, 3, 200, 200]), shape of labels:torch.Size([5, 200, 200])\n",
            "shape of out: torch.Size([5, 3, 200, 200]), shape of labels:torch.Size([5, 200, 200])\n",
            "shape of out: torch.Size([5, 3, 200, 200]), shape of labels:torch.Size([5, 200, 200])\n",
            "shape of out: torch.Size([5, 3, 200, 200]), shape of labels:torch.Size([5, 200, 200])\n",
            "shape of out: torch.Size([5, 3, 200, 200]), shape of labels:torch.Size([5, 200, 200])\n",
            "shape of out: torch.Size([5, 3, 200, 200]), shape of labels:torch.Size([5, 200, 200])\n",
            "shape of out: torch.Size([5, 3, 200, 200]), shape of labels:torch.Size([5, 200, 200])\n",
            "shape of out: torch.Size([5, 3, 200, 200]), shape of labels:torch.Size([5, 200, 200])\n",
            "shape of out: torch.Size([5, 3, 200, 200]), shape of labels:torch.Size([5, 200, 200])\n",
            "shape of out: torch.Size([5, 3, 200, 200]), shape of labels:torch.Size([5, 200, 200])\n",
            "shape of out: torch.Size([5, 3, 200, 200]), shape of labels:torch.Size([5, 200, 200])\n",
            "shape of out: torch.Size([5, 3, 200, 200]), shape of labels:torch.Size([5, 200, 200])\n",
            "shape of out: torch.Size([5, 3, 200, 200]), shape of labels:torch.Size([5, 200, 200])\n",
            "shape of out: torch.Size([5, 3, 200, 200]), shape of labels:torch.Size([5, 200, 200])\n",
            "shape of out: torch.Size([5, 3, 200, 200]), shape of labels:torch.Size([5, 200, 200])\n",
            "shape of out: torch.Size([5, 3, 200, 200]), shape of labels:torch.Size([5, 200, 200])\n",
            "shape of out: torch.Size([5, 3, 200, 200]), shape of labels:torch.Size([5, 200, 200])\n",
            "shape of out: torch.Size([5, 3, 200, 200]), shape of labels:torch.Size([5, 200, 200])\n",
            "shape of out: torch.Size([5, 3, 200, 200]), shape of labels:torch.Size([5, 200, 200])\n",
            "shape of out: torch.Size([5, 3, 200, 200]), shape of labels:torch.Size([5, 200, 200])\n",
            "shape of out: torch.Size([5, 3, 200, 200]), shape of labels:torch.Size([5, 200, 200])\n",
            "shape of out: torch.Size([5, 3, 200, 200]), shape of labels:torch.Size([5, 200, 200])\n",
            "shape of out: torch.Size([5, 3, 200, 200]), shape of labels:torch.Size([5, 200, 200])\n",
            "shape of out: torch.Size([5, 3, 200, 200]), shape of labels:torch.Size([5, 200, 200])\n",
            "shape of out: torch.Size([5, 3, 200, 200]), shape of labels:torch.Size([5, 200, 200])\n",
            "shape of out: torch.Size([5, 3, 200, 200]), shape of labels:torch.Size([5, 200, 200])\n",
            "shape of out: torch.Size([5, 3, 200, 200]), shape of labels:torch.Size([5, 200, 200])\n",
            "shape of out: torch.Size([5, 3, 200, 200]), shape of labels:torch.Size([5, 200, 200])\n",
            "shape of out: torch.Size([5, 3, 200, 200]), shape of labels:torch.Size([5, 200, 200])\n",
            "shape of out: torch.Size([5, 3, 200, 200]), shape of labels:torch.Size([5, 200, 200])\n",
            "shape of out: torch.Size([5, 3, 200, 200]), shape of labels:torch.Size([5, 200, 200])\n",
            "shape of out: torch.Size([5, 3, 200, 200]), shape of labels:torch.Size([5, 200, 200])\n",
            "shape of out: torch.Size([5, 3, 200, 200]), shape of labels:torch.Size([5, 200, 200])\n",
            "shape of out: torch.Size([5, 3, 200, 200]), shape of labels:torch.Size([5, 200, 200])\n",
            "shape of out: torch.Size([5, 3, 200, 200]), shape of labels:torch.Size([5, 200, 200])\n",
            "shape of out: torch.Size([5, 3, 200, 200]), shape of labels:torch.Size([5, 200, 200])\n",
            "shape of out: torch.Size([5, 3, 200, 200]), shape of labels:torch.Size([5, 200, 200])\n",
            "shape of out: torch.Size([5, 3, 200, 200]), shape of labels:torch.Size([5, 200, 200])\n",
            "shape of out: torch.Size([5, 3, 200, 200]), shape of labels:torch.Size([5, 200, 200])\n",
            "shape of out: torch.Size([5, 3, 200, 200]), shape of labels:torch.Size([5, 200, 200])\n",
            "shape of out: torch.Size([5, 3, 200, 200]), shape of labels:torch.Size([5, 200, 200])\n",
            "shape of out: torch.Size([5, 3, 200, 200]), shape of labels:torch.Size([5, 200, 200])\n",
            "shape of out: torch.Size([5, 3, 200, 200]), shape of labels:torch.Size([5, 200, 200])\n",
            "shape of out: torch.Size([5, 3, 200, 200]), shape of labels:torch.Size([5, 200, 200])\n",
            "shape of out: torch.Size([5, 3, 200, 200]), shape of labels:torch.Size([5, 200, 200])\n",
            "shape of out: torch.Size([5, 3, 200, 200]), shape of labels:torch.Size([5, 200, 200])\n",
            "shape of out: torch.Size([5, 3, 200, 200]), shape of labels:torch.Size([5, 200, 200])\n",
            "shape of out: torch.Size([5, 3, 200, 200]), shape of labels:torch.Size([5, 200, 200])\n",
            "shape of out: torch.Size([5, 3, 200, 200]), shape of labels:torch.Size([5, 200, 200])\n",
            "shape of out: torch.Size([5, 3, 200, 200]), shape of labels:torch.Size([5, 200, 200])\n",
            "shape of out: torch.Size([5, 3, 200, 200]), shape of labels:torch.Size([5, 200, 200])\n",
            "shape of out: torch.Size([5, 3, 200, 200]), shape of labels:torch.Size([5, 200, 200])\n",
            "shape of out: torch.Size([5, 3, 200, 200]), shape of labels:torch.Size([5, 200, 200])\n",
            "shape of out: torch.Size([5, 3, 200, 200]), shape of labels:torch.Size([5, 200, 200])\n",
            "shape of out: torch.Size([5, 3, 200, 200]), shape of labels:torch.Size([5, 200, 200])\n",
            "shape of out: torch.Size([5, 3, 200, 200]), shape of labels:torch.Size([5, 200, 200])\n",
            "shape of out: torch.Size([5, 3, 200, 200]), shape of labels:torch.Size([5, 200, 200])\n",
            "shape of out: torch.Size([5, 3, 200, 200]), shape of labels:torch.Size([5, 200, 200])\n",
            "shape of out: torch.Size([5, 3, 200, 200]), shape of labels:torch.Size([5, 200, 200])\n",
            "shape of out: torch.Size([5, 3, 200, 200]), shape of labels:torch.Size([5, 200, 200])\n",
            "shape of out: torch.Size([5, 3, 200, 200]), shape of labels:torch.Size([5, 200, 200])\n",
            "shape of out: torch.Size([5, 3, 200, 200]), shape of labels:torch.Size([5, 200, 200])\n",
            "shape of out: torch.Size([5, 3, 200, 200]), shape of labels:torch.Size([5, 200, 200])\n",
            "shape of out: torch.Size([5, 3, 200, 200]), shape of labels:torch.Size([5, 200, 200])\n",
            "shape of out: torch.Size([5, 3, 200, 200]), shape of labels:torch.Size([5, 200, 200])\n",
            "shape of out: torch.Size([5, 3, 200, 200]), shape of labels:torch.Size([5, 200, 200])\n",
            "shape of out: torch.Size([5, 3, 200, 200]), shape of labels:torch.Size([5, 200, 200])\n",
            "shape of out: torch.Size([5, 3, 200, 200]), shape of labels:torch.Size([5, 200, 200])\n",
            "shape of out: torch.Size([5, 3, 200, 200]), shape of labels:torch.Size([5, 200, 200])\n",
            "shape of out: torch.Size([5, 3, 200, 200]), shape of labels:torch.Size([5, 200, 200])\n",
            "shape of out: torch.Size([5, 3, 200, 200]), shape of labels:torch.Size([5, 200, 200])\n",
            "shape of out: torch.Size([5, 3, 200, 200]), shape of labels:torch.Size([5, 200, 200])\n",
            "shape of out: torch.Size([5, 3, 200, 200]), shape of labels:torch.Size([5, 200, 200])\n",
            "shape of out: torch.Size([5, 3, 200, 200]), shape of labels:torch.Size([5, 200, 200])\n",
            "shape of out: torch.Size([5, 3, 200, 200]), shape of labels:torch.Size([5, 200, 200])\n",
            "shape of out: torch.Size([5, 3, 200, 200]), shape of labels:torch.Size([5, 200, 200])\n",
            "shape of out: torch.Size([5, 3, 200, 200]), shape of labels:torch.Size([5, 200, 200])\n",
            "shape of out: torch.Size([5, 3, 200, 200]), shape of labels:torch.Size([5, 200, 200])\n",
            "shape of out: torch.Size([5, 3, 200, 200]), shape of labels:torch.Size([5, 200, 200])\n",
            "shape of out: torch.Size([5, 3, 200, 200]), shape of labels:torch.Size([5, 200, 200])\n",
            "shape of out: torch.Size([5, 3, 200, 200]), shape of labels:torch.Size([5, 200, 200])\n",
            "shape of out: torch.Size([5, 3, 200, 200]), shape of labels:torch.Size([5, 200, 200])\n",
            "shape of out: torch.Size([5, 3, 200, 200]), shape of labels:torch.Size([5, 200, 200])\n",
            "shape of out: torch.Size([5, 3, 200, 200]), shape of labels:torch.Size([5, 200, 200])\n",
            "shape of out: torch.Size([5, 3, 200, 200]), shape of labels:torch.Size([5, 200, 200])\n",
            "shape of out: torch.Size([5, 3, 200, 200]), shape of labels:torch.Size([5, 200, 200])\n",
            "shape of out: torch.Size([5, 3, 200, 200]), shape of labels:torch.Size([5, 200, 200])\n",
            "shape of out: torch.Size([5, 3, 200, 200]), shape of labels:torch.Size([5, 200, 200])\n",
            "shape of out: torch.Size([5, 3, 200, 200]), shape of labels:torch.Size([5, 200, 200])\n",
            "shape of out: torch.Size([5, 3, 200, 200]), shape of labels:torch.Size([5, 200, 200])\n",
            "shape of out: torch.Size([5, 3, 200, 200]), shape of labels:torch.Size([5, 200, 200])\n",
            "shape of out: torch.Size([5, 3, 200, 200]), shape of labels:torch.Size([5, 200, 200])\n",
            "shape of out: torch.Size([5, 3, 200, 200]), shape of labels:torch.Size([5, 200, 200])\n",
            "shape of out: torch.Size([5, 3, 200, 200]), shape of labels:torch.Size([5, 200, 200])\n",
            "shape of out: torch.Size([5, 3, 200, 200]), shape of labels:torch.Size([5, 200, 200])\n",
            "shape of out: torch.Size([5, 3, 200, 200]), shape of labels:torch.Size([5, 200, 200])\n",
            "shape of out: torch.Size([5, 3, 200, 200]), shape of labels:torch.Size([5, 200, 200])\n",
            "shape of out: torch.Size([5, 3, 200, 200]), shape of labels:torch.Size([5, 200, 200])\n",
            "shape of out: torch.Size([5, 3, 200, 200]), shape of labels:torch.Size([5, 200, 200])\n",
            "shape of out: torch.Size([5, 3, 200, 200]), shape of labels:torch.Size([5, 200, 200])\n",
            "shape of out: torch.Size([5, 3, 200, 200]), shape of labels:torch.Size([5, 200, 200])\n",
            "shape of out: torch.Size([5, 3, 200, 200]), shape of labels:torch.Size([5, 200, 200])\n",
            "shape of out: torch.Size([5, 3, 200, 200]), shape of labels:torch.Size([5, 200, 200])\n",
            "shape of out: torch.Size([5, 3, 200, 200]), shape of labels:torch.Size([5, 200, 200])\n",
            "shape of out: torch.Size([5, 3, 200, 200]), shape of labels:torch.Size([5, 200, 200])\n",
            "shape of out: torch.Size([5, 3, 200, 200]), shape of labels:torch.Size([5, 200, 200])\n",
            "shape of out: torch.Size([5, 3, 200, 200]), shape of labels:torch.Size([5, 200, 200])\n",
            "shape of out: torch.Size([5, 3, 200, 200]), shape of labels:torch.Size([5, 200, 200])\n",
            "shape of out: torch.Size([5, 3, 200, 200]), shape of labels:torch.Size([5, 200, 200])\n",
            "shape of out: torch.Size([5, 3, 200, 200]), shape of labels:torch.Size([5, 200, 200])\n",
            "shape of out: torch.Size([5, 3, 200, 200]), shape of labels:torch.Size([5, 200, 200])\n",
            "shape of out: torch.Size([5, 3, 200, 200]), shape of labels:torch.Size([5, 200, 200])\n",
            "shape of out: torch.Size([5, 3, 200, 200]), shape of labels:torch.Size([5, 200, 200])\n",
            "shape of out: torch.Size([5, 3, 200, 200]), shape of labels:torch.Size([5, 200, 200])\n",
            "shape of out: torch.Size([5, 3, 200, 200]), shape of labels:torch.Size([5, 200, 200])\n",
            "shape of out: torch.Size([5, 3, 200, 200]), shape of labels:torch.Size([5, 200, 200])\n",
            "shape of out: torch.Size([5, 3, 200, 200]), shape of labels:torch.Size([5, 200, 200])\n",
            "shape of out: torch.Size([5, 3, 200, 200]), shape of labels:torch.Size([5, 200, 200])\n",
            "shape of out: torch.Size([5, 3, 200, 200]), shape of labels:torch.Size([5, 200, 200])\n",
            "shape of out: torch.Size([5, 3, 200, 200]), shape of labels:torch.Size([5, 200, 200])\n",
            "shape of out: torch.Size([5, 3, 200, 200]), shape of labels:torch.Size([5, 200, 200])\n",
            "shape of out: torch.Size([5, 3, 200, 200]), shape of labels:torch.Size([5, 200, 200])\n",
            "shape of out: torch.Size([5, 3, 200, 200]), shape of labels:torch.Size([5, 200, 200])\n",
            "shape of out: torch.Size([5, 3, 200, 200]), shape of labels:torch.Size([5, 200, 200])\n",
            "shape of out: torch.Size([5, 3, 200, 200]), shape of labels:torch.Size([5, 200, 200])\n",
            "shape of out: torch.Size([5, 3, 200, 200]), shape of labels:torch.Size([5, 200, 200])\n",
            "shape of out: torch.Size([5, 3, 200, 200]), shape of labels:torch.Size([5, 200, 200])\n",
            "shape of out: torch.Size([5, 3, 200, 200]), shape of labels:torch.Size([5, 200, 200])\n",
            "shape of out: torch.Size([5, 3, 200, 200]), shape of labels:torch.Size([5, 200, 200])\n",
            "shape of out: torch.Size([5, 3, 200, 200]), shape of labels:torch.Size([5, 200, 200])\n",
            "shape of out: torch.Size([5, 3, 200, 200]), shape of labels:torch.Size([5, 200, 200])\n",
            "shape of out: torch.Size([5, 3, 200, 200]), shape of labels:torch.Size([5, 200, 200])\n",
            "shape of out: torch.Size([5, 3, 200, 200]), shape of labels:torch.Size([5, 200, 200])\n",
            "shape of out: torch.Size([5, 3, 200, 200]), shape of labels:torch.Size([5, 200, 200])\n",
            "shape of out: torch.Size([5, 3, 200, 200]), shape of labels:torch.Size([5, 200, 200])\n",
            "shape of out: torch.Size([5, 3, 200, 200]), shape of labels:torch.Size([5, 200, 200])\n",
            "shape of out: torch.Size([5, 3, 200, 200]), shape of labels:torch.Size([5, 200, 200])\n",
            "shape of out: torch.Size([5, 3, 200, 200]), shape of labels:torch.Size([5, 200, 200])\n",
            "shape of out: torch.Size([5, 3, 200, 200]), shape of labels:torch.Size([5, 200, 200])\n",
            "shape of out: torch.Size([5, 3, 200, 200]), shape of labels:torch.Size([5, 200, 200])\n",
            "shape of out: torch.Size([5, 3, 200, 200]), shape of labels:torch.Size([5, 200, 200])\n",
            "shape of out: torch.Size([5, 3, 200, 200]), shape of labels:torch.Size([5, 200, 200])\n",
            "shape of out: torch.Size([5, 3, 200, 200]), shape of labels:torch.Size([5, 200, 200])\n",
            "shape of out: torch.Size([5, 3, 200, 200]), shape of labels:torch.Size([5, 200, 200])\n",
            "shape of out: torch.Size([5, 3, 200, 200]), shape of labels:torch.Size([5, 200, 200])\n",
            "shape of out: torch.Size([5, 3, 200, 200]), shape of labels:torch.Size([5, 200, 200])\n",
            "shape of out: torch.Size([5, 3, 200, 200]), shape of labels:torch.Size([5, 200, 200])\n",
            "shape of out: torch.Size([5, 3, 200, 200]), shape of labels:torch.Size([5, 200, 200])\n",
            "shape of out: torch.Size([5, 3, 200, 200]), shape of labels:torch.Size([5, 200, 200])\n",
            "shape of out: torch.Size([5, 3, 200, 200]), shape of labels:torch.Size([5, 200, 200])\n",
            "shape of out: torch.Size([5, 3, 200, 200]), shape of labels:torch.Size([5, 200, 200])\n",
            "shape of out: torch.Size([5, 3, 200, 200]), shape of labels:torch.Size([5, 200, 200])\n",
            "shape of out: torch.Size([5, 3, 200, 200]), shape of labels:torch.Size([5, 200, 200])\n",
            "shape of out: torch.Size([5, 3, 200, 200]), shape of labels:torch.Size([5, 200, 200])\n",
            "shape of out: torch.Size([5, 3, 200, 200]), shape of labels:torch.Size([5, 200, 200])\n",
            "shape of out: torch.Size([5, 3, 200, 200]), shape of labels:torch.Size([5, 200, 200])\n",
            "shape of out: torch.Size([5, 3, 200, 200]), shape of labels:torch.Size([5, 200, 200])\n",
            "shape of out: torch.Size([5, 3, 200, 200]), shape of labels:torch.Size([5, 200, 200])\n",
            "shape of out: torch.Size([5, 3, 200, 200]), shape of labels:torch.Size([5, 200, 200])\n",
            "shape of out: torch.Size([5, 3, 200, 200]), shape of labels:torch.Size([5, 200, 200])\n",
            "shape of out: torch.Size([5, 3, 200, 200]), shape of labels:torch.Size([5, 200, 200])\n",
            "shape of out: torch.Size([5, 3, 200, 200]), shape of labels:torch.Size([5, 200, 200])\n",
            "shape of out: torch.Size([5, 3, 200, 200]), shape of labels:torch.Size([5, 200, 200])\n",
            "shape of out: torch.Size([5, 3, 200, 200]), shape of labels:torch.Size([5, 200, 200])\n",
            "shape of out: torch.Size([5, 3, 200, 200]), shape of labels:torch.Size([5, 200, 200])\n",
            "shape of out: torch.Size([5, 3, 200, 200]), shape of labels:torch.Size([5, 200, 200])\n",
            "shape of out: torch.Size([5, 3, 200, 200]), shape of labels:torch.Size([5, 200, 200])\n",
            "shape of out: torch.Size([5, 3, 200, 200]), shape of labels:torch.Size([5, 200, 200])\n",
            "shape of out: torch.Size([5, 3, 200, 200]), shape of labels:torch.Size([5, 200, 200])\n",
            "shape of out: torch.Size([5, 3, 200, 200]), shape of labels:torch.Size([5, 200, 200])\n",
            "shape of out: torch.Size([5, 3, 200, 200]), shape of labels:torch.Size([5, 200, 200])\n",
            "shape of out: torch.Size([5, 3, 200, 200]), shape of labels:torch.Size([5, 200, 200])\n",
            "shape of out: torch.Size([5, 3, 200, 200]), shape of labels:torch.Size([5, 200, 200])\n",
            "shape of out: torch.Size([5, 3, 200, 200]), shape of labels:torch.Size([5, 200, 200])\n",
            "shape of out: torch.Size([5, 3, 200, 200]), shape of labels:torch.Size([5, 200, 200])\n",
            "shape of out: torch.Size([5, 3, 200, 200]), shape of labels:torch.Size([5, 200, 200])\n",
            "shape of out: torch.Size([5, 3, 200, 200]), shape of labels:torch.Size([5, 200, 200])\n",
            "shape of out: torch.Size([5, 3, 200, 200]), shape of labels:torch.Size([5, 200, 200])\n",
            "shape of out: torch.Size([5, 3, 200, 200]), shape of labels:torch.Size([5, 200, 200])\n",
            "shape of out: torch.Size([5, 3, 200, 200]), shape of labels:torch.Size([5, 200, 200])\n",
            "shape of out: torch.Size([5, 3, 200, 200]), shape of labels:torch.Size([5, 200, 200])\n",
            "shape of out: torch.Size([5, 3, 200, 200]), shape of labels:torch.Size([5, 200, 200])\n",
            "shape of out: torch.Size([5, 3, 200, 200]), shape of labels:torch.Size([5, 200, 200])\n",
            "shape of out: torch.Size([5, 3, 200, 200]), shape of labels:torch.Size([5, 200, 200])\n",
            "shape of out: torch.Size([5, 3, 200, 200]), shape of labels:torch.Size([5, 200, 200])\n",
            "shape of out: torch.Size([5, 3, 200, 200]), shape of labels:torch.Size([5, 200, 200])\n",
            "shape of out: torch.Size([5, 3, 200, 200]), shape of labels:torch.Size([5, 200, 200])\n",
            "shape of out: torch.Size([5, 3, 200, 200]), shape of labels:torch.Size([5, 200, 200])\n",
            "shape of out: torch.Size([5, 3, 200, 200]), shape of labels:torch.Size([5, 200, 200])\n",
            "shape of out: torch.Size([5, 3, 200, 200]), shape of labels:torch.Size([5, 200, 200])\n",
            "shape of out: torch.Size([5, 3, 200, 200]), shape of labels:torch.Size([5, 200, 200])\n",
            "shape of out: torch.Size([5, 3, 200, 200]), shape of labels:torch.Size([5, 200, 200])\n",
            "shape of out: torch.Size([5, 3, 200, 200]), shape of labels:torch.Size([5, 200, 200])\n",
            "shape of out: torch.Size([5, 3, 200, 200]), shape of labels:torch.Size([5, 200, 200])\n",
            "shape of out: torch.Size([5, 3, 200, 200]), shape of labels:torch.Size([5, 200, 200])\n",
            "shape of out: torch.Size([5, 3, 200, 200]), shape of labels:torch.Size([5, 200, 200])\n"
          ]
        }
      ],
      "source": [
        "m.load_state_dict(init_state_dict)\n",
        "\n",
        "optimizer = Adam(m.parameters(), lr=0.005)\n",
        "\n",
        "loss_plot = []\n",
        "iou_plot = []\n",
        "\n",
        "for iter in tqdm(range(1000)):\n",
        "    optimizer.zero_grad()\n",
        "    out = m(feats)\n",
        "    out = F.softmax(out, dim=1)\n",
        "    print(f\"shape of out: {out.shape}, shape of labels:{labels.shape}\")\n",
        "    loss = L.lovasz_softmax(out, labels, ignore=255)\n",
        "    loss.backward()\n",
        "    optimizer.step()\n",
        "\n",
        "    _, preds = out.data.max(1)\n",
        "    loss_plot.append(loss.item())\n",
        "    iou_plot.append(L.iou_binary(preds, labels, ignore=255, per_image=False))"
      ]
    },
    {
      "cell_type": "code",
      "execution_count": 50,
      "metadata": {
        "ExecuteTime": {
          "end_time": "2019-02-26T15:33:56.631835Z",
          "start_time": "2019-02-26T15:33:56.360155Z"
        },
        "id": "mh8bLpD1WBHE",
        "outputId": "e969d179-04df-45f9-d232-a668344c1f91",
        "colab": {
          "base_uri": "https://localhost:8080/",
          "height": 532
        }
      },
      "outputs": [
        {
          "output_type": "execute_result",
          "data": {
            "text/plain": [
              "Text(0.5, 0, 'iteration')"
            ]
          },
          "metadata": {},
          "execution_count": 50
        },
        {
          "output_type": "display_data",
          "data": {
            "text/plain": [
              "<Figure size 1000x500 with 2 Axes>"
            ],
            "image/png": "[encoded data removed]"
          },
          "metadata": {}
        }
      ],
      "source": [
        "plt.figure(figsize=(10, 5))\n",
        "plt.suptitle(u'Lovász-Softmax training')\n",
        "plt.subplot(1, 2, 1)\n",
        "plt.plot(loss_plot)\n",
        "plt.ylabel('loss')\n",
        "plt.xlabel('iteration')\n",
        "\n",
        "plt.subplot(1, 2, 2)\n",
        "plt.plot(iou_plot)\n",
        "plt.ylabel('Image-IoU (%)')\n",
        "plt.xlabel('iteration')"
      ]
    },
    {
      "cell_type": "markdown",
      "metadata": {
        "id": "wxuo3SYDWBHF"
      },
      "source": [
        "### Final prediction"
      ]
    },
    {
      "cell_type": "code",
      "execution_count": 51,
      "metadata": {
        "ExecuteTime": {
          "end_time": "2019-02-26T15:33:56.648307Z",
          "start_time": "2019-02-26T15:33:56.632884Z"
        },
        "id": "8NDCRt_wWBHG",
        "outputId": "755f71ec-8b6d-487b-ad20-56ad43a1a32a",
        "colab": {
          "base_uri": "https://localhost:8080/"
        }
      },
      "outputs": [
        {
          "output_type": "stream",
          "name": "stdout",
          "text": [
            "Final batch-IoUs: [87.49447582 45.21107417 30.29456031]\n",
            "Final mIoU: 54.33337009949821\n"
          ]
        }
      ],
      "source": [
        "_, preds = m(feats).data.max(1)\n",
        "print(\"Final batch-IoUs:\", L.iou(preds, labels, C, ignore=255, per_image=False))\n",
        "print(\"Final mIoU:\", np.mean(L.iou(preds, labels, C, ignore=255, per_image=False)))"
      ]
    },
    {
      "cell_type": "code",
      "source": [
        "a = m(feats)\n",
        "print(f\"shape of pred using lovasz softmax: {a.shape}\")"
      ],
      "metadata": {
        "id": "6C92DZ64j00x",
        "outputId": "7bf20d8a-208e-4a2d-a635-01f599015005",
        "colab": {
          "base_uri": "https://localhost:8080/"
        }
      },
      "execution_count": 53,
      "outputs": [
        {
          "output_type": "stream",
          "name": "stdout",
          "text": [
            "shape of pred using lovasz softmax: torch.Size([5, 3, 200, 200])\n"
          ]
        }
      ]
    },
    {
      "cell_type": "code",
      "execution_count": 24,
      "metadata": {
        "ExecuteTime": {
          "end_time": "2019-02-26T15:33:56.692385Z",
          "start_time": "2019-02-26T15:33:56.649951Z"
        },
        "id": "2rAwn4AbWBHG",
        "outputId": "b1e7b20c-e6a3-4124-f83c-d75e33a7a55c",
        "colab": {
          "base_uri": "https://localhost:8080/",
          "height": 222
        }
      },
      "outputs": [
        {
          "output_type": "execute_result",
          "data": {
            "text/plain": [
              "<PIL.Image.Image image mode=RGB size=1005x205>"
            ],
            "image/png": "[encoded data removed]"
          },
          "metadata": {},
          "execution_count": 24
        }
      ],
      "source": [
        "pil_grid([pil(f.byte().cpu().numpy()) for f in preds], 5, margin=1)"
      ]
    },
    {
      "cell_type": "markdown",
      "metadata": {
        "id": "ST3VK030WBHH"
      },
      "source": [
        "## Cross-entropy training"
      ]
    },
    {
      "cell_type": "code",
      "execution_count": 25,
      "metadata": {
        "ExecuteTime": {
          "end_time": "2019-02-26T15:33:58.069288Z",
          "start_time": "2019-02-26T15:33:56.694412Z"
        },
        "id": "m0DZEHElWBHI",
        "outputId": "06845b1a-e318-421b-e143-7b5167e34ede",
        "colab": {
          "base_uri": "https://localhost:8080/",
          "height": 101,
          "referenced_widgets": [
            "5f90a8ad7f454612bfb18743b34bc904",
            "6d2b3e5603064b77ac4e0243ca63899c",
            "1f79398b74c948c798cbd84a7ce2e438",
            "169ea2d3e21b4a4f80b84604ce220d0b",
            "5548725eba6d473d831a8f556cbf09f6",
            "f9eaa74a1099425789bffc741c1a4797",
            "94e3baef885040f7ad01175752c21a94",
            "7c0f1e47b885410e84513eef08fcec36",
            "b488a13e03ea43a3bb2c7bcb25d4840b",
            "1b3876f3598f4affb3afadcef3068189",
            "568087cf82ae48478c196e272f9d4c59"
          ]
        }
      },
      "outputs": [
        {
          "output_type": "stream",
          "name": "stderr",
          "text": [
            "<ipython-input-25-85e610be09aa>:8: TqdmDeprecationWarning: This function will be removed in tqdm==5.0.0\n",
            "Please use `tqdm.notebook.tqdm` instead of `tqdm.tqdm_notebook`\n",
            "  for iter in tqdm(range(1000)):\n"
          ]
        },
        {
          "output_type": "display_data",
          "data": {
            "text/plain": [
              "  0%|          | 0/1000 [00:00<?, ?it/s]"
            ],
            "application/vnd.jupyter.widget-view+json": {
              "version_major": 2,
              "version_minor": 0,
              "model_id": "5f90a8ad7f454612bfb18743b34bc904"
            }
          },
          "metadata": {}
        }
      ],
      "source": [
        "m.load_state_dict(init_state_dict)\n",
        "\n",
        "optimizer = Adam(m.parameters(), lr=0.005)\n",
        "\n",
        "loss_plot_x = []\n",
        "iou_plot_x = []\n",
        "\n",
        "for iter in tqdm(range(1000)):\n",
        "    optimizer.zero_grad()\n",
        "    out = m(feats)\n",
        "    loss = L.xloss(out, labels, ignore=255)\n",
        "    loss.backward()\n",
        "    optimizer.step()\n",
        "\n",
        "    _, preds = out.data.max(1)\n",
        "    loss_plot_x.append(loss.item())\n",
        "    iou_plot_x.append(L.iou_binary(preds, labels, ignore=255, per_image=False))"
      ]
    },
    {
      "cell_type": "code",
      "execution_count": 26,
      "metadata": {
        "ExecuteTime": {
          "end_time": "2019-02-26T15:33:58.283458Z",
          "start_time": "2019-02-26T15:33:58.070549Z"
        },
        "id": "-aI0kZWMWBHK",
        "outputId": "53c35e0a-0f2f-4883-9c71-9f9262029e0d",
        "colab": {
          "base_uri": "https://localhost:8080/",
          "height": 532
        }
      },
      "outputs": [
        {
          "output_type": "execute_result",
          "data": {
            "text/plain": [
              "Text(0.5, 0, 'iteration')"
            ]
          },
          "metadata": {},
          "execution_count": 26
        },
        {
          "output_type": "display_data",
          "data": {
            "text/plain": [
              "<Figure size 1000x500 with 2 Axes>"
            ],
            "image/png": "[encoded data removed]"
          },
          "metadata": {}
        }
      ],
      "source": [
        "plt.figure(figsize=(10, 5))\n",
        "plt.suptitle(u'Binary cross-entropy training')\n",
        "plt.subplot(1, 2, 1)\n",
        "plt.plot(loss_plot_x)\n",
        "plt.ylabel('loss')\n",
        "plt.xlabel('iteration')\n",
        "\n",
        "plt.subplot(1, 2, 2)\n",
        "plt.plot(iou_plot_x)\n",
        "plt.ylabel('Image-IoU (%)')\n",
        "plt.xlabel('iteration')"
      ]
    },
    {
      "cell_type": "markdown",
      "metadata": {
        "id": "A6N4tbgQWBHL"
      },
      "source": [
        "### Final prediction"
      ]
    },
    {
      "cell_type": "code",
      "execution_count": 27,
      "metadata": {
        "ExecuteTime": {
          "end_time": "2019-02-26T15:33:58.304004Z",
          "start_time": "2019-02-26T15:33:58.284925Z"
        },
        "id": "DhdN5-ERWBHL",
        "outputId": "7d624fca-01c9-4cf3-e749-446e46a37b44",
        "colab": {
          "base_uri": "https://localhost:8080/"
        }
      },
      "outputs": [
        {
          "output_type": "stream",
          "name": "stdout",
          "text": [
            "Final batch-IoUs: [88.60824438 41.34252687 27.35310896]\n",
            "Final mIoU: 52.4346267365811\n"
          ]
        }
      ],
      "source": [
        "_, preds = m(feats).data.max(1)\n",
        "print(\"Final batch-IoUs:\", L.iou(preds, labels, C, ignore=255, per_image=False))\n",
        "print(\"Final mIoU:\", np.mean(L.iou(preds, labels, C, ignore=255, per_image=False)))"
      ]
    },
    {
      "cell_type": "code",
      "execution_count": 28,
      "metadata": {
        "ExecuteTime": {
          "end_time": "2019-02-26T15:33:58.350620Z",
          "start_time": "2019-02-26T15:33:58.305850Z"
        },
        "id": "8A1HOE0sWBHM",
        "outputId": "681f8f47-3588-43b9-8536-23f5f717d5a8",
        "colab": {
          "base_uri": "https://localhost:8080/",
          "height": 222
        }
      },
      "outputs": [
        {
          "output_type": "execute_result",
          "data": {
            "text/plain": [
              "<PIL.Image.Image image mode=RGB size=1005x205>"
            ],
            "image/png": "[encoded data removed]"
          },
          "metadata": {},
          "execution_count": 28
        }
      ],
      "source": [
        "pil_grid([pil(f.byte().cpu().numpy()) for f in preds], 5, margin=1)"
      ]
    },
    {
      "cell_type": "code",
      "execution_count": null,
      "metadata": {
        "collapsed": true,
        "id": "qEVsUVTeWBHM"
      },
      "outputs": [],
      "source": [
        "shape_pred = m(feats)\n"
      ]
    }
  ],
  "metadata": {
    "anaconda-cloud": {},
    "kernelspec": {
      "display_name": "Python [conda env:lamlearn]",
      "language": "python",
      "name": "conda-env-lamlearn-py"
    },
    "language_info": {
      "codemirror_mode": {
        "name": "ipython",
        "version": 3
      },
      "file_extension": ".py",
      "mimetype": "text/x-python",
      "name": "python",
      "nbconvert_exporter": "python",
      "pygments_lexer": "ipython3",
      "version": "3.6.8"
    },
    "latex_envs": {
      "LaTeX_envs_menu_present": true,
      "autoclose": false,
      "autocomplete": true,
      "bibliofile": "biblio.bib",
      "cite_by": "apalike",
      "current_citInitial": 1,
      "eqLabelWithNumbers": true,
      "eqNumInitial": 1,
      "hotkeys": {
        "equation": "Ctrl-E",
        "itemize": "Ctrl-I"
      },
      "labels_anchors": false,
      "latex_user_defs": false,
      "report_style_numbering": false,
      "user_envs_cfg": false
    },
    "colab": {
      "provenance": []
    },
    "widgets": {
      "application/vnd.jupyter.widget-state+json": {
        "35208632168b4541bb08fff56acd3ede": {
          "model_module": "@jupyter-widgets/controls",
          "model_name": "HBoxModel",
          "model_module_version": "1.5.0",
          "state": {
            "_dom_classes": [],
            "_model_module": "@jupyter-widgets/controls",
            "_model_module_version": "1.5.0",
            "_model_name": "HBoxModel",
            "_view_count": null,
            "_view_module": "@jupyter-widgets/controls",
            "_view_module_version": "1.5.0",
            "_view_name": "HBoxView",
            "box_style": "",
            "children": [
              "IPY_MODEL_1c13c00f207647a78c370506b3684e36",
              "IPY_MODEL_ced3ed79102441f5bb7266bcf81fd2e7",
              "IPY_MODEL_5aab4001b0b547aeb01382a2361f20f1"
            ],
            "layout": "IPY_MODEL_7e3a140cb12941e9874f69529c9c5a93"
          }
        },
        "1c13c00f207647a78c370506b3684e36": {
          "model_module": "@jupyter-widgets/controls",
          "model_name": "HTMLModel",
          "model_module_version": "1.5.0",
          "state": {
            "_dom_classes": [],
            "_model_module": "@jupyter-widgets/controls",
            "_model_module_version": "1.5.0",
            "_model_name": "HTMLModel",
            "_view_count": null,
            "_view_module": "@jupyter-widgets/controls",
            "_view_module_version": "1.5.0",
            "_view_name": "HTMLView",
            "description": "",
            "description_tooltip": null,
            "layout": "IPY_MODEL_0040b2692fdf4c1d81737f6931f2fa02",
            "placeholder": "​",
            "style": "IPY_MODEL_be49f49e160c4d6eb7c1b2629633a38b",
            "value": "100%"
          }
        },
        "ced3ed79102441f5bb7266bcf81fd2e7": {
          "model_module": "@jupyter-widgets/controls",
          "model_name": "FloatProgressModel",
          "model_module_version": "1.5.0",
          "state": {
            "_dom_classes": [],
            "_model_module": "@jupyter-widgets/controls",
            "_model_module_version": "1.5.0",
            "_model_name": "FloatProgressModel",
            "_view_count": null,
            "_view_module": "@jupyter-widgets/controls",
            "_view_module_version": "1.5.0",
            "_view_name": "ProgressView",
            "bar_style": "success",
            "description": "",
            "description_tooltip": null,
            "layout": "IPY_MODEL_01dd2c0f4375480baa8967e14fb40b41",
            "max": 1000,
            "min": 0,
            "orientation": "horizontal",
            "style": "IPY_MODEL_2c6aaf4b23f24f688776c0b67b583c3a",
            "value": 1000
          }
        },
        "5aab4001b0b547aeb01382a2361f20f1": {
          "model_module": "@jupyter-widgets/controls",
          "model_name": "HTMLModel",
          "model_module_version": "1.5.0",
          "state": {
            "_dom_classes": [],
            "_model_module": "@jupyter-widgets/controls",
            "_model_module_version": "1.5.0",
            "_model_name": "HTMLModel",
            "_view_count": null,
            "_view_module": "@jupyter-widgets/controls",
            "_view_module_version": "1.5.0",
            "_view_name": "HTMLView",
            "description": "",
            "description_tooltip": null,
            "layout": "IPY_MODEL_4e79ed77f2844832bc23ca4ac75c6221",
            "placeholder": "​",
            "style": "IPY_MODEL_93e0931707b849cf82c6bc8679a10b87",
            "value": " 1000/1000 [02:40&lt;00:00,  5.15it/s]"
          }
        },
        "7e3a140cb12941e9874f69529c9c5a93": {
          "model_module": "@jupyter-widgets/base",
          "model_name": "LayoutModel",
          "model_module_version": "1.2.0",
          "state": {
            "_model_module": "@jupyter-widgets/base",
            "_model_module_version": "1.2.0",
            "_model_name": "LayoutModel",
            "_view_count": null,
            "_view_module": "@jupyter-widgets/base",
            "_view_module_version": "1.2.0",
            "_view_name": "LayoutView",
            "align_content": null,
            "align_items": null,
            "align_self": null,
            "border": null,
            "bottom": null,
            "display": null,
            "flex": null,
            "flex_flow": null,
            "grid_area": null,
            "grid_auto_columns": null,
            "grid_auto_flow": null,
            "grid_auto_rows": null,
            "grid_column": null,
            "grid_gap": null,
            "grid_row": null,
            "grid_template_areas": null,
            "grid_template_columns": null,
            "grid_template_rows": null,
            "height": null,
            "justify_content": null,
            "justify_items": null,
            "left": null,
            "margin": null,
            "max_height": null,
            "max_width": null,
            "min_height": null,
            "min_width": null,
            "object_fit": null,
            "object_position": null,
            "order": null,
            "overflow": null,
            "overflow_x": null,
            "overflow_y": null,
            "padding": null,
            "right": null,
            "top": null,
            "visibility": null,
            "width": null
          }
        },
        "0040b2692fdf4c1d81737f6931f2fa02": {
          "model_module": "@jupyter-widgets/base",
          "model_name": "LayoutModel",
          "model_module_version": "1.2.0",
          "state": {
            "_model_module": "@jupyter-widgets/base",
            "_model_module_version": "1.2.0",
            "_model_name": "LayoutModel",
            "_view_count": null,
            "_view_module": "@jupyter-widgets/base",
            "_view_module_version": "1.2.0",
            "_view_name": "LayoutView",
            "align_content": null,
            "align_items": null,
            "align_self": null,
            "border": null,
            "bottom": null,
            "display": null,
            "flex": null,
            "flex_flow": null,
            "grid_area": null,
            "grid_auto_columns": null,
            "grid_auto_flow": null,
            "grid_auto_rows": null,
            "grid_column": null,
            "grid_gap": null,
            "grid_row": null,
            "grid_template_areas": null,
            "grid_template_columns": null,
            "grid_template_rows": null,
            "height": null,
            "justify_content": null,
            "justify_items": null,
            "left": null,
            "margin": null,
            "max_height": null,
            "max_width": null,
            "min_height": null,
            "min_width": null,
            "object_fit": null,
            "object_position": null,
            "order": null,
            "overflow": null,
            "overflow_x": null,
            "overflow_y": null,
            "padding": null,
            "right": null,
            "top": null,
            "visibility": null,
            "width": null
          }
        },
        "be49f49e160c4d6eb7c1b2629633a38b": {
          "model_module": "@jupyter-widgets/controls",
          "model_name": "DescriptionStyleModel",
          "model_module_version": "1.5.0",
          "state": {
            "_model_module": "@jupyter-widgets/controls",
            "_model_module_version": "1.5.0",
            "_model_name": "DescriptionStyleModel",
            "_view_count": null,
            "_view_module": "@jupyter-widgets/base",
            "_view_module_version": "1.2.0",
            "_view_name": "StyleView",
            "description_width": ""
          }
        },
        "01dd2c0f4375480baa8967e14fb40b41": {
          "model_module": "@jupyter-widgets/base",
          "model_name": "LayoutModel",
          "model_module_version": "1.2.0",
          "state": {
            "_model_module": "@jupyter-widgets/base",
            "_model_module_version": "1.2.0",
            "_model_name": "LayoutModel",
            "_view_count": null,
            "_view_module": "@jupyter-widgets/base",
            "_view_module_version": "1.2.0",
            "_view_name": "LayoutView",
            "align_content": null,
            "align_items": null,
            "align_self": null,
            "border": null,
            "bottom": null,
            "display": null,
            "flex": null,
            "flex_flow": null,
            "grid_area": null,
            "grid_auto_columns": null,
            "grid_auto_flow": null,
            "grid_auto_rows": null,
            "grid_column": null,
            "grid_gap": null,
            "grid_row": null,
            "grid_template_areas": null,
            "grid_template_columns": null,
            "grid_template_rows": null,
            "height": null,
            "justify_content": null,
            "justify_items": null,
            "left": null,
            "margin": null,
            "max_height": null,
            "max_width": null,
            "min_height": null,
            "min_width": null,
            "object_fit": null,
            "object_position": null,
            "order": null,
            "overflow": null,
            "overflow_x": null,
            "overflow_y": null,
            "padding": null,
            "right": null,
            "top": null,
            "visibility": null,
            "width": null
          }
        },
        "2c6aaf4b23f24f688776c0b67b583c3a": {
          "model_module": "@jupyter-widgets/controls",
          "model_name": "ProgressStyleModel",
          "model_module_version": "1.5.0",
          "state": {
            "_model_module": "@jupyter-widgets/controls",
            "_model_module_version": "1.5.0",
            "_model_name": "ProgressStyleModel",
            "_view_count": null,
            "_view_module": "@jupyter-widgets/base",
            "_view_module_version": "1.2.0",
            "_view_name": "StyleView",
            "bar_color": null,
            "description_width": ""
          }
        },
        "4e79ed77f2844832bc23ca4ac75c6221": {
          "model_module": "@jupyter-widgets/base",
          "model_name": "LayoutModel",
          "model_module_version": "1.2.0",
          "state": {
            "_model_module": "@jupyter-widgets/base",
            "_model_module_version": "1.2.0",
            "_model_name": "LayoutModel",
            "_view_count": null,
            "_view_module": "@jupyter-widgets/base",
            "_view_module_version": "1.2.0",
            "_view_name": "LayoutView",
            "align_content": null,
            "align_items": null,
            "align_self": null,
            "border": null,
            "bottom": null,
            "display": null,
            "flex": null,
            "flex_flow": null,
            "grid_area": null,
            "grid_auto_columns": null,
            "grid_auto_flow": null,
            "grid_auto_rows": null,
            "grid_column": null,
            "grid_gap": null,
            "grid_row": null,
            "grid_template_areas": null,
            "grid_template_columns": null,
            "grid_template_rows": null,
            "height": null,
            "justify_content": null,
            "justify_items": null,
            "left": null,
            "margin": null,
            "max_height": null,
            "max_width": null,
            "min_height": null,
            "min_width": null,
            "object_fit": null,
            "object_position": null,
            "order": null,
            "overflow": null,
            "overflow_x": null,
            "overflow_y": null,
            "padding": null,
            "right": null,
            "top": null,
            "visibility": null,
            "width": null
          }
        },
        "93e0931707b849cf82c6bc8679a10b87": {
          "model_module": "@jupyter-widgets/controls",
          "model_name": "DescriptionStyleModel",
          "model_module_version": "1.5.0",
          "state": {
            "_model_module": "@jupyter-widgets/controls",
            "_model_module_version": "1.5.0",
            "_model_name": "DescriptionStyleModel",
            "_view_count": null,
            "_view_module": "@jupyter-widgets/base",
            "_view_module_version": "1.2.0",
            "_view_name": "StyleView",
            "description_width": ""
          }
        },
        "5f90a8ad7f454612bfb18743b34bc904": {
          "model_module": "@jupyter-widgets/controls",
          "model_name": "HBoxModel",
          "model_module_version": "1.5.0",
          "state": {
            "_dom_classes": [],
            "_model_module": "@jupyter-widgets/controls",
            "_model_module_version": "1.5.0",
            "_model_name": "HBoxModel",
            "_view_count": null,
            "_view_module": "@jupyter-widgets/controls",
            "_view_module_version": "1.5.0",
            "_view_name": "HBoxView",
            "box_style": "",
            "children": [
              "IPY_MODEL_6d2b3e5603064b77ac4e0243ca63899c",
              "IPY_MODEL_1f79398b74c948c798cbd84a7ce2e438",
              "IPY_MODEL_169ea2d3e21b4a4f80b84604ce220d0b"
            ],
            "layout": "IPY_MODEL_5548725eba6d473d831a8f556cbf09f6"
          }
        },
        "6d2b3e5603064b77ac4e0243ca63899c": {
          "model_module": "@jupyter-widgets/controls",
          "model_name": "HTMLModel",
          "model_module_version": "1.5.0",
          "state": {
            "_dom_classes": [],
            "_model_module": "@jupyter-widgets/controls",
            "_model_module_version": "1.5.0",
            "_model_name": "HTMLModel",
            "_view_count": null,
            "_view_module": "@jupyter-widgets/controls",
            "_view_module_version": "1.5.0",
            "_view_name": "HTMLView",
            "description": "",
            "description_tooltip": null,
            "layout": "IPY_MODEL_f9eaa74a1099425789bffc741c1a4797",
            "placeholder": "​",
            "style": "IPY_MODEL_94e3baef885040f7ad01175752c21a94",
            "value": "100%"
          }
        },
        "1f79398b74c948c798cbd84a7ce2e438": {
          "model_module": "@jupyter-widgets/controls",
          "model_name": "FloatProgressModel",
          "model_module_version": "1.5.0",
          "state": {
            "_dom_classes": [],
            "_model_module": "@jupyter-widgets/controls",
            "_model_module_version": "1.5.0",
            "_model_name": "FloatProgressModel",
            "_view_count": null,
            "_view_module": "@jupyter-widgets/controls",
            "_view_module_version": "1.5.0",
            "_view_name": "ProgressView",
            "bar_style": "success",
            "description": "",
            "description_tooltip": null,
            "layout": "IPY_MODEL_7c0f1e47b885410e84513eef08fcec36",
            "max": 1000,
            "min": 0,
            "orientation": "horizontal",
            "style": "IPY_MODEL_b488a13e03ea43a3bb2c7bcb25d4840b",
            "value": 1000
          }
        },
        "169ea2d3e21b4a4f80b84604ce220d0b": {
          "model_module": "@jupyter-widgets/controls",
          "model_name": "HTMLModel",
          "model_module_version": "1.5.0",
          "state": {
            "_dom_classes": [],
            "_model_module": "@jupyter-widgets/controls",
            "_model_module_version": "1.5.0",
            "_model_name": "HTMLModel",
            "_view_count": null,
            "_view_module": "@jupyter-widgets/controls",
            "_view_module_version": "1.5.0",
            "_view_name": "HTMLView",
            "description": "",
            "description_tooltip": null,
            "layout": "IPY_MODEL_1b3876f3598f4affb3afadcef3068189",
            "placeholder": "​",
            "style": "IPY_MODEL_568087cf82ae48478c196e272f9d4c59",
            "value": " 1000/1000 [00:26&lt;00:00, 32.27it/s]"
          }
        },
        "5548725eba6d473d831a8f556cbf09f6": {
          "model_module": "@jupyter-widgets/base",
          "model_name": "LayoutModel",
          "model_module_version": "1.2.0",
          "state": {
            "_model_module": "@jupyter-widgets/base",
            "_model_module_version": "1.2.0",
            "_model_name": "LayoutModel",
            "_view_count": null,
            "_view_module": "@jupyter-widgets/base",
            "_view_module_version": "1.2.0",
            "_view_name": "LayoutView",
            "align_content": null,
            "align_items": null,
            "align_self": null,
            "border": null,
            "bottom": null,
            "display": null,
            "flex": null,
            "flex_flow": null,
            "grid_area": null,
            "grid_auto_columns": null,
            "grid_auto_flow": null,
            "grid_auto_rows": null,
            "grid_column": null,
            "grid_gap": null,
            "grid_row": null,
            "grid_template_areas": null,
            "grid_template_columns": null,
            "grid_template_rows": null,
            "height": null,
            "justify_content": null,
            "justify_items": null,
            "left": null,
            "margin": null,
            "max_height": null,
            "max_width": null,
            "min_height": null,
            "min_width": null,
            "object_fit": null,
            "object_position": null,
            "order": null,
            "overflow": null,
            "overflow_x": null,
            "overflow_y": null,
            "padding": null,
            "right": null,
            "top": null,
            "visibility": null,
            "width": null
          }
        },
        "f9eaa74a1099425789bffc741c1a4797": {
          "model_module": "@jupyter-widgets/base",
          "model_name": "LayoutModel",
          "model_module_version": "1.2.0",
          "state": {
            "_model_module": "@jupyter-widgets/base",
            "_model_module_version": "1.2.0",
            "_model_name": "LayoutModel",
            "_view_count": null,
            "_view_module": "@jupyter-widgets/base",
            "_view_module_version": "1.2.0",
            "_view_name": "LayoutView",
            "align_content": null,
            "align_items": null,
            "align_self": null,
            "border": null,
            "bottom": null,
            "display": null,
            "flex": null,
            "flex_flow": null,
            "grid_area": null,
            "grid_auto_columns": null,
            "grid_auto_flow": null,
            "grid_auto_rows": null,
            "grid_column": null,
            "grid_gap": null,
            "grid_row": null,
            "grid_template_areas": null,
            "grid_template_columns": null,
            "grid_template_rows": null,
            "height": null,
            "justify_content": null,
            "justify_items": null,
            "left": null,
            "margin": null,
            "max_height": null,
            "max_width": null,
            "min_height": null,
            "min_width": null,
            "object_fit": null,
            "object_position": null,
            "order": null,
            "overflow": null,
            "overflow_x": null,
            "overflow_y": null,
            "padding": null,
            "right": null,
            "top": null,
            "visibility": null,
            "width": null
          }
        },
        "94e3baef885040f7ad01175752c21a94": {
          "model_module": "@jupyter-widgets/controls",
          "model_name": "DescriptionStyleModel",
          "model_module_version": "1.5.0",
          "state": {
            "_model_module": "@jupyter-widgets/controls",
            "_model_module_version": "1.5.0",
            "_model_name": "DescriptionStyleModel",
            "_view_count": null,
            "_view_module": "@jupyter-widgets/base",
            "_view_module_version": "1.2.0",
            "_view_name": "StyleView",
            "description_width": ""
          }
        },
        "7c0f1e47b885410e84513eef08fcec36": {
          "model_module": "@jupyter-widgets/base",
          "model_name": "LayoutModel",
          "model_module_version": "1.2.0",
          "state": {
            "_model_module": "@jupyter-widgets/base",
            "_model_module_version": "1.2.0",
            "_model_name": "LayoutModel",
            "_view_count": null,
            "_view_module": "@jupyter-widgets/base",
            "_view_module_version": "1.2.0",
            "_view_name": "LayoutView",
            "align_content": null,
            "align_items": null,
            "align_self": null,
            "border": null,
            "bottom": null,
            "display": null,
            "flex": null,
            "flex_flow": null,
            "grid_area": null,
            "grid_auto_columns": null,
            "grid_auto_flow": null,
            "grid_auto_rows": null,
            "grid_column": null,
            "grid_gap": null,
            "grid_row": null,
            "grid_template_areas": null,
            "grid_template_columns": null,
            "grid_template_rows": null,
            "height": null,
            "justify_content": null,
            "justify_items": null,
            "left": null,
            "margin": null,
            "max_height": null,
            "max_width": null,
            "min_height": null,
            "min_width": null,
            "object_fit": null,
            "object_position": null,
            "order": null,
            "overflow": null,
            "overflow_x": null,
            "overflow_y": null,
            "padding": null,
            "right": null,
            "top": null,
            "visibility": null,
            "width": null
          }
        },
        "b488a13e03ea43a3bb2c7bcb25d4840b": {
          "model_module": "@jupyter-widgets/controls",
          "model_name": "ProgressStyleModel",
          "model_module_version": "1.5.0",
          "state": {
            "_model_module": "@jupyter-widgets/controls",
            "_model_module_version": "1.5.0",
            "_model_name": "ProgressStyleModel",
            "_view_count": null,
            "_view_module": "@jupyter-widgets/base",
            "_view_module_version": "1.2.0",
            "_view_name": "StyleView",
            "bar_color": null,
            "description_width": ""
          }
        },
        "1b3876f3598f4affb3afadcef3068189": {
          "model_module": "@jupyter-widgets/base",
          "model_name": "LayoutModel",
          "model_module_version": "1.2.0",
          "state": {
            "_model_module": "@jupyter-widgets/base",
            "_model_module_version": "1.2.0",
            "_model_name": "LayoutModel",
            "_view_count": null,
            "_view_module": "@jupyter-widgets/base",
            "_view_module_version": "1.2.0",
            "_view_name": "LayoutView",
            "align_content": null,
            "align_items": null,
            "align_self": null,
            "border": null,
            "bottom": null,
            "display": null,
            "flex": null,
            "flex_flow": null,
            "grid_area": null,
            "grid_auto_columns": null,
            "grid_auto_flow": null,
            "grid_auto_rows": null,
            "grid_column": null,
            "grid_gap": null,
            "grid_row": null,
            "grid_template_areas": null,
            "grid_template_columns": null,
            "grid_template_rows": null,
            "height": null,
            "justify_content": null,
            "justify_items": null,
            "left": null,
            "margin": null,
            "max_height": null,
            "max_width": null,
            "min_height": null,
            "min_width": null,
            "object_fit": null,
            "object_position": null,
            "order": null,
            "overflow": null,
            "overflow_x": null,
            "overflow_y": null,
            "padding": null,
            "right": null,
            "top": null,
            "visibility": null,
            "width": null
          }
        },
        "568087cf82ae48478c196e272f9d4c59": {
          "model_module": "@jupyter-widgets/controls",
          "model_name": "DescriptionStyleModel",
          "model_module_version": "1.5.0",
          "state": {
            "_model_module": "@jupyter-widgets/controls",
            "_model_module_version": "1.5.0",
            "_model_name": "DescriptionStyleModel",
            "_view_count": null,
            "_view_module": "@jupyter-widgets/base",
            "_view_module_version": "1.2.0",
            "_view_name": "StyleView",
            "description_width": ""
          }
        }
      }
    }
  },
  "nbformat": 4,
  "nbformat_minor": 0
}