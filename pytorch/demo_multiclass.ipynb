{
  "cells": [
    {
      "cell_type": "markdown",
      "metadata": {
        "id": "RfyNIKwiWBGd"
      },
      "source": [
        "# Multiclass segmentation: PyTorch version\n",
        "We want to optimize the mean Jaccard index of the non-void classes."
      ]
    },
    {
      "cell_type": "code",
      "source": [
        "!wget https://raw.githubusercontent.com/bermanmaxim/LovaszSoftmax/master/pytorch/lovasz_losses.py\n",
        "!wget https://raw.githubusercontent.com/bermanmaxim/LovaszSoftmax/master/demo_helpers/demo_utils.py"
      ],
      "metadata": {
        "id": "LGBKDWyPWFPy",
        "outputId": "39456e44-fa41-4aa2-f6cf-c738c2e23b70",
        "colab": {
          "base_uri": "https://localhost:8080/"
        }
      },
      "execution_count": 20,
      "outputs": [
        {
          "output_type": "stream",
          "name": "stdout",
          "text": [
            "--2024-01-29 09:23:39--  https://raw.githubusercontent.com/bermanmaxim/LovaszSoftmax/master/pytorch/lovasz_losses.py\n",
            "Resolving raw.githubusercontent.com (raw.githubusercontent.com)... 185.199.108.133, 185.199.109.133, 185.199.110.133, ...\n",
            "Connecting to raw.githubusercontent.com (raw.githubusercontent.com)|185.199.108.133|:443... connected.\n",
            "HTTP request sent, awaiting response... 200 OK\n",
            "Length: 8352 (8.2K) [text/plain]\n",
            "Saving to: ‘lovasz_losses.py.1’\n",
            "\n",
            "\rlovasz_losses.py.1    0%[                    ]       0  --.-KB/s               \rlovasz_losses.py.1  100%[===================>]   8.16K  --.-KB/s    in 0s      \n",
            "\n",
            "2024-01-29 09:23:39 (27.7 MB/s) - ‘lovasz_losses.py.1’ saved [8352/8352]\n",
            "\n",
            "--2024-01-29 09:23:39--  https://raw.githubusercontent.com/bermanmaxim/LovaszSoftmax/master/demo_helpers/demo_utils.py\n",
            "Resolving raw.githubusercontent.com (raw.githubusercontent.com)... 185.199.108.133, 185.199.109.133, 185.199.110.133, ...\n",
            "Connecting to raw.githubusercontent.com (raw.githubusercontent.com)|185.199.108.133|:443... connected.\n",
            "HTTP request sent, awaiting response... 200 OK\n",
            "Length: 2437 (2.4K) [text/plain]\n",
            "Saving to: ‘demo_utils.py.1’\n",
            "\n",
            "demo_utils.py.1     100%[===================>]   2.38K  --.-KB/s    in 0s      \n",
            "\n",
            "2024-01-29 09:23:39 (32.9 MB/s) - ‘demo_utils.py.1’ saved [2437/2437]\n",
            "\n"
          ]
        }
      ]
    },
    {
      "cell_type": "code",
      "execution_count": 21,
      "metadata": {
        "ExecuteTime": {
          "end_time": "2019-02-26T15:33:43.043490Z",
          "start_time": "2019-02-26T15:33:43.029167Z"
        },
        "collapsed": true,
        "id": "KPgvr8IMWBGl",
        "outputId": "18a96b88-b7f7-433d-f0d1-adfba31000a5",
        "colab": {
          "base_uri": "https://localhost:8080/"
        }
      },
      "outputs": [
        {
          "output_type": "stream",
          "name": "stdout",
          "text": [
            "The autoreload extension is already loaded. To reload it, use:\n",
            "  %reload_ext autoreload\n"
          ]
        }
      ],
      "source": [
        "%load_ext autoreload\n",
        "%autoreload 2"
      ]
    },
    {
      "cell_type": "code",
      "execution_count": 22,
      "metadata": {
        "ExecuteTime": {
          "end_time": "2019-02-26T15:33:43.055280Z",
          "start_time": "2019-02-26T15:33:43.045043Z"
        },
        "collapsed": true,
        "id": "OfaXn0t9WBGo"
      },
      "outputs": [],
      "source": [
        "from __future__ import division, print_function"
      ]
    },
    {
      "cell_type": "code",
      "execution_count": 23,
      "metadata": {
        "ExecuteTime": {
          "end_time": "2019-02-26T15:33:43.724129Z",
          "start_time": "2019-02-26T15:33:43.056577Z"
        },
        "collapsed": true,
        "id": "qimOk1LfWBGw"
      },
      "outputs": [],
      "source": [
        "import torch\n",
        "from torch.autograd import Variable\n",
        "import torch.nn.functional as F\n",
        "from torch.optim import Adam\n",
        "from torch import nn"
      ]
    },
    {
      "cell_type": "code",
      "execution_count": 24,
      "metadata": {
        "ExecuteTime": {
          "end_time": "2019-02-26T15:33:43.743851Z",
          "start_time": "2019-02-26T15:33:43.726693Z"
        },
        "collapsed": true,
        "id": "8JADKa-DWBGx"
      },
      "outputs": [],
      "source": [
        "import lovasz_losses as L"
      ]
    },
    {
      "cell_type": "code",
      "execution_count": 25,
      "metadata": {
        "ExecuteTime": {
          "end_time": "2019-02-26T15:33:44.137988Z",
          "start_time": "2019-02-26T15:33:43.746333Z"
        },
        "collapsed": true,
        "id": "ypCQnWB5WBGy"
      },
      "outputs": [],
      "source": [
        "import numpy as np\n",
        "import matplotlib.pyplot as plt\n",
        "%matplotlib inline"
      ]
    },
    {
      "cell_type": "code",
      "execution_count": 26,
      "metadata": {
        "ExecuteTime": {
          "end_time": "2019-02-26T15:33:44.163951Z",
          "start_time": "2019-02-26T15:33:44.139228Z"
        },
        "collapsed": true,
        "id": "Md4Hv9DGWBGz"
      },
      "outputs": [],
      "source": [
        "from tqdm import tqdm_notebook as tqdm"
      ]
    },
    {
      "cell_type": "code",
      "execution_count": 27,
      "metadata": {
        "ExecuteTime": {
          "end_time": "2019-02-26T15:33:46.931708Z",
          "start_time": "2019-02-26T15:33:44.165259Z"
        },
        "collapsed": true,
        "id": "6yDh3y1fWBG1"
      },
      "outputs": [],
      "source": [
        "# add parent path to pythonpath to import demo_utils\n",
        "import sys\n",
        "sys.path.append('../demo_helpers')\n",
        "from demo_utils import pil, pil_grid, dummy_triangles"
      ]
    },
    {
      "cell_type": "code",
      "execution_count": 28,
      "metadata": {
        "ExecuteTime": {
          "end_time": "2019-02-26T15:33:46.948157Z",
          "start_time": "2019-02-26T15:33:46.933531Z"
        },
        "collapsed": true,
        "id": "DIv17lL_WBG2"
      },
      "outputs": [],
      "source": [
        "from collections import OrderedDict as OD"
      ]
    },
    {
      "cell_type": "code",
      "execution_count": 29,
      "metadata": {
        "ExecuteTime": {
          "end_time": "2019-02-26T15:33:46.961182Z",
          "start_time": "2019-02-26T15:33:46.949698Z"
        },
        "collapsed": true,
        "id": "7iPG4qDQWBG4"
      },
      "outputs": [],
      "source": [
        "CUDA = True"
      ]
    },
    {
      "cell_type": "code",
      "execution_count": 30,
      "metadata": {
        "ExecuteTime": {
          "end_time": "2019-02-26T15:33:46.977270Z",
          "start_time": "2019-02-26T15:33:46.962594Z"
        },
        "collapsed": true,
        "id": "hYTb7BgaWBG5"
      },
      "outputs": [],
      "source": [
        "def cuda(x):\n",
        "    if CUDA:\n",
        "        return x.cuda()\n",
        "    else:\n",
        "        return x"
      ]
    },
    {
      "cell_type": "markdown",
      "metadata": {
        "id": "jswWYqZsWBG6"
      },
      "source": [
        "## Multiclass case: batch of 5 random images with classes [0, 1, 2] and void (255)\n",
        "We assume that we want to optimize the Jaccard index of all non-void classes 0, 1 and 2."
      ]
    },
    {
      "cell_type": "markdown",
      "metadata": {
        "id": "qRgttjrqWBG7"
      },
      "source": [
        "### Labels"
      ]
    },
    {
      "cell_type": "code",
      "execution_count": 31,
      "metadata": {
        "ExecuteTime": {
          "end_time": "2019-02-26T15:33:47.051480Z",
          "start_time": "2019-02-26T15:33:46.978592Z"
        },
        "id": "yOskBI92WBG8",
        "outputId": "496172a8-ddbc-4bea-8e0d-213ced573a70",
        "colab": {
          "base_uri": "https://localhost:8080/",
          "height": 222
        }
      },
      "outputs": [
        {
          "output_type": "execute_result",
          "data": {
            "text/plain": [
              "<PIL.Image.Image image mode=RGB size=1005x205>"
            ],
            "image/png": "[encoded data removed]"
          },
          "metadata": {},
          "execution_count": 31
        }
      ],
      "source": [
        "np.random.seed(18)\n",
        "C = 3\n",
        "B = 5\n",
        "H = 200\n",
        "labels_ = [dummy_triangles(H, [0, 255, 1, 2]) for b in range(B)]\n",
        "labels = torch.stack([torch.from_numpy(a) for a in map(np.array, labels_)]).long()\n",
        "pil_grid(labels_, 5, margin=1)"
      ]
    },
    {
      "cell_type": "markdown",
      "metadata": {
        "id": "ASb3z1zGWBG-"
      },
      "source": [
        "### Features"
      ]
    },
    {
      "cell_type": "code",
      "execution_count": 32,
      "metadata": {
        "ExecuteTime": {
          "end_time": "2019-02-26T15:33:47.110472Z",
          "start_time": "2019-02-26T15:33:47.052783Z"
        },
        "collapsed": true,
        "id": "08mkqRoPWBG_"
      },
      "outputs": [],
      "source": [
        "np.random.seed(57)\n",
        "B, H, W = labels.size()\n",
        "labels_ = labels.clone()\n",
        "labels_[labels_ == 255] = labels_[labels_ == 255].random_(C) # random feats for void\n",
        "labels_1hot = torch.zeros(B, C, H, W)\n",
        "labels_1hot.scatter_(1, labels_.unsqueeze(1), 1);"
      ]
    },
    {
      "cell_type": "code",
      "source": [],
      "metadata": {
        "id": "WiF2R6HpgDe8"
      },
      "execution_count": 32,
      "outputs": []
    },
    {
      "cell_type": "code",
      "execution_count": 33,
      "metadata": {
        "ExecuteTime": {
          "end_time": "2019-02-26T15:33:47.129497Z",
          "start_time": "2019-02-26T15:33:47.111665Z"
        },
        "collapsed": true,
        "id": "sXvmN2kRWBG_"
      },
      "outputs": [],
      "source": [
        "feats = labels_1hot.clone().float()\n",
        "feats += feats.new(feats.size()).normal_(0, 2) # additive gaussian noise"
      ]
    },
    {
      "cell_type": "code",
      "execution_count": 34,
      "metadata": {
        "ExecuteTime": {
          "end_time": "2019-02-26T15:33:49.195084Z",
          "start_time": "2019-02-26T15:33:47.130752Z"
        },
        "collapsed": true,
        "id": "3SOm0Q0gWBHA"
      },
      "outputs": [],
      "source": [
        "# labels = cuda(labels)\n",
        "# feats = Variable(cuda(feats))"
      ]
    },
    {
      "cell_type": "markdown",
      "metadata": {
        "id": "xpkrchhLWBHA"
      },
      "source": [
        "## Model"
      ]
    },
    {
      "cell_type": "markdown",
      "metadata": {
        "id": "H2GsDeCoWBHA"
      },
      "source": [
        "### definition"
      ]
    },
    {
      "cell_type": "code",
      "execution_count": 35,
      "metadata": {
        "ExecuteTime": {
          "end_time": "2019-02-26T15:33:49.208767Z",
          "start_time": "2019-02-26T15:33:49.196271Z"
        },
        "collapsed": true,
        "id": "0RMJos77WBHB"
      },
      "outputs": [],
      "source": [
        "class Model(nn.Module):\n",
        "    def __init__(self):\n",
        "        super(Model, self).__init__()\n",
        "        self.conv = nn.Conv2d(C, C, 3, padding=1)\n",
        "\n",
        "    def forward(self, x):\n",
        "        return x + self.conv(x)"
      ]
    },
    {
      "cell_type": "code",
      "execution_count": 36,
      "metadata": {
        "ExecuteTime": {
          "end_time": "2019-02-26T15:33:49.224356Z",
          "start_time": "2019-02-26T15:33:49.210833Z"
        },
        "collapsed": true,
        "id": "Mn-MYwhcWBHB"
      },
      "outputs": [],
      "source": [
        "m = Model()\n",
        "init_state_dict = OD([(n, p.clone()) for (n, p) in m.state_dict().items()])"
      ]
    },
    {
      "cell_type": "code",
      "execution_count": 37,
      "metadata": {
        "ExecuteTime": {
          "end_time": "2019-02-26T15:33:49.236841Z",
          "start_time": "2019-02-26T15:33:49.225545Z"
        },
        "collapsed": true,
        "id": "wrpJLJo9WBHB"
      },
      "outputs": [],
      "source": [
        "# m = cuda(m)"
      ]
    },
    {
      "cell_type": "markdown",
      "metadata": {
        "id": "60yf10sRWBHC"
      },
      "source": [
        "### Initial prediction"
      ]
    },
    {
      "cell_type": "code",
      "execution_count": 38,
      "metadata": {
        "ExecuteTime": {
          "end_time": "2019-02-26T15:33:49.256416Z",
          "start_time": "2019-02-26T15:33:49.238924Z"
        },
        "scrolled": true,
        "id": "oTYQQfMDWBHC",
        "outputId": "ccf2c450-88ee-4b2a-9b12-c768da1f84ff",
        "colab": {
          "base_uri": "https://localhost:8080/"
        }
      },
      "outputs": [
        {
          "output_type": "stream",
          "name": "stdout",
          "text": [
            "Initial batch-IoUs: [38.4207414  13.39501207  5.99125916]\n",
            "Initial mIoU: 19.269004209254014\n"
          ]
        }
      ],
      "source": [
        "_, preds = m(feats).data.max(1)\n",
        "print(\"Initial batch-IoUs:\", L.iou(preds, labels, C, ignore=255, per_image=False))\n",
        "print(\"Initial mIoU:\", np.mean(L.iou(preds, labels, C, ignore=255, per_image=False)))"
      ]
    },
    {
      "cell_type": "code",
      "execution_count": 39,
      "metadata": {
        "ExecuteTime": {
          "end_time": "2019-02-26T15:33:49.339052Z",
          "start_time": "2019-02-26T15:33:49.257615Z"
        },
        "scrolled": true,
        "id": "4Hzxbzx3WBHC",
        "outputId": "62a80f02-3852-41f3-ff91-0e11bd435962",
        "colab": {
          "base_uri": "https://localhost:8080/",
          "height": 222
        }
      },
      "outputs": [
        {
          "output_type": "execute_result",
          "data": {
            "text/plain": [
              "<PIL.Image.Image image mode=RGB size=1005x205>"
            ],
            "image/png": "[encoded data removed]"
          },
          "metadata": {},
          "execution_count": 39
        }
      ],
      "source": [
        "pil_grid([pil(f.byte().cpu().numpy()) for f in preds], 5, margin=1)"
      ]
    },
    {
      "cell_type": "markdown",
      "metadata": {
        "id": "pzLqRGdHWBHD"
      },
      "source": [
        "## Lovász-Softmax training"
      ]
    },
    {
      "cell_type": "code",
      "execution_count": 40,
      "metadata": {
        "ExecuteTime": {
          "end_time": "2019-02-26T15:33:56.358994Z",
          "start_time": "2019-02-26T15:33:49.340249Z"
        },
        "scrolled": false,
        "id": "ryDTW5-0WBHD",
        "outputId": "4507edb7-4952-4fb5-ad9f-2d2af73a1473",
        "colab": {
          "base_uri": "https://localhost:8080/",
          "height": 1000,
          "referenced_widgets": [
            "bd4fedb3587c46f08561216b5c95f48d",
            "e80a1f1b6a034f72b890d4bf56b61ce4",
            "77a9c316bb65490f8677c8b7e4d8e4d4",
            "3a4c3402daa14251b0afd6449fb82d08",
            "f9147d855a7848b79327a2436d9b6a1f",
            "a9a1d059d09a489a9c9f6c1679eec56c",
            "0307ab05aaab4b79bfb16dd3fb127d0c",
            "1a4570315de84e95afd7bb4121f4b407",
            "3d5e4351c77f496e9f748eaa4d3b14cf",
            "bd1d1ece393449fea192e4a881dc57a5",
            "0fa551c76d904b8a9f36ecdab4e59558"
          ]
        }
      },
      "outputs": [
        {
          "output_type": "stream",
          "name": "stderr",
          "text": [
            "<ipython-input-40-803b5057343d>:8: TqdmDeprecationWarning: This function will be removed in tqdm==5.0.0\n",
            "Please use `tqdm.notebook.tqdm` instead of `tqdm.tqdm_notebook`\n",
            "  for iter in tqdm(range(1000)):\n"
          ]
        },
        {
          "output_type": "display_data",
          "data": {
            "text/plain": [
              "  0%|          | 0/1000 [00:00<?, ?it/s]"
            ],
            "application/vnd.jupyter.widget-view+json": {
              "version_major": 2,
              "version_minor": 0,
              "model_id": "bd4fedb3587c46f08561216b5c95f48d"
            }
          },
          "metadata": {}
        },
        {
          "output_type": "stream",
          "name": "stdout",
          "text": [
            "shape of out:; torch.Size([5, 3, 200, 200]), shape of labels:<built-in method size of Tensor object at 0x7f037dfce390>\n",
            "shape of out:; torch.Size([5, 3, 200, 200]), shape of labels:<built-in method size of Tensor object at 0x7f037dfce390>\n",
            "shape of out:; torch.Size([5, 3, 200, 200]), shape of labels:<built-in method size of Tensor object at 0x7f037dfce390>\n",
            "shape of out:; torch.Size([5, 3, 200, 200]), shape of labels:<built-in method size of Tensor object at 0x7f037dfce390>\n",
            "shape of out:; torch.Size([5, 3, 200, 200]), shape of labels:<built-in method size of Tensor object at 0x7f037dfce390>\n",
            "shape of out:; torch.Size([5, 3, 200, 200]), shape of labels:<built-in method size of Tensor object at 0x7f037dfce390>\n",
            "shape of out:; torch.Size([5, 3, 200, 200]), shape of labels:<built-in method size of Tensor object at 0x7f037dfce390>\n",
            "shape of out:; torch.Size([5, 3, 200, 200]), shape of labels:<built-in method size of Tensor object at 0x7f037dfce390>\n",
            "shape of out:; torch.Size([5, 3, 200, 200]), shape of labels:<built-in method size of Tensor object at 0x7f037dfce390>\n",
            "shape of out:; torch.Size([5, 3, 200, 200]), shape of labels:<built-in method size of Tensor object at 0x7f037dfce390>\n",
            "shape of out:; torch.Size([5, 3, 200, 200]), shape of labels:<built-in method size of Tensor object at 0x7f037dfce390>\n",
            "shape of out:; torch.Size([5, 3, 200, 200]), shape of labels:<built-in method size of Tensor object at 0x7f037dfce390>\n",
            "shape of out:; torch.Size([5, 3, 200, 200]), shape of labels:<built-in method size of Tensor object at 0x7f037dfce390>\n",
            "shape of out:; torch.Size([5, 3, 200, 200]), shape of labels:<built-in method size of Tensor object at 0x7f037dfce390>\n",
            "shape of out:; torch.Size([5, 3, 200, 200]), shape of labels:<built-in method size of Tensor object at 0x7f037dfce390>\n",
            "shape of out:; torch.Size([5, 3, 200, 200]), shape of labels:<built-in method size of Tensor object at 0x7f037dfce390>\n",
            "shape of out:; torch.Size([5, 3, 200, 200]), shape of labels:<built-in method size of Tensor object at 0x7f037dfce390>\n",
            "shape of out:; torch.Size([5, 3, 200, 200]), shape of labels:<built-in method size of Tensor object at 0x7f037dfce390>\n",
            "shape of out:; torch.Size([5, 3, 200, 200]), shape of labels:<built-in method size of Tensor object at 0x7f037dfce390>\n",
            "shape of out:; torch.Size([5, 3, 200, 200]), shape of labels:<built-in method size of Tensor object at 0x7f037dfce390>\n",
            "shape of out:; torch.Size([5, 3, 200, 200]), shape of labels:<built-in method size of Tensor object at 0x7f037dfce390>\n",
            "shape of out:; torch.Size([5, 3, 200, 200]), shape of labels:<built-in method size of Tensor object at 0x7f037dfce390>\n",
            "shape of out:; torch.Size([5, 3, 200, 200]), shape of labels:<built-in method size of Tensor object at 0x7f037dfce390>\n",
            "shape of out:; torch.Size([5, 3, 200, 200]), shape of labels:<built-in method size of Tensor object at 0x7f037dfce390>\n",
            "shape of out:; torch.Size([5, 3, 200, 200]), shape of labels:<built-in method size of Tensor object at 0x7f037dfce390>\n",
            "shape of out:; torch.Size([5, 3, 200, 200]), shape of labels:<built-in method size of Tensor object at 0x7f037dfce390>\n",
            "shape of out:; torch.Size([5, 3, 200, 200]), shape of labels:<built-in method size of Tensor object at 0x7f037dfce390>\n",
            "shape of out:; torch.Size([5, 3, 200, 200]), shape of labels:<built-in method size of Tensor object at 0x7f037dfce390>\n",
            "shape of out:; torch.Size([5, 3, 200, 200]), shape of labels:<built-in method size of Tensor object at 0x7f037dfce390>\n",
            "shape of out:; torch.Size([5, 3, 200, 200]), shape of labels:<built-in method size of Tensor object at 0x7f037dfce390>\n",
            "shape of out:; torch.Size([5, 3, 200, 200]), shape of labels:<built-in method size of Tensor object at 0x7f037dfce390>\n",
            "shape of out:; torch.Size([5, 3, 200, 200]), shape of labels:<built-in method size of Tensor object at 0x7f037dfce390>\n",
            "shape of out:; torch.Size([5, 3, 200, 200]), shape of labels:<built-in method size of Tensor object at 0x7f037dfce390>\n",
            "shape of out:; torch.Size([5, 3, 200, 200]), shape of labels:<built-in method size of Tensor object at 0x7f037dfce390>\n",
            "shape of out:; torch.Size([5, 3, 200, 200]), shape of labels:<built-in method size of Tensor object at 0x7f037dfce390>\n",
            "shape of out:; torch.Size([5, 3, 200, 200]), shape of labels:<built-in method size of Tensor object at 0x7f037dfce390>\n",
            "shape of out:; torch.Size([5, 3, 200, 200]), shape of labels:<built-in method size of Tensor object at 0x7f037dfce390>\n",
            "shape of out:; torch.Size([5, 3, 200, 200]), shape of labels:<built-in method size of Tensor object at 0x7f037dfce390>\n",
            "shape of out:; torch.Size([5, 3, 200, 200]), shape of labels:<built-in method size of Tensor object at 0x7f037dfce390>\n",
            "shape of out:; torch.Size([5, 3, 200, 200]), shape of labels:<built-in method size of Tensor object at 0x7f037dfce390>\n",
            "shape of out:; torch.Size([5, 3, 200, 200]), shape of labels:<built-in method size of Tensor object at 0x7f037dfce390>\n",
            "shape of out:; torch.Size([5, 3, 200, 200]), shape of labels:<built-in method size of Tensor object at 0x7f037dfce390>\n",
            "shape of out:; torch.Size([5, 3, 200, 200]), shape of labels:<built-in method size of Tensor object at 0x7f037dfce390>\n",
            "shape of out:; torch.Size([5, 3, 200, 200]), shape of labels:<built-in method size of Tensor object at 0x7f037dfce390>\n",
            "shape of out:; torch.Size([5, 3, 200, 200]), shape of labels:<built-in method size of Tensor object at 0x7f037dfce390>\n",
            "shape of out:; torch.Size([5, 3, 200, 200]), shape of labels:<built-in method size of Tensor object at 0x7f037dfce390>\n",
            "shape of out:; torch.Size([5, 3, 200, 200]), shape of labels:<built-in method size of Tensor object at 0x7f037dfce390>\n",
            "shape of out:; torch.Size([5, 3, 200, 200]), shape of labels:<built-in method size of Tensor object at 0x7f037dfce390>\n",
            "shape of out:; torch.Size([5, 3, 200, 200]), shape of labels:<built-in method size of Tensor object at 0x7f037dfce390>\n",
            "shape of out:; torch.Size([5, 3, 200, 200]), shape of labels:<built-in method size of Tensor object at 0x7f037dfce390>\n",
            "shape of out:; torch.Size([5, 3, 200, 200]), shape of labels:<built-in method size of Tensor object at 0x7f037dfce390>\n",
            "shape of out:; torch.Size([5, 3, 200, 200]), shape of labels:<built-in method size of Tensor object at 0x7f037dfce390>\n",
            "shape of out:; torch.Size([5, 3, 200, 200]), shape of labels:<built-in method size of Tensor object at 0x7f037dfce390>\n",
            "shape of out:; torch.Size([5, 3, 200, 200]), shape of labels:<built-in method size of Tensor object at 0x7f037dfce390>\n",
            "shape of out:; torch.Size([5, 3, 200, 200]), shape of labels:<built-in method size of Tensor object at 0x7f037dfce390>\n",
            "shape of out:; torch.Size([5, 3, 200, 200]), shape of labels:<built-in method size of Tensor object at 0x7f037dfce390>\n",
            "shape of out:; torch.Size([5, 3, 200, 200]), shape of labels:<built-in method size of Tensor object at 0x7f037dfce390>\n",
            "shape of out:; torch.Size([5, 3, 200, 200]), shape of labels:<built-in method size of Tensor object at 0x7f037dfce390>\n",
            "shape of out:; torch.Size([5, 3, 200, 200]), shape of labels:<built-in method size of Tensor object at 0x7f037dfce390>\n",
            "shape of out:; torch.Size([5, 3, 200, 200]), shape of labels:<built-in method size of Tensor object at 0x7f037dfce390>\n",
            "shape of out:; torch.Size([5, 3, 200, 200]), shape of labels:<built-in method size of Tensor object at 0x7f037dfce390>\n",
            "shape of out:; torch.Size([5, 3, 200, 200]), shape of labels:<built-in method size of Tensor object at 0x7f037dfce390>\n",
            "shape of out:; torch.Size([5, 3, 200, 200]), shape of labels:<built-in method size of Tensor object at 0x7f037dfce390>\n",
            "shape of out:; torch.Size([5, 3, 200, 200]), shape of labels:<built-in method size of Tensor object at 0x7f037dfce390>\n",
            "shape of out:; torch.Size([5, 3, 200, 200]), shape of labels:<built-in method size of Tensor object at 0x7f037dfce390>\n",
            "shape of out:; torch.Size([5, 3, 200, 200]), shape of labels:<built-in method size of Tensor object at 0x7f037dfce390>\n",
            "shape of out:; torch.Size([5, 3, 200, 200]), shape of labels:<built-in method size of Tensor object at 0x7f037dfce390>\n",
            "shape of out:; torch.Size([5, 3, 200, 200]), shape of labels:<built-in method size of Tensor object at 0x7f037dfce390>\n",
            "shape of out:; torch.Size([5, 3, 200, 200]), shape of labels:<built-in method size of Tensor object at 0x7f037dfce390>\n",
            "shape of out:; torch.Size([5, 3, 200, 200]), shape of labels:<built-in method size of Tensor object at 0x7f037dfce390>\n",
            "shape of out:; torch.Size([5, 3, 200, 200]), shape of labels:<built-in method size of Tensor object at 0x7f037dfce390>\n",
            "shape of out:; torch.Size([5, 3, 200, 200]), shape of labels:<built-in method size of Tensor object at 0x7f037dfce390>\n",
            "shape of out:; torch.Size([5, 3, 200, 200]), shape of labels:<built-in method size of Tensor object at 0x7f037dfce390>\n",
            "shape of out:; torch.Size([5, 3, 200, 200]), shape of labels:<built-in method size of Tensor object at 0x7f037dfce390>\n",
            "shape of out:; torch.Size([5, 3, 200, 200]), shape of labels:<built-in method size of Tensor object at 0x7f037dfce390>\n",
            "shape of out:; torch.Size([5, 3, 200, 200]), shape of labels:<built-in method size of Tensor object at 0x7f037dfce390>\n",
            "shape of out:; torch.Size([5, 3, 200, 200]), shape of labels:<built-in method size of Tensor object at 0x7f037dfce390>\n",
            "shape of out:; torch.Size([5, 3, 200, 200]), shape of labels:<built-in method size of Tensor object at 0x7f037dfce390>\n",
            "shape of out:; torch.Size([5, 3, 200, 200]), shape of labels:<built-in method size of Tensor object at 0x7f037dfce390>\n",
            "shape of out:; torch.Size([5, 3, 200, 200]), shape of labels:<built-in method size of Tensor object at 0x7f037dfce390>\n",
            "shape of out:; torch.Size([5, 3, 200, 200]), shape of labels:<built-in method size of Tensor object at 0x7f037dfce390>\n",
            "shape of out:; torch.Size([5, 3, 200, 200]), shape of labels:<built-in method size of Tensor object at 0x7f037dfce390>\n",
            "shape of out:; torch.Size([5, 3, 200, 200]), shape of labels:<built-in method size of Tensor object at 0x7f037dfce390>\n",
            "shape of out:; torch.Size([5, 3, 200, 200]), shape of labels:<built-in method size of Tensor object at 0x7f037dfce390>\n",
            "shape of out:; torch.Size([5, 3, 200, 200]), shape of labels:<built-in method size of Tensor object at 0x7f037dfce390>\n",
            "shape of out:; torch.Size([5, 3, 200, 200]), shape of labels:<built-in method size of Tensor object at 0x7f037dfce390>\n",
            "shape of out:; torch.Size([5, 3, 200, 200]), shape of labels:<built-in method size of Tensor object at 0x7f037dfce390>\n",
            "shape of out:; torch.Size([5, 3, 200, 200]), shape of labels:<built-in method size of Tensor object at 0x7f037dfce390>\n",
            "shape of out:; torch.Size([5, 3, 200, 200]), shape of labels:<built-in method size of Tensor object at 0x7f037dfce390>\n",
            "shape of out:; torch.Size([5, 3, 200, 200]), shape of labels:<built-in method size of Tensor object at 0x7f037dfce390>\n",
            "shape of out:; torch.Size([5, 3, 200, 200]), shape of labels:<built-in method size of Tensor object at 0x7f037dfce390>\n",
            "shape of out:; torch.Size([5, 3, 200, 200]), shape of labels:<built-in method size of Tensor object at 0x7f037dfce390>\n",
            "shape of out:; torch.Size([5, 3, 200, 200]), shape of labels:<built-in method size of Tensor object at 0x7f037dfce390>\n",
            "shape of out:; torch.Size([5, 3, 200, 200]), shape of labels:<built-in method size of Tensor object at 0x7f037dfce390>\n",
            "shape of out:; torch.Size([5, 3, 200, 200]), shape of labels:<built-in method size of Tensor object at 0x7f037dfce390>\n",
            "shape of out:; torch.Size([5, 3, 200, 200]), shape of labels:<built-in method size of Tensor object at 0x7f037dfce390>\n",
            "shape of out:; torch.Size([5, 3, 200, 200]), shape of labels:<built-in method size of Tensor object at 0x7f037dfce390>\n",
            "shape of out:; torch.Size([5, 3, 200, 200]), shape of labels:<built-in method size of Tensor object at 0x7f037dfce390>\n",
            "shape of out:; torch.Size([5, 3, 200, 200]), shape of labels:<built-in method size of Tensor object at 0x7f037dfce390>\n",
            "shape of out:; torch.Size([5, 3, 200, 200]), shape of labels:<built-in method size of Tensor object at 0x7f037dfce390>\n",
            "shape of out:; torch.Size([5, 3, 200, 200]), shape of labels:<built-in method size of Tensor object at 0x7f037dfce390>\n",
            "shape of out:; torch.Size([5, 3, 200, 200]), shape of labels:<built-in method size of Tensor object at 0x7f037dfce390>\n",
            "shape of out:; torch.Size([5, 3, 200, 200]), shape of labels:<built-in method size of Tensor object at 0x7f037dfce390>\n",
            "shape of out:; torch.Size([5, 3, 200, 200]), shape of labels:<built-in method size of Tensor object at 0x7f037dfce390>\n",
            "shape of out:; torch.Size([5, 3, 200, 200]), shape of labels:<built-in method size of Tensor object at 0x7f037dfce390>\n",
            "shape of out:; torch.Size([5, 3, 200, 200]), shape of labels:<built-in method size of Tensor object at 0x7f037dfce390>\n",
            "shape of out:; torch.Size([5, 3, 200, 200]), shape of labels:<built-in method size of Tensor object at 0x7f037dfce390>\n",
            "shape of out:; torch.Size([5, 3, 200, 200]), shape of labels:<built-in method size of Tensor object at 0x7f037dfce390>\n",
            "shape of out:; torch.Size([5, 3, 200, 200]), shape of labels:<built-in method size of Tensor object at 0x7f037dfce390>\n",
            "shape of out:; torch.Size([5, 3, 200, 200]), shape of labels:<built-in method size of Tensor object at 0x7f037dfce390>\n",
            "shape of out:; torch.Size([5, 3, 200, 200]), shape of labels:<built-in method size of Tensor object at 0x7f037dfce390>\n",
            "shape of out:; torch.Size([5, 3, 200, 200]), shape of labels:<built-in method size of Tensor object at 0x7f037dfce390>\n",
            "shape of out:; torch.Size([5, 3, 200, 200]), shape of labels:<built-in method size of Tensor object at 0x7f037dfce390>\n",
            "shape of out:; torch.Size([5, 3, 200, 200]), shape of labels:<built-in method size of Tensor object at 0x7f037dfce390>\n",
            "shape of out:; torch.Size([5, 3, 200, 200]), shape of labels:<built-in method size of Tensor object at 0x7f037dfce390>\n",
            "shape of out:; torch.Size([5, 3, 200, 200]), shape of labels:<built-in method size of Tensor object at 0x7f037dfce390>\n",
            "shape of out:; torch.Size([5, 3, 200, 200]), shape of labels:<built-in method size of Tensor object at 0x7f037dfce390>\n",
            "shape of out:; torch.Size([5, 3, 200, 200]), shape of labels:<built-in method size of Tensor object at 0x7f037dfce390>\n",
            "shape of out:; torch.Size([5, 3, 200, 200]), shape of labels:<built-in method size of Tensor object at 0x7f037dfce390>\n",
            "shape of out:; torch.Size([5, 3, 200, 200]), shape of labels:<built-in method size of Tensor object at 0x7f037dfce390>\n",
            "shape of out:; torch.Size([5, 3, 200, 200]), shape of labels:<built-in method size of Tensor object at 0x7f037dfce390>\n",
            "shape of out:; torch.Size([5, 3, 200, 200]), shape of labels:<built-in method size of Tensor object at 0x7f037dfce390>\n",
            "shape of out:; torch.Size([5, 3, 200, 200]), shape of labels:<built-in method size of Tensor object at 0x7f037dfce390>\n",
            "shape of out:; torch.Size([5, 3, 200, 200]), shape of labels:<built-in method size of Tensor object at 0x7f037dfce390>\n",
            "shape of out:; torch.Size([5, 3, 200, 200]), shape of labels:<built-in method size of Tensor object at 0x7f037dfce390>\n",
            "shape of out:; torch.Size([5, 3, 200, 200]), shape of labels:<built-in method size of Tensor object at 0x7f037dfce390>\n",
            "shape of out:; torch.Size([5, 3, 200, 200]), shape of labels:<built-in method size of Tensor object at 0x7f037dfce390>\n",
            "shape of out:; torch.Size([5, 3, 200, 200]), shape of labels:<built-in method size of Tensor object at 0x7f037dfce390>\n",
            "shape of out:; torch.Size([5, 3, 200, 200]), shape of labels:<built-in method size of Tensor object at 0x7f037dfce390>\n",
            "shape of out:; torch.Size([5, 3, 200, 200]), shape of labels:<built-in method size of Tensor object at 0x7f037dfce390>\n",
            "shape of out:; torch.Size([5, 3, 200, 200]), shape of labels:<built-in method size of Tensor object at 0x7f037dfce390>\n",
            "shape of out:; torch.Size([5, 3, 200, 200]), shape of labels:<built-in method size of Tensor object at 0x7f037dfce390>\n",
            "shape of out:; torch.Size([5, 3, 200, 200]), shape of labels:<built-in method size of Tensor object at 0x7f037dfce390>\n",
            "shape of out:; torch.Size([5, 3, 200, 200]), shape of labels:<built-in method size of Tensor object at 0x7f037dfce390>\n",
            "shape of out:; torch.Size([5, 3, 200, 200]), shape of labels:<built-in method size of Tensor object at 0x7f037dfce390>\n",
            "shape of out:; torch.Size([5, 3, 200, 200]), shape of labels:<built-in method size of Tensor object at 0x7f037dfce390>\n",
            "shape of out:; torch.Size([5, 3, 200, 200]), shape of labels:<built-in method size of Tensor object at 0x7f037dfce390>\n",
            "shape of out:; torch.Size([5, 3, 200, 200]), shape of labels:<built-in method size of Tensor object at 0x7f037dfce390>\n",
            "shape of out:; torch.Size([5, 3, 200, 200]), shape of labels:<built-in method size of Tensor object at 0x7f037dfce390>\n",
            "shape of out:; torch.Size([5, 3, 200, 200]), shape of labels:<built-in method size of Tensor object at 0x7f037dfce390>\n",
            "shape of out:; torch.Size([5, 3, 200, 200]), shape of labels:<built-in method size of Tensor object at 0x7f037dfce390>\n",
            "shape of out:; torch.Size([5, 3, 200, 200]), shape of labels:<built-in method size of Tensor object at 0x7f037dfce390>\n",
            "shape of out:; torch.Size([5, 3, 200, 200]), shape of labels:<built-in method size of Tensor object at 0x7f037dfce390>\n",
            "shape of out:; torch.Size([5, 3, 200, 200]), shape of labels:<built-in method size of Tensor object at 0x7f037dfce390>\n",
            "shape of out:; torch.Size([5, 3, 200, 200]), shape of labels:<built-in method size of Tensor object at 0x7f037dfce390>\n",
            "shape of out:; torch.Size([5, 3, 200, 200]), shape of labels:<built-in method size of Tensor object at 0x7f037dfce390>\n",
            "shape of out:; torch.Size([5, 3, 200, 200]), shape of labels:<built-in method size of Tensor object at 0x7f037dfce390>\n",
            "shape of out:; torch.Size([5, 3, 200, 200]), shape of labels:<built-in method size of Tensor object at 0x7f037dfce390>\n",
            "shape of out:; torch.Size([5, 3, 200, 200]), shape of labels:<built-in method size of Tensor object at 0x7f037dfce390>\n",
            "shape of out:; torch.Size([5, 3, 200, 200]), shape of labels:<built-in method size of Tensor object at 0x7f037dfce390>\n",
            "shape of out:; torch.Size([5, 3, 200, 200]), shape of labels:<built-in method size of Tensor object at 0x7f037dfce390>\n",
            "shape of out:; torch.Size([5, 3, 200, 200]), shape of labels:<built-in method size of Tensor object at 0x7f037dfce390>\n",
            "shape of out:; torch.Size([5, 3, 200, 200]), shape of labels:<built-in method size of Tensor object at 0x7f037dfce390>\n",
            "shape of out:; torch.Size([5, 3, 200, 200]), shape of labels:<built-in method size of Tensor object at 0x7f037dfce390>\n",
            "shape of out:; torch.Size([5, 3, 200, 200]), shape of labels:<built-in method size of Tensor object at 0x7f037dfce390>\n",
            "shape of out:; torch.Size([5, 3, 200, 200]), shape of labels:<built-in method size of Tensor object at 0x7f037dfce390>\n",
            "shape of out:; torch.Size([5, 3, 200, 200]), shape of labels:<built-in method size of Tensor object at 0x7f037dfce390>\n",
            "shape of out:; torch.Size([5, 3, 200, 200]), shape of labels:<built-in method size of Tensor object at 0x7f037dfce390>\n",
            "shape of out:; torch.Size([5, 3, 200, 200]), shape of labels:<built-in method size of Tensor object at 0x7f037dfce390>\n",
            "shape of out:; torch.Size([5, 3, 200, 200]), shape of labels:<built-in method size of Tensor object at 0x7f037dfce390>\n",
            "shape of out:; torch.Size([5, 3, 200, 200]), shape of labels:<built-in method size of Tensor object at 0x7f037dfce390>\n",
            "shape of out:; torch.Size([5, 3, 200, 200]), shape of labels:<built-in method size of Tensor object at 0x7f037dfce390>\n",
            "shape of out:; torch.Size([5, 3, 200, 200]), shape of labels:<built-in method size of Tensor object at 0x7f037dfce390>\n",
            "shape of out:; torch.Size([5, 3, 200, 200]), shape of labels:<built-in method size of Tensor object at 0x7f037dfce390>\n",
            "shape of out:; torch.Size([5, 3, 200, 200]), shape of labels:<built-in method size of Tensor object at 0x7f037dfce390>\n",
            "shape of out:; torch.Size([5, 3, 200, 200]), shape of labels:<built-in method size of Tensor object at 0x7f037dfce390>\n",
            "shape of out:; torch.Size([5, 3, 200, 200]), shape of labels:<built-in method size of Tensor object at 0x7f037dfce390>\n",
            "shape of out:; torch.Size([5, 3, 200, 200]), shape of labels:<built-in method size of Tensor object at 0x7f037dfce390>\n",
            "shape of out:; torch.Size([5, 3, 200, 200]), shape of labels:<built-in method size of Tensor object at 0x7f037dfce390>\n",
            "shape of out:; torch.Size([5, 3, 200, 200]), shape of labels:<built-in method size of Tensor object at 0x7f037dfce390>\n",
            "shape of out:; torch.Size([5, 3, 200, 200]), shape of labels:<built-in method size of Tensor object at 0x7f037dfce390>\n",
            "shape of out:; torch.Size([5, 3, 200, 200]), shape of labels:<built-in method size of Tensor object at 0x7f037dfce390>\n",
            "shape of out:; torch.Size([5, 3, 200, 200]), shape of labels:<built-in method size of Tensor object at 0x7f037dfce390>\n",
            "shape of out:; torch.Size([5, 3, 200, 200]), shape of labels:<built-in method size of Tensor object at 0x7f037dfce390>\n",
            "shape of out:; torch.Size([5, 3, 200, 200]), shape of labels:<built-in method size of Tensor object at 0x7f037dfce390>\n",
            "shape of out:; torch.Size([5, 3, 200, 200]), shape of labels:<built-in method size of Tensor object at 0x7f037dfce390>\n",
            "shape of out:; torch.Size([5, 3, 200, 200]), shape of labels:<built-in method size of Tensor object at 0x7f037dfce390>\n",
            "shape of out:; torch.Size([5, 3, 200, 200]), shape of labels:<built-in method size of Tensor object at 0x7f037dfce390>\n",
            "shape of out:; torch.Size([5, 3, 200, 200]), shape of labels:<built-in method size of Tensor object at 0x7f037dfce390>\n",
            "shape of out:; torch.Size([5, 3, 200, 200]), shape of labels:<built-in method size of Tensor object at 0x7f037dfce390>\n",
            "shape of out:; torch.Size([5, 3, 200, 200]), shape of labels:<built-in method size of Tensor object at 0x7f037dfce390>\n",
            "shape of out:; torch.Size([5, 3, 200, 200]), shape of labels:<built-in method size of Tensor object at 0x7f037dfce390>\n",
            "shape of out:; torch.Size([5, 3, 200, 200]), shape of labels:<built-in method size of Tensor object at 0x7f037dfce390>\n",
            "shape of out:; torch.Size([5, 3, 200, 200]), shape of labels:<built-in method size of Tensor object at 0x7f037dfce390>\n",
            "shape of out:; torch.Size([5, 3, 200, 200]), shape of labels:<built-in method size of Tensor object at 0x7f037dfce390>\n",
            "shape of out:; torch.Size([5, 3, 200, 200]), shape of labels:<built-in method size of Tensor object at 0x7f037dfce390>\n",
            "shape of out:; torch.Size([5, 3, 200, 200]), shape of labels:<built-in method size of Tensor object at 0x7f037dfce390>\n",
            "shape of out:; torch.Size([5, 3, 200, 200]), shape of labels:<built-in method size of Tensor object at 0x7f037dfce390>\n",
            "shape of out:; torch.Size([5, 3, 200, 200]), shape of labels:<built-in method size of Tensor object at 0x7f037dfce390>\n",
            "shape of out:; torch.Size([5, 3, 200, 200]), shape of labels:<built-in method size of Tensor object at 0x7f037dfce390>\n",
            "shape of out:; torch.Size([5, 3, 200, 200]), shape of labels:<built-in method size of Tensor object at 0x7f037dfce390>\n",
            "shape of out:; torch.Size([5, 3, 200, 200]), shape of labels:<built-in method size of Tensor object at 0x7f037dfce390>\n",
            "shape of out:; torch.Size([5, 3, 200, 200]), shape of labels:<built-in method size of Tensor object at 0x7f037dfce390>\n",
            "shape of out:; torch.Size([5, 3, 200, 200]), shape of labels:<built-in method size of Tensor object at 0x7f037dfce390>\n",
            "shape of out:; torch.Size([5, 3, 200, 200]), shape of labels:<built-in method size of Tensor object at 0x7f037dfce390>\n",
            "shape of out:; torch.Size([5, 3, 200, 200]), shape of labels:<built-in method size of Tensor object at 0x7f037dfce390>\n",
            "shape of out:; torch.Size([5, 3, 200, 200]), shape of labels:<built-in method size of Tensor object at 0x7f037dfce390>\n",
            "shape of out:; torch.Size([5, 3, 200, 200]), shape of labels:<built-in method size of Tensor object at 0x7f037dfce390>\n",
            "shape of out:; torch.Size([5, 3, 200, 200]), shape of labels:<built-in method size of Tensor object at 0x7f037dfce390>\n",
            "shape of out:; torch.Size([5, 3, 200, 200]), shape of labels:<built-in method size of Tensor object at 0x7f037dfce390>\n",
            "shape of out:; torch.Size([5, 3, 200, 200]), shape of labels:<built-in method size of Tensor object at 0x7f037dfce390>\n",
            "shape of out:; torch.Size([5, 3, 200, 200]), shape of labels:<built-in method size of Tensor object at 0x7f037dfce390>\n",
            "shape of out:; torch.Size([5, 3, 200, 200]), shape of labels:<built-in method size of Tensor object at 0x7f037dfce390>\n",
            "shape of out:; torch.Size([5, 3, 200, 200]), shape of labels:<built-in method size of Tensor object at 0x7f037dfce390>\n",
            "shape of out:; torch.Size([5, 3, 200, 200]), shape of labels:<built-in method size of Tensor object at 0x7f037dfce390>\n",
            "shape of out:; torch.Size([5, 3, 200, 200]), shape of labels:<built-in method size of Tensor object at 0x7f037dfce390>\n",
            "shape of out:; torch.Size([5, 3, 200, 200]), shape of labels:<built-in method size of Tensor object at 0x7f037dfce390>\n",
            "shape of out:; torch.Size([5, 3, 200, 200]), shape of labels:<built-in method size of Tensor object at 0x7f037dfce390>\n",
            "shape of out:; torch.Size([5, 3, 200, 200]), shape of labels:<built-in method size of Tensor object at 0x7f037dfce390>\n",
            "shape of out:; torch.Size([5, 3, 200, 200]), shape of labels:<built-in method size of Tensor object at 0x7f037dfce390>\n",
            "shape of out:; torch.Size([5, 3, 200, 200]), shape of labels:<built-in method size of Tensor object at 0x7f037dfce390>\n",
            "shape of out:; torch.Size([5, 3, 200, 200]), shape of labels:<built-in method size of Tensor object at 0x7f037dfce390>\n",
            "shape of out:; torch.Size([5, 3, 200, 200]), shape of labels:<built-in method size of Tensor object at 0x7f037dfce390>\n",
            "shape of out:; torch.Size([5, 3, 200, 200]), shape of labels:<built-in method size of Tensor object at 0x7f037dfce390>\n",
            "shape of out:; torch.Size([5, 3, 200, 200]), shape of labels:<built-in method size of Tensor object at 0x7f037dfce390>\n",
            "shape of out:; torch.Size([5, 3, 200, 200]), shape of labels:<built-in method size of Tensor object at 0x7f037dfce390>\n",
            "shape of out:; torch.Size([5, 3, 200, 200]), shape of labels:<built-in method size of Tensor object at 0x7f037dfce390>\n",
            "shape of out:; torch.Size([5, 3, 200, 200]), shape of labels:<built-in method size of Tensor object at 0x7f037dfce390>\n",
            "shape of out:; torch.Size([5, 3, 200, 200]), shape of labels:<built-in method size of Tensor object at 0x7f037dfce390>\n",
            "shape of out:; torch.Size([5, 3, 200, 200]), shape of labels:<built-in method size of Tensor object at 0x7f037dfce390>\n"
          ]
        },
        {
          "output_type": "error",
          "ename": "KeyboardInterrupt",
          "evalue": "",
          "traceback": [
            "\u001b[0;31m---------------------------------------------------------------------------\u001b[0m",
            "\u001b[0;31mKeyboardInterrupt\u001b[0m                         Traceback (most recent call last)",
            "\u001b[0;32m<ipython-input-40-803b5057343d>\u001b[0m in \u001b[0;36m<cell line: 8>\u001b[0;34m()\u001b[0m\n\u001b[1;32m     12\u001b[0m     \u001b[0mprint\u001b[0m\u001b[0;34m(\u001b[0m\u001b[0;34mf\"shape of out:; {out.shape}, shape of labels:{labels.size}\"\u001b[0m\u001b[0;34m)\u001b[0m\u001b[0;34m\u001b[0m\u001b[0;34m\u001b[0m\u001b[0m\n\u001b[1;32m     13\u001b[0m     \u001b[0mloss\u001b[0m \u001b[0;34m=\u001b[0m \u001b[0mL\u001b[0m\u001b[0;34m.\u001b[0m\u001b[0mlovasz_softmax\u001b[0m\u001b[0;34m(\u001b[0m\u001b[0mout\u001b[0m\u001b[0;34m,\u001b[0m \u001b[0mlabels\u001b[0m\u001b[0;34m,\u001b[0m \u001b[0mignore\u001b[0m\u001b[0;34m=\u001b[0m\u001b[0;36m255\u001b[0m\u001b[0;34m)\u001b[0m\u001b[0;34m\u001b[0m\u001b[0;34m\u001b[0m\u001b[0m\n\u001b[0;32m---> 14\u001b[0;31m     \u001b[0mloss\u001b[0m\u001b[0;34m.\u001b[0m\u001b[0mbackward\u001b[0m\u001b[0;34m(\u001b[0m\u001b[0;34m)\u001b[0m\u001b[0;34m\u001b[0m\u001b[0;34m\u001b[0m\u001b[0m\n\u001b[0m\u001b[1;32m     15\u001b[0m     \u001b[0moptimizer\u001b[0m\u001b[0;34m.\u001b[0m\u001b[0mstep\u001b[0m\u001b[0;34m(\u001b[0m\u001b[0;34m)\u001b[0m\u001b[0;34m\u001b[0m\u001b[0;34m\u001b[0m\u001b[0m\n\u001b[1;32m     16\u001b[0m \u001b[0;34m\u001b[0m\u001b[0m\n",
            "\u001b[0;32m/usr/local/lib/python3.10/dist-packages/torch/_tensor.py\u001b[0m in \u001b[0;36mbackward\u001b[0;34m(self, gradient, retain_graph, create_graph, inputs)\u001b[0m\n\u001b[1;32m    490\u001b[0m                 \u001b[0minputs\u001b[0m\u001b[0;34m=\u001b[0m\u001b[0minputs\u001b[0m\u001b[0;34m,\u001b[0m\u001b[0;34m\u001b[0m\u001b[0;34m\u001b[0m\u001b[0m\n\u001b[1;32m    491\u001b[0m             )\n\u001b[0;32m--> 492\u001b[0;31m         torch.autograd.backward(\n\u001b[0m\u001b[1;32m    493\u001b[0m             \u001b[0mself\u001b[0m\u001b[0;34m,\u001b[0m \u001b[0mgradient\u001b[0m\u001b[0;34m,\u001b[0m \u001b[0mretain_graph\u001b[0m\u001b[0;34m,\u001b[0m \u001b[0mcreate_graph\u001b[0m\u001b[0;34m,\u001b[0m \u001b[0minputs\u001b[0m\u001b[0;34m=\u001b[0m\u001b[0minputs\u001b[0m\u001b[0;34m\u001b[0m\u001b[0;34m\u001b[0m\u001b[0m\n\u001b[1;32m    494\u001b[0m         )\n",
            "\u001b[0;32m/usr/local/lib/python3.10/dist-packages/torch/autograd/__init__.py\u001b[0m in \u001b[0;36mbackward\u001b[0;34m(tensors, grad_tensors, retain_graph, create_graph, grad_variables, inputs)\u001b[0m\n\u001b[1;32m    249\u001b[0m     \u001b[0;31m# some Python versions print out the first line of a multi-line function\u001b[0m\u001b[0;34m\u001b[0m\u001b[0;34m\u001b[0m\u001b[0m\n\u001b[1;32m    250\u001b[0m     \u001b[0;31m# calls in the traceback and some print out the last line\u001b[0m\u001b[0;34m\u001b[0m\u001b[0;34m\u001b[0m\u001b[0m\n\u001b[0;32m--> 251\u001b[0;31m     Variable._execution_engine.run_backward(  # Calls into the C++ engine to run the backward pass\n\u001b[0m\u001b[1;32m    252\u001b[0m         \u001b[0mtensors\u001b[0m\u001b[0;34m,\u001b[0m\u001b[0;34m\u001b[0m\u001b[0;34m\u001b[0m\u001b[0m\n\u001b[1;32m    253\u001b[0m         \u001b[0mgrad_tensors_\u001b[0m\u001b[0;34m,\u001b[0m\u001b[0;34m\u001b[0m\u001b[0;34m\u001b[0m\u001b[0m\n",
            "\u001b[0;31mKeyboardInterrupt\u001b[0m: "
          ]
        }
      ],
      "source": [
        "m.load_state_dict(init_state_dict)\n",
        "\n",
        "optimizer = Adam(m.parameters(), lr=0.005)\n",
        "\n",
        "loss_plot = []\n",
        "iou_plot = []\n",
        "\n",
        "for iter in tqdm(range(1000)):\n",
        "    optimizer.zero_grad()\n",
        "    out = m(feats)\n",
        "    out = F.softmax(out, dim=1)\n",
        "    print(f\"shape of out:; {out.shape}, shape of labels:{labels.shape}\")\n",
        "    loss = L.lovasz_softmax(out, labels, ignore=255)\n",
        "    loss.backward()\n",
        "    optimizer.step()\n",
        "\n",
        "    _, preds = out.data.max(1)\n",
        "    loss_plot.append(loss.item())\n",
        "    iou_plot.append(L.iou_binary(preds, labels, ignore=255, per_image=False))"
      ]
    },
    {
      "cell_type": "code",
      "execution_count": 22,
      "metadata": {
        "ExecuteTime": {
          "end_time": "2019-02-26T15:33:56.631835Z",
          "start_time": "2019-02-26T15:33:56.360155Z"
        },
        "id": "mh8bLpD1WBHE",
        "outputId": "95182db5-9588-4ef5-bb7d-5fb8d6612910",
        "colab": {
          "base_uri": "https://localhost:8080/",
          "height": 533
        }
      },
      "outputs": [
        {
          "output_type": "execute_result",
          "data": {
            "text/plain": [
              "Text(0.5, 0, 'iteration')"
            ]
          },
          "metadata": {},
          "execution_count": 22
        },
        {
          "output_type": "display_data",
          "data": {
            "text/plain": [
              "<Figure size 1000x500 with 2 Axes>"
            ],
            "image/png": "[encoded data removed]"
          },
          "metadata": {}
        }
      ],
      "source": [
        "plt.figure(figsize=(10, 5))\n",
        "plt.suptitle(u'Lovász-Softmax training')\n",
        "plt.subplot(1, 2, 1)\n",
        "plt.plot(loss_plot)\n",
        "plt.ylabel('loss')\n",
        "plt.xlabel('iteration')\n",
        "\n",
        "plt.subplot(1, 2, 2)\n",
        "plt.plot(iou_plot)\n",
        "plt.ylabel('Image-IoU (%)')\n",
        "plt.xlabel('iteration')"
      ]
    },
    {
      "cell_type": "markdown",
      "metadata": {
        "id": "wxuo3SYDWBHF"
      },
      "source": [
        "### Final prediction"
      ]
    },
    {
      "cell_type": "code",
      "execution_count": 23,
      "metadata": {
        "ExecuteTime": {
          "end_time": "2019-02-26T15:33:56.648307Z",
          "start_time": "2019-02-26T15:33:56.632884Z"
        },
        "id": "8NDCRt_wWBHG",
        "outputId": "41c18d01-4a15-4192-a7d2-c35bccb799b0",
        "colab": {
          "base_uri": "https://localhost:8080/"
        }
      },
      "outputs": [
        {
          "output_type": "stream",
          "name": "stdout",
          "text": [
            "Final batch-IoUs: [86.95291597 43.86586792 29.47017568]\n",
            "Final mIoU: 53.4296531905249\n"
          ]
        }
      ],
      "source": [
        "_, preds = m(feats).data.max(1)\n",
        "print(\"Final batch-IoUs:\", L.iou(preds, labels, C, ignore=255, per_image=False))\n",
        "print(\"Final mIoU:\", np.mean(L.iou(preds, labels, C, ignore=255, per_image=False)))"
      ]
    },
    {
      "cell_type": "code",
      "execution_count": 24,
      "metadata": {
        "ExecuteTime": {
          "end_time": "2019-02-26T15:33:56.692385Z",
          "start_time": "2019-02-26T15:33:56.649951Z"
        },
        "id": "2rAwn4AbWBHG",
        "outputId": "b4a0d6b2-c457-4e80-d4c0-4bb50bb12804",
        "colab": {
          "base_uri": "https://localhost:8080/",
          "height": 222
        }
      },
      "outputs": [
        {
          "output_type": "execute_result",
          "data": {
            "text/plain": [
              "<PIL.Image.Image image mode=RGB size=1005x205>"
            ],
            "image/png": "[encoded data removed]"
          },
          "metadata": {},
          "execution_count": 24
        }
      ],
      "source": [
        "pil_grid([pil(f.byte().cpu().numpy()) for f in preds], 5, margin=1)"
      ]
    },
    {
      "cell_type": "markdown",
      "metadata": {
        "id": "ST3VK030WBHH"
      },
      "source": [
        "## Cross-entropy training"
      ]
    },
    {
      "cell_type": "code",
      "execution_count": 25,
      "metadata": {
        "ExecuteTime": {
          "end_time": "2019-02-26T15:33:58.069288Z",
          "start_time": "2019-02-26T15:33:56.694412Z"
        },
        "id": "m0DZEHElWBHI",
        "outputId": "c556a3d5-6069-4823-aec0-0a1b373379d6",
        "colab": {
          "base_uri": "https://localhost:8080/",
          "height": 103,
          "referenced_widgets": [
            "617aa736f0c74af69d4462bb643c12c4",
            "01ea1801157c48c795bbec1bbd4e21be",
            "bbc62e41b587474f9b15f9767df3117f",
            "fba6a96d64ca41fab3fc0e5e8beedbbc",
            "0d25e23b023848f08d3b807de88eedc5",
            "c37f3be76fb148a3ae00648ba6c1827e",
            "b69ee554f0204d70960f4fa8a2ee881f",
            "6afa6f1f86f24c8dab93e935f5e739cd",
            "3f934120a3494be7afcaa422097b3ed4",
            "d901d7e3751b4daeb18357609eb6182e",
            "7d2d0f4c84ee4581bd3ec1a2981cf8b4"
          ]
        }
      },
      "outputs": [
        {
          "output_type": "stream",
          "name": "stderr",
          "text": [
            "<ipython-input-25-525c211dac09>:8: TqdmDeprecationWarning: This function will be removed in tqdm==5.0.0\n",
            "Please use `tqdm.notebook.tqdm` instead of `tqdm.tqdm_notebook`\n",
            "  for iter in tqdm(range(1000)):\n"
          ]
        },
        {
          "output_type": "display_data",
          "data": {
            "text/plain": [
              "  0%|          | 0/1000 [00:00<?, ?it/s]"
            ],
            "application/vnd.jupyter.widget-view+json": {
              "version_major": 2,
              "version_minor": 0,
              "model_id": "617aa736f0c74af69d4462bb643c12c4"
            }
          },
          "metadata": {}
        }
      ],
      "source": [
        "m.load_state_dict(init_state_dict)\n",
        "\n",
        "optimizer = Adam(m.parameters(), lr=0.005)\n",
        "\n",
        "loss_plot_x = []\n",
        "iou_plot_x = []\n",
        "\n",
        "for iter in tqdm(range(1000)):\n",
        "    optimizer.zero_grad()\n",
        "    out = m(feats)\n",
        "    loss = L.xloss(out, labels, ignore=255)\n",
        "    loss.backward()\n",
        "    optimizer.step()\n",
        "\n",
        "    _, preds = out.data.max(1)\n",
        "    loss_plot_x.append(loss.item())\n",
        "    iou_plot_x.append(L.iou_binary(preds, labels, ignore=255, per_image=False))"
      ]
    },
    {
      "cell_type": "code",
      "execution_count": 26,
      "metadata": {
        "ExecuteTime": {
          "end_time": "2019-02-26T15:33:58.283458Z",
          "start_time": "2019-02-26T15:33:58.070549Z"
        },
        "id": "-aI0kZWMWBHK",
        "outputId": "342e9bc0-ab85-4d87-d22f-0cd2649cc5ac",
        "colab": {
          "base_uri": "https://localhost:8080/",
          "height": 533
        }
      },
      "outputs": [
        {
          "output_type": "execute_result",
          "data": {
            "text/plain": [
              "Text(0.5, 0, 'iteration')"
            ]
          },
          "metadata": {},
          "execution_count": 26
        },
        {
          "output_type": "display_data",
          "data": {
            "text/plain": [
              "<Figure size 1000x500 with 2 Axes>"
            ],
            "image/png": "[encoded data removed]"
          },
          "metadata": {}
        }
      ],
      "source": [
        "plt.figure(figsize=(10, 5))\n",
        "plt.suptitle(u'Binary cross-entropy training')\n",
        "plt.subplot(1, 2, 1)\n",
        "plt.plot(loss_plot_x)\n",
        "plt.ylabel('loss')\n",
        "plt.xlabel('iteration')\n",
        "\n",
        "plt.subplot(1, 2, 2)\n",
        "plt.plot(iou_plot_x)\n",
        "plt.ylabel('Image-IoU (%)')\n",
        "plt.xlabel('iteration')"
      ]
    },
    {
      "cell_type": "markdown",
      "metadata": {
        "id": "A6N4tbgQWBHL"
      },
      "source": [
        "### Final prediction"
      ]
    },
    {
      "cell_type": "code",
      "execution_count": 27,
      "metadata": {
        "ExecuteTime": {
          "end_time": "2019-02-26T15:33:58.304004Z",
          "start_time": "2019-02-26T15:33:58.284925Z"
        },
        "id": "DhdN5-ERWBHL",
        "outputId": "b931701b-0ed9-4695-c4a0-45ac20fb294f",
        "colab": {
          "base_uri": "https://localhost:8080/"
        }
      },
      "outputs": [
        {
          "output_type": "stream",
          "name": "stdout",
          "text": [
            "Final batch-IoUs: [88.24866656 40.82984517 24.17266187]\n",
            "Final mIoU: 51.083724531176074\n"
          ]
        }
      ],
      "source": [
        "_, preds = m(feats).data.max(1)\n",
        "print(\"Final batch-IoUs:\", L.iou(preds, labels, C, ignore=255, per_image=False))\n",
        "print(\"Final mIoU:\", np.mean(L.iou(preds, labels, C, ignore=255, per_image=False)))"
      ]
    },
    {
      "cell_type": "code",
      "execution_count": 28,
      "metadata": {
        "ExecuteTime": {
          "end_time": "2019-02-26T15:33:58.350620Z",
          "start_time": "2019-02-26T15:33:58.305850Z"
        },
        "id": "8A1HOE0sWBHM",
        "outputId": "7c4e03ea-8f01-4403-db20-05dd3ce47cf4",
        "colab": {
          "base_uri": "https://localhost:8080/",
          "height": 222
        }
      },
      "outputs": [
        {
          "output_type": "execute_result",
          "data": {
            "text/plain": [
              "<PIL.Image.Image image mode=RGB size=1005x205>"
            ],
            "image/png": "[encoded data removed]"
          },
          "metadata": {},
          "execution_count": 28
        }
      ],
      "source": [
        "pil_grid([pil(f.byte().cpu().numpy()) for f in preds], 5, margin=1)"
      ]
    },
    {
      "cell_type": "code",
      "execution_count": 28,
      "metadata": {
        "collapsed": true,
        "id": "qEVsUVTeWBHM"
      },
      "outputs": [],
      "source": []
    }
  ],
  "metadata": {
    "anaconda-cloud": {},
    "kernelspec": {
      "display_name": "Python [conda env:lamlearn]",
      "language": "python",
      "name": "conda-env-lamlearn-py"
    },
    "language_info": {
      "codemirror_mode": {
        "name": "ipython",
        "version": 3
      },
      "file_extension": ".py",
      "mimetype": "text/x-python",
      "name": "python",
      "nbconvert_exporter": "python",
      "pygments_lexer": "ipython3",
      "version": "3.6.8"
    },
    "latex_envs": {
      "LaTeX_envs_menu_present": true,
      "autoclose": false,
      "autocomplete": true,
      "bibliofile": "biblio.bib",
      "cite_by": "apalike",
      "current_citInitial": 1,
      "eqLabelWithNumbers": true,
      "eqNumInitial": 1,
      "hotkeys": {
        "equation": "Ctrl-E",
        "itemize": "Ctrl-I"
      },
      "labels_anchors": false,
      "latex_user_defs": false,
      "report_style_numbering": false,
      "user_envs_cfg": false
    },
    "colab": {
      "provenance": []
    },
    "widgets": {
      "application/vnd.jupyter.widget-state+json": {
        "bd4fedb3587c46f08561216b5c95f48d": {
          "model_module": "@jupyter-widgets/controls",
          "model_name": "HBoxModel",
          "model_module_version": "1.5.0",
          "state": {
            "_dom_classes": [],
            "_model_module": "@jupyter-widgets/controls",
            "_model_module_version": "1.5.0",
            "_model_name": "HBoxModel",
            "_view_count": null,
            "_view_module": "@jupyter-widgets/controls",
            "_view_module_version": "1.5.0",
            "_view_name": "HBoxView",
            "box_style": "",
            "children": [
              "IPY_MODEL_e80a1f1b6a034f72b890d4bf56b61ce4",
              "IPY_MODEL_77a9c316bb65490f8677c8b7e4d8e4d4",
              "IPY_MODEL_3a4c3402daa14251b0afd6449fb82d08"
            ],
            "layout": "IPY_MODEL_f9147d855a7848b79327a2436d9b6a1f"
          }
        },
        "e80a1f1b6a034f72b890d4bf56b61ce4": {
          "model_module": "@jupyter-widgets/controls",
          "model_name": "HTMLModel",
          "model_module_version": "1.5.0",
          "state": {
            "_dom_classes": [],
            "_model_module": "@jupyter-widgets/controls",
            "_model_module_version": "1.5.0",
            "_model_name": "HTMLModel",
            "_view_count": null,
            "_view_module": "@jupyter-widgets/controls",
            "_view_module_version": "1.5.0",
            "_view_name": "HTMLView",
            "description": "",
            "description_tooltip": null,
            "layout": "IPY_MODEL_a9a1d059d09a489a9c9f6c1679eec56c",
            "placeholder": "​",
            "style": "IPY_MODEL_0307ab05aaab4b79bfb16dd3fb127d0c",
            "value": " 22%"
          }
        },
        "77a9c316bb65490f8677c8b7e4d8e4d4": {
          "model_module": "@jupyter-widgets/controls",
          "model_name": "FloatProgressModel",
          "model_module_version": "1.5.0",
          "state": {
            "_dom_classes": [],
            "_model_module": "@jupyter-widgets/controls",
            "_model_module_version": "1.5.0",
            "_model_name": "FloatProgressModel",
            "_view_count": null,
            "_view_module": "@jupyter-widgets/controls",
            "_view_module_version": "1.5.0",
            "_view_name": "ProgressView",
            "bar_style": "danger",
            "description": "",
            "description_tooltip": null,
            "layout": "IPY_MODEL_1a4570315de84e95afd7bb4121f4b407",
            "max": 1000,
            "min": 0,
            "orientation": "horizontal",
            "style": "IPY_MODEL_3d5e4351c77f496e9f748eaa4d3b14cf",
            "value": 219
          }
        },
        "3a4c3402daa14251b0afd6449fb82d08": {
          "model_module": "@jupyter-widgets/controls",
          "model_name": "HTMLModel",
          "model_module_version": "1.5.0",
          "state": {
            "_dom_classes": [],
            "_model_module": "@jupyter-widgets/controls",
            "_model_module_version": "1.5.0",
            "_model_name": "HTMLModel",
            "_view_count": null,
            "_view_module": "@jupyter-widgets/controls",
            "_view_module_version": "1.5.0",
            "_view_name": "HTMLView",
            "description": "",
            "description_tooltip": null,
            "layout": "IPY_MODEL_bd1d1ece393449fea192e4a881dc57a5",
            "placeholder": "​",
            "style": "IPY_MODEL_0fa551c76d904b8a9f36ecdab4e59558",
            "value": " 219/1000 [00:36&lt;05:54,  2.20it/s]"
          }
        },
        "f9147d855a7848b79327a2436d9b6a1f": {
          "model_module": "@jupyter-widgets/base",
          "model_name": "LayoutModel",
          "model_module_version": "1.2.0",
          "state": {
            "_model_module": "@jupyter-widgets/base",
            "_model_module_version": "1.2.0",
            "_model_name": "LayoutModel",
            "_view_count": null,
            "_view_module": "@jupyter-widgets/base",
            "_view_module_version": "1.2.0",
            "_view_name": "LayoutView",
            "align_content": null,
            "align_items": null,
            "align_self": null,
            "border": null,
            "bottom": null,
            "display": null,
            "flex": null,
            "flex_flow": null,
            "grid_area": null,
            "grid_auto_columns": null,
            "grid_auto_flow": null,
            "grid_auto_rows": null,
            "grid_column": null,
            "grid_gap": null,
            "grid_row": null,
            "grid_template_areas": null,
            "grid_template_columns": null,
            "grid_template_rows": null,
            "height": null,
            "justify_content": null,
            "justify_items": null,
            "left": null,
            "margin": null,
            "max_height": null,
            "max_width": null,
            "min_height": null,
            "min_width": null,
            "object_fit": null,
            "object_position": null,
            "order": null,
            "overflow": null,
            "overflow_x": null,
            "overflow_y": null,
            "padding": null,
            "right": null,
            "top": null,
            "visibility": null,
            "width": null
          }
        },
        "a9a1d059d09a489a9c9f6c1679eec56c": {
          "model_module": "@jupyter-widgets/base",
          "model_name": "LayoutModel",
          "model_module_version": "1.2.0",
          "state": {
            "_model_module": "@jupyter-widgets/base",
            "_model_module_version": "1.2.0",
            "_model_name": "LayoutModel",
            "_view_count": null,
            "_view_module": "@jupyter-widgets/base",
            "_view_module_version": "1.2.0",
            "_view_name": "LayoutView",
            "align_content": null,
            "align_items": null,
            "align_self": null,
            "border": null,
            "bottom": null,
            "display": null,
            "flex": null,
            "flex_flow": null,
            "grid_area": null,
            "grid_auto_columns": null,
            "grid_auto_flow": null,
            "grid_auto_rows": null,
            "grid_column": null,
            "grid_gap": null,
            "grid_row": null,
            "grid_template_areas": null,
            "grid_template_columns": null,
            "grid_template_rows": null,
            "height": null,
            "justify_content": null,
            "justify_items": null,
            "left": null,
            "margin": null,
            "max_height": null,
            "max_width": null,
            "min_height": null,
            "min_width": null,
            "object_fit": null,
            "object_position": null,
            "order": null,
            "overflow": null,
            "overflow_x": null,
            "overflow_y": null,
            "padding": null,
            "right": null,
            "top": null,
            "visibility": null,
            "width": null
          }
        },
        "0307ab05aaab4b79bfb16dd3fb127d0c": {
          "model_module": "@jupyter-widgets/controls",
          "model_name": "DescriptionStyleModel",
          "model_module_version": "1.5.0",
          "state": {
            "_model_module": "@jupyter-widgets/controls",
            "_model_module_version": "1.5.0",
            "_model_name": "DescriptionStyleModel",
            "_view_count": null,
            "_view_module": "@jupyter-widgets/base",
            "_view_module_version": "1.2.0",
            "_view_name": "StyleView",
            "description_width": ""
          }
        },
        "1a4570315de84e95afd7bb4121f4b407": {
          "model_module": "@jupyter-widgets/base",
          "model_name": "LayoutModel",
          "model_module_version": "1.2.0",
          "state": {
            "_model_module": "@jupyter-widgets/base",
            "_model_module_version": "1.2.0",
            "_model_name": "LayoutModel",
            "_view_count": null,
            "_view_module": "@jupyter-widgets/base",
            "_view_module_version": "1.2.0",
            "_view_name": "LayoutView",
            "align_content": null,
            "align_items": null,
            "align_self": null,
            "border": null,
            "bottom": null,
            "display": null,
            "flex": null,
            "flex_flow": null,
            "grid_area": null,
            "grid_auto_columns": null,
            "grid_auto_flow": null,
            "grid_auto_rows": null,
            "grid_column": null,
            "grid_gap": null,
            "grid_row": null,
            "grid_template_areas": null,
            "grid_template_columns": null,
            "grid_template_rows": null,
            "height": null,
            "justify_content": null,
            "justify_items": null,
            "left": null,
            "margin": null,
            "max_height": null,
            "max_width": null,
            "min_height": null,
            "min_width": null,
            "object_fit": null,
            "object_position": null,
            "order": null,
            "overflow": null,
            "overflow_x": null,
            "overflow_y": null,
            "padding": null,
            "right": null,
            "top": null,
            "visibility": null,
            "width": null
          }
        },
        "3d5e4351c77f496e9f748eaa4d3b14cf": {
          "model_module": "@jupyter-widgets/controls",
          "model_name": "ProgressStyleModel",
          "model_module_version": "1.5.0",
          "state": {
            "_model_module": "@jupyter-widgets/controls",
            "_model_module_version": "1.5.0",
            "_model_name": "ProgressStyleModel",
            "_view_count": null,
            "_view_module": "@jupyter-widgets/base",
            "_view_module_version": "1.2.0",
            "_view_name": "StyleView",
            "bar_color": null,
            "description_width": ""
          }
        },
        "bd1d1ece393449fea192e4a881dc57a5": {
          "model_module": "@jupyter-widgets/base",
          "model_name": "LayoutModel",
          "model_module_version": "1.2.0",
          "state": {
            "_model_module": "@jupyter-widgets/base",
            "_model_module_version": "1.2.0",
            "_model_name": "LayoutModel",
            "_view_count": null,
            "_view_module": "@jupyter-widgets/base",
            "_view_module_version": "1.2.0",
            "_view_name": "LayoutView",
            "align_content": null,
            "align_items": null,
            "align_self": null,
            "border": null,
            "bottom": null,
            "display": null,
            "flex": null,
            "flex_flow": null,
            "grid_area": null,
            "grid_auto_columns": null,
            "grid_auto_flow": null,
            "grid_auto_rows": null,
            "grid_column": null,
            "grid_gap": null,
            "grid_row": null,
            "grid_template_areas": null,
            "grid_template_columns": null,
            "grid_template_rows": null,
            "height": null,
            "justify_content": null,
            "justify_items": null,
            "left": null,
            "margin": null,
            "max_height": null,
            "max_width": null,
            "min_height": null,
            "min_width": null,
            "object_fit": null,
            "object_position": null,
            "order": null,
            "overflow": null,
            "overflow_x": null,
            "overflow_y": null,
            "padding": null,
            "right": null,
            "top": null,
            "visibility": null,
            "width": null
          }
        },
        "0fa551c76d904b8a9f36ecdab4e59558": {
          "model_module": "@jupyter-widgets/controls",
          "model_name": "DescriptionStyleModel",
          "model_module_version": "1.5.0",
          "state": {
            "_model_module": "@jupyter-widgets/controls",
            "_model_module_version": "1.5.0",
            "_model_name": "DescriptionStyleModel",
            "_view_count": null,
            "_view_module": "@jupyter-widgets/base",
            "_view_module_version": "1.2.0",
            "_view_name": "StyleView",
            "description_width": ""
          }
        },
        "617aa736f0c74af69d4462bb643c12c4": {
          "model_module": "@jupyter-widgets/controls",
          "model_name": "HBoxModel",
          "model_module_version": "1.5.0",
          "state": {
            "_dom_classes": [],
            "_model_module": "@jupyter-widgets/controls",
            "_model_module_version": "1.5.0",
            "_model_name": "HBoxModel",
            "_view_count": null,
            "_view_module": "@jupyter-widgets/controls",
            "_view_module_version": "1.5.0",
            "_view_name": "HBoxView",
            "box_style": "",
            "children": [
              "IPY_MODEL_01ea1801157c48c795bbec1bbd4e21be",
              "IPY_MODEL_bbc62e41b587474f9b15f9767df3117f",
              "IPY_MODEL_fba6a96d64ca41fab3fc0e5e8beedbbc"
            ],
            "layout": "IPY_MODEL_0d25e23b023848f08d3b807de88eedc5"
          }
        },
        "01ea1801157c48c795bbec1bbd4e21be": {
          "model_module": "@jupyter-widgets/controls",
          "model_name": "HTMLModel",
          "model_module_version": "1.5.0",
          "state": {
            "_dom_classes": [],
            "_model_module": "@jupyter-widgets/controls",
            "_model_module_version": "1.5.0",
            "_model_name": "HTMLModel",
            "_view_count": null,
            "_view_module": "@jupyter-widgets/controls",
            "_view_module_version": "1.5.0",
            "_view_name": "HTMLView",
            "description": "",
            "description_tooltip": null,
            "layout": "IPY_MODEL_c37f3be76fb148a3ae00648ba6c1827e",
            "placeholder": "​",
            "style": "IPY_MODEL_b69ee554f0204d70960f4fa8a2ee881f",
            "value": "100%"
          }
        },
        "bbc62e41b587474f9b15f9767df3117f": {
          "model_module": "@jupyter-widgets/controls",
          "model_name": "FloatProgressModel",
          "model_module_version": "1.5.0",
          "state": {
            "_dom_classes": [],
            "_model_module": "@jupyter-widgets/controls",
            "_model_module_version": "1.5.0",
            "_model_name": "FloatProgressModel",
            "_view_count": null,
            "_view_module": "@jupyter-widgets/controls",
            "_view_module_version": "1.5.0",
            "_view_name": "ProgressView",
            "bar_style": "success",
            "description": "",
            "description_tooltip": null,
            "layout": "IPY_MODEL_6afa6f1f86f24c8dab93e935f5e739cd",
            "max": 1000,
            "min": 0,
            "orientation": "horizontal",
            "style": "IPY_MODEL_3f934120a3494be7afcaa422097b3ed4",
            "value": 1000
          }
        },
        "fba6a96d64ca41fab3fc0e5e8beedbbc": {
          "model_module": "@jupyter-widgets/controls",
          "model_name": "HTMLModel",
          "model_module_version": "1.5.0",
          "state": {
            "_dom_classes": [],
            "_model_module": "@jupyter-widgets/controls",
            "_model_module_version": "1.5.0",
            "_model_name": "HTMLModel",
            "_view_count": null,
            "_view_module": "@jupyter-widgets/controls",
            "_view_module_version": "1.5.0",
            "_view_name": "HTMLView",
            "description": "",
            "description_tooltip": null,
            "layout": "IPY_MODEL_d901d7e3751b4daeb18357609eb6182e",
            "placeholder": "​",
            "style": "IPY_MODEL_7d2d0f4c84ee4581bd3ec1a2981cf8b4",
            "value": " 1000/1000 [00:01&lt;00:00, 704.22it/s]"
          }
        },
        "0d25e23b023848f08d3b807de88eedc5": {
          "model_module": "@jupyter-widgets/base",
          "model_name": "LayoutModel",
          "model_module_version": "1.2.0",
          "state": {
            "_model_module": "@jupyter-widgets/base",
            "_model_module_version": "1.2.0",
            "_model_name": "LayoutModel",
            "_view_count": null,
            "_view_module": "@jupyter-widgets/base",
            "_view_module_version": "1.2.0",
            "_view_name": "LayoutView",
            "align_content": null,
            "align_items": null,
            "align_self": null,
            "border": null,
            "bottom": null,
            "display": null,
            "flex": null,
            "flex_flow": null,
            "grid_area": null,
            "grid_auto_columns": null,
            "grid_auto_flow": null,
            "grid_auto_rows": null,
            "grid_column": null,
            "grid_gap": null,
            "grid_row": null,
            "grid_template_areas": null,
            "grid_template_columns": null,
            "grid_template_rows": null,
            "height": null,
            "justify_content": null,
            "justify_items": null,
            "left": null,
            "margin": null,
            "max_height": null,
            "max_width": null,
            "min_height": null,
            "min_width": null,
            "object_fit": null,
            "object_position": null,
            "order": null,
            "overflow": null,
            "overflow_x": null,
            "overflow_y": null,
            "padding": null,
            "right": null,
            "top": null,
            "visibility": null,
            "width": null
          }
        },
        "c37f3be76fb148a3ae00648ba6c1827e": {
          "model_module": "@jupyter-widgets/base",
          "model_name": "LayoutModel",
          "model_module_version": "1.2.0",
          "state": {
            "_model_module": "@jupyter-widgets/base",
            "_model_module_version": "1.2.0",
            "_model_name": "LayoutModel",
            "_view_count": null,
            "_view_module": "@jupyter-widgets/base",
            "_view_module_version": "1.2.0",
            "_view_name": "LayoutView",
            "align_content": null,
            "align_items": null,
            "align_self": null,
            "border": null,
            "bottom": null,
            "display": null,
            "flex": null,
            "flex_flow": null,
            "grid_area": null,
            "grid_auto_columns": null,
            "grid_auto_flow": null,
            "grid_auto_rows": null,
            "grid_column": null,
            "grid_gap": null,
            "grid_row": null,
            "grid_template_areas": null,
            "grid_template_columns": null,
            "grid_template_rows": null,
            "height": null,
            "justify_content": null,
            "justify_items": null,
            "left": null,
            "margin": null,
            "max_height": null,
            "max_width": null,
            "min_height": null,
            "min_width": null,
            "object_fit": null,
            "object_position": null,
            "order": null,
            "overflow": null,
            "overflow_x": null,
            "overflow_y": null,
            "padding": null,
            "right": null,
            "top": null,
            "visibility": null,
            "width": null
          }
        },
        "b69ee554f0204d70960f4fa8a2ee881f": {
          "model_module": "@jupyter-widgets/controls",
          "model_name": "DescriptionStyleModel",
          "model_module_version": "1.5.0",
          "state": {
            "_model_module": "@jupyter-widgets/controls",
            "_model_module_version": "1.5.0",
            "_model_name": "DescriptionStyleModel",
            "_view_count": null,
            "_view_module": "@jupyter-widgets/base",
            "_view_module_version": "1.2.0",
            "_view_name": "StyleView",
            "description_width": ""
          }
        },
        "6afa6f1f86f24c8dab93e935f5e739cd": {
          "model_module": "@jupyter-widgets/base",
          "model_name": "LayoutModel",
          "model_module_version": "1.2.0",
          "state": {
            "_model_module": "@jupyter-widgets/base",
            "_model_module_version": "1.2.0",
            "_model_name": "LayoutModel",
            "_view_count": null,
            "_view_module": "@jupyter-widgets/base",
            "_view_module_version": "1.2.0",
            "_view_name": "LayoutView",
            "align_content": null,
            "align_items": null,
            "align_self": null,
            "border": null,
            "bottom": null,
            "display": null,
            "flex": null,
            "flex_flow": null,
            "grid_area": null,
            "grid_auto_columns": null,
            "grid_auto_flow": null,
            "grid_auto_rows": null,
            "grid_column": null,
            "grid_gap": null,
            "grid_row": null,
            "grid_template_areas": null,
            "grid_template_columns": null,
            "grid_template_rows": null,
            "height": null,
            "justify_content": null,
            "justify_items": null,
            "left": null,
            "margin": null,
            "max_height": null,
            "max_width": null,
            "min_height": null,
            "min_width": null,
            "object_fit": null,
            "object_position": null,
            "order": null,
            "overflow": null,
            "overflow_x": null,
            "overflow_y": null,
            "padding": null,
            "right": null,
            "top": null,
            "visibility": null,
            "width": null
          }
        },
        "3f934120a3494be7afcaa422097b3ed4": {
          "model_module": "@jupyter-widgets/controls",
          "model_name": "ProgressStyleModel",
          "model_module_version": "1.5.0",
          "state": {
            "_model_module": "@jupyter-widgets/controls",
            "_model_module_version": "1.5.0",
            "_model_name": "ProgressStyleModel",
            "_view_count": null,
            "_view_module": "@jupyter-widgets/base",
            "_view_module_version": "1.2.0",
            "_view_name": "StyleView",
            "bar_color": null,
            "description_width": ""
          }
        },
        "d901d7e3751b4daeb18357609eb6182e": {
          "model_module": "@jupyter-widgets/base",
          "model_name": "LayoutModel",
          "model_module_version": "1.2.0",
          "state": {
            "_model_module": "@jupyter-widgets/base",
            "_model_module_version": "1.2.0",
            "_model_name": "LayoutModel",
            "_view_count": null,
            "_view_module": "@jupyter-widgets/base",
            "_view_module_version": "1.2.0",
            "_view_name": "LayoutView",
            "align_content": null,
            "align_items": null,
            "align_self": null,
            "border": null,
            "bottom": null,
            "display": null,
            "flex": null,
            "flex_flow": null,
            "grid_area": null,
            "grid_auto_columns": null,
            "grid_auto_flow": null,
            "grid_auto_rows": null,
            "grid_column": null,
            "grid_gap": null,
            "grid_row": null,
            "grid_template_areas": null,
            "grid_template_columns": null,
            "grid_template_rows": null,
            "height": null,
            "justify_content": null,
            "justify_items": null,
            "left": null,
            "margin": null,
            "max_height": null,
            "max_width": null,
            "min_height": null,
            "min_width": null,
            "object_fit": null,
            "object_position": null,
            "order": null,
            "overflow": null,
            "overflow_x": null,
            "overflow_y": null,
            "padding": null,
            "right": null,
            "top": null,
            "visibility": null,
            "width": null
          }
        },
        "7d2d0f4c84ee4581bd3ec1a2981cf8b4": {
          "model_module": "@jupyter-widgets/controls",
          "model_name": "DescriptionStyleModel",
          "model_module_version": "1.5.0",
          "state": {
            "_model_module": "@jupyter-widgets/controls",
            "_model_module_version": "1.5.0",
            "_model_name": "DescriptionStyleModel",
            "_view_count": null,
            "_view_module": "@jupyter-widgets/base",
            "_view_module_version": "1.2.0",
            "_view_name": "StyleView",
            "description_width": ""
          }
        }
      }
    }
  },
  "nbformat": 4,
  "nbformat_minor": 0
}