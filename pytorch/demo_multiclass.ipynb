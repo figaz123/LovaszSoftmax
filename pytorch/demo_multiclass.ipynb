{
  "cells": [
    {
      "cell_type": "markdown",
      "metadata": {
        "id": "RfyNIKwiWBGd"
      },
      "source": [
        "# Multiclass segmentation: PyTorch version\n",
        "We want to optimize the mean Jaccard index of the non-void classes."
      ]
    },
    {
      "cell_type": "code",
      "source": [
        "!wget https://raw.githubusercontent.com/bermanmaxim/LovaszSoftmax/master/pytorch/lovasz_losses.py\n",
        "!wget https://raw.githubusercontent.com/bermanmaxim/LovaszSoftmax/master/demo_helpers/demo_utils.py"
      ],
      "metadata": {
        "id": "LGBKDWyPWFPy",
        "outputId": "4e4f05a5-7ff9-4a42-d2c8-f8f4c1df294b",
        "colab": {
          "base_uri": "https://localhost:8080/"
        }
      },
      "execution_count": 12,
      "outputs": [
        {
          "output_type": "stream",
          "name": "stdout",
          "text": [
            "--2024-02-22 09:13:30--  https://raw.githubusercontent.com/bermanmaxim/LovaszSoftmax/master/pytorch/lovasz_losses.py\n",
            "Resolving raw.githubusercontent.com (raw.githubusercontent.com)... 185.199.108.133, 185.199.109.133, 185.199.110.133, ...\n",
            "Connecting to raw.githubusercontent.com (raw.githubusercontent.com)|185.199.108.133|:443... connected.\n",
            "HTTP request sent, awaiting response... 200 OK\n",
            "Length: 8352 (8.2K) [text/plain]\n",
            "Saving to: ‘lovasz_losses.py.1’\n",
            "\n",
            "\rlovasz_losses.py.1    0%[                    ]       0  --.-KB/s               \rlovasz_losses.py.1  100%[===================>]   8.16K  --.-KB/s    in 0s      \n",
            "\n",
            "2024-02-22 09:13:30 (47.3 MB/s) - ‘lovasz_losses.py.1’ saved [8352/8352]\n",
            "\n",
            "--2024-02-22 09:13:30--  https://raw.githubusercontent.com/bermanmaxim/LovaszSoftmax/master/demo_helpers/demo_utils.py\n",
            "Resolving raw.githubusercontent.com (raw.githubusercontent.com)... 185.199.108.133, 185.199.109.133, 185.199.110.133, ...\n",
            "Connecting to raw.githubusercontent.com (raw.githubusercontent.com)|185.199.108.133|:443... connected.\n",
            "HTTP request sent, awaiting response... 200 OK\n",
            "Length: 2437 (2.4K) [text/plain]\n",
            "Saving to: ‘demo_utils.py.1’\n",
            "\n",
            "demo_utils.py.1     100%[===================>]   2.38K  --.-KB/s    in 0s      \n",
            "\n",
            "2024-02-22 09:13:30 (34.7 MB/s) - ‘demo_utils.py.1’ saved [2437/2437]\n",
            "\n"
          ]
        }
      ]
    },
    {
      "cell_type": "code",
      "execution_count": 13,
      "metadata": {
        "ExecuteTime": {
          "end_time": "2019-02-26T15:33:43.043490Z",
          "start_time": "2019-02-26T15:33:43.029167Z"
        },
        "collapsed": true,
        "id": "KPgvr8IMWBGl",
        "outputId": "1b6cda70-2190-43ed-e448-68770ec429ad",
        "colab": {
          "base_uri": "https://localhost:8080/"
        }
      },
      "outputs": [
        {
          "output_type": "stream",
          "name": "stdout",
          "text": [
            "The autoreload extension is already loaded. To reload it, use:\n",
            "  %reload_ext autoreload\n"
          ]
        }
      ],
      "source": [
        "%load_ext autoreload\n",
        "%autoreload 2"
      ]
    },
    {
      "cell_type": "code",
      "execution_count": 14,
      "metadata": {
        "ExecuteTime": {
          "end_time": "2019-02-26T15:33:43.055280Z",
          "start_time": "2019-02-26T15:33:43.045043Z"
        },
        "collapsed": true,
        "id": "OfaXn0t9WBGo"
      },
      "outputs": [],
      "source": [
        "from __future__ import division, print_function"
      ]
    },
    {
      "cell_type": "code",
      "execution_count": 15,
      "metadata": {
        "ExecuteTime": {
          "end_time": "2019-02-26T15:33:43.724129Z",
          "start_time": "2019-02-26T15:33:43.056577Z"
        },
        "collapsed": true,
        "id": "qimOk1LfWBGw"
      },
      "outputs": [],
      "source": [
        "import torch\n",
        "from torch.autograd import Variable\n",
        "import torch.nn.functional as F\n",
        "from torch.optim import Adam\n",
        "from torch import nn"
      ]
    },
    {
      "cell_type": "code",
      "execution_count": 16,
      "metadata": {
        "ExecuteTime": {
          "end_time": "2019-02-26T15:33:43.743851Z",
          "start_time": "2019-02-26T15:33:43.726693Z"
        },
        "collapsed": true,
        "id": "8JADKa-DWBGx"
      },
      "outputs": [],
      "source": [
        "import lovasz_losses as L"
      ]
    },
    {
      "cell_type": "code",
      "execution_count": 17,
      "metadata": {
        "ExecuteTime": {
          "end_time": "2019-02-26T15:33:44.137988Z",
          "start_time": "2019-02-26T15:33:43.746333Z"
        },
        "collapsed": true,
        "id": "ypCQnWB5WBGy"
      },
      "outputs": [],
      "source": [
        "import numpy as np\n",
        "import matplotlib.pyplot as plt\n",
        "%matplotlib inline"
      ]
    },
    {
      "cell_type": "code",
      "execution_count": 18,
      "metadata": {
        "ExecuteTime": {
          "end_time": "2019-02-26T15:33:44.163951Z",
          "start_time": "2019-02-26T15:33:44.139228Z"
        },
        "collapsed": true,
        "id": "Md4Hv9DGWBGz"
      },
      "outputs": [],
      "source": [
        "from tqdm import tqdm_notebook as tqdm"
      ]
    },
    {
      "cell_type": "code",
      "execution_count": 19,
      "metadata": {
        "ExecuteTime": {
          "end_time": "2019-02-26T15:33:46.931708Z",
          "start_time": "2019-02-26T15:33:44.165259Z"
        },
        "collapsed": true,
        "id": "6yDh3y1fWBG1"
      },
      "outputs": [],
      "source": [
        "# add parent path to pythonpath to import demo_utils\n",
        "import sys\n",
        "sys.path.append('../demo_helpers')\n",
        "from demo_utils import pil, pil_grid, dummy_triangles"
      ]
    },
    {
      "cell_type": "code",
      "execution_count": 20,
      "metadata": {
        "ExecuteTime": {
          "end_time": "2019-02-26T15:33:46.948157Z",
          "start_time": "2019-02-26T15:33:46.933531Z"
        },
        "collapsed": true,
        "id": "DIv17lL_WBG2"
      },
      "outputs": [],
      "source": [
        "from collections import OrderedDict as OD"
      ]
    },
    {
      "cell_type": "code",
      "execution_count": 21,
      "metadata": {
        "ExecuteTime": {
          "end_time": "2019-02-26T15:33:46.961182Z",
          "start_time": "2019-02-26T15:33:46.949698Z"
        },
        "collapsed": true,
        "id": "7iPG4qDQWBG4"
      },
      "outputs": [],
      "source": [
        "CUDA = True"
      ]
    },
    {
      "cell_type": "code",
      "execution_count": 22,
      "metadata": {
        "ExecuteTime": {
          "end_time": "2019-02-26T15:33:46.977270Z",
          "start_time": "2019-02-26T15:33:46.962594Z"
        },
        "collapsed": true,
        "id": "hYTb7BgaWBG5"
      },
      "outputs": [],
      "source": [
        "def cuda(x):\n",
        "    if CUDA:\n",
        "        return x.cuda()\n",
        "    else:\n",
        "        return x"
      ]
    },
    {
      "cell_type": "markdown",
      "metadata": {
        "id": "jswWYqZsWBG6"
      },
      "source": [
        "## Multiclass case: batch of 5 random images with classes [0, 1, 2] and void (255)\n",
        "We assume that we want to optimize the Jaccard index of all non-void classes 0, 1 and 2."
      ]
    },
    {
      "cell_type": "markdown",
      "metadata": {
        "id": "qRgttjrqWBG7"
      },
      "source": [
        "### Labels"
      ]
    },
    {
      "cell_type": "code",
      "execution_count": 23,
      "metadata": {
        "ExecuteTime": {
          "end_time": "2019-02-26T15:33:47.051480Z",
          "start_time": "2019-02-26T15:33:46.978592Z"
        },
        "id": "yOskBI92WBG8",
        "outputId": "fcf03447-0f44-4a81-fd69-6be33726b1b8",
        "colab": {
          "base_uri": "https://localhost:8080/",
          "height": 222
        }
      },
      "outputs": [
        {
          "output_type": "execute_result",
          "data": {
            "text/plain": [
              "<PIL.Image.Image image mode=RGB size=1005x205>"
            ],
            "image/png": "[encoded data removed]"
          },
          "metadata": {},
          "execution_count": 23
        }
      ],
      "source": [
        "np.random.seed(18)\n",
        "C = 3\n",
        "B = 5\n",
        "H = 200\n",
        "labels_ = [dummy_triangles(H, [0, 255, 1, 2]) for b in range(B)]\n",
        "labels = torch.stack([torch.from_numpy(a) for a in map(np.array, labels_)]).long()\n",
        "pil_grid(labels_, 5, margin=1)"
      ]
    },
    {
      "cell_type": "markdown",
      "metadata": {
        "id": "ASb3z1zGWBG-"
      },
      "source": [
        "### Features"
      ]
    },
    {
      "cell_type": "code",
      "execution_count": 24,
      "metadata": {
        "ExecuteTime": {
          "end_time": "2019-02-26T15:33:47.110472Z",
          "start_time": "2019-02-26T15:33:47.052783Z"
        },
        "collapsed": true,
        "id": "08mkqRoPWBG_"
      },
      "outputs": [],
      "source": [
        "np.random.seed(57)\n",
        "B, H, W = labels.size()\n",
        "labels_ = labels.clone()\n",
        "labels_[labels_ == 255] = labels_[labels_ == 255].random_(C) # random feats for void\n",
        "labels_1hot = torch.zeros(B, C, H, W)\n",
        "labels_1hot.scatter_(1, labels_.unsqueeze(1), 1);"
      ]
    },
    {
      "cell_type": "code",
      "source": [],
      "metadata": {
        "id": "WiF2R6HpgDe8"
      },
      "execution_count": 24,
      "outputs": []
    },
    {
      "cell_type": "code",
      "execution_count": 25,
      "metadata": {
        "ExecuteTime": {
          "end_time": "2019-02-26T15:33:47.129497Z",
          "start_time": "2019-02-26T15:33:47.111665Z"
        },
        "collapsed": true,
        "id": "sXvmN2kRWBG_"
      },
      "outputs": [],
      "source": [
        "feats = labels_1hot.clone().float()\n",
        "feats += feats.new(feats.size()).normal_(0, 2) # additive gaussian noise"
      ]
    },
    {
      "cell_type": "code",
      "execution_count": 26,
      "metadata": {
        "ExecuteTime": {
          "end_time": "2019-02-26T15:33:49.195084Z",
          "start_time": "2019-02-26T15:33:47.130752Z"
        },
        "collapsed": true,
        "id": "3SOm0Q0gWBHA"
      },
      "outputs": [],
      "source": [
        "# labels = cuda(labels)\n",
        "# feats = Variable(cuda(feats))"
      ]
    },
    {
      "cell_type": "markdown",
      "metadata": {
        "id": "xpkrchhLWBHA"
      },
      "source": [
        "## Model"
      ]
    },
    {
      "cell_type": "markdown",
      "metadata": {
        "id": "H2GsDeCoWBHA"
      },
      "source": [
        "### definition"
      ]
    },
    {
      "cell_type": "code",
      "execution_count": 27,
      "metadata": {
        "ExecuteTime": {
          "end_time": "2019-02-26T15:33:49.208767Z",
          "start_time": "2019-02-26T15:33:49.196271Z"
        },
        "collapsed": true,
        "id": "0RMJos77WBHB"
      },
      "outputs": [],
      "source": [
        "class Model(nn.Module):\n",
        "    def __init__(self):\n",
        "        super(Model, self).__init__()\n",
        "        self.conv = nn.Conv2d(C, C, 3, padding=1)\n",
        "\n",
        "    def forward(self, x):\n",
        "        return x + self.conv(x)"
      ]
    },
    {
      "cell_type": "code",
      "execution_count": 28,
      "metadata": {
        "ExecuteTime": {
          "end_time": "2019-02-26T15:33:49.224356Z",
          "start_time": "2019-02-26T15:33:49.210833Z"
        },
        "collapsed": true,
        "id": "Mn-MYwhcWBHB"
      },
      "outputs": [],
      "source": [
        "m = Model()\n",
        "init_state_dict = OD([(n, p.clone()) for (n, p) in m.state_dict().items()])"
      ]
    },
    {
      "cell_type": "code",
      "execution_count": 29,
      "metadata": {
        "ExecuteTime": {
          "end_time": "2019-02-26T15:33:49.236841Z",
          "start_time": "2019-02-26T15:33:49.225545Z"
        },
        "collapsed": true,
        "id": "wrpJLJo9WBHB"
      },
      "outputs": [],
      "source": [
        "# m = cuda(m)"
      ]
    },
    {
      "cell_type": "markdown",
      "metadata": {
        "id": "60yf10sRWBHC"
      },
      "source": [
        "### Initial prediction"
      ]
    },
    {
      "cell_type": "code",
      "execution_count": 30,
      "metadata": {
        "ExecuteTime": {
          "end_time": "2019-02-26T15:33:49.256416Z",
          "start_time": "2019-02-26T15:33:49.238924Z"
        },
        "scrolled": true,
        "id": "oTYQQfMDWBHC",
        "outputId": "d89d172c-f3a3-4590-c0ff-1f83a932d58d",
        "colab": {
          "base_uri": "https://localhost:8080/"
        }
      },
      "outputs": [
        {
          "output_type": "stream",
          "name": "stdout",
          "text": [
            "Initial batch-IoUs: [42.23372106 15.803084    4.98142404]\n",
            "Initial mIoU: 21.00607636781231\n"
          ]
        }
      ],
      "source": [
        "_, preds = m(feats).data.max(1)\n",
        "print(\"Initial batch-IoUs:\", L.iou(preds, labels, C, ignore=255, per_image=False))\n",
        "print(\"Initial mIoU:\", np.mean(L.iou(preds, labels, C, ignore=255, per_image=False)))"
      ]
    },
    {
      "cell_type": "code",
      "execution_count": 31,
      "metadata": {
        "ExecuteTime": {
          "end_time": "2019-02-26T15:33:49.339052Z",
          "start_time": "2019-02-26T15:33:49.257615Z"
        },
        "scrolled": true,
        "id": "4Hzxbzx3WBHC",
        "outputId": "d85e367f-860f-4d06-b453-da0dc963c397",
        "colab": {
          "base_uri": "https://localhost:8080/",
          "height": 222
        }
      },
      "outputs": [
        {
          "output_type": "execute_result",
          "data": {
            "text/plain": [
              "<PIL.Image.Image image mode=RGB size=1005x205>"
            ],
            "image/png": "[encoded data removed]"
          },
          "metadata": {},
          "execution_count": 31
        }
      ],
      "source": [
        "pil_grid([pil(f.byte().cpu().numpy()) for f in preds], 5, margin=1)"
      ]
    },
    {
      "cell_type": "markdown",
      "metadata": {
        "id": "pzLqRGdHWBHD"
      },
      "source": [
        "## Lovász-Softmax training"
      ]
    },
    {
      "cell_type": "code",
      "execution_count": 32,
      "metadata": {
        "ExecuteTime": {
          "end_time": "2019-02-26T15:33:56.358994Z",
          "start_time": "2019-02-26T15:33:49.340249Z"
        },
        "scrolled": false,
        "id": "ryDTW5-0WBHD",
        "outputId": "ed4c6a9c-3114-465c-f8da-8f8cbeba3ea2",
        "colab": {
          "base_uri": "https://localhost:8080/",
          "height": 1000,
          "referenced_widgets": [
            "4ecd4b95c35a4423a1abdb9d4165b111",
            "af0aaea1ad324e2ab93ccb74ff02b1dd",
            "c09b4e4b728d4bec81621207e952cec4",
            "1a7fba9830bd4e0590797a079f685a60",
            "4a2b10a645424b19892b1c21cf6b6d6a",
            "9a58aaee41b04d509778f8d99fa6ebe4",
            "975a05b326a641c193b4a174ae042625",
            "90fed2cdb79b4cb1b3c069204addb422",
            "f6b4b6e03f5e4485a5da973bd13be8ae",
            "9d68a268e7a646fdbc9db0a4451eb839",
            "c7dd4d670b584d38bc8f5e95a5a94f21"
          ]
        }
      },
      "outputs": [
        {
          "output_type": "stream",
          "name": "stderr",
          "text": [
            "<ipython-input-32-77d585d8e7af>:8: TqdmDeprecationWarning: This function will be removed in tqdm==5.0.0\n",
            "Please use `tqdm.notebook.tqdm` instead of `tqdm.tqdm_notebook`\n",
            "  for iter in tqdm(range(1000)):\n"
          ]
        },
        {
          "output_type": "display_data",
          "data": {
            "text/plain": [
              "  0%|          | 0/1000 [00:00<?, ?it/s]"
            ],
            "application/vnd.jupyter.widget-view+json": {
              "version_major": 2,
              "version_minor": 0,
              "model_id": "4ecd4b95c35a4423a1abdb9d4165b111"
            }
          },
          "metadata": {}
        },
        {
          "output_type": "stream",
          "name": "stdout",
          "text": [
            "shape of out:; torch.Size([5, 3, 200, 200]), shape of labels:torch.Size([5, 200, 200])\n",
            "shape of out:; torch.Size([5, 3, 200, 200]), shape of labels:torch.Size([5, 200, 200])\n",
            "shape of out:; torch.Size([5, 3, 200, 200]), shape of labels:torch.Size([5, 200, 200])\n",
            "shape of out:; torch.Size([5, 3, 200, 200]), shape of labels:torch.Size([5, 200, 200])\n",
            "shape of out:; torch.Size([5, 3, 200, 200]), shape of labels:torch.Size([5, 200, 200])\n",
            "shape of out:; torch.Size([5, 3, 200, 200]), shape of labels:torch.Size([5, 200, 200])\n",
            "shape of out:; torch.Size([5, 3, 200, 200]), shape of labels:torch.Size([5, 200, 200])\n",
            "shape of out:; torch.Size([5, 3, 200, 200]), shape of labels:torch.Size([5, 200, 200])\n",
            "shape of out:; torch.Size([5, 3, 200, 200]), shape of labels:torch.Size([5, 200, 200])\n",
            "shape of out:; torch.Size([5, 3, 200, 200]), shape of labels:torch.Size([5, 200, 200])\n",
            "shape of out:; torch.Size([5, 3, 200, 200]), shape of labels:torch.Size([5, 200, 200])\n",
            "shape of out:; torch.Size([5, 3, 200, 200]), shape of labels:torch.Size([5, 200, 200])\n",
            "shape of out:; torch.Size([5, 3, 200, 200]), shape of labels:torch.Size([5, 200, 200])\n",
            "shape of out:; torch.Size([5, 3, 200, 200]), shape of labels:torch.Size([5, 200, 200])\n",
            "shape of out:; torch.Size([5, 3, 200, 200]), shape of labels:torch.Size([5, 200, 200])\n",
            "shape of out:; torch.Size([5, 3, 200, 200]), shape of labels:torch.Size([5, 200, 200])\n",
            "shape of out:; torch.Size([5, 3, 200, 200]), shape of labels:torch.Size([5, 200, 200])\n",
            "shape of out:; torch.Size([5, 3, 200, 200]), shape of labels:torch.Size([5, 200, 200])\n",
            "shape of out:; torch.Size([5, 3, 200, 200]), shape of labels:torch.Size([5, 200, 200])\n",
            "shape of out:; torch.Size([5, 3, 200, 200]), shape of labels:torch.Size([5, 200, 200])\n",
            "shape of out:; torch.Size([5, 3, 200, 200]), shape of labels:torch.Size([5, 200, 200])\n",
            "shape of out:; torch.Size([5, 3, 200, 200]), shape of labels:torch.Size([5, 200, 200])\n",
            "shape of out:; torch.Size([5, 3, 200, 200]), shape of labels:torch.Size([5, 200, 200])\n",
            "shape of out:; torch.Size([5, 3, 200, 200]), shape of labels:torch.Size([5, 200, 200])\n",
            "shape of out:; torch.Size([5, 3, 200, 200]), shape of labels:torch.Size([5, 200, 200])\n",
            "shape of out:; torch.Size([5, 3, 200, 200]), shape of labels:torch.Size([5, 200, 200])\n",
            "shape of out:; torch.Size([5, 3, 200, 200]), shape of labels:torch.Size([5, 200, 200])\n",
            "shape of out:; torch.Size([5, 3, 200, 200]), shape of labels:torch.Size([5, 200, 200])\n",
            "shape of out:; torch.Size([5, 3, 200, 200]), shape of labels:torch.Size([5, 200, 200])\n",
            "shape of out:; torch.Size([5, 3, 200, 200]), shape of labels:torch.Size([5, 200, 200])\n",
            "shape of out:; torch.Size([5, 3, 200, 200]), shape of labels:torch.Size([5, 200, 200])\n",
            "shape of out:; torch.Size([5, 3, 200, 200]), shape of labels:torch.Size([5, 200, 200])\n",
            "shape of out:; torch.Size([5, 3, 200, 200]), shape of labels:torch.Size([5, 200, 200])\n",
            "shape of out:; torch.Size([5, 3, 200, 200]), shape of labels:torch.Size([5, 200, 200])\n",
            "shape of out:; torch.Size([5, 3, 200, 200]), shape of labels:torch.Size([5, 200, 200])\n",
            "shape of out:; torch.Size([5, 3, 200, 200]), shape of labels:torch.Size([5, 200, 200])\n",
            "shape of out:; torch.Size([5, 3, 200, 200]), shape of labels:torch.Size([5, 200, 200])\n",
            "shape of out:; torch.Size([5, 3, 200, 200]), shape of labels:torch.Size([5, 200, 200])\n",
            "shape of out:; torch.Size([5, 3, 200, 200]), shape of labels:torch.Size([5, 200, 200])\n",
            "shape of out:; torch.Size([5, 3, 200, 200]), shape of labels:torch.Size([5, 200, 200])\n",
            "shape of out:; torch.Size([5, 3, 200, 200]), shape of labels:torch.Size([5, 200, 200])\n",
            "shape of out:; torch.Size([5, 3, 200, 200]), shape of labels:torch.Size([5, 200, 200])\n",
            "shape of out:; torch.Size([5, 3, 200, 200]), shape of labels:torch.Size([5, 200, 200])\n",
            "shape of out:; torch.Size([5, 3, 200, 200]), shape of labels:torch.Size([5, 200, 200])\n",
            "shape of out:; torch.Size([5, 3, 200, 200]), shape of labels:torch.Size([5, 200, 200])\n",
            "shape of out:; torch.Size([5, 3, 200, 200]), shape of labels:torch.Size([5, 200, 200])\n",
            "shape of out:; torch.Size([5, 3, 200, 200]), shape of labels:torch.Size([5, 200, 200])\n",
            "shape of out:; torch.Size([5, 3, 200, 200]), shape of labels:torch.Size([5, 200, 200])\n",
            "shape of out:; torch.Size([5, 3, 200, 200]), shape of labels:torch.Size([5, 200, 200])\n",
            "shape of out:; torch.Size([5, 3, 200, 200]), shape of labels:torch.Size([5, 200, 200])\n",
            "shape of out:; torch.Size([5, 3, 200, 200]), shape of labels:torch.Size([5, 200, 200])\n",
            "shape of out:; torch.Size([5, 3, 200, 200]), shape of labels:torch.Size([5, 200, 200])\n",
            "shape of out:; torch.Size([5, 3, 200, 200]), shape of labels:torch.Size([5, 200, 200])\n",
            "shape of out:; torch.Size([5, 3, 200, 200]), shape of labels:torch.Size([5, 200, 200])\n",
            "shape of out:; torch.Size([5, 3, 200, 200]), shape of labels:torch.Size([5, 200, 200])\n",
            "shape of out:; torch.Size([5, 3, 200, 200]), shape of labels:torch.Size([5, 200, 200])\n",
            "shape of out:; torch.Size([5, 3, 200, 200]), shape of labels:torch.Size([5, 200, 200])\n",
            "shape of out:; torch.Size([5, 3, 200, 200]), shape of labels:torch.Size([5, 200, 200])\n",
            "shape of out:; torch.Size([5, 3, 200, 200]), shape of labels:torch.Size([5, 200, 200])\n",
            "shape of out:; torch.Size([5, 3, 200, 200]), shape of labels:torch.Size([5, 200, 200])\n",
            "shape of out:; torch.Size([5, 3, 200, 200]), shape of labels:torch.Size([5, 200, 200])\n",
            "shape of out:; torch.Size([5, 3, 200, 200]), shape of labels:torch.Size([5, 200, 200])\n",
            "shape of out:; torch.Size([5, 3, 200, 200]), shape of labels:torch.Size([5, 200, 200])\n",
            "shape of out:; torch.Size([5, 3, 200, 200]), shape of labels:torch.Size([5, 200, 200])\n",
            "shape of out:; torch.Size([5, 3, 200, 200]), shape of labels:torch.Size([5, 200, 200])\n",
            "shape of out:; torch.Size([5, 3, 200, 200]), shape of labels:torch.Size([5, 200, 200])\n",
            "shape of out:; torch.Size([5, 3, 200, 200]), shape of labels:torch.Size([5, 200, 200])\n",
            "shape of out:; torch.Size([5, 3, 200, 200]), shape of labels:torch.Size([5, 200, 200])\n",
            "shape of out:; torch.Size([5, 3, 200, 200]), shape of labels:torch.Size([5, 200, 200])\n",
            "shape of out:; torch.Size([5, 3, 200, 200]), shape of labels:torch.Size([5, 200, 200])\n",
            "shape of out:; torch.Size([5, 3, 200, 200]), shape of labels:torch.Size([5, 200, 200])\n",
            "shape of out:; torch.Size([5, 3, 200, 200]), shape of labels:torch.Size([5, 200, 200])\n",
            "shape of out:; torch.Size([5, 3, 200, 200]), shape of labels:torch.Size([5, 200, 200])\n",
            "shape of out:; torch.Size([5, 3, 200, 200]), shape of labels:torch.Size([5, 200, 200])\n",
            "shape of out:; torch.Size([5, 3, 200, 200]), shape of labels:torch.Size([5, 200, 200])\n",
            "shape of out:; torch.Size([5, 3, 200, 200]), shape of labels:torch.Size([5, 200, 200])\n",
            "shape of out:; torch.Size([5, 3, 200, 200]), shape of labels:torch.Size([5, 200, 200])\n",
            "shape of out:; torch.Size([5, 3, 200, 200]), shape of labels:torch.Size([5, 200, 200])\n",
            "shape of out:; torch.Size([5, 3, 200, 200]), shape of labels:torch.Size([5, 200, 200])\n",
            "shape of out:; torch.Size([5, 3, 200, 200]), shape of labels:torch.Size([5, 200, 200])\n",
            "shape of out:; torch.Size([5, 3, 200, 200]), shape of labels:torch.Size([5, 200, 200])\n",
            "shape of out:; torch.Size([5, 3, 200, 200]), shape of labels:torch.Size([5, 200, 200])\n",
            "shape of out:; torch.Size([5, 3, 200, 200]), shape of labels:torch.Size([5, 200, 200])\n",
            "shape of out:; torch.Size([5, 3, 200, 200]), shape of labels:torch.Size([5, 200, 200])\n",
            "shape of out:; torch.Size([5, 3, 200, 200]), shape of labels:torch.Size([5, 200, 200])\n",
            "shape of out:; torch.Size([5, 3, 200, 200]), shape of labels:torch.Size([5, 200, 200])\n",
            "shape of out:; torch.Size([5, 3, 200, 200]), shape of labels:torch.Size([5, 200, 200])\n",
            "shape of out:; torch.Size([5, 3, 200, 200]), shape of labels:torch.Size([5, 200, 200])\n",
            "shape of out:; torch.Size([5, 3, 200, 200]), shape of labels:torch.Size([5, 200, 200])\n",
            "shape of out:; torch.Size([5, 3, 200, 200]), shape of labels:torch.Size([5, 200, 200])\n",
            "shape of out:; torch.Size([5, 3, 200, 200]), shape of labels:torch.Size([5, 200, 200])\n",
            "shape of out:; torch.Size([5, 3, 200, 200]), shape of labels:torch.Size([5, 200, 200])\n",
            "shape of out:; torch.Size([5, 3, 200, 200]), shape of labels:torch.Size([5, 200, 200])\n",
            "shape of out:; torch.Size([5, 3, 200, 200]), shape of labels:torch.Size([5, 200, 200])\n",
            "shape of out:; torch.Size([5, 3, 200, 200]), shape of labels:torch.Size([5, 200, 200])\n",
            "shape of out:; torch.Size([5, 3, 200, 200]), shape of labels:torch.Size([5, 200, 200])\n",
            "shape of out:; torch.Size([5, 3, 200, 200]), shape of labels:torch.Size([5, 200, 200])\n",
            "shape of out:; torch.Size([5, 3, 200, 200]), shape of labels:torch.Size([5, 200, 200])\n",
            "shape of out:; torch.Size([5, 3, 200, 200]), shape of labels:torch.Size([5, 200, 200])\n",
            "shape of out:; torch.Size([5, 3, 200, 200]), shape of labels:torch.Size([5, 200, 200])\n",
            "shape of out:; torch.Size([5, 3, 200, 200]), shape of labels:torch.Size([5, 200, 200])\n",
            "shape of out:; torch.Size([5, 3, 200, 200]), shape of labels:torch.Size([5, 200, 200])\n",
            "shape of out:; torch.Size([5, 3, 200, 200]), shape of labels:torch.Size([5, 200, 200])\n",
            "shape of out:; torch.Size([5, 3, 200, 200]), shape of labels:torch.Size([5, 200, 200])\n",
            "shape of out:; torch.Size([5, 3, 200, 200]), shape of labels:torch.Size([5, 200, 200])\n",
            "shape of out:; torch.Size([5, 3, 200, 200]), shape of labels:torch.Size([5, 200, 200])\n",
            "shape of out:; torch.Size([5, 3, 200, 200]), shape of labels:torch.Size([5, 200, 200])\n",
            "shape of out:; torch.Size([5, 3, 200, 200]), shape of labels:torch.Size([5, 200, 200])\n",
            "shape of out:; torch.Size([5, 3, 200, 200]), shape of labels:torch.Size([5, 200, 200])\n",
            "shape of out:; torch.Size([5, 3, 200, 200]), shape of labels:torch.Size([5, 200, 200])\n",
            "shape of out:; torch.Size([5, 3, 200, 200]), shape of labels:torch.Size([5, 200, 200])\n",
            "shape of out:; torch.Size([5, 3, 200, 200]), shape of labels:torch.Size([5, 200, 200])\n",
            "shape of out:; torch.Size([5, 3, 200, 200]), shape of labels:torch.Size([5, 200, 200])\n",
            "shape of out:; torch.Size([5, 3, 200, 200]), shape of labels:torch.Size([5, 200, 200])\n",
            "shape of out:; torch.Size([5, 3, 200, 200]), shape of labels:torch.Size([5, 200, 200])\n",
            "shape of out:; torch.Size([5, 3, 200, 200]), shape of labels:torch.Size([5, 200, 200])\n",
            "shape of out:; torch.Size([5, 3, 200, 200]), shape of labels:torch.Size([5, 200, 200])\n",
            "shape of out:; torch.Size([5, 3, 200, 200]), shape of labels:torch.Size([5, 200, 200])\n",
            "shape of out:; torch.Size([5, 3, 200, 200]), shape of labels:torch.Size([5, 200, 200])\n",
            "shape of out:; torch.Size([5, 3, 200, 200]), shape of labels:torch.Size([5, 200, 200])\n",
            "shape of out:; torch.Size([5, 3, 200, 200]), shape of labels:torch.Size([5, 200, 200])\n",
            "shape of out:; torch.Size([5, 3, 200, 200]), shape of labels:torch.Size([5, 200, 200])\n",
            "shape of out:; torch.Size([5, 3, 200, 200]), shape of labels:torch.Size([5, 200, 200])\n",
            "shape of out:; torch.Size([5, 3, 200, 200]), shape of labels:torch.Size([5, 200, 200])\n",
            "shape of out:; torch.Size([5, 3, 200, 200]), shape of labels:torch.Size([5, 200, 200])\n",
            "shape of out:; torch.Size([5, 3, 200, 200]), shape of labels:torch.Size([5, 200, 200])\n",
            "shape of out:; torch.Size([5, 3, 200, 200]), shape of labels:torch.Size([5, 200, 200])\n",
            "shape of out:; torch.Size([5, 3, 200, 200]), shape of labels:torch.Size([5, 200, 200])\n",
            "shape of out:; torch.Size([5, 3, 200, 200]), shape of labels:torch.Size([5, 200, 200])\n",
            "shape of out:; torch.Size([5, 3, 200, 200]), shape of labels:torch.Size([5, 200, 200])\n",
            "shape of out:; torch.Size([5, 3, 200, 200]), shape of labels:torch.Size([5, 200, 200])\n",
            "shape of out:; torch.Size([5, 3, 200, 200]), shape of labels:torch.Size([5, 200, 200])\n",
            "shape of out:; torch.Size([5, 3, 200, 200]), shape of labels:torch.Size([5, 200, 200])\n",
            "shape of out:; torch.Size([5, 3, 200, 200]), shape of labels:torch.Size([5, 200, 200])\n",
            "shape of out:; torch.Size([5, 3, 200, 200]), shape of labels:torch.Size([5, 200, 200])\n",
            "shape of out:; torch.Size([5, 3, 200, 200]), shape of labels:torch.Size([5, 200, 200])\n",
            "shape of out:; torch.Size([5, 3, 200, 200]), shape of labels:torch.Size([5, 200, 200])\n",
            "shape of out:; torch.Size([5, 3, 200, 200]), shape of labels:torch.Size([5, 200, 200])\n",
            "shape of out:; torch.Size([5, 3, 200, 200]), shape of labels:torch.Size([5, 200, 200])\n",
            "shape of out:; torch.Size([5, 3, 200, 200]), shape of labels:torch.Size([5, 200, 200])\n",
            "shape of out:; torch.Size([5, 3, 200, 200]), shape of labels:torch.Size([5, 200, 200])\n",
            "shape of out:; torch.Size([5, 3, 200, 200]), shape of labels:torch.Size([5, 200, 200])\n",
            "shape of out:; torch.Size([5, 3, 200, 200]), shape of labels:torch.Size([5, 200, 200])\n",
            "shape of out:; torch.Size([5, 3, 200, 200]), shape of labels:torch.Size([5, 200, 200])\n",
            "shape of out:; torch.Size([5, 3, 200, 200]), shape of labels:torch.Size([5, 200, 200])\n",
            "shape of out:; torch.Size([5, 3, 200, 200]), shape of labels:torch.Size([5, 200, 200])\n",
            "shape of out:; torch.Size([5, 3, 200, 200]), shape of labels:torch.Size([5, 200, 200])\n",
            "shape of out:; torch.Size([5, 3, 200, 200]), shape of labels:torch.Size([5, 200, 200])\n",
            "shape of out:; torch.Size([5, 3, 200, 200]), shape of labels:torch.Size([5, 200, 200])\n",
            "shape of out:; torch.Size([5, 3, 200, 200]), shape of labels:torch.Size([5, 200, 200])\n",
            "shape of out:; torch.Size([5, 3, 200, 200]), shape of labels:torch.Size([5, 200, 200])\n",
            "shape of out:; torch.Size([5, 3, 200, 200]), shape of labels:torch.Size([5, 200, 200])\n",
            "shape of out:; torch.Size([5, 3, 200, 200]), shape of labels:torch.Size([5, 200, 200])\n",
            "shape of out:; torch.Size([5, 3, 200, 200]), shape of labels:torch.Size([5, 200, 200])\n",
            "shape of out:; torch.Size([5, 3, 200, 200]), shape of labels:torch.Size([5, 200, 200])\n",
            "shape of out:; torch.Size([5, 3, 200, 200]), shape of labels:torch.Size([5, 200, 200])\n",
            "shape of out:; torch.Size([5, 3, 200, 200]), shape of labels:torch.Size([5, 200, 200])\n",
            "shape of out:; torch.Size([5, 3, 200, 200]), shape of labels:torch.Size([5, 200, 200])\n",
            "shape of out:; torch.Size([5, 3, 200, 200]), shape of labels:torch.Size([5, 200, 200])\n",
            "shape of out:; torch.Size([5, 3, 200, 200]), shape of labels:torch.Size([5, 200, 200])\n",
            "shape of out:; torch.Size([5, 3, 200, 200]), shape of labels:torch.Size([5, 200, 200])\n",
            "shape of out:; torch.Size([5, 3, 200, 200]), shape of labels:torch.Size([5, 200, 200])\n",
            "shape of out:; torch.Size([5, 3, 200, 200]), shape of labels:torch.Size([5, 200, 200])\n",
            "shape of out:; torch.Size([5, 3, 200, 200]), shape of labels:torch.Size([5, 200, 200])\n",
            "shape of out:; torch.Size([5, 3, 200, 200]), shape of labels:torch.Size([5, 200, 200])\n",
            "shape of out:; torch.Size([5, 3, 200, 200]), shape of labels:torch.Size([5, 200, 200])\n",
            "shape of out:; torch.Size([5, 3, 200, 200]), shape of labels:torch.Size([5, 200, 200])\n",
            "shape of out:; torch.Size([5, 3, 200, 200]), shape of labels:torch.Size([5, 200, 200])\n",
            "shape of out:; torch.Size([5, 3, 200, 200]), shape of labels:torch.Size([5, 200, 200])\n",
            "shape of out:; torch.Size([5, 3, 200, 200]), shape of labels:torch.Size([5, 200, 200])\n",
            "shape of out:; torch.Size([5, 3, 200, 200]), shape of labels:torch.Size([5, 200, 200])\n",
            "shape of out:; torch.Size([5, 3, 200, 200]), shape of labels:torch.Size([5, 200, 200])\n",
            "shape of out:; torch.Size([5, 3, 200, 200]), shape of labels:torch.Size([5, 200, 200])\n",
            "shape of out:; torch.Size([5, 3, 200, 200]), shape of labels:torch.Size([5, 200, 200])\n",
            "shape of out:; torch.Size([5, 3, 200, 200]), shape of labels:torch.Size([5, 200, 200])\n",
            "shape of out:; torch.Size([5, 3, 200, 200]), shape of labels:torch.Size([5, 200, 200])\n",
            "shape of out:; torch.Size([5, 3, 200, 200]), shape of labels:torch.Size([5, 200, 200])\n",
            "shape of out:; torch.Size([5, 3, 200, 200]), shape of labels:torch.Size([5, 200, 200])\n",
            "shape of out:; torch.Size([5, 3, 200, 200]), shape of labels:torch.Size([5, 200, 200])\n",
            "shape of out:; torch.Size([5, 3, 200, 200]), shape of labels:torch.Size([5, 200, 200])\n",
            "shape of out:; torch.Size([5, 3, 200, 200]), shape of labels:torch.Size([5, 200, 200])\n",
            "shape of out:; torch.Size([5, 3, 200, 200]), shape of labels:torch.Size([5, 200, 200])\n",
            "shape of out:; torch.Size([5, 3, 200, 200]), shape of labels:torch.Size([5, 200, 200])\n",
            "shape of out:; torch.Size([5, 3, 200, 200]), shape of labels:torch.Size([5, 200, 200])\n",
            "shape of out:; torch.Size([5, 3, 200, 200]), shape of labels:torch.Size([5, 200, 200])\n",
            "shape of out:; torch.Size([5, 3, 200, 200]), shape of labels:torch.Size([5, 200, 200])\n",
            "shape of out:; torch.Size([5, 3, 200, 200]), shape of labels:torch.Size([5, 200, 200])\n",
            "shape of out:; torch.Size([5, 3, 200, 200]), shape of labels:torch.Size([5, 200, 200])\n",
            "shape of out:; torch.Size([5, 3, 200, 200]), shape of labels:torch.Size([5, 200, 200])\n",
            "shape of out:; torch.Size([5, 3, 200, 200]), shape of labels:torch.Size([5, 200, 200])\n",
            "shape of out:; torch.Size([5, 3, 200, 200]), shape of labels:torch.Size([5, 200, 200])\n",
            "shape of out:; torch.Size([5, 3, 200, 200]), shape of labels:torch.Size([5, 200, 200])\n",
            "shape of out:; torch.Size([5, 3, 200, 200]), shape of labels:torch.Size([5, 200, 200])\n",
            "shape of out:; torch.Size([5, 3, 200, 200]), shape of labels:torch.Size([5, 200, 200])\n",
            "shape of out:; torch.Size([5, 3, 200, 200]), shape of labels:torch.Size([5, 200, 200])\n",
            "shape of out:; torch.Size([5, 3, 200, 200]), shape of labels:torch.Size([5, 200, 200])\n",
            "shape of out:; torch.Size([5, 3, 200, 200]), shape of labels:torch.Size([5, 200, 200])\n",
            "shape of out:; torch.Size([5, 3, 200, 200]), shape of labels:torch.Size([5, 200, 200])\n",
            "shape of out:; torch.Size([5, 3, 200, 200]), shape of labels:torch.Size([5, 200, 200])\n",
            "shape of out:; torch.Size([5, 3, 200, 200]), shape of labels:torch.Size([5, 200, 200])\n",
            "shape of out:; torch.Size([5, 3, 200, 200]), shape of labels:torch.Size([5, 200, 200])\n",
            "shape of out:; torch.Size([5, 3, 200, 200]), shape of labels:torch.Size([5, 200, 200])\n",
            "shape of out:; torch.Size([5, 3, 200, 200]), shape of labels:torch.Size([5, 200, 200])\n",
            "shape of out:; torch.Size([5, 3, 200, 200]), shape of labels:torch.Size([5, 200, 200])\n",
            "shape of out:; torch.Size([5, 3, 200, 200]), shape of labels:torch.Size([5, 200, 200])\n",
            "shape of out:; torch.Size([5, 3, 200, 200]), shape of labels:torch.Size([5, 200, 200])\n",
            "shape of out:; torch.Size([5, 3, 200, 200]), shape of labels:torch.Size([5, 200, 200])\n",
            "shape of out:; torch.Size([5, 3, 200, 200]), shape of labels:torch.Size([5, 200, 200])\n",
            "shape of out:; torch.Size([5, 3, 200, 200]), shape of labels:torch.Size([5, 200, 200])\n",
            "shape of out:; torch.Size([5, 3, 200, 200]), shape of labels:torch.Size([5, 200, 200])\n",
            "shape of out:; torch.Size([5, 3, 200, 200]), shape of labels:torch.Size([5, 200, 200])\n",
            "shape of out:; torch.Size([5, 3, 200, 200]), shape of labels:torch.Size([5, 200, 200])\n",
            "shape of out:; torch.Size([5, 3, 200, 200]), shape of labels:torch.Size([5, 200, 200])\n",
            "shape of out:; torch.Size([5, 3, 200, 200]), shape of labels:torch.Size([5, 200, 200])\n",
            "shape of out:; torch.Size([5, 3, 200, 200]), shape of labels:torch.Size([5, 200, 200])\n",
            "shape of out:; torch.Size([5, 3, 200, 200]), shape of labels:torch.Size([5, 200, 200])\n",
            "shape of out:; torch.Size([5, 3, 200, 200]), shape of labels:torch.Size([5, 200, 200])\n",
            "shape of out:; torch.Size([5, 3, 200, 200]), shape of labels:torch.Size([5, 200, 200])\n",
            "shape of out:; torch.Size([5, 3, 200, 200]), shape of labels:torch.Size([5, 200, 200])\n",
            "shape of out:; torch.Size([5, 3, 200, 200]), shape of labels:torch.Size([5, 200, 200])\n",
            "shape of out:; torch.Size([5, 3, 200, 200]), shape of labels:torch.Size([5, 200, 200])\n",
            "shape of out:; torch.Size([5, 3, 200, 200]), shape of labels:torch.Size([5, 200, 200])\n",
            "shape of out:; torch.Size([5, 3, 200, 200]), shape of labels:torch.Size([5, 200, 200])\n",
            "shape of out:; torch.Size([5, 3, 200, 200]), shape of labels:torch.Size([5, 200, 200])\n",
            "shape of out:; torch.Size([5, 3, 200, 200]), shape of labels:torch.Size([5, 200, 200])\n",
            "shape of out:; torch.Size([5, 3, 200, 200]), shape of labels:torch.Size([5, 200, 200])\n",
            "shape of out:; torch.Size([5, 3, 200, 200]), shape of labels:torch.Size([5, 200, 200])\n",
            "shape of out:; torch.Size([5, 3, 200, 200]), shape of labels:torch.Size([5, 200, 200])\n",
            "shape of out:; torch.Size([5, 3, 200, 200]), shape of labels:torch.Size([5, 200, 200])\n",
            "shape of out:; torch.Size([5, 3, 200, 200]), shape of labels:torch.Size([5, 200, 200])\n",
            "shape of out:; torch.Size([5, 3, 200, 200]), shape of labels:torch.Size([5, 200, 200])\n",
            "shape of out:; torch.Size([5, 3, 200, 200]), shape of labels:torch.Size([5, 200, 200])\n",
            "shape of out:; torch.Size([5, 3, 200, 200]), shape of labels:torch.Size([5, 200, 200])\n",
            "shape of out:; torch.Size([5, 3, 200, 200]), shape of labels:torch.Size([5, 200, 200])\n",
            "shape of out:; torch.Size([5, 3, 200, 200]), shape of labels:torch.Size([5, 200, 200])\n",
            "shape of out:; torch.Size([5, 3, 200, 200]), shape of labels:torch.Size([5, 200, 200])\n",
            "shape of out:; torch.Size([5, 3, 200, 200]), shape of labels:torch.Size([5, 200, 200])\n",
            "shape of out:; torch.Size([5, 3, 200, 200]), shape of labels:torch.Size([5, 200, 200])\n",
            "shape of out:; torch.Size([5, 3, 200, 200]), shape of labels:torch.Size([5, 200, 200])\n",
            "shape of out:; torch.Size([5, 3, 200, 200]), shape of labels:torch.Size([5, 200, 200])\n",
            "shape of out:; torch.Size([5, 3, 200, 200]), shape of labels:torch.Size([5, 200, 200])\n",
            "shape of out:; torch.Size([5, 3, 200, 200]), shape of labels:torch.Size([5, 200, 200])\n",
            "shape of out:; torch.Size([5, 3, 200, 200]), shape of labels:torch.Size([5, 200, 200])\n",
            "shape of out:; torch.Size([5, 3, 200, 200]), shape of labels:torch.Size([5, 200, 200])\n",
            "shape of out:; torch.Size([5, 3, 200, 200]), shape of labels:torch.Size([5, 200, 200])\n",
            "shape of out:; torch.Size([5, 3, 200, 200]), shape of labels:torch.Size([5, 200, 200])\n",
            "shape of out:; torch.Size([5, 3, 200, 200]), shape of labels:torch.Size([5, 200, 200])\n",
            "shape of out:; torch.Size([5, 3, 200, 200]), shape of labels:torch.Size([5, 200, 200])\n",
            "shape of out:; torch.Size([5, 3, 200, 200]), shape of labels:torch.Size([5, 200, 200])\n",
            "shape of out:; torch.Size([5, 3, 200, 200]), shape of labels:torch.Size([5, 200, 200])\n",
            "shape of out:; torch.Size([5, 3, 200, 200]), shape of labels:torch.Size([5, 200, 200])\n",
            "shape of out:; torch.Size([5, 3, 200, 200]), shape of labels:torch.Size([5, 200, 200])\n",
            "shape of out:; torch.Size([5, 3, 200, 200]), shape of labels:torch.Size([5, 200, 200])\n",
            "shape of out:; torch.Size([5, 3, 200, 200]), shape of labels:torch.Size([5, 200, 200])\n",
            "shape of out:; torch.Size([5, 3, 200, 200]), shape of labels:torch.Size([5, 200, 200])\n",
            "shape of out:; torch.Size([5, 3, 200, 200]), shape of labels:torch.Size([5, 200, 200])\n",
            "shape of out:; torch.Size([5, 3, 200, 200]), shape of labels:torch.Size([5, 200, 200])\n",
            "shape of out:; torch.Size([5, 3, 200, 200]), shape of labels:torch.Size([5, 200, 200])\n",
            "shape of out:; torch.Size([5, 3, 200, 200]), shape of labels:torch.Size([5, 200, 200])\n",
            "shape of out:; torch.Size([5, 3, 200, 200]), shape of labels:torch.Size([5, 200, 200])\n",
            "shape of out:; torch.Size([5, 3, 200, 200]), shape of labels:torch.Size([5, 200, 200])\n",
            "shape of out:; torch.Size([5, 3, 200, 200]), shape of labels:torch.Size([5, 200, 200])\n",
            "shape of out:; torch.Size([5, 3, 200, 200]), shape of labels:torch.Size([5, 200, 200])\n",
            "shape of out:; torch.Size([5, 3, 200, 200]), shape of labels:torch.Size([5, 200, 200])\n",
            "shape of out:; torch.Size([5, 3, 200, 200]), shape of labels:torch.Size([5, 200, 200])\n",
            "shape of out:; torch.Size([5, 3, 200, 200]), shape of labels:torch.Size([5, 200, 200])\n",
            "shape of out:; torch.Size([5, 3, 200, 200]), shape of labels:torch.Size([5, 200, 200])\n",
            "shape of out:; torch.Size([5, 3, 200, 200]), shape of labels:torch.Size([5, 200, 200])\n",
            "shape of out:; torch.Size([5, 3, 200, 200]), shape of labels:torch.Size([5, 200, 200])\n",
            "shape of out:; torch.Size([5, 3, 200, 200]), shape of labels:torch.Size([5, 200, 200])\n",
            "shape of out:; torch.Size([5, 3, 200, 200]), shape of labels:torch.Size([5, 200, 200])\n",
            "shape of out:; torch.Size([5, 3, 200, 200]), shape of labels:torch.Size([5, 200, 200])\n",
            "shape of out:; torch.Size([5, 3, 200, 200]), shape of labels:torch.Size([5, 200, 200])\n",
            "shape of out:; torch.Size([5, 3, 200, 200]), shape of labels:torch.Size([5, 200, 200])\n",
            "shape of out:; torch.Size([5, 3, 200, 200]), shape of labels:torch.Size([5, 200, 200])\n",
            "shape of out:; torch.Size([5, 3, 200, 200]), shape of labels:torch.Size([5, 200, 200])\n",
            "shape of out:; torch.Size([5, 3, 200, 200]), shape of labels:torch.Size([5, 200, 200])\n",
            "shape of out:; torch.Size([5, 3, 200, 200]), shape of labels:torch.Size([5, 200, 200])\n",
            "shape of out:; torch.Size([5, 3, 200, 200]), shape of labels:torch.Size([5, 200, 200])\n",
            "shape of out:; torch.Size([5, 3, 200, 200]), shape of labels:torch.Size([5, 200, 200])\n",
            "shape of out:; torch.Size([5, 3, 200, 200]), shape of labels:torch.Size([5, 200, 200])\n",
            "shape of out:; torch.Size([5, 3, 200, 200]), shape of labels:torch.Size([5, 200, 200])\n",
            "shape of out:; torch.Size([5, 3, 200, 200]), shape of labels:torch.Size([5, 200, 200])\n",
            "shape of out:; torch.Size([5, 3, 200, 200]), shape of labels:torch.Size([5, 200, 200])\n",
            "shape of out:; torch.Size([5, 3, 200, 200]), shape of labels:torch.Size([5, 200, 200])\n",
            "shape of out:; torch.Size([5, 3, 200, 200]), shape of labels:torch.Size([5, 200, 200])\n",
            "shape of out:; torch.Size([5, 3, 200, 200]), shape of labels:torch.Size([5, 200, 200])\n",
            "shape of out:; torch.Size([5, 3, 200, 200]), shape of labels:torch.Size([5, 200, 200])\n",
            "shape of out:; torch.Size([5, 3, 200, 200]), shape of labels:torch.Size([5, 200, 200])\n",
            "shape of out:; torch.Size([5, 3, 200, 200]), shape of labels:torch.Size([5, 200, 200])\n",
            "shape of out:; torch.Size([5, 3, 200, 200]), shape of labels:torch.Size([5, 200, 200])\n",
            "shape of out:; torch.Size([5, 3, 200, 200]), shape of labels:torch.Size([5, 200, 200])\n",
            "shape of out:; torch.Size([5, 3, 200, 200]), shape of labels:torch.Size([5, 200, 200])\n",
            "shape of out:; torch.Size([5, 3, 200, 200]), shape of labels:torch.Size([5, 200, 200])\n",
            "shape of out:; torch.Size([5, 3, 200, 200]), shape of labels:torch.Size([5, 200, 200])\n",
            "shape of out:; torch.Size([5, 3, 200, 200]), shape of labels:torch.Size([5, 200, 200])\n",
            "shape of out:; torch.Size([5, 3, 200, 200]), shape of labels:torch.Size([5, 200, 200])\n",
            "shape of out:; torch.Size([5, 3, 200, 200]), shape of labels:torch.Size([5, 200, 200])\n",
            "shape of out:; torch.Size([5, 3, 200, 200]), shape of labels:torch.Size([5, 200, 200])\n",
            "shape of out:; torch.Size([5, 3, 200, 200]), shape of labels:torch.Size([5, 200, 200])\n",
            "shape of out:; torch.Size([5, 3, 200, 200]), shape of labels:torch.Size([5, 200, 200])\n",
            "shape of out:; torch.Size([5, 3, 200, 200]), shape of labels:torch.Size([5, 200, 200])\n",
            "shape of out:; torch.Size([5, 3, 200, 200]), shape of labels:torch.Size([5, 200, 200])\n",
            "shape of out:; torch.Size([5, 3, 200, 200]), shape of labels:torch.Size([5, 200, 200])\n",
            "shape of out:; torch.Size([5, 3, 200, 200]), shape of labels:torch.Size([5, 200, 200])\n",
            "shape of out:; torch.Size([5, 3, 200, 200]), shape of labels:torch.Size([5, 200, 200])\n",
            "shape of out:; torch.Size([5, 3, 200, 200]), shape of labels:torch.Size([5, 200, 200])\n",
            "shape of out:; torch.Size([5, 3, 200, 200]), shape of labels:torch.Size([5, 200, 200])\n",
            "shape of out:; torch.Size([5, 3, 200, 200]), shape of labels:torch.Size([5, 200, 200])\n",
            "shape of out:; torch.Size([5, 3, 200, 200]), shape of labels:torch.Size([5, 200, 200])\n",
            "shape of out:; torch.Size([5, 3, 200, 200]), shape of labels:torch.Size([5, 200, 200])\n",
            "shape of out:; torch.Size([5, 3, 200, 200]), shape of labels:torch.Size([5, 200, 200])\n",
            "shape of out:; torch.Size([5, 3, 200, 200]), shape of labels:torch.Size([5, 200, 200])\n",
            "shape of out:; torch.Size([5, 3, 200, 200]), shape of labels:torch.Size([5, 200, 200])\n",
            "shape of out:; torch.Size([5, 3, 200, 200]), shape of labels:torch.Size([5, 200, 200])\n",
            "shape of out:; torch.Size([5, 3, 200, 200]), shape of labels:torch.Size([5, 200, 200])\n",
            "shape of out:; torch.Size([5, 3, 200, 200]), shape of labels:torch.Size([5, 200, 200])\n",
            "shape of out:; torch.Size([5, 3, 200, 200]), shape of labels:torch.Size([5, 200, 200])\n",
            "shape of out:; torch.Size([5, 3, 200, 200]), shape of labels:torch.Size([5, 200, 200])\n",
            "shape of out:; torch.Size([5, 3, 200, 200]), shape of labels:torch.Size([5, 200, 200])\n",
            "shape of out:; torch.Size([5, 3, 200, 200]), shape of labels:torch.Size([5, 200, 200])\n",
            "shape of out:; torch.Size([5, 3, 200, 200]), shape of labels:torch.Size([5, 200, 200])\n",
            "shape of out:; torch.Size([5, 3, 200, 200]), shape of labels:torch.Size([5, 200, 200])\n",
            "shape of out:; torch.Size([5, 3, 200, 200]), shape of labels:torch.Size([5, 200, 200])\n",
            "shape of out:; torch.Size([5, 3, 200, 200]), shape of labels:torch.Size([5, 200, 200])\n",
            "shape of out:; torch.Size([5, 3, 200, 200]), shape of labels:torch.Size([5, 200, 200])\n",
            "shape of out:; torch.Size([5, 3, 200, 200]), shape of labels:torch.Size([5, 200, 200])\n",
            "shape of out:; torch.Size([5, 3, 200, 200]), shape of labels:torch.Size([5, 200, 200])\n",
            "shape of out:; torch.Size([5, 3, 200, 200]), shape of labels:torch.Size([5, 200, 200])\n",
            "shape of out:; torch.Size([5, 3, 200, 200]), shape of labels:torch.Size([5, 200, 200])\n",
            "shape of out:; torch.Size([5, 3, 200, 200]), shape of labels:torch.Size([5, 200, 200])\n",
            "shape of out:; torch.Size([5, 3, 200, 200]), shape of labels:torch.Size([5, 200, 200])\n",
            "shape of out:; torch.Size([5, 3, 200, 200]), shape of labels:torch.Size([5, 200, 200])\n",
            "shape of out:; torch.Size([5, 3, 200, 200]), shape of labels:torch.Size([5, 200, 200])\n",
            "shape of out:; torch.Size([5, 3, 200, 200]), shape of labels:torch.Size([5, 200, 200])\n",
            "shape of out:; torch.Size([5, 3, 200, 200]), shape of labels:torch.Size([5, 200, 200])\n",
            "shape of out:; torch.Size([5, 3, 200, 200]), shape of labels:torch.Size([5, 200, 200])\n",
            "shape of out:; torch.Size([5, 3, 200, 200]), shape of labels:torch.Size([5, 200, 200])\n",
            "shape of out:; torch.Size([5, 3, 200, 200]), shape of labels:torch.Size([5, 200, 200])\n",
            "shape of out:; torch.Size([5, 3, 200, 200]), shape of labels:torch.Size([5, 200, 200])\n",
            "shape of out:; torch.Size([5, 3, 200, 200]), shape of labels:torch.Size([5, 200, 200])\n",
            "shape of out:; torch.Size([5, 3, 200, 200]), shape of labels:torch.Size([5, 200, 200])\n",
            "shape of out:; torch.Size([5, 3, 200, 200]), shape of labels:torch.Size([5, 200, 200])\n",
            "shape of out:; torch.Size([5, 3, 200, 200]), shape of labels:torch.Size([5, 200, 200])\n",
            "shape of out:; torch.Size([5, 3, 200, 200]), shape of labels:torch.Size([5, 200, 200])\n",
            "shape of out:; torch.Size([5, 3, 200, 200]), shape of labels:torch.Size([5, 200, 200])\n",
            "shape of out:; torch.Size([5, 3, 200, 200]), shape of labels:torch.Size([5, 200, 200])\n",
            "shape of out:; torch.Size([5, 3, 200, 200]), shape of labels:torch.Size([5, 200, 200])\n",
            "shape of out:; torch.Size([5, 3, 200, 200]), shape of labels:torch.Size([5, 200, 200])\n",
            "shape of out:; torch.Size([5, 3, 200, 200]), shape of labels:torch.Size([5, 200, 200])\n",
            "shape of out:; torch.Size([5, 3, 200, 200]), shape of labels:torch.Size([5, 200, 200])\n",
            "shape of out:; torch.Size([5, 3, 200, 200]), shape of labels:torch.Size([5, 200, 200])\n",
            "shape of out:; torch.Size([5, 3, 200, 200]), shape of labels:torch.Size([5, 200, 200])\n",
            "shape of out:; torch.Size([5, 3, 200, 200]), shape of labels:torch.Size([5, 200, 200])\n",
            "shape of out:; torch.Size([5, 3, 200, 200]), shape of labels:torch.Size([5, 200, 200])\n",
            "shape of out:; torch.Size([5, 3, 200, 200]), shape of labels:torch.Size([5, 200, 200])\n",
            "shape of out:; torch.Size([5, 3, 200, 200]), shape of labels:torch.Size([5, 200, 200])\n",
            "shape of out:; torch.Size([5, 3, 200, 200]), shape of labels:torch.Size([5, 200, 200])\n",
            "shape of out:; torch.Size([5, 3, 200, 200]), shape of labels:torch.Size([5, 200, 200])\n",
            "shape of out:; torch.Size([5, 3, 200, 200]), shape of labels:torch.Size([5, 200, 200])\n",
            "shape of out:; torch.Size([5, 3, 200, 200]), shape of labels:torch.Size([5, 200, 200])\n",
            "shape of out:; torch.Size([5, 3, 200, 200]), shape of labels:torch.Size([5, 200, 200])\n",
            "shape of out:; torch.Size([5, 3, 200, 200]), shape of labels:torch.Size([5, 200, 200])\n",
            "shape of out:; torch.Size([5, 3, 200, 200]), shape of labels:torch.Size([5, 200, 200])\n",
            "shape of out:; torch.Size([5, 3, 200, 200]), shape of labels:torch.Size([5, 200, 200])\n",
            "shape of out:; torch.Size([5, 3, 200, 200]), shape of labels:torch.Size([5, 200, 200])\n",
            "shape of out:; torch.Size([5, 3, 200, 200]), shape of labels:torch.Size([5, 200, 200])\n",
            "shape of out:; torch.Size([5, 3, 200, 200]), shape of labels:torch.Size([5, 200, 200])\n",
            "shape of out:; torch.Size([5, 3, 200, 200]), shape of labels:torch.Size([5, 200, 200])\n",
            "shape of out:; torch.Size([5, 3, 200, 200]), shape of labels:torch.Size([5, 200, 200])\n",
            "shape of out:; torch.Size([5, 3, 200, 200]), shape of labels:torch.Size([5, 200, 200])\n",
            "shape of out:; torch.Size([5, 3, 200, 200]), shape of labels:torch.Size([5, 200, 200])\n",
            "shape of out:; torch.Size([5, 3, 200, 200]), shape of labels:torch.Size([5, 200, 200])\n",
            "shape of out:; torch.Size([5, 3, 200, 200]), shape of labels:torch.Size([5, 200, 200])\n",
            "shape of out:; torch.Size([5, 3, 200, 200]), shape of labels:torch.Size([5, 200, 200])\n",
            "shape of out:; torch.Size([5, 3, 200, 200]), shape of labels:torch.Size([5, 200, 200])\n",
            "shape of out:; torch.Size([5, 3, 200, 200]), shape of labels:torch.Size([5, 200, 200])\n",
            "shape of out:; torch.Size([5, 3, 200, 200]), shape of labels:torch.Size([5, 200, 200])\n",
            "shape of out:; torch.Size([5, 3, 200, 200]), shape of labels:torch.Size([5, 200, 200])\n",
            "shape of out:; torch.Size([5, 3, 200, 200]), shape of labels:torch.Size([5, 200, 200])\n",
            "shape of out:; torch.Size([5, 3, 200, 200]), shape of labels:torch.Size([5, 200, 200])\n",
            "shape of out:; torch.Size([5, 3, 200, 200]), shape of labels:torch.Size([5, 200, 200])\n",
            "shape of out:; torch.Size([5, 3, 200, 200]), shape of labels:torch.Size([5, 200, 200])\n",
            "shape of out:; torch.Size([5, 3, 200, 200]), shape of labels:torch.Size([5, 200, 200])\n",
            "shape of out:; torch.Size([5, 3, 200, 200]), shape of labels:torch.Size([5, 200, 200])\n",
            "shape of out:; torch.Size([5, 3, 200, 200]), shape of labels:torch.Size([5, 200, 200])\n",
            "shape of out:; torch.Size([5, 3, 200, 200]), shape of labels:torch.Size([5, 200, 200])\n",
            "shape of out:; torch.Size([5, 3, 200, 200]), shape of labels:torch.Size([5, 200, 200])\n",
            "shape of out:; torch.Size([5, 3, 200, 200]), shape of labels:torch.Size([5, 200, 200])\n",
            "shape of out:; torch.Size([5, 3, 200, 200]), shape of labels:torch.Size([5, 200, 200])\n",
            "shape of out:; torch.Size([5, 3, 200, 200]), shape of labels:torch.Size([5, 200, 200])\n",
            "shape of out:; torch.Size([5, 3, 200, 200]), shape of labels:torch.Size([5, 200, 200])\n",
            "shape of out:; torch.Size([5, 3, 200, 200]), shape of labels:torch.Size([5, 200, 200])\n",
            "shape of out:; torch.Size([5, 3, 200, 200]), shape of labels:torch.Size([5, 200, 200])\n",
            "shape of out:; torch.Size([5, 3, 200, 200]), shape of labels:torch.Size([5, 200, 200])\n",
            "shape of out:; torch.Size([5, 3, 200, 200]), shape of labels:torch.Size([5, 200, 200])\n",
            "shape of out:; torch.Size([5, 3, 200, 200]), shape of labels:torch.Size([5, 200, 200])\n",
            "shape of out:; torch.Size([5, 3, 200, 200]), shape of labels:torch.Size([5, 200, 200])\n",
            "shape of out:; torch.Size([5, 3, 200, 200]), shape of labels:torch.Size([5, 200, 200])\n",
            "shape of out:; torch.Size([5, 3, 200, 200]), shape of labels:torch.Size([5, 200, 200])\n",
            "shape of out:; torch.Size([5, 3, 200, 200]), shape of labels:torch.Size([5, 200, 200])\n",
            "shape of out:; torch.Size([5, 3, 200, 200]), shape of labels:torch.Size([5, 200, 200])\n",
            "shape of out:; torch.Size([5, 3, 200, 200]), shape of labels:torch.Size([5, 200, 200])\n",
            "shape of out:; torch.Size([5, 3, 200, 200]), shape of labels:torch.Size([5, 200, 200])\n",
            "shape of out:; torch.Size([5, 3, 200, 200]), shape of labels:torch.Size([5, 200, 200])\n",
            "shape of out:; torch.Size([5, 3, 200, 200]), shape of labels:torch.Size([5, 200, 200])\n",
            "shape of out:; torch.Size([5, 3, 200, 200]), shape of labels:torch.Size([5, 200, 200])\n",
            "shape of out:; torch.Size([5, 3, 200, 200]), shape of labels:torch.Size([5, 200, 200])\n",
            "shape of out:; torch.Size([5, 3, 200, 200]), shape of labels:torch.Size([5, 200, 200])\n",
            "shape of out:; torch.Size([5, 3, 200, 200]), shape of labels:torch.Size([5, 200, 200])\n",
            "shape of out:; torch.Size([5, 3, 200, 200]), shape of labels:torch.Size([5, 200, 200])\n",
            "shape of out:; torch.Size([5, 3, 200, 200]), shape of labels:torch.Size([5, 200, 200])\n",
            "shape of out:; torch.Size([5, 3, 200, 200]), shape of labels:torch.Size([5, 200, 200])\n",
            "shape of out:; torch.Size([5, 3, 200, 200]), shape of labels:torch.Size([5, 200, 200])\n",
            "shape of out:; torch.Size([5, 3, 200, 200]), shape of labels:torch.Size([5, 200, 200])\n",
            "shape of out:; torch.Size([5, 3, 200, 200]), shape of labels:torch.Size([5, 200, 200])\n",
            "shape of out:; torch.Size([5, 3, 200, 200]), shape of labels:torch.Size([5, 200, 200])\n",
            "shape of out:; torch.Size([5, 3, 200, 200]), shape of labels:torch.Size([5, 200, 200])\n",
            "shape of out:; torch.Size([5, 3, 200, 200]), shape of labels:torch.Size([5, 200, 200])\n",
            "shape of out:; torch.Size([5, 3, 200, 200]), shape of labels:torch.Size([5, 200, 200])\n",
            "shape of out:; torch.Size([5, 3, 200, 200]), shape of labels:torch.Size([5, 200, 200])\n",
            "shape of out:; torch.Size([5, 3, 200, 200]), shape of labels:torch.Size([5, 200, 200])\n",
            "shape of out:; torch.Size([5, 3, 200, 200]), shape of labels:torch.Size([5, 200, 200])\n",
            "shape of out:; torch.Size([5, 3, 200, 200]), shape of labels:torch.Size([5, 200, 200])\n",
            "shape of out:; torch.Size([5, 3, 200, 200]), shape of labels:torch.Size([5, 200, 200])\n",
            "shape of out:; torch.Size([5, 3, 200, 200]), shape of labels:torch.Size([5, 200, 200])\n",
            "shape of out:; torch.Size([5, 3, 200, 200]), shape of labels:torch.Size([5, 200, 200])\n",
            "shape of out:; torch.Size([5, 3, 200, 200]), shape of labels:torch.Size([5, 200, 200])\n",
            "shape of out:; torch.Size([5, 3, 200, 200]), shape of labels:torch.Size([5, 200, 200])\n",
            "shape of out:; torch.Size([5, 3, 200, 200]), shape of labels:torch.Size([5, 200, 200])\n",
            "shape of out:; torch.Size([5, 3, 200, 200]), shape of labels:torch.Size([5, 200, 200])\n",
            "shape of out:; torch.Size([5, 3, 200, 200]), shape of labels:torch.Size([5, 200, 200])\n",
            "shape of out:; torch.Size([5, 3, 200, 200]), shape of labels:torch.Size([5, 200, 200])\n",
            "shape of out:; torch.Size([5, 3, 200, 200]), shape of labels:torch.Size([5, 200, 200])\n",
            "shape of out:; torch.Size([5, 3, 200, 200]), shape of labels:torch.Size([5, 200, 200])\n",
            "shape of out:; torch.Size([5, 3, 200, 200]), shape of labels:torch.Size([5, 200, 200])\n",
            "shape of out:; torch.Size([5, 3, 200, 200]), shape of labels:torch.Size([5, 200, 200])\n",
            "shape of out:; torch.Size([5, 3, 200, 200]), shape of labels:torch.Size([5, 200, 200])\n",
            "shape of out:; torch.Size([5, 3, 200, 200]), shape of labels:torch.Size([5, 200, 200])\n",
            "shape of out:; torch.Size([5, 3, 200, 200]), shape of labels:torch.Size([5, 200, 200])\n",
            "shape of out:; torch.Size([5, 3, 200, 200]), shape of labels:torch.Size([5, 200, 200])\n",
            "shape of out:; torch.Size([5, 3, 200, 200]), shape of labels:torch.Size([5, 200, 200])\n",
            "shape of out:; torch.Size([5, 3, 200, 200]), shape of labels:torch.Size([5, 200, 200])\n",
            "shape of out:; torch.Size([5, 3, 200, 200]), shape of labels:torch.Size([5, 200, 200])\n",
            "shape of out:; torch.Size([5, 3, 200, 200]), shape of labels:torch.Size([5, 200, 200])\n",
            "shape of out:; torch.Size([5, 3, 200, 200]), shape of labels:torch.Size([5, 200, 200])\n",
            "shape of out:; torch.Size([5, 3, 200, 200]), shape of labels:torch.Size([5, 200, 200])\n",
            "shape of out:; torch.Size([5, 3, 200, 200]), shape of labels:torch.Size([5, 200, 200])\n",
            "shape of out:; torch.Size([5, 3, 200, 200]), shape of labels:torch.Size([5, 200, 200])\n",
            "shape of out:; torch.Size([5, 3, 200, 200]), shape of labels:torch.Size([5, 200, 200])\n",
            "shape of out:; torch.Size([5, 3, 200, 200]), shape of labels:torch.Size([5, 200, 200])\n",
            "shape of out:; torch.Size([5, 3, 200, 200]), shape of labels:torch.Size([5, 200, 200])\n",
            "shape of out:; torch.Size([5, 3, 200, 200]), shape of labels:torch.Size([5, 200, 200])\n",
            "shape of out:; torch.Size([5, 3, 200, 200]), shape of labels:torch.Size([5, 200, 200])\n",
            "shape of out:; torch.Size([5, 3, 200, 200]), shape of labels:torch.Size([5, 200, 200])\n",
            "shape of out:; torch.Size([5, 3, 200, 200]), shape of labels:torch.Size([5, 200, 200])\n",
            "shape of out:; torch.Size([5, 3, 200, 200]), shape of labels:torch.Size([5, 200, 200])\n",
            "shape of out:; torch.Size([5, 3, 200, 200]), shape of labels:torch.Size([5, 200, 200])\n",
            "shape of out:; torch.Size([5, 3, 200, 200]), shape of labels:torch.Size([5, 200, 200])\n",
            "shape of out:; torch.Size([5, 3, 200, 200]), shape of labels:torch.Size([5, 200, 200])\n",
            "shape of out:; torch.Size([5, 3, 200, 200]), shape of labels:torch.Size([5, 200, 200])\n",
            "shape of out:; torch.Size([5, 3, 200, 200]), shape of labels:torch.Size([5, 200, 200])\n",
            "shape of out:; torch.Size([5, 3, 200, 200]), shape of labels:torch.Size([5, 200, 200])\n",
            "shape of out:; torch.Size([5, 3, 200, 200]), shape of labels:torch.Size([5, 200, 200])\n",
            "shape of out:; torch.Size([5, 3, 200, 200]), shape of labels:torch.Size([5, 200, 200])\n",
            "shape of out:; torch.Size([5, 3, 200, 200]), shape of labels:torch.Size([5, 200, 200])\n",
            "shape of out:; torch.Size([5, 3, 200, 200]), shape of labels:torch.Size([5, 200, 200])\n",
            "shape of out:; torch.Size([5, 3, 200, 200]), shape of labels:torch.Size([5, 200, 200])\n",
            "shape of out:; torch.Size([5, 3, 200, 200]), shape of labels:torch.Size([5, 200, 200])\n",
            "shape of out:; torch.Size([5, 3, 200, 200]), shape of labels:torch.Size([5, 200, 200])\n",
            "shape of out:; torch.Size([5, 3, 200, 200]), shape of labels:torch.Size([5, 200, 200])\n",
            "shape of out:; torch.Size([5, 3, 200, 200]), shape of labels:torch.Size([5, 200, 200])\n",
            "shape of out:; torch.Size([5, 3, 200, 200]), shape of labels:torch.Size([5, 200, 200])\n",
            "shape of out:; torch.Size([5, 3, 200, 200]), shape of labels:torch.Size([5, 200, 200])\n",
            "shape of out:; torch.Size([5, 3, 200, 200]), shape of labels:torch.Size([5, 200, 200])\n",
            "shape of out:; torch.Size([5, 3, 200, 200]), shape of labels:torch.Size([5, 200, 200])\n",
            "shape of out:; torch.Size([5, 3, 200, 200]), shape of labels:torch.Size([5, 200, 200])\n",
            "shape of out:; torch.Size([5, 3, 200, 200]), shape of labels:torch.Size([5, 200, 200])\n",
            "shape of out:; torch.Size([5, 3, 200, 200]), shape of labels:torch.Size([5, 200, 200])\n",
            "shape of out:; torch.Size([5, 3, 200, 200]), shape of labels:torch.Size([5, 200, 200])\n",
            "shape of out:; torch.Size([5, 3, 200, 200]), shape of labels:torch.Size([5, 200, 200])\n",
            "shape of out:; torch.Size([5, 3, 200, 200]), shape of labels:torch.Size([5, 200, 200])\n",
            "shape of out:; torch.Size([5, 3, 200, 200]), shape of labels:torch.Size([5, 200, 200])\n",
            "shape of out:; torch.Size([5, 3, 200, 200]), shape of labels:torch.Size([5, 200, 200])\n",
            "shape of out:; torch.Size([5, 3, 200, 200]), shape of labels:torch.Size([5, 200, 200])\n",
            "shape of out:; torch.Size([5, 3, 200, 200]), shape of labels:torch.Size([5, 200, 200])\n",
            "shape of out:; torch.Size([5, 3, 200, 200]), shape of labels:torch.Size([5, 200, 200])\n",
            "shape of out:; torch.Size([5, 3, 200, 200]), shape of labels:torch.Size([5, 200, 200])\n",
            "shape of out:; torch.Size([5, 3, 200, 200]), shape of labels:torch.Size([5, 200, 200])\n",
            "shape of out:; torch.Size([5, 3, 200, 200]), shape of labels:torch.Size([5, 200, 200])\n",
            "shape of out:; torch.Size([5, 3, 200, 200]), shape of labels:torch.Size([5, 200, 200])\n",
            "shape of out:; torch.Size([5, 3, 200, 200]), shape of labels:torch.Size([5, 200, 200])\n",
            "shape of out:; torch.Size([5, 3, 200, 200]), shape of labels:torch.Size([5, 200, 200])\n",
            "shape of out:; torch.Size([5, 3, 200, 200]), shape of labels:torch.Size([5, 200, 200])\n",
            "shape of out:; torch.Size([5, 3, 200, 200]), shape of labels:torch.Size([5, 200, 200])\n",
            "shape of out:; torch.Size([5, 3, 200, 200]), shape of labels:torch.Size([5, 200, 200])\n",
            "shape of out:; torch.Size([5, 3, 200, 200]), shape of labels:torch.Size([5, 200, 200])\n",
            "shape of out:; torch.Size([5, 3, 200, 200]), shape of labels:torch.Size([5, 200, 200])\n",
            "shape of out:; torch.Size([5, 3, 200, 200]), shape of labels:torch.Size([5, 200, 200])\n",
            "shape of out:; torch.Size([5, 3, 200, 200]), shape of labels:torch.Size([5, 200, 200])\n",
            "shape of out:; torch.Size([5, 3, 200, 200]), shape of labels:torch.Size([5, 200, 200])\n",
            "shape of out:; torch.Size([5, 3, 200, 200]), shape of labels:torch.Size([5, 200, 200])\n",
            "shape of out:; torch.Size([5, 3, 200, 200]), shape of labels:torch.Size([5, 200, 200])\n",
            "shape of out:; torch.Size([5, 3, 200, 200]), shape of labels:torch.Size([5, 200, 200])\n",
            "shape of out:; torch.Size([5, 3, 200, 200]), shape of labels:torch.Size([5, 200, 200])\n",
            "shape of out:; torch.Size([5, 3, 200, 200]), shape of labels:torch.Size([5, 200, 200])\n",
            "shape of out:; torch.Size([5, 3, 200, 200]), shape of labels:torch.Size([5, 200, 200])\n",
            "shape of out:; torch.Size([5, 3, 200, 200]), shape of labels:torch.Size([5, 200, 200])\n",
            "shape of out:; torch.Size([5, 3, 200, 200]), shape of labels:torch.Size([5, 200, 200])\n",
            "shape of out:; torch.Size([5, 3, 200, 200]), shape of labels:torch.Size([5, 200, 200])\n",
            "shape of out:; torch.Size([5, 3, 200, 200]), shape of labels:torch.Size([5, 200, 200])\n",
            "shape of out:; torch.Size([5, 3, 200, 200]), shape of labels:torch.Size([5, 200, 200])\n",
            "shape of out:; torch.Size([5, 3, 200, 200]), shape of labels:torch.Size([5, 200, 200])\n",
            "shape of out:; torch.Size([5, 3, 200, 200]), shape of labels:torch.Size([5, 200, 200])\n",
            "shape of out:; torch.Size([5, 3, 200, 200]), shape of labels:torch.Size([5, 200, 200])\n",
            "shape of out:; torch.Size([5, 3, 200, 200]), shape of labels:torch.Size([5, 200, 200])\n",
            "shape of out:; torch.Size([5, 3, 200, 200]), shape of labels:torch.Size([5, 200, 200])\n",
            "shape of out:; torch.Size([5, 3, 200, 200]), shape of labels:torch.Size([5, 200, 200])\n",
            "shape of out:; torch.Size([5, 3, 200, 200]), shape of labels:torch.Size([5, 200, 200])\n",
            "shape of out:; torch.Size([5, 3, 200, 200]), shape of labels:torch.Size([5, 200, 200])\n",
            "shape of out:; torch.Size([5, 3, 200, 200]), shape of labels:torch.Size([5, 200, 200])\n",
            "shape of out:; torch.Size([5, 3, 200, 200]), shape of labels:torch.Size([5, 200, 200])\n",
            "shape of out:; torch.Size([5, 3, 200, 200]), shape of labels:torch.Size([5, 200, 200])\n",
            "shape of out:; torch.Size([5, 3, 200, 200]), shape of labels:torch.Size([5, 200, 200])\n",
            "shape of out:; torch.Size([5, 3, 200, 200]), shape of labels:torch.Size([5, 200, 200])\n",
            "shape of out:; torch.Size([5, 3, 200, 200]), shape of labels:torch.Size([5, 200, 200])\n",
            "shape of out:; torch.Size([5, 3, 200, 200]), shape of labels:torch.Size([5, 200, 200])\n",
            "shape of out:; torch.Size([5, 3, 200, 200]), shape of labels:torch.Size([5, 200, 200])\n",
            "shape of out:; torch.Size([5, 3, 200, 200]), shape of labels:torch.Size([5, 200, 200])\n",
            "shape of out:; torch.Size([5, 3, 200, 200]), shape of labels:torch.Size([5, 200, 200])\n",
            "shape of out:; torch.Size([5, 3, 200, 200]), shape of labels:torch.Size([5, 200, 200])\n",
            "shape of out:; torch.Size([5, 3, 200, 200]), shape of labels:torch.Size([5, 200, 200])\n",
            "shape of out:; torch.Size([5, 3, 200, 200]), shape of labels:torch.Size([5, 200, 200])\n",
            "shape of out:; torch.Size([5, 3, 200, 200]), shape of labels:torch.Size([5, 200, 200])\n",
            "shape of out:; torch.Size([5, 3, 200, 200]), shape of labels:torch.Size([5, 200, 200])\n",
            "shape of out:; torch.Size([5, 3, 200, 200]), shape of labels:torch.Size([5, 200, 200])\n",
            "shape of out:; torch.Size([5, 3, 200, 200]), shape of labels:torch.Size([5, 200, 200])\n",
            "shape of out:; torch.Size([5, 3, 200, 200]), shape of labels:torch.Size([5, 200, 200])\n",
            "shape of out:; torch.Size([5, 3, 200, 200]), shape of labels:torch.Size([5, 200, 200])\n",
            "shape of out:; torch.Size([5, 3, 200, 200]), shape of labels:torch.Size([5, 200, 200])\n",
            "shape of out:; torch.Size([5, 3, 200, 200]), shape of labels:torch.Size([5, 200, 200])\n",
            "shape of out:; torch.Size([5, 3, 200, 200]), shape of labels:torch.Size([5, 200, 200])\n",
            "shape of out:; torch.Size([5, 3, 200, 200]), shape of labels:torch.Size([5, 200, 200])\n",
            "shape of out:; torch.Size([5, 3, 200, 200]), shape of labels:torch.Size([5, 200, 200])\n",
            "shape of out:; torch.Size([5, 3, 200, 200]), shape of labels:torch.Size([5, 200, 200])\n",
            "shape of out:; torch.Size([5, 3, 200, 200]), shape of labels:torch.Size([5, 200, 200])\n",
            "shape of out:; torch.Size([5, 3, 200, 200]), shape of labels:torch.Size([5, 200, 200])\n",
            "shape of out:; torch.Size([5, 3, 200, 200]), shape of labels:torch.Size([5, 200, 200])\n",
            "shape of out:; torch.Size([5, 3, 200, 200]), shape of labels:torch.Size([5, 200, 200])\n",
            "shape of out:; torch.Size([5, 3, 200, 200]), shape of labels:torch.Size([5, 200, 200])\n",
            "shape of out:; torch.Size([5, 3, 200, 200]), shape of labels:torch.Size([5, 200, 200])\n",
            "shape of out:; torch.Size([5, 3, 200, 200]), shape of labels:torch.Size([5, 200, 200])\n",
            "shape of out:; torch.Size([5, 3, 200, 200]), shape of labels:torch.Size([5, 200, 200])\n",
            "shape of out:; torch.Size([5, 3, 200, 200]), shape of labels:torch.Size([5, 200, 200])\n",
            "shape of out:; torch.Size([5, 3, 200, 200]), shape of labels:torch.Size([5, 200, 200])\n",
            "shape of out:; torch.Size([5, 3, 200, 200]), shape of labels:torch.Size([5, 200, 200])\n",
            "shape of out:; torch.Size([5, 3, 200, 200]), shape of labels:torch.Size([5, 200, 200])\n",
            "shape of out:; torch.Size([5, 3, 200, 200]), shape of labels:torch.Size([5, 200, 200])\n",
            "shape of out:; torch.Size([5, 3, 200, 200]), shape of labels:torch.Size([5, 200, 200])\n",
            "shape of out:; torch.Size([5, 3, 200, 200]), shape of labels:torch.Size([5, 200, 200])\n",
            "shape of out:; torch.Size([5, 3, 200, 200]), shape of labels:torch.Size([5, 200, 200])\n",
            "shape of out:; torch.Size([5, 3, 200, 200]), shape of labels:torch.Size([5, 200, 200])\n",
            "shape of out:; torch.Size([5, 3, 200, 200]), shape of labels:torch.Size([5, 200, 200])\n",
            "shape of out:; torch.Size([5, 3, 200, 200]), shape of labels:torch.Size([5, 200, 200])\n",
            "shape of out:; torch.Size([5, 3, 200, 200]), shape of labels:torch.Size([5, 200, 200])\n",
            "shape of out:; torch.Size([5, 3, 200, 200]), shape of labels:torch.Size([5, 200, 200])\n",
            "shape of out:; torch.Size([5, 3, 200, 200]), shape of labels:torch.Size([5, 200, 200])\n",
            "shape of out:; torch.Size([5, 3, 200, 200]), shape of labels:torch.Size([5, 200, 200])\n",
            "shape of out:; torch.Size([5, 3, 200, 200]), shape of labels:torch.Size([5, 200, 200])\n",
            "shape of out:; torch.Size([5, 3, 200, 200]), shape of labels:torch.Size([5, 200, 200])\n",
            "shape of out:; torch.Size([5, 3, 200, 200]), shape of labels:torch.Size([5, 200, 200])\n",
            "shape of out:; torch.Size([5, 3, 200, 200]), shape of labels:torch.Size([5, 200, 200])\n",
            "shape of out:; torch.Size([5, 3, 200, 200]), shape of labels:torch.Size([5, 200, 200])\n",
            "shape of out:; torch.Size([5, 3, 200, 200]), shape of labels:torch.Size([5, 200, 200])\n",
            "shape of out:; torch.Size([5, 3, 200, 200]), shape of labels:torch.Size([5, 200, 200])\n",
            "shape of out:; torch.Size([5, 3, 200, 200]), shape of labels:torch.Size([5, 200, 200])\n",
            "shape of out:; torch.Size([5, 3, 200, 200]), shape of labels:torch.Size([5, 200, 200])\n",
            "shape of out:; torch.Size([5, 3, 200, 200]), shape of labels:torch.Size([5, 200, 200])\n",
            "shape of out:; torch.Size([5, 3, 200, 200]), shape of labels:torch.Size([5, 200, 200])\n",
            "shape of out:; torch.Size([5, 3, 200, 200]), shape of labels:torch.Size([5, 200, 200])\n",
            "shape of out:; torch.Size([5, 3, 200, 200]), shape of labels:torch.Size([5, 200, 200])\n",
            "shape of out:; torch.Size([5, 3, 200, 200]), shape of labels:torch.Size([5, 200, 200])\n",
            "shape of out:; torch.Size([5, 3, 200, 200]), shape of labels:torch.Size([5, 200, 200])\n",
            "shape of out:; torch.Size([5, 3, 200, 200]), shape of labels:torch.Size([5, 200, 200])\n",
            "shape of out:; torch.Size([5, 3, 200, 200]), shape of labels:torch.Size([5, 200, 200])\n",
            "shape of out:; torch.Size([5, 3, 200, 200]), shape of labels:torch.Size([5, 200, 200])\n",
            "shape of out:; torch.Size([5, 3, 200, 200]), shape of labels:torch.Size([5, 200, 200])\n",
            "shape of out:; torch.Size([5, 3, 200, 200]), shape of labels:torch.Size([5, 200, 200])\n",
            "shape of out:; torch.Size([5, 3, 200, 200]), shape of labels:torch.Size([5, 200, 200])\n",
            "shape of out:; torch.Size([5, 3, 200, 200]), shape of labels:torch.Size([5, 200, 200])\n",
            "shape of out:; torch.Size([5, 3, 200, 200]), shape of labels:torch.Size([5, 200, 200])\n",
            "shape of out:; torch.Size([5, 3, 200, 200]), shape of labels:torch.Size([5, 200, 200])\n",
            "shape of out:; torch.Size([5, 3, 200, 200]), shape of labels:torch.Size([5, 200, 200])\n",
            "shape of out:; torch.Size([5, 3, 200, 200]), shape of labels:torch.Size([5, 200, 200])\n",
            "shape of out:; torch.Size([5, 3, 200, 200]), shape of labels:torch.Size([5, 200, 200])\n",
            "shape of out:; torch.Size([5, 3, 200, 200]), shape of labels:torch.Size([5, 200, 200])\n",
            "shape of out:; torch.Size([5, 3, 200, 200]), shape of labels:torch.Size([5, 200, 200])\n",
            "shape of out:; torch.Size([5, 3, 200, 200]), shape of labels:torch.Size([5, 200, 200])\n",
            "shape of out:; torch.Size([5, 3, 200, 200]), shape of labels:torch.Size([5, 200, 200])\n",
            "shape of out:; torch.Size([5, 3, 200, 200]), shape of labels:torch.Size([5, 200, 200])\n",
            "shape of out:; torch.Size([5, 3, 200, 200]), shape of labels:torch.Size([5, 200, 200])\n",
            "shape of out:; torch.Size([5, 3, 200, 200]), shape of labels:torch.Size([5, 200, 200])\n",
            "shape of out:; torch.Size([5, 3, 200, 200]), shape of labels:torch.Size([5, 200, 200])\n",
            "shape of out:; torch.Size([5, 3, 200, 200]), shape of labels:torch.Size([5, 200, 200])\n",
            "shape of out:; torch.Size([5, 3, 200, 200]), shape of labels:torch.Size([5, 200, 200])\n",
            "shape of out:; torch.Size([5, 3, 200, 200]), shape of labels:torch.Size([5, 200, 200])\n",
            "shape of out:; torch.Size([5, 3, 200, 200]), shape of labels:torch.Size([5, 200, 200])\n",
            "shape of out:; torch.Size([5, 3, 200, 200]), shape of labels:torch.Size([5, 200, 200])\n",
            "shape of out:; torch.Size([5, 3, 200, 200]), shape of labels:torch.Size([5, 200, 200])\n",
            "shape of out:; torch.Size([5, 3, 200, 200]), shape of labels:torch.Size([5, 200, 200])\n",
            "shape of out:; torch.Size([5, 3, 200, 200]), shape of labels:torch.Size([5, 200, 200])\n",
            "shape of out:; torch.Size([5, 3, 200, 200]), shape of labels:torch.Size([5, 200, 200])\n",
            "shape of out:; torch.Size([5, 3, 200, 200]), shape of labels:torch.Size([5, 200, 200])\n",
            "shape of out:; torch.Size([5, 3, 200, 200]), shape of labels:torch.Size([5, 200, 200])\n",
            "shape of out:; torch.Size([5, 3, 200, 200]), shape of labels:torch.Size([5, 200, 200])\n",
            "shape of out:; torch.Size([5, 3, 200, 200]), shape of labels:torch.Size([5, 200, 200])\n",
            "shape of out:; torch.Size([5, 3, 200, 200]), shape of labels:torch.Size([5, 200, 200])\n",
            "shape of out:; torch.Size([5, 3, 200, 200]), shape of labels:torch.Size([5, 200, 200])\n",
            "shape of out:; torch.Size([5, 3, 200, 200]), shape of labels:torch.Size([5, 200, 200])\n",
            "shape of out:; torch.Size([5, 3, 200, 200]), shape of labels:torch.Size([5, 200, 200])\n",
            "shape of out:; torch.Size([5, 3, 200, 200]), shape of labels:torch.Size([5, 200, 200])\n",
            "shape of out:; torch.Size([5, 3, 200, 200]), shape of labels:torch.Size([5, 200, 200])\n",
            "shape of out:; torch.Size([5, 3, 200, 200]), shape of labels:torch.Size([5, 200, 200])\n",
            "shape of out:; torch.Size([5, 3, 200, 200]), shape of labels:torch.Size([5, 200, 200])\n",
            "shape of out:; torch.Size([5, 3, 200, 200]), shape of labels:torch.Size([5, 200, 200])\n",
            "shape of out:; torch.Size([5, 3, 200, 200]), shape of labels:torch.Size([5, 200, 200])\n",
            "shape of out:; torch.Size([5, 3, 200, 200]), shape of labels:torch.Size([5, 200, 200])\n",
            "shape of out:; torch.Size([5, 3, 200, 200]), shape of labels:torch.Size([5, 200, 200])\n",
            "shape of out:; torch.Size([5, 3, 200, 200]), shape of labels:torch.Size([5, 200, 200])\n",
            "shape of out:; torch.Size([5, 3, 200, 200]), shape of labels:torch.Size([5, 200, 200])\n",
            "shape of out:; torch.Size([5, 3, 200, 200]), shape of labels:torch.Size([5, 200, 200])\n",
            "shape of out:; torch.Size([5, 3, 200, 200]), shape of labels:torch.Size([5, 200, 200])\n",
            "shape of out:; torch.Size([5, 3, 200, 200]), shape of labels:torch.Size([5, 200, 200])\n",
            "shape of out:; torch.Size([5, 3, 200, 200]), shape of labels:torch.Size([5, 200, 200])\n",
            "shape of out:; torch.Size([5, 3, 200, 200]), shape of labels:torch.Size([5, 200, 200])\n",
            "shape of out:; torch.Size([5, 3, 200, 200]), shape of labels:torch.Size([5, 200, 200])\n",
            "shape of out:; torch.Size([5, 3, 200, 200]), shape of labels:torch.Size([5, 200, 200])\n",
            "shape of out:; torch.Size([5, 3, 200, 200]), shape of labels:torch.Size([5, 200, 200])\n",
            "shape of out:; torch.Size([5, 3, 200, 200]), shape of labels:torch.Size([5, 200, 200])\n",
            "shape of out:; torch.Size([5, 3, 200, 200]), shape of labels:torch.Size([5, 200, 200])\n",
            "shape of out:; torch.Size([5, 3, 200, 200]), shape of labels:torch.Size([5, 200, 200])\n",
            "shape of out:; torch.Size([5, 3, 200, 200]), shape of labels:torch.Size([5, 200, 200])\n",
            "shape of out:; torch.Size([5, 3, 200, 200]), shape of labels:torch.Size([5, 200, 200])\n",
            "shape of out:; torch.Size([5, 3, 200, 200]), shape of labels:torch.Size([5, 200, 200])\n",
            "shape of out:; torch.Size([5, 3, 200, 200]), shape of labels:torch.Size([5, 200, 200])\n",
            "shape of out:; torch.Size([5, 3, 200, 200]), shape of labels:torch.Size([5, 200, 200])\n",
            "shape of out:; torch.Size([5, 3, 200, 200]), shape of labels:torch.Size([5, 200, 200])\n",
            "shape of out:; torch.Size([5, 3, 200, 200]), shape of labels:torch.Size([5, 200, 200])\n",
            "shape of out:; torch.Size([5, 3, 200, 200]), shape of labels:torch.Size([5, 200, 200])\n",
            "shape of out:; torch.Size([5, 3, 200, 200]), shape of labels:torch.Size([5, 200, 200])\n",
            "shape of out:; torch.Size([5, 3, 200, 200]), shape of labels:torch.Size([5, 200, 200])\n",
            "shape of out:; torch.Size([5, 3, 200, 200]), shape of labels:torch.Size([5, 200, 200])\n",
            "shape of out:; torch.Size([5, 3, 200, 200]), shape of labels:torch.Size([5, 200, 200])\n",
            "shape of out:; torch.Size([5, 3, 200, 200]), shape of labels:torch.Size([5, 200, 200])\n",
            "shape of out:; torch.Size([5, 3, 200, 200]), shape of labels:torch.Size([5, 200, 200])\n",
            "shape of out:; torch.Size([5, 3, 200, 200]), shape of labels:torch.Size([5, 200, 200])\n",
            "shape of out:; torch.Size([5, 3, 200, 200]), shape of labels:torch.Size([5, 200, 200])\n",
            "shape of out:; torch.Size([5, 3, 200, 200]), shape of labels:torch.Size([5, 200, 200])\n",
            "shape of out:; torch.Size([5, 3, 200, 200]), shape of labels:torch.Size([5, 200, 200])\n",
            "shape of out:; torch.Size([5, 3, 200, 200]), shape of labels:torch.Size([5, 200, 200])\n",
            "shape of out:; torch.Size([5, 3, 200, 200]), shape of labels:torch.Size([5, 200, 200])\n",
            "shape of out:; torch.Size([5, 3, 200, 200]), shape of labels:torch.Size([5, 200, 200])\n",
            "shape of out:; torch.Size([5, 3, 200, 200]), shape of labels:torch.Size([5, 200, 200])\n",
            "shape of out:; torch.Size([5, 3, 200, 200]), shape of labels:torch.Size([5, 200, 200])\n",
            "shape of out:; torch.Size([5, 3, 200, 200]), shape of labels:torch.Size([5, 200, 200])\n",
            "shape of out:; torch.Size([5, 3, 200, 200]), shape of labels:torch.Size([5, 200, 200])\n",
            "shape of out:; torch.Size([5, 3, 200, 200]), shape of labels:torch.Size([5, 200, 200])\n",
            "shape of out:; torch.Size([5, 3, 200, 200]), shape of labels:torch.Size([5, 200, 200])\n",
            "shape of out:; torch.Size([5, 3, 200, 200]), shape of labels:torch.Size([5, 200, 200])\n",
            "shape of out:; torch.Size([5, 3, 200, 200]), shape of labels:torch.Size([5, 200, 200])\n",
            "shape of out:; torch.Size([5, 3, 200, 200]), shape of labels:torch.Size([5, 200, 200])\n",
            "shape of out:; torch.Size([5, 3, 200, 200]), shape of labels:torch.Size([5, 200, 200])\n",
            "shape of out:; torch.Size([5, 3, 200, 200]), shape of labels:torch.Size([5, 200, 200])\n",
            "shape of out:; torch.Size([5, 3, 200, 200]), shape of labels:torch.Size([5, 200, 200])\n",
            "shape of out:; torch.Size([5, 3, 200, 200]), shape of labels:torch.Size([5, 200, 200])\n",
            "shape of out:; torch.Size([5, 3, 200, 200]), shape of labels:torch.Size([5, 200, 200])\n",
            "shape of out:; torch.Size([5, 3, 200, 200]), shape of labels:torch.Size([5, 200, 200])\n",
            "shape of out:; torch.Size([5, 3, 200, 200]), shape of labels:torch.Size([5, 200, 200])\n",
            "shape of out:; torch.Size([5, 3, 200, 200]), shape of labels:torch.Size([5, 200, 200])\n",
            "shape of out:; torch.Size([5, 3, 200, 200]), shape of labels:torch.Size([5, 200, 200])\n",
            "shape of out:; torch.Size([5, 3, 200, 200]), shape of labels:torch.Size([5, 200, 200])\n",
            "shape of out:; torch.Size([5, 3, 200, 200]), shape of labels:torch.Size([5, 200, 200])\n",
            "shape of out:; torch.Size([5, 3, 200, 200]), shape of labels:torch.Size([5, 200, 200])\n",
            "shape of out:; torch.Size([5, 3, 200, 200]), shape of labels:torch.Size([5, 200, 200])\n",
            "shape of out:; torch.Size([5, 3, 200, 200]), shape of labels:torch.Size([5, 200, 200])\n",
            "shape of out:; torch.Size([5, 3, 200, 200]), shape of labels:torch.Size([5, 200, 200])\n",
            "shape of out:; torch.Size([5, 3, 200, 200]), shape of labels:torch.Size([5, 200, 200])\n",
            "shape of out:; torch.Size([5, 3, 200, 200]), shape of labels:torch.Size([5, 200, 200])\n",
            "shape of out:; torch.Size([5, 3, 200, 200]), shape of labels:torch.Size([5, 200, 200])\n",
            "shape of out:; torch.Size([5, 3, 200, 200]), shape of labels:torch.Size([5, 200, 200])\n",
            "shape of out:; torch.Size([5, 3, 200, 200]), shape of labels:torch.Size([5, 200, 200])\n",
            "shape of out:; torch.Size([5, 3, 200, 200]), shape of labels:torch.Size([5, 200, 200])\n",
            "shape of out:; torch.Size([5, 3, 200, 200]), shape of labels:torch.Size([5, 200, 200])\n",
            "shape of out:; torch.Size([5, 3, 200, 200]), shape of labels:torch.Size([5, 200, 200])\n",
            "shape of out:; torch.Size([5, 3, 200, 200]), shape of labels:torch.Size([5, 200, 200])\n",
            "shape of out:; torch.Size([5, 3, 200, 200]), shape of labels:torch.Size([5, 200, 200])\n",
            "shape of out:; torch.Size([5, 3, 200, 200]), shape of labels:torch.Size([5, 200, 200])\n",
            "shape of out:; torch.Size([5, 3, 200, 200]), shape of labels:torch.Size([5, 200, 200])\n",
            "shape of out:; torch.Size([5, 3, 200, 200]), shape of labels:torch.Size([5, 200, 200])\n",
            "shape of out:; torch.Size([5, 3, 200, 200]), shape of labels:torch.Size([5, 200, 200])\n",
            "shape of out:; torch.Size([5, 3, 200, 200]), shape of labels:torch.Size([5, 200, 200])\n",
            "shape of out:; torch.Size([5, 3, 200, 200]), shape of labels:torch.Size([5, 200, 200])\n",
            "shape of out:; torch.Size([5, 3, 200, 200]), shape of labels:torch.Size([5, 200, 200])\n",
            "shape of out:; torch.Size([5, 3, 200, 200]), shape of labels:torch.Size([5, 200, 200])\n",
            "shape of out:; torch.Size([5, 3, 200, 200]), shape of labels:torch.Size([5, 200, 200])\n",
            "shape of out:; torch.Size([5, 3, 200, 200]), shape of labels:torch.Size([5, 200, 200])\n",
            "shape of out:; torch.Size([5, 3, 200, 200]), shape of labels:torch.Size([5, 200, 200])\n",
            "shape of out:; torch.Size([5, 3, 200, 200]), shape of labels:torch.Size([5, 200, 200])\n",
            "shape of out:; torch.Size([5, 3, 200, 200]), shape of labels:torch.Size([5, 200, 200])\n",
            "shape of out:; torch.Size([5, 3, 200, 200]), shape of labels:torch.Size([5, 200, 200])\n",
            "shape of out:; torch.Size([5, 3, 200, 200]), shape of labels:torch.Size([5, 200, 200])\n",
            "shape of out:; torch.Size([5, 3, 200, 200]), shape of labels:torch.Size([5, 200, 200])\n",
            "shape of out:; torch.Size([5, 3, 200, 200]), shape of labels:torch.Size([5, 200, 200])\n",
            "shape of out:; torch.Size([5, 3, 200, 200]), shape of labels:torch.Size([5, 200, 200])\n",
            "shape of out:; torch.Size([5, 3, 200, 200]), shape of labels:torch.Size([5, 200, 200])\n",
            "shape of out:; torch.Size([5, 3, 200, 200]), shape of labels:torch.Size([5, 200, 200])\n",
            "shape of out:; torch.Size([5, 3, 200, 200]), shape of labels:torch.Size([5, 200, 200])\n",
            "shape of out:; torch.Size([5, 3, 200, 200]), shape of labels:torch.Size([5, 200, 200])\n",
            "shape of out:; torch.Size([5, 3, 200, 200]), shape of labels:torch.Size([5, 200, 200])\n",
            "shape of out:; torch.Size([5, 3, 200, 200]), shape of labels:torch.Size([5, 200, 200])\n",
            "shape of out:; torch.Size([5, 3, 200, 200]), shape of labels:torch.Size([5, 200, 200])\n",
            "shape of out:; torch.Size([5, 3, 200, 200]), shape of labels:torch.Size([5, 200, 200])\n",
            "shape of out:; torch.Size([5, 3, 200, 200]), shape of labels:torch.Size([5, 200, 200])\n",
            "shape of out:; torch.Size([5, 3, 200, 200]), shape of labels:torch.Size([5, 200, 200])\n",
            "shape of out:; torch.Size([5, 3, 200, 200]), shape of labels:torch.Size([5, 200, 200])\n",
            "shape of out:; torch.Size([5, 3, 200, 200]), shape of labels:torch.Size([5, 200, 200])\n",
            "shape of out:; torch.Size([5, 3, 200, 200]), shape of labels:torch.Size([5, 200, 200])\n",
            "shape of out:; torch.Size([5, 3, 200, 200]), shape of labels:torch.Size([5, 200, 200])\n",
            "shape of out:; torch.Size([5, 3, 200, 200]), shape of labels:torch.Size([5, 200, 200])\n",
            "shape of out:; torch.Size([5, 3, 200, 200]), shape of labels:torch.Size([5, 200, 200])\n",
            "shape of out:; torch.Size([5, 3, 200, 200]), shape of labels:torch.Size([5, 200, 200])\n",
            "shape of out:; torch.Size([5, 3, 200, 200]), shape of labels:torch.Size([5, 200, 200])\n",
            "shape of out:; torch.Size([5, 3, 200, 200]), shape of labels:torch.Size([5, 200, 200])\n",
            "shape of out:; torch.Size([5, 3, 200, 200]), shape of labels:torch.Size([5, 200, 200])\n",
            "shape of out:; torch.Size([5, 3, 200, 200]), shape of labels:torch.Size([5, 200, 200])\n",
            "shape of out:; torch.Size([5, 3, 200, 200]), shape of labels:torch.Size([5, 200, 200])\n",
            "shape of out:; torch.Size([5, 3, 200, 200]), shape of labels:torch.Size([5, 200, 200])\n",
            "shape of out:; torch.Size([5, 3, 200, 200]), shape of labels:torch.Size([5, 200, 200])\n",
            "shape of out:; torch.Size([5, 3, 200, 200]), shape of labels:torch.Size([5, 200, 200])\n",
            "shape of out:; torch.Size([5, 3, 200, 200]), shape of labels:torch.Size([5, 200, 200])\n",
            "shape of out:; torch.Size([5, 3, 200, 200]), shape of labels:torch.Size([5, 200, 200])\n",
            "shape of out:; torch.Size([5, 3, 200, 200]), shape of labels:torch.Size([5, 200, 200])\n",
            "shape of out:; torch.Size([5, 3, 200, 200]), shape of labels:torch.Size([5, 200, 200])\n",
            "shape of out:; torch.Size([5, 3, 200, 200]), shape of labels:torch.Size([5, 200, 200])\n",
            "shape of out:; torch.Size([5, 3, 200, 200]), shape of labels:torch.Size([5, 200, 200])\n",
            "shape of out:; torch.Size([5, 3, 200, 200]), shape of labels:torch.Size([5, 200, 200])\n",
            "shape of out:; torch.Size([5, 3, 200, 200]), shape of labels:torch.Size([5, 200, 200])\n",
            "shape of out:; torch.Size([5, 3, 200, 200]), shape of labels:torch.Size([5, 200, 200])\n",
            "shape of out:; torch.Size([5, 3, 200, 200]), shape of labels:torch.Size([5, 200, 200])\n",
            "shape of out:; torch.Size([5, 3, 200, 200]), shape of labels:torch.Size([5, 200, 200])\n",
            "shape of out:; torch.Size([5, 3, 200, 200]), shape of labels:torch.Size([5, 200, 200])\n",
            "shape of out:; torch.Size([5, 3, 200, 200]), shape of labels:torch.Size([5, 200, 200])\n",
            "shape of out:; torch.Size([5, 3, 200, 200]), shape of labels:torch.Size([5, 200, 200])\n",
            "shape of out:; torch.Size([5, 3, 200, 200]), shape of labels:torch.Size([5, 200, 200])\n",
            "shape of out:; torch.Size([5, 3, 200, 200]), shape of labels:torch.Size([5, 200, 200])\n",
            "shape of out:; torch.Size([5, 3, 200, 200]), shape of labels:torch.Size([5, 200, 200])\n",
            "shape of out:; torch.Size([5, 3, 200, 200]), shape of labels:torch.Size([5, 200, 200])\n",
            "shape of out:; torch.Size([5, 3, 200, 200]), shape of labels:torch.Size([5, 200, 200])\n",
            "shape of out:; torch.Size([5, 3, 200, 200]), shape of labels:torch.Size([5, 200, 200])\n",
            "shape of out:; torch.Size([5, 3, 200, 200]), shape of labels:torch.Size([5, 200, 200])\n",
            "shape of out:; torch.Size([5, 3, 200, 200]), shape of labels:torch.Size([5, 200, 200])\n",
            "shape of out:; torch.Size([5, 3, 200, 200]), shape of labels:torch.Size([5, 200, 200])\n",
            "shape of out:; torch.Size([5, 3, 200, 200]), shape of labels:torch.Size([5, 200, 200])\n",
            "shape of out:; torch.Size([5, 3, 200, 200]), shape of labels:torch.Size([5, 200, 200])\n",
            "shape of out:; torch.Size([5, 3, 200, 200]), shape of labels:torch.Size([5, 200, 200])\n",
            "shape of out:; torch.Size([5, 3, 200, 200]), shape of labels:torch.Size([5, 200, 200])\n",
            "shape of out:; torch.Size([5, 3, 200, 200]), shape of labels:torch.Size([5, 200, 200])\n",
            "shape of out:; torch.Size([5, 3, 200, 200]), shape of labels:torch.Size([5, 200, 200])\n",
            "shape of out:; torch.Size([5, 3, 200, 200]), shape of labels:torch.Size([5, 200, 200])\n",
            "shape of out:; torch.Size([5, 3, 200, 200]), shape of labels:torch.Size([5, 200, 200])\n",
            "shape of out:; torch.Size([5, 3, 200, 200]), shape of labels:torch.Size([5, 200, 200])\n",
            "shape of out:; torch.Size([5, 3, 200, 200]), shape of labels:torch.Size([5, 200, 200])\n",
            "shape of out:; torch.Size([5, 3, 200, 200]), shape of labels:torch.Size([5, 200, 200])\n",
            "shape of out:; torch.Size([5, 3, 200, 200]), shape of labels:torch.Size([5, 200, 200])\n",
            "shape of out:; torch.Size([5, 3, 200, 200]), shape of labels:torch.Size([5, 200, 200])\n",
            "shape of out:; torch.Size([5, 3, 200, 200]), shape of labels:torch.Size([5, 200, 200])\n",
            "shape of out:; torch.Size([5, 3, 200, 200]), shape of labels:torch.Size([5, 200, 200])\n",
            "shape of out:; torch.Size([5, 3, 200, 200]), shape of labels:torch.Size([5, 200, 200])\n",
            "shape of out:; torch.Size([5, 3, 200, 200]), shape of labels:torch.Size([5, 200, 200])\n",
            "shape of out:; torch.Size([5, 3, 200, 200]), shape of labels:torch.Size([5, 200, 200])\n",
            "shape of out:; torch.Size([5, 3, 200, 200]), shape of labels:torch.Size([5, 200, 200])\n",
            "shape of out:; torch.Size([5, 3, 200, 200]), shape of labels:torch.Size([5, 200, 200])\n",
            "shape of out:; torch.Size([5, 3, 200, 200]), shape of labels:torch.Size([5, 200, 200])\n",
            "shape of out:; torch.Size([5, 3, 200, 200]), shape of labels:torch.Size([5, 200, 200])\n",
            "shape of out:; torch.Size([5, 3, 200, 200]), shape of labels:torch.Size([5, 200, 200])\n",
            "shape of out:; torch.Size([5, 3, 200, 200]), shape of labels:torch.Size([5, 200, 200])\n",
            "shape of out:; torch.Size([5, 3, 200, 200]), shape of labels:torch.Size([5, 200, 200])\n",
            "shape of out:; torch.Size([5, 3, 200, 200]), shape of labels:torch.Size([5, 200, 200])\n",
            "shape of out:; torch.Size([5, 3, 200, 200]), shape of labels:torch.Size([5, 200, 200])\n",
            "shape of out:; torch.Size([5, 3, 200, 200]), shape of labels:torch.Size([5, 200, 200])\n",
            "shape of out:; torch.Size([5, 3, 200, 200]), shape of labels:torch.Size([5, 200, 200])\n",
            "shape of out:; torch.Size([5, 3, 200, 200]), shape of labels:torch.Size([5, 200, 200])\n",
            "shape of out:; torch.Size([5, 3, 200, 200]), shape of labels:torch.Size([5, 200, 200])\n",
            "shape of out:; torch.Size([5, 3, 200, 200]), shape of labels:torch.Size([5, 200, 200])\n",
            "shape of out:; torch.Size([5, 3, 200, 200]), shape of labels:torch.Size([5, 200, 200])\n",
            "shape of out:; torch.Size([5, 3, 200, 200]), shape of labels:torch.Size([5, 200, 200])\n",
            "shape of out:; torch.Size([5, 3, 200, 200]), shape of labels:torch.Size([5, 200, 200])\n",
            "shape of out:; torch.Size([5, 3, 200, 200]), shape of labels:torch.Size([5, 200, 200])\n",
            "shape of out:; torch.Size([5, 3, 200, 200]), shape of labels:torch.Size([5, 200, 200])\n",
            "shape of out:; torch.Size([5, 3, 200, 200]), shape of labels:torch.Size([5, 200, 200])\n",
            "shape of out:; torch.Size([5, 3, 200, 200]), shape of labels:torch.Size([5, 200, 200])\n",
            "shape of out:; torch.Size([5, 3, 200, 200]), shape of labels:torch.Size([5, 200, 200])\n",
            "shape of out:; torch.Size([5, 3, 200, 200]), shape of labels:torch.Size([5, 200, 200])\n",
            "shape of out:; torch.Size([5, 3, 200, 200]), shape of labels:torch.Size([5, 200, 200])\n",
            "shape of out:; torch.Size([5, 3, 200, 200]), shape of labels:torch.Size([5, 200, 200])\n",
            "shape of out:; torch.Size([5, 3, 200, 200]), shape of labels:torch.Size([5, 200, 200])\n",
            "shape of out:; torch.Size([5, 3, 200, 200]), shape of labels:torch.Size([5, 200, 200])\n",
            "shape of out:; torch.Size([5, 3, 200, 200]), shape of labels:torch.Size([5, 200, 200])\n",
            "shape of out:; torch.Size([5, 3, 200, 200]), shape of labels:torch.Size([5, 200, 200])\n",
            "shape of out:; torch.Size([5, 3, 200, 200]), shape of labels:torch.Size([5, 200, 200])\n",
            "shape of out:; torch.Size([5, 3, 200, 200]), shape of labels:torch.Size([5, 200, 200])\n",
            "shape of out:; torch.Size([5, 3, 200, 200]), shape of labels:torch.Size([5, 200, 200])\n",
            "shape of out:; torch.Size([5, 3, 200, 200]), shape of labels:torch.Size([5, 200, 200])\n",
            "shape of out:; torch.Size([5, 3, 200, 200]), shape of labels:torch.Size([5, 200, 200])\n",
            "shape of out:; torch.Size([5, 3, 200, 200]), shape of labels:torch.Size([5, 200, 200])\n",
            "shape of out:; torch.Size([5, 3, 200, 200]), shape of labels:torch.Size([5, 200, 200])\n",
            "shape of out:; torch.Size([5, 3, 200, 200]), shape of labels:torch.Size([5, 200, 200])\n",
            "shape of out:; torch.Size([5, 3, 200, 200]), shape of labels:torch.Size([5, 200, 200])\n",
            "shape of out:; torch.Size([5, 3, 200, 200]), shape of labels:torch.Size([5, 200, 200])\n",
            "shape of out:; torch.Size([5, 3, 200, 200]), shape of labels:torch.Size([5, 200, 200])\n",
            "shape of out:; torch.Size([5, 3, 200, 200]), shape of labels:torch.Size([5, 200, 200])\n",
            "shape of out:; torch.Size([5, 3, 200, 200]), shape of labels:torch.Size([5, 200, 200])\n",
            "shape of out:; torch.Size([5, 3, 200, 200]), shape of labels:torch.Size([5, 200, 200])\n",
            "shape of out:; torch.Size([5, 3, 200, 200]), shape of labels:torch.Size([5, 200, 200])\n",
            "shape of out:; torch.Size([5, 3, 200, 200]), shape of labels:torch.Size([5, 200, 200])\n",
            "shape of out:; torch.Size([5, 3, 200, 200]), shape of labels:torch.Size([5, 200, 200])\n",
            "shape of out:; torch.Size([5, 3, 200, 200]), shape of labels:torch.Size([5, 200, 200])\n",
            "shape of out:; torch.Size([5, 3, 200, 200]), shape of labels:torch.Size([5, 200, 200])\n",
            "shape of out:; torch.Size([5, 3, 200, 200]), shape of labels:torch.Size([5, 200, 200])\n",
            "shape of out:; torch.Size([5, 3, 200, 200]), shape of labels:torch.Size([5, 200, 200])\n",
            "shape of out:; torch.Size([5, 3, 200, 200]), shape of labels:torch.Size([5, 200, 200])\n",
            "shape of out:; torch.Size([5, 3, 200, 200]), shape of labels:torch.Size([5, 200, 200])\n",
            "shape of out:; torch.Size([5, 3, 200, 200]), shape of labels:torch.Size([5, 200, 200])\n",
            "shape of out:; torch.Size([5, 3, 200, 200]), shape of labels:torch.Size([5, 200, 200])\n",
            "shape of out:; torch.Size([5, 3, 200, 200]), shape of labels:torch.Size([5, 200, 200])\n",
            "shape of out:; torch.Size([5, 3, 200, 200]), shape of labels:torch.Size([5, 200, 200])\n",
            "shape of out:; torch.Size([5, 3, 200, 200]), shape of labels:torch.Size([5, 200, 200])\n",
            "shape of out:; torch.Size([5, 3, 200, 200]), shape of labels:torch.Size([5, 200, 200])\n",
            "shape of out:; torch.Size([5, 3, 200, 200]), shape of labels:torch.Size([5, 200, 200])\n",
            "shape of out:; torch.Size([5, 3, 200, 200]), shape of labels:torch.Size([5, 200, 200])\n",
            "shape of out:; torch.Size([5, 3, 200, 200]), shape of labels:torch.Size([5, 200, 200])\n",
            "shape of out:; torch.Size([5, 3, 200, 200]), shape of labels:torch.Size([5, 200, 200])\n",
            "shape of out:; torch.Size([5, 3, 200, 200]), shape of labels:torch.Size([5, 200, 200])\n",
            "shape of out:; torch.Size([5, 3, 200, 200]), shape of labels:torch.Size([5, 200, 200])\n",
            "shape of out:; torch.Size([5, 3, 200, 200]), shape of labels:torch.Size([5, 200, 200])\n",
            "shape of out:; torch.Size([5, 3, 200, 200]), shape of labels:torch.Size([5, 200, 200])\n",
            "shape of out:; torch.Size([5, 3, 200, 200]), shape of labels:torch.Size([5, 200, 200])\n",
            "shape of out:; torch.Size([5, 3, 200, 200]), shape of labels:torch.Size([5, 200, 200])\n",
            "shape of out:; torch.Size([5, 3, 200, 200]), shape of labels:torch.Size([5, 200, 200])\n",
            "shape of out:; torch.Size([5, 3, 200, 200]), shape of labels:torch.Size([5, 200, 200])\n",
            "shape of out:; torch.Size([5, 3, 200, 200]), shape of labels:torch.Size([5, 200, 200])\n",
            "shape of out:; torch.Size([5, 3, 200, 200]), shape of labels:torch.Size([5, 200, 200])\n",
            "shape of out:; torch.Size([5, 3, 200, 200]), shape of labels:torch.Size([5, 200, 200])\n",
            "shape of out:; torch.Size([5, 3, 200, 200]), shape of labels:torch.Size([5, 200, 200])\n",
            "shape of out:; torch.Size([5, 3, 200, 200]), shape of labels:torch.Size([5, 200, 200])\n",
            "shape of out:; torch.Size([5, 3, 200, 200]), shape of labels:torch.Size([5, 200, 200])\n",
            "shape of out:; torch.Size([5, 3, 200, 200]), shape of labels:torch.Size([5, 200, 200])\n",
            "shape of out:; torch.Size([5, 3, 200, 200]), shape of labels:torch.Size([5, 200, 200])\n",
            "shape of out:; torch.Size([5, 3, 200, 200]), shape of labels:torch.Size([5, 200, 200])\n",
            "shape of out:; torch.Size([5, 3, 200, 200]), shape of labels:torch.Size([5, 200, 200])\n",
            "shape of out:; torch.Size([5, 3, 200, 200]), shape of labels:torch.Size([5, 200, 200])\n",
            "shape of out:; torch.Size([5, 3, 200, 200]), shape of labels:torch.Size([5, 200, 200])\n",
            "shape of out:; torch.Size([5, 3, 200, 200]), shape of labels:torch.Size([5, 200, 200])\n",
            "shape of out:; torch.Size([5, 3, 200, 200]), shape of labels:torch.Size([5, 200, 200])\n",
            "shape of out:; torch.Size([5, 3, 200, 200]), shape of labels:torch.Size([5, 200, 200])\n",
            "shape of out:; torch.Size([5, 3, 200, 200]), shape of labels:torch.Size([5, 200, 200])\n",
            "shape of out:; torch.Size([5, 3, 200, 200]), shape of labels:torch.Size([5, 200, 200])\n",
            "shape of out:; torch.Size([5, 3, 200, 200]), shape of labels:torch.Size([5, 200, 200])\n",
            "shape of out:; torch.Size([5, 3, 200, 200]), shape of labels:torch.Size([5, 200, 200])\n",
            "shape of out:; torch.Size([5, 3, 200, 200]), shape of labels:torch.Size([5, 200, 200])\n",
            "shape of out:; torch.Size([5, 3, 200, 200]), shape of labels:torch.Size([5, 200, 200])\n",
            "shape of out:; torch.Size([5, 3, 200, 200]), shape of labels:torch.Size([5, 200, 200])\n",
            "shape of out:; torch.Size([5, 3, 200, 200]), shape of labels:torch.Size([5, 200, 200])\n",
            "shape of out:; torch.Size([5, 3, 200, 200]), shape of labels:torch.Size([5, 200, 200])\n",
            "shape of out:; torch.Size([5, 3, 200, 200]), shape of labels:torch.Size([5, 200, 200])\n",
            "shape of out:; torch.Size([5, 3, 200, 200]), shape of labels:torch.Size([5, 200, 200])\n",
            "shape of out:; torch.Size([5, 3, 200, 200]), shape of labels:torch.Size([5, 200, 200])\n",
            "shape of out:; torch.Size([5, 3, 200, 200]), shape of labels:torch.Size([5, 200, 200])\n",
            "shape of out:; torch.Size([5, 3, 200, 200]), shape of labels:torch.Size([5, 200, 200])\n",
            "shape of out:; torch.Size([5, 3, 200, 200]), shape of labels:torch.Size([5, 200, 200])\n",
            "shape of out:; torch.Size([5, 3, 200, 200]), shape of labels:torch.Size([5, 200, 200])\n",
            "shape of out:; torch.Size([5, 3, 200, 200]), shape of labels:torch.Size([5, 200, 200])\n",
            "shape of out:; torch.Size([5, 3, 200, 200]), shape of labels:torch.Size([5, 200, 200])\n",
            "shape of out:; torch.Size([5, 3, 200, 200]), shape of labels:torch.Size([5, 200, 200])\n",
            "shape of out:; torch.Size([5, 3, 200, 200]), shape of labels:torch.Size([5, 200, 200])\n",
            "shape of out:; torch.Size([5, 3, 200, 200]), shape of labels:torch.Size([5, 200, 200])\n",
            "shape of out:; torch.Size([5, 3, 200, 200]), shape of labels:torch.Size([5, 200, 200])\n",
            "shape of out:; torch.Size([5, 3, 200, 200]), shape of labels:torch.Size([5, 200, 200])\n",
            "shape of out:; torch.Size([5, 3, 200, 200]), shape of labels:torch.Size([5, 200, 200])\n",
            "shape of out:; torch.Size([5, 3, 200, 200]), shape of labels:torch.Size([5, 200, 200])\n",
            "shape of out:; torch.Size([5, 3, 200, 200]), shape of labels:torch.Size([5, 200, 200])\n",
            "shape of out:; torch.Size([5, 3, 200, 200]), shape of labels:torch.Size([5, 200, 200])\n",
            "shape of out:; torch.Size([5, 3, 200, 200]), shape of labels:torch.Size([5, 200, 200])\n",
            "shape of out:; torch.Size([5, 3, 200, 200]), shape of labels:torch.Size([5, 200, 200])\n",
            "shape of out:; torch.Size([5, 3, 200, 200]), shape of labels:torch.Size([5, 200, 200])\n",
            "shape of out:; torch.Size([5, 3, 200, 200]), shape of labels:torch.Size([5, 200, 200])\n",
            "shape of out:; torch.Size([5, 3, 200, 200]), shape of labels:torch.Size([5, 200, 200])\n",
            "shape of out:; torch.Size([5, 3, 200, 200]), shape of labels:torch.Size([5, 200, 200])\n",
            "shape of out:; torch.Size([5, 3, 200, 200]), shape of labels:torch.Size([5, 200, 200])\n",
            "shape of out:; torch.Size([5, 3, 200, 200]), shape of labels:torch.Size([5, 200, 200])\n",
            "shape of out:; torch.Size([5, 3, 200, 200]), shape of labels:torch.Size([5, 200, 200])\n",
            "shape of out:; torch.Size([5, 3, 200, 200]), shape of labels:torch.Size([5, 200, 200])\n",
            "shape of out:; torch.Size([5, 3, 200, 200]), shape of labels:torch.Size([5, 200, 200])\n",
            "shape of out:; torch.Size([5, 3, 200, 200]), shape of labels:torch.Size([5, 200, 200])\n",
            "shape of out:; torch.Size([5, 3, 200, 200]), shape of labels:torch.Size([5, 200, 200])\n",
            "shape of out:; torch.Size([5, 3, 200, 200]), shape of labels:torch.Size([5, 200, 200])\n",
            "shape of out:; torch.Size([5, 3, 200, 200]), shape of labels:torch.Size([5, 200, 200])\n",
            "shape of out:; torch.Size([5, 3, 200, 200]), shape of labels:torch.Size([5, 200, 200])\n",
            "shape of out:; torch.Size([5, 3, 200, 200]), shape of labels:torch.Size([5, 200, 200])\n",
            "shape of out:; torch.Size([5, 3, 200, 200]), shape of labels:torch.Size([5, 200, 200])\n",
            "shape of out:; torch.Size([5, 3, 200, 200]), shape of labels:torch.Size([5, 200, 200])\n",
            "shape of out:; torch.Size([5, 3, 200, 200]), shape of labels:torch.Size([5, 200, 200])\n",
            "shape of out:; torch.Size([5, 3, 200, 200]), shape of labels:torch.Size([5, 200, 200])\n",
            "shape of out:; torch.Size([5, 3, 200, 200]), shape of labels:torch.Size([5, 200, 200])\n",
            "shape of out:; torch.Size([5, 3, 200, 200]), shape of labels:torch.Size([5, 200, 200])\n",
            "shape of out:; torch.Size([5, 3, 200, 200]), shape of labels:torch.Size([5, 200, 200])\n",
            "shape of out:; torch.Size([5, 3, 200, 200]), shape of labels:torch.Size([5, 200, 200])\n",
            "shape of out:; torch.Size([5, 3, 200, 200]), shape of labels:torch.Size([5, 200, 200])\n",
            "shape of out:; torch.Size([5, 3, 200, 200]), shape of labels:torch.Size([5, 200, 200])\n",
            "shape of out:; torch.Size([5, 3, 200, 200]), shape of labels:torch.Size([5, 200, 200])\n",
            "shape of out:; torch.Size([5, 3, 200, 200]), shape of labels:torch.Size([5, 200, 200])\n",
            "shape of out:; torch.Size([5, 3, 200, 200]), shape of labels:torch.Size([5, 200, 200])\n",
            "shape of out:; torch.Size([5, 3, 200, 200]), shape of labels:torch.Size([5, 200, 200])\n",
            "shape of out:; torch.Size([5, 3, 200, 200]), shape of labels:torch.Size([5, 200, 200])\n",
            "shape of out:; torch.Size([5, 3, 200, 200]), shape of labels:torch.Size([5, 200, 200])\n",
            "shape of out:; torch.Size([5, 3, 200, 200]), shape of labels:torch.Size([5, 200, 200])\n",
            "shape of out:; torch.Size([5, 3, 200, 200]), shape of labels:torch.Size([5, 200, 200])\n",
            "shape of out:; torch.Size([5, 3, 200, 200]), shape of labels:torch.Size([5, 200, 200])\n",
            "shape of out:; torch.Size([5, 3, 200, 200]), shape of labels:torch.Size([5, 200, 200])\n",
            "shape of out:; torch.Size([5, 3, 200, 200]), shape of labels:torch.Size([5, 200, 200])\n",
            "shape of out:; torch.Size([5, 3, 200, 200]), shape of labels:torch.Size([5, 200, 200])\n",
            "shape of out:; torch.Size([5, 3, 200, 200]), shape of labels:torch.Size([5, 200, 200])\n",
            "shape of out:; torch.Size([5, 3, 200, 200]), shape of labels:torch.Size([5, 200, 200])\n",
            "shape of out:; torch.Size([5, 3, 200, 200]), shape of labels:torch.Size([5, 200, 200])\n",
            "shape of out:; torch.Size([5, 3, 200, 200]), shape of labels:torch.Size([5, 200, 200])\n",
            "shape of out:; torch.Size([5, 3, 200, 200]), shape of labels:torch.Size([5, 200, 200])\n",
            "shape of out:; torch.Size([5, 3, 200, 200]), shape of labels:torch.Size([5, 200, 200])\n",
            "shape of out:; torch.Size([5, 3, 200, 200]), shape of labels:torch.Size([5, 200, 200])\n",
            "shape of out:; torch.Size([5, 3, 200, 200]), shape of labels:torch.Size([5, 200, 200])\n",
            "shape of out:; torch.Size([5, 3, 200, 200]), shape of labels:torch.Size([5, 200, 200])\n",
            "shape of out:; torch.Size([5, 3, 200, 200]), shape of labels:torch.Size([5, 200, 200])\n",
            "shape of out:; torch.Size([5, 3, 200, 200]), shape of labels:torch.Size([5, 200, 200])\n",
            "shape of out:; torch.Size([5, 3, 200, 200]), shape of labels:torch.Size([5, 200, 200])\n",
            "shape of out:; torch.Size([5, 3, 200, 200]), shape of labels:torch.Size([5, 200, 200])\n",
            "shape of out:; torch.Size([5, 3, 200, 200]), shape of labels:torch.Size([5, 200, 200])\n",
            "shape of out:; torch.Size([5, 3, 200, 200]), shape of labels:torch.Size([5, 200, 200])\n",
            "shape of out:; torch.Size([5, 3, 200, 200]), shape of labels:torch.Size([5, 200, 200])\n",
            "shape of out:; torch.Size([5, 3, 200, 200]), shape of labels:torch.Size([5, 200, 200])\n",
            "shape of out:; torch.Size([5, 3, 200, 200]), shape of labels:torch.Size([5, 200, 200])\n",
            "shape of out:; torch.Size([5, 3, 200, 200]), shape of labels:torch.Size([5, 200, 200])\n",
            "shape of out:; torch.Size([5, 3, 200, 200]), shape of labels:torch.Size([5, 200, 200])\n",
            "shape of out:; torch.Size([5, 3, 200, 200]), shape of labels:torch.Size([5, 200, 200])\n",
            "shape of out:; torch.Size([5, 3, 200, 200]), shape of labels:torch.Size([5, 200, 200])\n",
            "shape of out:; torch.Size([5, 3, 200, 200]), shape of labels:torch.Size([5, 200, 200])\n",
            "shape of out:; torch.Size([5, 3, 200, 200]), shape of labels:torch.Size([5, 200, 200])\n",
            "shape of out:; torch.Size([5, 3, 200, 200]), shape of labels:torch.Size([5, 200, 200])\n",
            "shape of out:; torch.Size([5, 3, 200, 200]), shape of labels:torch.Size([5, 200, 200])\n",
            "shape of out:; torch.Size([5, 3, 200, 200]), shape of labels:torch.Size([5, 200, 200])\n",
            "shape of out:; torch.Size([5, 3, 200, 200]), shape of labels:torch.Size([5, 200, 200])\n",
            "shape of out:; torch.Size([5, 3, 200, 200]), shape of labels:torch.Size([5, 200, 200])\n",
            "shape of out:; torch.Size([5, 3, 200, 200]), shape of labels:torch.Size([5, 200, 200])\n",
            "shape of out:; torch.Size([5, 3, 200, 200]), shape of labels:torch.Size([5, 200, 200])\n",
            "shape of out:; torch.Size([5, 3, 200, 200]), shape of labels:torch.Size([5, 200, 200])\n",
            "shape of out:; torch.Size([5, 3, 200, 200]), shape of labels:torch.Size([5, 200, 200])\n",
            "shape of out:; torch.Size([5, 3, 200, 200]), shape of labels:torch.Size([5, 200, 200])\n",
            "shape of out:; torch.Size([5, 3, 200, 200]), shape of labels:torch.Size([5, 200, 200])\n",
            "shape of out:; torch.Size([5, 3, 200, 200]), shape of labels:torch.Size([5, 200, 200])\n",
            "shape of out:; torch.Size([5, 3, 200, 200]), shape of labels:torch.Size([5, 200, 200])\n",
            "shape of out:; torch.Size([5, 3, 200, 200]), shape of labels:torch.Size([5, 200, 200])\n",
            "shape of out:; torch.Size([5, 3, 200, 200]), shape of labels:torch.Size([5, 200, 200])\n",
            "shape of out:; torch.Size([5, 3, 200, 200]), shape of labels:torch.Size([5, 200, 200])\n",
            "shape of out:; torch.Size([5, 3, 200, 200]), shape of labels:torch.Size([5, 200, 200])\n",
            "shape of out:; torch.Size([5, 3, 200, 200]), shape of labels:torch.Size([5, 200, 200])\n",
            "shape of out:; torch.Size([5, 3, 200, 200]), shape of labels:torch.Size([5, 200, 200])\n",
            "shape of out:; torch.Size([5, 3, 200, 200]), shape of labels:torch.Size([5, 200, 200])\n",
            "shape of out:; torch.Size([5, 3, 200, 200]), shape of labels:torch.Size([5, 200, 200])\n",
            "shape of out:; torch.Size([5, 3, 200, 200]), shape of labels:torch.Size([5, 200, 200])\n",
            "shape of out:; torch.Size([5, 3, 200, 200]), shape of labels:torch.Size([5, 200, 200])\n",
            "shape of out:; torch.Size([5, 3, 200, 200]), shape of labels:torch.Size([5, 200, 200])\n",
            "shape of out:; torch.Size([5, 3, 200, 200]), shape of labels:torch.Size([5, 200, 200])\n",
            "shape of out:; torch.Size([5, 3, 200, 200]), shape of labels:torch.Size([5, 200, 200])\n",
            "shape of out:; torch.Size([5, 3, 200, 200]), shape of labels:torch.Size([5, 200, 200])\n",
            "shape of out:; torch.Size([5, 3, 200, 200]), shape of labels:torch.Size([5, 200, 200])\n",
            "shape of out:; torch.Size([5, 3, 200, 200]), shape of labels:torch.Size([5, 200, 200])\n",
            "shape of out:; torch.Size([5, 3, 200, 200]), shape of labels:torch.Size([5, 200, 200])\n",
            "shape of out:; torch.Size([5, 3, 200, 200]), shape of labels:torch.Size([5, 200, 200])\n",
            "shape of out:; torch.Size([5, 3, 200, 200]), shape of labels:torch.Size([5, 200, 200])\n",
            "shape of out:; torch.Size([5, 3, 200, 200]), shape of labels:torch.Size([5, 200, 200])\n",
            "shape of out:; torch.Size([5, 3, 200, 200]), shape of labels:torch.Size([5, 200, 200])\n",
            "shape of out:; torch.Size([5, 3, 200, 200]), shape of labels:torch.Size([5, 200, 200])\n",
            "shape of out:; torch.Size([5, 3, 200, 200]), shape of labels:torch.Size([5, 200, 200])\n",
            "shape of out:; torch.Size([5, 3, 200, 200]), shape of labels:torch.Size([5, 200, 200])\n",
            "shape of out:; torch.Size([5, 3, 200, 200]), shape of labels:torch.Size([5, 200, 200])\n",
            "shape of out:; torch.Size([5, 3, 200, 200]), shape of labels:torch.Size([5, 200, 200])\n",
            "shape of out:; torch.Size([5, 3, 200, 200]), shape of labels:torch.Size([5, 200, 200])\n",
            "shape of out:; torch.Size([5, 3, 200, 200]), shape of labels:torch.Size([5, 200, 200])\n",
            "shape of out:; torch.Size([5, 3, 200, 200]), shape of labels:torch.Size([5, 200, 200])\n",
            "shape of out:; torch.Size([5, 3, 200, 200]), shape of labels:torch.Size([5, 200, 200])\n",
            "shape of out:; torch.Size([5, 3, 200, 200]), shape of labels:torch.Size([5, 200, 200])\n",
            "shape of out:; torch.Size([5, 3, 200, 200]), shape of labels:torch.Size([5, 200, 200])\n"
          ]
        }
      ],
      "source": [
        "m.load_state_dict(init_state_dict)\n",
        "\n",
        "optimizer = Adam(m.parameters(), lr=0.005)\n",
        "\n",
        "loss_plot = []\n",
        "iou_plot = []\n",
        "\n",
        "for iter in tqdm(range(1000)):\n",
        "    optimizer.zero_grad()\n",
        "    out = m(feats)\n",
        "    out = F.softmax(out, dim=1)\n",
        "    print(f\"shape of out:; {out.shape}, shape of labels:{labels.shape}\")\n",
        "    loss = L.lovasz_softmax(out, labels, ignore=255)\n",
        "    loss.backward()\n",
        "    optimizer.step()\n",
        "\n",
        "    _, preds = out.data.max(1)\n",
        "    loss_plot.append(loss.item())\n",
        "    iou_plot.append(L.iou_binary(preds, labels, ignore=255, per_image=False))"
      ]
    },
    {
      "cell_type": "code",
      "execution_count": 33,
      "metadata": {
        "ExecuteTime": {
          "end_time": "2019-02-26T15:33:56.631835Z",
          "start_time": "2019-02-26T15:33:56.360155Z"
        },
        "id": "mh8bLpD1WBHE",
        "outputId": "f72d0cd6-cf3e-498d-941f-bf9e989829d2",
        "colab": {
          "base_uri": "https://localhost:8080/",
          "height": 532
        }
      },
      "outputs": [
        {
          "output_type": "execute_result",
          "data": {
            "text/plain": [
              "Text(0.5, 0, 'iteration')"
            ]
          },
          "metadata": {},
          "execution_count": 33
        },
        {
          "output_type": "display_data",
          "data": {
            "text/plain": [
              "<Figure size 1000x500 with 2 Axes>"
            ],
            "image/png": "[encoded data removed]"
          },
          "metadata": {}
        }
      ],
      "source": [
        "plt.figure(figsize=(10, 5))\n",
        "plt.suptitle(u'Lovász-Softmax training')\n",
        "plt.subplot(1, 2, 1)\n",
        "plt.plot(loss_plot)\n",
        "plt.ylabel('loss')\n",
        "plt.xlabel('iteration')\n",
        "\n",
        "plt.subplot(1, 2, 2)\n",
        "plt.plot(iou_plot)\n",
        "plt.ylabel('Image-IoU (%)')\n",
        "plt.xlabel('iteration')"
      ]
    },
    {
      "cell_type": "markdown",
      "metadata": {
        "id": "wxuo3SYDWBHF"
      },
      "source": [
        "### Final prediction"
      ]
    },
    {
      "cell_type": "code",
      "execution_count": 34,
      "metadata": {
        "ExecuteTime": {
          "end_time": "2019-02-26T15:33:56.648307Z",
          "start_time": "2019-02-26T15:33:56.632884Z"
        },
        "id": "8NDCRt_wWBHG",
        "outputId": "5323f828-2b79-490e-ded4-6c77bb3f5a6e",
        "colab": {
          "base_uri": "https://localhost:8080/"
        }
      },
      "outputs": [
        {
          "output_type": "stream",
          "name": "stdout",
          "text": [
            "Final batch-IoUs: [87.81945227 45.50466036 33.01114144]\n",
            "Final mIoU: 55.44508469104812\n"
          ]
        }
      ],
      "source": [
        "_, preds = m(feats).data.max(1)\n",
        "print(\"Final batch-IoUs:\", L.iou(preds, labels, C, ignore=255, per_image=False))\n",
        "print(\"Final mIoU:\", np.mean(L.iou(preds, labels, C, ignore=255, per_image=False)))"
      ]
    },
    {
      "cell_type": "code",
      "execution_count": 35,
      "metadata": {
        "ExecuteTime": {
          "end_time": "2019-02-26T15:33:56.692385Z",
          "start_time": "2019-02-26T15:33:56.649951Z"
        },
        "id": "2rAwn4AbWBHG",
        "outputId": "61049446-c498-48ff-cbae-8da32db8212a",
        "colab": {
          "base_uri": "https://localhost:8080/",
          "height": 222
        }
      },
      "outputs": [
        {
          "output_type": "execute_result",
          "data": {
            "text/plain": [
              "<PIL.Image.Image image mode=RGB size=1005x205>"
            ],
            "image/png": "[encoded data removed]"
          },
          "metadata": {},
          "execution_count": 35
        }
      ],
      "source": [
        "pil_grid([pil(f.byte().cpu().numpy()) for f in preds], 5, margin=1)"
      ]
    },
    {
      "cell_type": "markdown",
      "metadata": {
        "id": "ST3VK030WBHH"
      },
      "source": [
        "## Cross-entropy training"
      ]
    },
    {
      "cell_type": "code",
      "execution_count": 36,
      "metadata": {
        "ExecuteTime": {
          "end_time": "2019-02-26T15:33:58.069288Z",
          "start_time": "2019-02-26T15:33:56.694412Z"
        },
        "id": "m0DZEHElWBHI",
        "outputId": "fabf9038-b036-4f96-f06c-4fb1c9b6c77b",
        "colab": {
          "base_uri": "https://localhost:8080/",
          "height": 101,
          "referenced_widgets": [
            "5985eec64ecf44738c38dadcba98e371",
            "2e737b4bad3f4ac7a2b0b7b77a07f1d3",
            "d973209a9b2e4fdabd0a61670cb7b87f",
            "c0048773b49a444f8d1ed2196ba0128a",
            "ce473278e6d6400daf11ab98200bd79e",
            "1a207db063e44070a110b711465e9ebe",
            "7b541d03de6545c88918b57b22081576",
            "d2dabc48682b4c41af5849b27edc3b74",
            "2fd39a2555574653ba0f9e85ba27e735",
            "2dc33f37342948edbc823b52c16fb7b3",
            "758b1c7f4fdf4094a73d5561315a09c1"
          ]
        }
      },
      "outputs": [
        {
          "output_type": "stream",
          "name": "stderr",
          "text": [
            "<ipython-input-36-85e610be09aa>:8: TqdmDeprecationWarning: This function will be removed in tqdm==5.0.0\n",
            "Please use `tqdm.notebook.tqdm` instead of `tqdm.tqdm_notebook`\n",
            "  for iter in tqdm(range(1000)):\n"
          ]
        },
        {
          "output_type": "display_data",
          "data": {
            "text/plain": [
              "  0%|          | 0/1000 [00:00<?, ?it/s]"
            ],
            "application/vnd.jupyter.widget-view+json": {
              "version_major": 2,
              "version_minor": 0,
              "model_id": "5985eec64ecf44738c38dadcba98e371"
            }
          },
          "metadata": {}
        }
      ],
      "source": [
        "m.load_state_dict(init_state_dict)\n",
        "\n",
        "optimizer = Adam(m.parameters(), lr=0.005)\n",
        "\n",
        "loss_plot_x = []\n",
        "iou_plot_x = []\n",
        "\n",
        "for iter in tqdm(range(1000)):\n",
        "    optimizer.zero_grad()\n",
        "    out = m(feats)\n",
        "    loss = L.xloss(out, labels, ignore=255)\n",
        "    loss.backward()\n",
        "    optimizer.step()\n",
        "\n",
        "    _, preds = out.data.max(1)\n",
        "    loss_plot_x.append(loss.item())\n",
        "    iou_plot_x.append(L.iou_binary(preds, labels, ignore=255, per_image=False))"
      ]
    },
    {
      "cell_type": "code",
      "execution_count": 37,
      "metadata": {
        "ExecuteTime": {
          "end_time": "2019-02-26T15:33:58.283458Z",
          "start_time": "2019-02-26T15:33:58.070549Z"
        },
        "id": "-aI0kZWMWBHK",
        "outputId": "1a2482b4-8d26-4775-c5a8-bffaf1786deb",
        "colab": {
          "base_uri": "https://localhost:8080/",
          "height": 532
        }
      },
      "outputs": [
        {
          "output_type": "execute_result",
          "data": {
            "text/plain": [
              "Text(0.5, 0, 'iteration')"
            ]
          },
          "metadata": {},
          "execution_count": 37
        },
        {
          "output_type": "display_data",
          "data": {
            "text/plain": [
              "<Figure size 1000x500 with 2 Axes>"
            ],
            "image/png": "[encoded data removed]"
          },
          "metadata": {}
        }
      ],
      "source": [
        "plt.figure(figsize=(10, 5))\n",
        "plt.suptitle(u'Binary cross-entropy training')\n",
        "plt.subplot(1, 2, 1)\n",
        "plt.plot(loss_plot_x)\n",
        "plt.ylabel('loss')\n",
        "plt.xlabel('iteration')\n",
        "\n",
        "plt.subplot(1, 2, 2)\n",
        "plt.plot(iou_plot_x)\n",
        "plt.ylabel('Image-IoU (%)')\n",
        "plt.xlabel('iteration')"
      ]
    },
    {
      "cell_type": "markdown",
      "metadata": {
        "id": "A6N4tbgQWBHL"
      },
      "source": [
        "### Final prediction"
      ]
    },
    {
      "cell_type": "code",
      "execution_count": 38,
      "metadata": {
        "ExecuteTime": {
          "end_time": "2019-02-26T15:33:58.304004Z",
          "start_time": "2019-02-26T15:33:58.284925Z"
        },
        "id": "DhdN5-ERWBHL",
        "outputId": "ec9bd302-7fcd-46e2-e39c-bedda5406dfa",
        "colab": {
          "base_uri": "https://localhost:8080/"
        }
      },
      "outputs": [
        {
          "output_type": "stream",
          "name": "stdout",
          "text": [
            "Final batch-IoUs: [88.83955493 43.13454101 28.5891207 ]\n",
            "Final mIoU: 53.521072214989\n"
          ]
        }
      ],
      "source": [
        "_, preds = m(feats).data.max(1)\n",
        "print(\"Final batch-IoUs:\", L.iou(preds, labels, C, ignore=255, per_image=False))\n",
        "print(\"Final mIoU:\", np.mean(L.iou(preds, labels, C, ignore=255, per_image=False)))"
      ]
    },
    {
      "cell_type": "code",
      "execution_count": 44,
      "metadata": {
        "ExecuteTime": {
          "end_time": "2019-02-26T15:33:58.350620Z",
          "start_time": "2019-02-26T15:33:58.305850Z"
        },
        "id": "8A1HOE0sWBHM",
        "outputId": "4d0fe786-a708-412e-8ab3-4388107efdfb",
        "colab": {
          "base_uri": "https://localhost:8080/",
          "height": 291
        }
      },
      "outputs": [
        {
          "output_type": "stream",
          "name": "stdout",
          "text": [
            "len of n_images: 5, len of n_horiz images:5\n",
            "len of h_sizes: 5, v_sizes: 1\n",
            "snapshot of h_sizes: [   0  201  402  603  804 1005], v_sizes: [  0 205]\n",
            "shape of h_sizes: (6,) and v_sizes: (2,)\n"
          ]
        },
        {
          "output_type": "execute_result",
          "data": {
            "text/plain": [
              "<PIL.Image.Image image mode=RGB size=1005x205>"
            ],
            "image/png": "[encoded data removed]"
          },
          "metadata": {},
          "execution_count": 44
        }
      ],
      "source": [
        "pil_grid([pil(f.byte().cpu().numpy()) for f in preds], 5, margin=1)"
      ]
    },
    {
      "cell_type": "code",
      "execution_count": 39,
      "metadata": {
        "collapsed": true,
        "id": "qEVsUVTeWBHM"
      },
      "outputs": [],
      "source": []
    }
  ],
  "metadata": {
    "anaconda-cloud": {},
    "kernelspec": {
      "display_name": "Python [conda env:lamlearn]",
      "language": "python",
      "name": "conda-env-lamlearn-py"
    },
    "language_info": {
      "codemirror_mode": {
        "name": "ipython",
        "version": 3
      },
      "file_extension": ".py",
      "mimetype": "text/x-python",
      "name": "python",
      "nbconvert_exporter": "python",
      "pygments_lexer": "ipython3",
      "version": "3.6.8"
    },
    "latex_envs": {
      "LaTeX_envs_menu_present": true,
      "autoclose": false,
      "autocomplete": true,
      "bibliofile": "biblio.bib",
      "cite_by": "apalike",
      "current_citInitial": 1,
      "eqLabelWithNumbers": true,
      "eqNumInitial": 1,
      "hotkeys": {
        "equation": "Ctrl-E",
        "itemize": "Ctrl-I"
      },
      "labels_anchors": false,
      "latex_user_defs": false,
      "report_style_numbering": false,
      "user_envs_cfg": false
    },
    "colab": {
      "provenance": []
    },
    "widgets": {
      "application/vnd.jupyter.widget-state+json": {
        "4ecd4b95c35a4423a1abdb9d4165b111": {
          "model_module": "@jupyter-widgets/controls",
          "model_name": "HBoxModel",
          "model_module_version": "1.5.0",
          "state": {
            "_dom_classes": [],
            "_model_module": "@jupyter-widgets/controls",
            "_model_module_version": "1.5.0",
            "_model_name": "HBoxModel",
            "_view_count": null,
            "_view_module": "@jupyter-widgets/controls",
            "_view_module_version": "1.5.0",
            "_view_name": "HBoxView",
            "box_style": "",
            "children": [
              "IPY_MODEL_af0aaea1ad324e2ab93ccb74ff02b1dd",
              "IPY_MODEL_c09b4e4b728d4bec81621207e952cec4",
              "IPY_MODEL_1a7fba9830bd4e0590797a079f685a60"
            ],
            "layout": "IPY_MODEL_4a2b10a645424b19892b1c21cf6b6d6a"
          }
        },
        "af0aaea1ad324e2ab93ccb74ff02b1dd": {
          "model_module": "@jupyter-widgets/controls",
          "model_name": "HTMLModel",
          "model_module_version": "1.5.0",
          "state": {
            "_dom_classes": [],
            "_model_module": "@jupyter-widgets/controls",
            "_model_module_version": "1.5.0",
            "_model_name": "HTMLModel",
            "_view_count": null,
            "_view_module": "@jupyter-widgets/controls",
            "_view_module_version": "1.5.0",
            "_view_name": "HTMLView",
            "description": "",
            "description_tooltip": null,
            "layout": "IPY_MODEL_9a58aaee41b04d509778f8d99fa6ebe4",
            "placeholder": "​",
            "style": "IPY_MODEL_975a05b326a641c193b4a174ae042625",
            "value": "100%"
          }
        },
        "c09b4e4b728d4bec81621207e952cec4": {
          "model_module": "@jupyter-widgets/controls",
          "model_name": "FloatProgressModel",
          "model_module_version": "1.5.0",
          "state": {
            "_dom_classes": [],
            "_model_module": "@jupyter-widgets/controls",
            "_model_module_version": "1.5.0",
            "_model_name": "FloatProgressModel",
            "_view_count": null,
            "_view_module": "@jupyter-widgets/controls",
            "_view_module_version": "1.5.0",
            "_view_name": "ProgressView",
            "bar_style": "success",
            "description": "",
            "description_tooltip": null,
            "layout": "IPY_MODEL_90fed2cdb79b4cb1b3c069204addb422",
            "max": 1000,
            "min": 0,
            "orientation": "horizontal",
            "style": "IPY_MODEL_f6b4b6e03f5e4485a5da973bd13be8ae",
            "value": 1000
          }
        },
        "1a7fba9830bd4e0590797a079f685a60": {
          "model_module": "@jupyter-widgets/controls",
          "model_name": "HTMLModel",
          "model_module_version": "1.5.0",
          "state": {
            "_dom_classes": [],
            "_model_module": "@jupyter-widgets/controls",
            "_model_module_version": "1.5.0",
            "_model_name": "HTMLModel",
            "_view_count": null,
            "_view_module": "@jupyter-widgets/controls",
            "_view_module_version": "1.5.0",
            "_view_name": "HTMLView",
            "description": "",
            "description_tooltip": null,
            "layout": "IPY_MODEL_9d68a268e7a646fdbc9db0a4451eb839",
            "placeholder": "​",
            "style": "IPY_MODEL_c7dd4d670b584d38bc8f5e95a5a94f21",
            "value": " 1000/1000 [02:19&lt;00:00,  7.99it/s]"
          }
        },
        "4a2b10a645424b19892b1c21cf6b6d6a": {
          "model_module": "@jupyter-widgets/base",
          "model_name": "LayoutModel",
          "model_module_version": "1.2.0",
          "state": {
            "_model_module": "@jupyter-widgets/base",
            "_model_module_version": "1.2.0",
            "_model_name": "LayoutModel",
            "_view_count": null,
            "_view_module": "@jupyter-widgets/base",
            "_view_module_version": "1.2.0",
            "_view_name": "LayoutView",
            "align_content": null,
            "align_items": null,
            "align_self": null,
            "border": null,
            "bottom": null,
            "display": null,
            "flex": null,
            "flex_flow": null,
            "grid_area": null,
            "grid_auto_columns": null,
            "grid_auto_flow": null,
            "grid_auto_rows": null,
            "grid_column": null,
            "grid_gap": null,
            "grid_row": null,
            "grid_template_areas": null,
            "grid_template_columns": null,
            "grid_template_rows": null,
            "height": null,
            "justify_content": null,
            "justify_items": null,
            "left": null,
            "margin": null,
            "max_height": null,
            "max_width": null,
            "min_height": null,
            "min_width": null,
            "object_fit": null,
            "object_position": null,
            "order": null,
            "overflow": null,
            "overflow_x": null,
            "overflow_y": null,
            "padding": null,
            "right": null,
            "top": null,
            "visibility": null,
            "width": null
          }
        },
        "9a58aaee41b04d509778f8d99fa6ebe4": {
          "model_module": "@jupyter-widgets/base",
          "model_name": "LayoutModel",
          "model_module_version": "1.2.0",
          "state": {
            "_model_module": "@jupyter-widgets/base",
            "_model_module_version": "1.2.0",
            "_model_name": "LayoutModel",
            "_view_count": null,
            "_view_module": "@jupyter-widgets/base",
            "_view_module_version": "1.2.0",
            "_view_name": "LayoutView",
            "align_content": null,
            "align_items": null,
            "align_self": null,
            "border": null,
            "bottom": null,
            "display": null,
            "flex": null,
            "flex_flow": null,
            "grid_area": null,
            "grid_auto_columns": null,
            "grid_auto_flow": null,
            "grid_auto_rows": null,
            "grid_column": null,
            "grid_gap": null,
            "grid_row": null,
            "grid_template_areas": null,
            "grid_template_columns": null,
            "grid_template_rows": null,
            "height": null,
            "justify_content": null,
            "justify_items": null,
            "left": null,
            "margin": null,
            "max_height": null,
            "max_width": null,
            "min_height": null,
            "min_width": null,
            "object_fit": null,
            "object_position": null,
            "order": null,
            "overflow": null,
            "overflow_x": null,
            "overflow_y": null,
            "padding": null,
            "right": null,
            "top": null,
            "visibility": null,
            "width": null
          }
        },
        "975a05b326a641c193b4a174ae042625": {
          "model_module": "@jupyter-widgets/controls",
          "model_name": "DescriptionStyleModel",
          "model_module_version": "1.5.0",
          "state": {
            "_model_module": "@jupyter-widgets/controls",
            "_model_module_version": "1.5.0",
            "_model_name": "DescriptionStyleModel",
            "_view_count": null,
            "_view_module": "@jupyter-widgets/base",
            "_view_module_version": "1.2.0",
            "_view_name": "StyleView",
            "description_width": ""
          }
        },
        "90fed2cdb79b4cb1b3c069204addb422": {
          "model_module": "@jupyter-widgets/base",
          "model_name": "LayoutModel",
          "model_module_version": "1.2.0",
          "state": {
            "_model_module": "@jupyter-widgets/base",
            "_model_module_version": "1.2.0",
            "_model_name": "LayoutModel",
            "_view_count": null,
            "_view_module": "@jupyter-widgets/base",
            "_view_module_version": "1.2.0",
            "_view_name": "LayoutView",
            "align_content": null,
            "align_items": null,
            "align_self": null,
            "border": null,
            "bottom": null,
            "display": null,
            "flex": null,
            "flex_flow": null,
            "grid_area": null,
            "grid_auto_columns": null,
            "grid_auto_flow": null,
            "grid_auto_rows": null,
            "grid_column": null,
            "grid_gap": null,
            "grid_row": null,
            "grid_template_areas": null,
            "grid_template_columns": null,
            "grid_template_rows": null,
            "height": null,
            "justify_content": null,
            "justify_items": null,
            "left": null,
            "margin": null,
            "max_height": null,
            "max_width": null,
            "min_height": null,
            "min_width": null,
            "object_fit": null,
            "object_position": null,
            "order": null,
            "overflow": null,
            "overflow_x": null,
            "overflow_y": null,
            "padding": null,
            "right": null,
            "top": null,
            "visibility": null,
            "width": null
          }
        },
        "f6b4b6e03f5e4485a5da973bd13be8ae": {
          "model_module": "@jupyter-widgets/controls",
          "model_name": "ProgressStyleModel",
          "model_module_version": "1.5.0",
          "state": {
            "_model_module": "@jupyter-widgets/controls",
            "_model_module_version": "1.5.0",
            "_model_name": "ProgressStyleModel",
            "_view_count": null,
            "_view_module": "@jupyter-widgets/base",
            "_view_module_version": "1.2.0",
            "_view_name": "StyleView",
            "bar_color": null,
            "description_width": ""
          }
        },
        "9d68a268e7a646fdbc9db0a4451eb839": {
          "model_module": "@jupyter-widgets/base",
          "model_name": "LayoutModel",
          "model_module_version": "1.2.0",
          "state": {
            "_model_module": "@jupyter-widgets/base",
            "_model_module_version": "1.2.0",
            "_model_name": "LayoutModel",
            "_view_count": null,
            "_view_module": "@jupyter-widgets/base",
            "_view_module_version": "1.2.0",
            "_view_name": "LayoutView",
            "align_content": null,
            "align_items": null,
            "align_self": null,
            "border": null,
            "bottom": null,
            "display": null,
            "flex": null,
            "flex_flow": null,
            "grid_area": null,
            "grid_auto_columns": null,
            "grid_auto_flow": null,
            "grid_auto_rows": null,
            "grid_column": null,
            "grid_gap": null,
            "grid_row": null,
            "grid_template_areas": null,
            "grid_template_columns": null,
            "grid_template_rows": null,
            "height": null,
            "justify_content": null,
            "justify_items": null,
            "left": null,
            "margin": null,
            "max_height": null,
            "max_width": null,
            "min_height": null,
            "min_width": null,
            "object_fit": null,
            "object_position": null,
            "order": null,
            "overflow": null,
            "overflow_x": null,
            "overflow_y": null,
            "padding": null,
            "right": null,
            "top": null,
            "visibility": null,
            "width": null
          }
        },
        "c7dd4d670b584d38bc8f5e95a5a94f21": {
          "model_module": "@jupyter-widgets/controls",
          "model_name": "DescriptionStyleModel",
          "model_module_version": "1.5.0",
          "state": {
            "_model_module": "@jupyter-widgets/controls",
            "_model_module_version": "1.5.0",
            "_model_name": "DescriptionStyleModel",
            "_view_count": null,
            "_view_module": "@jupyter-widgets/base",
            "_view_module_version": "1.2.0",
            "_view_name": "StyleView",
            "description_width": ""
          }
        },
        "5985eec64ecf44738c38dadcba98e371": {
          "model_module": "@jupyter-widgets/controls",
          "model_name": "HBoxModel",
          "model_module_version": "1.5.0",
          "state": {
            "_dom_classes": [],
            "_model_module": "@jupyter-widgets/controls",
            "_model_module_version": "1.5.0",
            "_model_name": "HBoxModel",
            "_view_count": null,
            "_view_module": "@jupyter-widgets/controls",
            "_view_module_version": "1.5.0",
            "_view_name": "HBoxView",
            "box_style": "",
            "children": [
              "IPY_MODEL_2e737b4bad3f4ac7a2b0b7b77a07f1d3",
              "IPY_MODEL_d973209a9b2e4fdabd0a61670cb7b87f",
              "IPY_MODEL_c0048773b49a444f8d1ed2196ba0128a"
            ],
            "layout": "IPY_MODEL_ce473278e6d6400daf11ab98200bd79e"
          }
        },
        "2e737b4bad3f4ac7a2b0b7b77a07f1d3": {
          "model_module": "@jupyter-widgets/controls",
          "model_name": "HTMLModel",
          "model_module_version": "1.5.0",
          "state": {
            "_dom_classes": [],
            "_model_module": "@jupyter-widgets/controls",
            "_model_module_version": "1.5.0",
            "_model_name": "HTMLModel",
            "_view_count": null,
            "_view_module": "@jupyter-widgets/controls",
            "_view_module_version": "1.5.0",
            "_view_name": "HTMLView",
            "description": "",
            "description_tooltip": null,
            "layout": "IPY_MODEL_1a207db063e44070a110b711465e9ebe",
            "placeholder": "​",
            "style": "IPY_MODEL_7b541d03de6545c88918b57b22081576",
            "value": "100%"
          }
        },
        "d973209a9b2e4fdabd0a61670cb7b87f": {
          "model_module": "@jupyter-widgets/controls",
          "model_name": "FloatProgressModel",
          "model_module_version": "1.5.0",
          "state": {
            "_dom_classes": [],
            "_model_module": "@jupyter-widgets/controls",
            "_model_module_version": "1.5.0",
            "_model_name": "FloatProgressModel",
            "_view_count": null,
            "_view_module": "@jupyter-widgets/controls",
            "_view_module_version": "1.5.0",
            "_view_name": "ProgressView",
            "bar_style": "success",
            "description": "",
            "description_tooltip": null,
            "layout": "IPY_MODEL_d2dabc48682b4c41af5849b27edc3b74",
            "max": 1000,
            "min": 0,
            "orientation": "horizontal",
            "style": "IPY_MODEL_2fd39a2555574653ba0f9e85ba27e735",
            "value": 1000
          }
        },
        "c0048773b49a444f8d1ed2196ba0128a": {
          "model_module": "@jupyter-widgets/controls",
          "model_name": "HTMLModel",
          "model_module_version": "1.5.0",
          "state": {
            "_dom_classes": [],
            "_model_module": "@jupyter-widgets/controls",
            "_model_module_version": "1.5.0",
            "_model_name": "HTMLModel",
            "_view_count": null,
            "_view_module": "@jupyter-widgets/controls",
            "_view_module_version": "1.5.0",
            "_view_name": "HTMLView",
            "description": "",
            "description_tooltip": null,
            "layout": "IPY_MODEL_2dc33f37342948edbc823b52c16fb7b3",
            "placeholder": "​",
            "style": "IPY_MODEL_758b1c7f4fdf4094a73d5561315a09c1",
            "value": " 1000/1000 [00:20&lt;00:00, 52.88it/s]"
          }
        },
        "ce473278e6d6400daf11ab98200bd79e": {
          "model_module": "@jupyter-widgets/base",
          "model_name": "LayoutModel",
          "model_module_version": "1.2.0",
          "state": {
            "_model_module": "@jupyter-widgets/base",
            "_model_module_version": "1.2.0",
            "_model_name": "LayoutModel",
            "_view_count": null,
            "_view_module": "@jupyter-widgets/base",
            "_view_module_version": "1.2.0",
            "_view_name": "LayoutView",
            "align_content": null,
            "align_items": null,
            "align_self": null,
            "border": null,
            "bottom": null,
            "display": null,
            "flex": null,
            "flex_flow": null,
            "grid_area": null,
            "grid_auto_columns": null,
            "grid_auto_flow": null,
            "grid_auto_rows": null,
            "grid_column": null,
            "grid_gap": null,
            "grid_row": null,
            "grid_template_areas": null,
            "grid_template_columns": null,
            "grid_template_rows": null,
            "height": null,
            "justify_content": null,
            "justify_items": null,
            "left": null,
            "margin": null,
            "max_height": null,
            "max_width": null,
            "min_height": null,
            "min_width": null,
            "object_fit": null,
            "object_position": null,
            "order": null,
            "overflow": null,
            "overflow_x": null,
            "overflow_y": null,
            "padding": null,
            "right": null,
            "top": null,
            "visibility": null,
            "width": null
          }
        },
        "1a207db063e44070a110b711465e9ebe": {
          "model_module": "@jupyter-widgets/base",
          "model_name": "LayoutModel",
          "model_module_version": "1.2.0",
          "state": {
            "_model_module": "@jupyter-widgets/base",
            "_model_module_version": "1.2.0",
            "_model_name": "LayoutModel",
            "_view_count": null,
            "_view_module": "@jupyter-widgets/base",
            "_view_module_version": "1.2.0",
            "_view_name": "LayoutView",
            "align_content": null,
            "align_items": null,
            "align_self": null,
            "border": null,
            "bottom": null,
            "display": null,
            "flex": null,
            "flex_flow": null,
            "grid_area": null,
            "grid_auto_columns": null,
            "grid_auto_flow": null,
            "grid_auto_rows": null,
            "grid_column": null,
            "grid_gap": null,
            "grid_row": null,
            "grid_template_areas": null,
            "grid_template_columns": null,
            "grid_template_rows": null,
            "height": null,
            "justify_content": null,
            "justify_items": null,
            "left": null,
            "margin": null,
            "max_height": null,
            "max_width": null,
            "min_height": null,
            "min_width": null,
            "object_fit": null,
            "object_position": null,
            "order": null,
            "overflow": null,
            "overflow_x": null,
            "overflow_y": null,
            "padding": null,
            "right": null,
            "top": null,
            "visibility": null,
            "width": null
          }
        },
        "7b541d03de6545c88918b57b22081576": {
          "model_module": "@jupyter-widgets/controls",
          "model_name": "DescriptionStyleModel",
          "model_module_version": "1.5.0",
          "state": {
            "_model_module": "@jupyter-widgets/controls",
            "_model_module_version": "1.5.0",
            "_model_name": "DescriptionStyleModel",
            "_view_count": null,
            "_view_module": "@jupyter-widgets/base",
            "_view_module_version": "1.2.0",
            "_view_name": "StyleView",
            "description_width": ""
          }
        },
        "d2dabc48682b4c41af5849b27edc3b74": {
          "model_module": "@jupyter-widgets/base",
          "model_name": "LayoutModel",
          "model_module_version": "1.2.0",
          "state": {
            "_model_module": "@jupyter-widgets/base",
            "_model_module_version": "1.2.0",
            "_model_name": "LayoutModel",
            "_view_count": null,
            "_view_module": "@jupyter-widgets/base",
            "_view_module_version": "1.2.0",
            "_view_name": "LayoutView",
            "align_content": null,
            "align_items": null,
            "align_self": null,
            "border": null,
            "bottom": null,
            "display": null,
            "flex": null,
            "flex_flow": null,
            "grid_area": null,
            "grid_auto_columns": null,
            "grid_auto_flow": null,
            "grid_auto_rows": null,
            "grid_column": null,
            "grid_gap": null,
            "grid_row": null,
            "grid_template_areas": null,
            "grid_template_columns": null,
            "grid_template_rows": null,
            "height": null,
            "justify_content": null,
            "justify_items": null,
            "left": null,
            "margin": null,
            "max_height": null,
            "max_width": null,
            "min_height": null,
            "min_width": null,
            "object_fit": null,
            "object_position": null,
            "order": null,
            "overflow": null,
            "overflow_x": null,
            "overflow_y": null,
            "padding": null,
            "right": null,
            "top": null,
            "visibility": null,
            "width": null
          }
        },
        "2fd39a2555574653ba0f9e85ba27e735": {
          "model_module": "@jupyter-widgets/controls",
          "model_name": "ProgressStyleModel",
          "model_module_version": "1.5.0",
          "state": {
            "_model_module": "@jupyter-widgets/controls",
            "_model_module_version": "1.5.0",
            "_model_name": "ProgressStyleModel",
            "_view_count": null,
            "_view_module": "@jupyter-widgets/base",
            "_view_module_version": "1.2.0",
            "_view_name": "StyleView",
            "bar_color": null,
            "description_width": ""
          }
        },
        "2dc33f37342948edbc823b52c16fb7b3": {
          "model_module": "@jupyter-widgets/base",
          "model_name": "LayoutModel",
          "model_module_version": "1.2.0",
          "state": {
            "_model_module": "@jupyter-widgets/base",
            "_model_module_version": "1.2.0",
            "_model_name": "LayoutModel",
            "_view_count": null,
            "_view_module": "@jupyter-widgets/base",
            "_view_module_version": "1.2.0",
            "_view_name": "LayoutView",
            "align_content": null,
            "align_items": null,
            "align_self": null,
            "border": null,
            "bottom": null,
            "display": null,
            "flex": null,
            "flex_flow": null,
            "grid_area": null,
            "grid_auto_columns": null,
            "grid_auto_flow": null,
            "grid_auto_rows": null,
            "grid_column": null,
            "grid_gap": null,
            "grid_row": null,
            "grid_template_areas": null,
            "grid_template_columns": null,
            "grid_template_rows": null,
            "height": null,
            "justify_content": null,
            "justify_items": null,
            "left": null,
            "margin": null,
            "max_height": null,
            "max_width": null,
            "min_height": null,
            "min_width": null,
            "object_fit": null,
            "object_position": null,
            "order": null,
            "overflow": null,
            "overflow_x": null,
            "overflow_y": null,
            "padding": null,
            "right": null,
            "top": null,
            "visibility": null,
            "width": null
          }
        },
        "758b1c7f4fdf4094a73d5561315a09c1": {
          "model_module": "@jupyter-widgets/controls",
          "model_name": "DescriptionStyleModel",
          "model_module_version": "1.5.0",
          "state": {
            "_model_module": "@jupyter-widgets/controls",
            "_model_module_version": "1.5.0",
            "_model_name": "DescriptionStyleModel",
            "_view_count": null,
            "_view_module": "@jupyter-widgets/base",
            "_view_module_version": "1.2.0",
            "_view_name": "StyleView",
            "description_width": ""
          }
        }
      }
    }
  },
  "nbformat": 4,
  "nbformat_minor": 0
}